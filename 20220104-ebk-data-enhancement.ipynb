{
 "cells": [
  {
   "cell_type": "code",
   "execution_count": 1,
   "id": "45ff1ad1",
   "metadata": {},
   "outputs": [
    {
     "data": {
      "text/html": [
       "        <script type=\"text/javascript\">\n",
       "        window.PlotlyConfig = {MathJaxConfig: 'local'};\n",
       "        if (window.MathJax) {MathJax.Hub.Config({SVG: {font: \"STIX-Web\"}});}\n",
       "        if (typeof require !== 'undefined') {\n",
       "        require.undef(\"plotly\");\n",
       "        requirejs.config({\n",
       "            paths: {\n",
       "                'plotly': ['https://cdn.plot.ly/plotly-2.4.2.min']\n",
       "            }\n",
       "        });\n",
       "        require(['plotly'], function(Plotly) {\n",
       "            window._Plotly = Plotly;\n",
       "        });\n",
       "        }\n",
       "        </script>\n",
       "        "
      ]
     },
     "metadata": {},
     "output_type": "display_data"
    }
   ],
   "source": [
    "import os\n",
    "import warnings\n",
    "\n",
    "os.environ['PYTHONWARNINGS'] = \"ignore:Unverified HTTPS request\"\n",
    "warnings.filterwarnings(\"ignore\")\n",
    "\n",
    "import pandas as pd\n",
    "import sqlite3\n",
    "import numpy as np\n",
    "import random\n",
    "import seaborn as sns\n",
    "from matplotlib import pyplot as plt\n",
    "import scipy.stats as stats\n",
    "from sklearn.preprocessing import StandardScaler\n",
    "import plotly as py\n",
    "import plotly.offline as pyoff\n",
    "import plotly.graph_objs as go\n",
    "from pandasql import sqldf\n",
    "from kmodes.kprototypes import KPrototypes\n",
    "from sklearn.cluster import KMeans\n",
    "from sklearn.decomposition import PCA\n",
    "from catboost import CatBoostClassifier\n",
    "import random\n",
    "import math\n",
    "from sklearn.metrics import accuracy_score, confusion_matrix, classification_report, auc, roc_auc_score, log_loss\n",
    "from sklearn import metrics\n",
    "from wordcloud import WordCloud\n",
    "import statsmodels.api as sm\n",
    "from statsmodels.graphics.gofplots import qqplot_2samples\n",
    "\n",
    "import plotly.offline as py\n",
    "py.init_notebook_mode(connected=True)\n",
    "import plotly.graph_objs as go\n",
    "import plotly.tools as tls\n",
    "from scipy.stats import fisher_exact"
   ]
  },
  {
   "cell_type": "code",
   "execution_count": 2,
   "id": "85fc5106",
   "metadata": {},
   "outputs": [],
   "source": [
    "pd.set_option('display.max_rows', None)\n",
    "pd.set_option('display.max_columns', None)"
   ]
  },
  {
   "cell_type": "code",
   "execution_count": 3,
   "id": "4b3ab3f5",
   "metadata": {},
   "outputs": [],
   "source": [
    "### import data\n",
    "df_master = pd.read_csv('burritos_01022018.csv', parse_dates=['Date'])"
   ]
  },
  {
   "cell_type": "code",
   "execution_count": 4,
   "id": "95276cfa",
   "metadata": {},
   "outputs": [
    {
     "data": {
      "text/plain": [
       "(385, 66)"
      ]
     },
     "execution_count": 4,
     "metadata": {},
     "output_type": "execute_result"
    }
   ],
   "source": [
    "df_master.shape"
   ]
  },
  {
   "cell_type": "code",
   "execution_count": 5,
   "id": "ab5dde0b",
   "metadata": {},
   "outputs": [
    {
     "data": {
      "text/html": [
       "<div>\n",
       "<style scoped>\n",
       "    .dataframe tbody tr th:only-of-type {\n",
       "        vertical-align: middle;\n",
       "    }\n",
       "\n",
       "    .dataframe tbody tr th {\n",
       "        vertical-align: top;\n",
       "    }\n",
       "\n",
       "    .dataframe thead th {\n",
       "        text-align: right;\n",
       "    }\n",
       "</style>\n",
       "<table border=\"1\" class=\"dataframe\">\n",
       "  <thead>\n",
       "    <tr style=\"text-align: right;\">\n",
       "      <th></th>\n",
       "      <th>Location</th>\n",
       "      <th>Burrito</th>\n",
       "      <th>Date</th>\n",
       "      <th>Neighborhood</th>\n",
       "      <th>Address</th>\n",
       "      <th>URL</th>\n",
       "      <th>Yelp</th>\n",
       "      <th>Google</th>\n",
       "      <th>Chips</th>\n",
       "      <th>Cost</th>\n",
       "      <th>Hunger</th>\n",
       "      <th>Mass (g)</th>\n",
       "      <th>Density (g/mL)</th>\n",
       "      <th>Length</th>\n",
       "      <th>Circum</th>\n",
       "      <th>Volume</th>\n",
       "      <th>Tortilla</th>\n",
       "      <th>Temp</th>\n",
       "      <th>Meat</th>\n",
       "      <th>Fillings</th>\n",
       "      <th>Meat:filling</th>\n",
       "      <th>Uniformity</th>\n",
       "      <th>Salsa</th>\n",
       "      <th>Synergy</th>\n",
       "      <th>Wrap</th>\n",
       "      <th>overall</th>\n",
       "      <th>Rec</th>\n",
       "      <th>Reviewer</th>\n",
       "      <th>Notes</th>\n",
       "      <th>Unreliable</th>\n",
       "      <th>NonSD</th>\n",
       "      <th>Beef</th>\n",
       "      <th>Pico</th>\n",
       "      <th>Guac</th>\n",
       "      <th>Cheese</th>\n",
       "      <th>Fries</th>\n",
       "      <th>Sour cream</th>\n",
       "      <th>Pork</th>\n",
       "      <th>Chicken</th>\n",
       "      <th>Shrimp</th>\n",
       "      <th>Fish</th>\n",
       "      <th>Rice</th>\n",
       "      <th>Beans</th>\n",
       "      <th>Lettuce</th>\n",
       "      <th>Tomato</th>\n",
       "      <th>Bell peper</th>\n",
       "      <th>Carrots</th>\n",
       "      <th>Cabbage</th>\n",
       "      <th>Sauce</th>\n",
       "      <th>Salsa.1</th>\n",
       "      <th>Cilantro</th>\n",
       "      <th>Onion</th>\n",
       "      <th>Taquito</th>\n",
       "      <th>Pineapple</th>\n",
       "      <th>Ham</th>\n",
       "      <th>Chile relleno</th>\n",
       "      <th>Nopales</th>\n",
       "      <th>Lobster</th>\n",
       "      <th>Queso</th>\n",
       "      <th>Egg</th>\n",
       "      <th>Mushroom</th>\n",
       "      <th>Bacon</th>\n",
       "      <th>Sushi</th>\n",
       "      <th>Avocado</th>\n",
       "      <th>Corn</th>\n",
       "      <th>Zucchini</th>\n",
       "    </tr>\n",
       "  </thead>\n",
       "  <tbody>\n",
       "    <tr>\n",
       "      <th>0</th>\n",
       "      <td>Donato's taco shop</td>\n",
       "      <td>California</td>\n",
       "      <td>2016-01-18</td>\n",
       "      <td>Miramar</td>\n",
       "      <td>6780 Miramar Rd</td>\n",
       "      <td>http://donatostacoshop.net/</td>\n",
       "      <td>3.5</td>\n",
       "      <td>4.2</td>\n",
       "      <td>NaN</td>\n",
       "      <td>6.49</td>\n",
       "      <td>3.0</td>\n",
       "      <td>NaN</td>\n",
       "      <td>NaN</td>\n",
       "      <td>NaN</td>\n",
       "      <td>NaN</td>\n",
       "      <td>NaN</td>\n",
       "      <td>3.0</td>\n",
       "      <td>5.0</td>\n",
       "      <td>3.0</td>\n",
       "      <td>3.5</td>\n",
       "      <td>4.0</td>\n",
       "      <td>4.0</td>\n",
       "      <td>4.0</td>\n",
       "      <td>4.0</td>\n",
       "      <td>4.0</td>\n",
       "      <td>3.8</td>\n",
       "      <td>NaN</td>\n",
       "      <td>Scott</td>\n",
       "      <td>good fries: 4/5</td>\n",
       "      <td>NaN</td>\n",
       "      <td>NaN</td>\n",
       "      <td>x</td>\n",
       "      <td>x</td>\n",
       "      <td>x</td>\n",
       "      <td>x</td>\n",
       "      <td>x</td>\n",
       "      <td>NaN</td>\n",
       "      <td>NaN</td>\n",
       "      <td>NaN</td>\n",
       "      <td>NaN</td>\n",
       "      <td>NaN</td>\n",
       "      <td>NaN</td>\n",
       "      <td>NaN</td>\n",
       "      <td>NaN</td>\n",
       "      <td>NaN</td>\n",
       "      <td>NaN</td>\n",
       "      <td>NaN</td>\n",
       "      <td>NaN</td>\n",
       "      <td>NaN</td>\n",
       "      <td>NaN</td>\n",
       "      <td>NaN</td>\n",
       "      <td>NaN</td>\n",
       "      <td>NaN</td>\n",
       "      <td>NaN</td>\n",
       "      <td>NaN</td>\n",
       "      <td>NaN</td>\n",
       "      <td>NaN</td>\n",
       "      <td>NaN</td>\n",
       "      <td>NaN</td>\n",
       "      <td>NaN</td>\n",
       "      <td>NaN</td>\n",
       "      <td>NaN</td>\n",
       "      <td>NaN</td>\n",
       "      <td>NaN</td>\n",
       "      <td>NaN</td>\n",
       "      <td>NaN</td>\n",
       "    </tr>\n",
       "    <tr>\n",
       "      <th>1</th>\n",
       "      <td>Oscar's Mexican food</td>\n",
       "      <td>California</td>\n",
       "      <td>2016-01-24</td>\n",
       "      <td>San Marcos</td>\n",
       "      <td>225 S Rancho Santa Fe Rd</td>\n",
       "      <td>http://www.yelp.com/biz/oscars-mexican-food-sa...</td>\n",
       "      <td>3.5</td>\n",
       "      <td>3.3</td>\n",
       "      <td>NaN</td>\n",
       "      <td>5.45</td>\n",
       "      <td>3.5</td>\n",
       "      <td>NaN</td>\n",
       "      <td>NaN</td>\n",
       "      <td>NaN</td>\n",
       "      <td>NaN</td>\n",
       "      <td>NaN</td>\n",
       "      <td>2.0</td>\n",
       "      <td>3.5</td>\n",
       "      <td>2.5</td>\n",
       "      <td>2.5</td>\n",
       "      <td>2.0</td>\n",
       "      <td>4.0</td>\n",
       "      <td>3.5</td>\n",
       "      <td>2.5</td>\n",
       "      <td>5.0</td>\n",
       "      <td>3.0</td>\n",
       "      <td>NaN</td>\n",
       "      <td>Scott</td>\n",
       "      <td>Fries: 3/5; too little meat</td>\n",
       "      <td>NaN</td>\n",
       "      <td>NaN</td>\n",
       "      <td>x</td>\n",
       "      <td>x</td>\n",
       "      <td>x</td>\n",
       "      <td>x</td>\n",
       "      <td>x</td>\n",
       "      <td>NaN</td>\n",
       "      <td>NaN</td>\n",
       "      <td>NaN</td>\n",
       "      <td>NaN</td>\n",
       "      <td>NaN</td>\n",
       "      <td>NaN</td>\n",
       "      <td>NaN</td>\n",
       "      <td>NaN</td>\n",
       "      <td>NaN</td>\n",
       "      <td>NaN</td>\n",
       "      <td>NaN</td>\n",
       "      <td>NaN</td>\n",
       "      <td>NaN</td>\n",
       "      <td>NaN</td>\n",
       "      <td>NaN</td>\n",
       "      <td>NaN</td>\n",
       "      <td>NaN</td>\n",
       "      <td>NaN</td>\n",
       "      <td>NaN</td>\n",
       "      <td>NaN</td>\n",
       "      <td>NaN</td>\n",
       "      <td>NaN</td>\n",
       "      <td>NaN</td>\n",
       "      <td>NaN</td>\n",
       "      <td>NaN</td>\n",
       "      <td>NaN</td>\n",
       "      <td>NaN</td>\n",
       "      <td>NaN</td>\n",
       "      <td>NaN</td>\n",
       "      <td>NaN</td>\n",
       "    </tr>\n",
       "  </tbody>\n",
       "</table>\n",
       "</div>"
      ],
      "text/plain": [
       "               Location      Burrito       Date Neighborhood  \\\n",
       "0    Donato's taco shop  California  2016-01-18      Miramar   \n",
       "1  Oscar's Mexican food  California  2016-01-24   San Marcos   \n",
       "\n",
       "                    Address  \\\n",
       "0           6780 Miramar Rd   \n",
       "1  225 S Rancho Santa Fe Rd   \n",
       "\n",
       "                                                 URL  Yelp  Google Chips  \\\n",
       "0                        http://donatostacoshop.net/   3.5     4.2   NaN   \n",
       "1  http://www.yelp.com/biz/oscars-mexican-food-sa...   3.5     3.3   NaN   \n",
       "\n",
       "   Cost  Hunger  Mass (g)  Density (g/mL)  Length  Circum  Volume  Tortilla  \\\n",
       "0  6.49     3.0       NaN             NaN     NaN     NaN     NaN       3.0   \n",
       "1  5.45     3.5       NaN             NaN     NaN     NaN     NaN       2.0   \n",
       "\n",
       "   Temp  Meat  Fillings  Meat:filling  Uniformity  Salsa  Synergy  Wrap  \\\n",
       "0   5.0   3.0       3.5           4.0         4.0    4.0      4.0   4.0   \n",
       "1   3.5   2.5       2.5           2.0         4.0    3.5      2.5   5.0   \n",
       "\n",
       "   overall  Rec Reviewer                        Notes Unreliable NonSD Beef  \\\n",
       "0      3.8  NaN    Scott              good fries: 4/5        NaN   NaN    x   \n",
       "1      3.0  NaN    Scott  Fries: 3/5; too little meat        NaN   NaN    x   \n",
       "\n",
       "  Pico Guac Cheese Fries Sour cream Pork Chicken Shrimp Fish Rice Beans  \\\n",
       "0    x    x      x     x        NaN  NaN     NaN    NaN  NaN  NaN   NaN   \n",
       "1    x    x      x     x        NaN  NaN     NaN    NaN  NaN  NaN   NaN   \n",
       "\n",
       "  Lettuce Tomato Bell peper Carrots Cabbage Sauce Salsa.1 Cilantro Onion  \\\n",
       "0     NaN    NaN        NaN     NaN     NaN   NaN     NaN      NaN   NaN   \n",
       "1     NaN    NaN        NaN     NaN     NaN   NaN     NaN      NaN   NaN   \n",
       "\n",
       "  Taquito Pineapple  Ham Chile relleno Nopales Lobster  Queso  Egg Mushroom  \\\n",
       "0     NaN       NaN  NaN           NaN     NaN     NaN    NaN  NaN      NaN   \n",
       "1     NaN       NaN  NaN           NaN     NaN     NaN    NaN  NaN      NaN   \n",
       "\n",
       "  Bacon Sushi Avocado Corn Zucchini  \n",
       "0   NaN   NaN     NaN  NaN      NaN  \n",
       "1   NaN   NaN     NaN  NaN      NaN  "
      ]
     },
     "execution_count": 5,
     "metadata": {},
     "output_type": "execute_result"
    }
   ],
   "source": [
    "df_master.head(2)"
   ]
  },
  {
   "cell_type": "markdown",
   "id": "4d521b6f",
   "metadata": {},
   "source": [
    "#### Data understanding"
   ]
  },
  {
   "cell_type": "markdown",
   "id": "ce98e1e1",
   "metadata": {},
   "source": [
    "Data contains following informations;\n",
    "\n",
    "a) name, location, neighborhood, address, web page\n",
    "\n",
    "b) order ingredients such as onion and pineapple  \n",
    "\n",
    "c) consumer review and notes\n",
    "\n",
    "Nan ratios are higher for speicf columns such as queso, zucchini, lobster\n",
    "\n",
    "There is no missing value in Location, Burrito and Date column because its main keys for dataframe"
   ]
  },
  {
   "cell_type": "code",
   "execution_count": 6,
   "id": "79415467",
   "metadata": {
    "scrolled": false
   },
   "outputs": [
    {
     "name": "stdout",
     "output_type": "stream",
     "text": [
      "<class 'pandas.core.frame.DataFrame'>\n",
      "RangeIndex: 385 entries, 0 to 384\n",
      "Data columns (total 66 columns):\n",
      " #   Column          Non-Null Count  Dtype         \n",
      "---  ------          --------------  -----         \n",
      " 0   Location        385 non-null    object        \n",
      " 1   Burrito         385 non-null    object        \n",
      " 2   Date            385 non-null    datetime64[ns]\n",
      " 3   Neighborhood    87 non-null     object        \n",
      " 4   Address         83 non-null     object        \n",
      " 5   URL             82 non-null     object        \n",
      " 6   Yelp            82 non-null     float64       \n",
      " 7   Google          82 non-null     float64       \n",
      " 8   Chips           24 non-null     object        \n",
      " 9   Cost            378 non-null    float64       \n",
      " 10  Hunger          382 non-null    float64       \n",
      " 11  Mass (g)        22 non-null     float64       \n",
      " 12  Density (g/mL)  22 non-null     float64       \n",
      " 13  Length          251 non-null    float64       \n",
      " 14  Circum          249 non-null    float64       \n",
      " 15  Volume          249 non-null    float64       \n",
      " 16  Tortilla        385 non-null    float64       \n",
      " 17  Temp            365 non-null    float64       \n",
      " 18  Meat            373 non-null    float64       \n",
      " 19  Fillings        383 non-null    float64       \n",
      " 20  Meat:filling    377 non-null    float64       \n",
      " 21  Uniformity      383 non-null    float64       \n",
      " 22  Salsa           363 non-null    float64       \n",
      " 23  Synergy         383 non-null    float64       \n",
      " 24  Wrap            383 non-null    float64       \n",
      " 25  overall         383 non-null    float64       \n",
      " 26  Rec             228 non-null    object        \n",
      " 27  Reviewer        384 non-null    object        \n",
      " 28  Notes           129 non-null    object        \n",
      " 29  Unreliable      30 non-null     object        \n",
      " 30  NonSD           7 non-null      object        \n",
      " 31  Beef            176 non-null    object        \n",
      " 32  Pico            152 non-null    object        \n",
      " 33  Guac            147 non-null    object        \n",
      " 34  Cheese          155 non-null    object        \n",
      " 35  Fries           125 non-null    object        \n",
      " 36  Sour cream      89 non-null     object        \n",
      " 37  Pork            47 non-null     object        \n",
      " 38  Chicken         20 non-null     object        \n",
      " 39  Shrimp          21 non-null     object        \n",
      " 40  Fish            6 non-null      object        \n",
      " 41  Rice            35 non-null     object        \n",
      " 42  Beans           32 non-null     object        \n",
      " 43  Lettuce         11 non-null     object        \n",
      " 44  Tomato          7 non-null      object        \n",
      " 45  Bell peper      7 non-null      object        \n",
      " 46  Carrots         1 non-null      object        \n",
      " 47  Cabbage         8 non-null      object        \n",
      " 48  Sauce           38 non-null     object        \n",
      " 49  Salsa.1         6 non-null      object        \n",
      " 50  Cilantro        15 non-null     object        \n",
      " 51  Onion           17 non-null     object        \n",
      " 52  Taquito         4 non-null      object        \n",
      " 53  Pineapple       7 non-null      object        \n",
      " 54  Ham             1 non-null      object        \n",
      " 55  Chile relleno   4 non-null      object        \n",
      " 56  Nopales         4 non-null      object        \n",
      " 57  Lobster         1 non-null      object        \n",
      " 58  Queso           0 non-null      float64       \n",
      " 59  Egg             4 non-null      object        \n",
      " 60  Mushroom        3 non-null      object        \n",
      " 61  Bacon           3 non-null      object        \n",
      " 62  Sushi           2 non-null      object        \n",
      " 63  Avocado         13 non-null     object        \n",
      " 64  Corn            3 non-null      object        \n",
      " 65  Zucchini        1 non-null      object        \n",
      "dtypes: datetime64[ns](1), float64(20), object(45)\n",
      "memory usage: 198.6+ KB\n"
     ]
    }
   ],
   "source": [
    "df_master.info()"
   ]
  },
  {
   "cell_type": "code",
   "execution_count": 7,
   "id": "ba48855d",
   "metadata": {},
   "outputs": [
    {
     "name": "stdout",
     "output_type": "stream",
     "text": [
      "All null values are in yellow\n"
     ]
    },
    {
     "data": {
      "text/plain": [
       "Text(0.5, 1.0, 'Null Value Check')"
      ]
     },
     "execution_count": 7,
     "metadata": {},
     "output_type": "execute_result"
    },
    {
     "data": {
      "image/png": "[encoded data removed]",
      "text/plain": [
       "<Figure size 1080x576 with 1 Axes>"
      ]
     },
     "metadata": {
      "needs_background": "light"
     },
     "output_type": "display_data"
    }
   ],
   "source": [
    "print('All null values are in yellow')\n",
    "### Preapproval_Credit_Type is totally empty, it can be dropped from dataframe\n",
    "### sequential horizontal yellow lines show that missing data in sequential columns, these record are analysed as below\n",
    "plt.figure(figsize=(15,8))\n",
    "sns.heatmap(data=df_master.isnull(), yticklabels=False, cbar= False, cmap='viridis')\n",
    "plt.title('Null Value Check')"
   ]
  },
  {
   "cell_type": "code",
   "execution_count": 8,
   "id": "5f2d1039",
   "metadata": {},
   "outputs": [
    {
     "data": {
      "text/plain": [
       "103"
      ]
     },
     "execution_count": 8,
     "metadata": {},
     "output_type": "execute_result"
    }
   ],
   "source": [
    "df_master.Location.nunique()"
   ]
  },
  {
   "cell_type": "markdown",
   "id": "1eee27ba",
   "metadata": {},
   "source": [
    "There are specific locations that have few orders so it cannot be meaningful to make predictions for these restaurants."
   ]
  },
  {
   "cell_type": "code",
   "execution_count": 9,
   "id": "10217158",
   "metadata": {
    "scrolled": true
   },
   "outputs": [
    {
     "data": {
      "text/plain": [
       "Lucha Libre North Park                                 28\n",
       "Rigoberto's Taco Shop                                  24\n",
       "California Burritos                                    23\n",
       "Taco Villa                                             19\n",
       "Taco Stand                                             12\n",
       "Taco stand                                             12\n",
       "Los Tacos                                              12\n",
       "Los Primos Mexican Food                                12\n",
       "El Zarape                                               9\n",
       "Vallarta express                                        9\n",
       "Valentines Mexican Food                                 9\n",
       "California burritos                                     6\n",
       "Lupe's Taco Shop                                        6\n",
       "Cancun Mexican & Seafood                                6\n",
       "Lolita's taco shop                                      5\n",
       "Roberto's Taco Shop Hillcrest                           5\n",
       "California Burrito Company                              5\n",
       "Burros and Fries                                        4\n",
       "El Dorado Mexican Food                                  4\n",
       "Lolita's Taco Shop                                      4\n",
       "Porkyland                                               4\n",
       "Rigoberto's Taco Shop La Jolla                          4\n",
       "Caliente Mexican Food                                   4\n",
       "Vallarta Express                                        4\n",
       "Goody's                                                 4\n",
       "Pollos Maria                                            4\n",
       "Roberto's Taco Shop Clairemont                          4\n",
       "Tony's Fresh Mexican Food                               4\n",
       "Ortiz's Taco Shop #2                                    4\n",
       "Los Tacos 2                                             4\n",
       "La Perla Cocina                                         3\n",
       "El Rey Moro                                             3\n",
       "Oscar's Mexican food                                    3\n",
       "Taco Surf PB                                            3\n",
       "Los Panchos Taco Shop                                   3\n",
       "Tacos por favor                                         3\n",
       "Lolita's Taco shop                                      3\n",
       "Taco Stand Encinitas                                    3\n",
       "Colima's Mexican Food                                   3\n",
       "Carmen's Mexican Food                                   2\n",
       "Papa Chito's Mexican Food                               2\n",
       "King Burrito                                            2\n",
       "El Nopalito                                             2\n",
       "Nico's Taco Shop                                        2\n",
       "Sotos Mexican Food                                      2\n",
       "Matador Mexican Food                                    2\n",
       "Mr. Ruribertos Taco Shop                                2\n",
       "JV's Mexican Food                                       2\n",
       "El Cuervo                                               2\n",
       "Rubios UCSD                                             2\n",
       "Filiberto's                                             2\n",
       "Cotixan                                                 2\n",
       "Juanita's Taco Shop                                     2\n",
       "Gloria's Taco Shop                                      2\n",
       "Rudy's Taco Shop                                        2\n",
       "Don Carlos Taco Shop                                    2\n",
       "Netos Mexican Food                                      2\n",
       "Los palmitos                                            2\n",
       "Kotija Jr                                               2\n",
       "Lourdes                                                 2\n",
       "Jorge's Mexicatessen                                    2\n",
       "El Torrito Foods                                        2\n",
       "Senor Grubby's                                          2\n",
       "Karina's Taco Shop                                      2\n",
       "Albertacos                                              2\n",
       "Chipotle                                                2\n",
       "Lola's 7 Up Market & Deli                               2\n",
       "Roberto's Very Mexican Food                             2\n",
       "Los tacos                                               2\n",
       "Senor Panchos                                           2\n",
       "Los Cabos                                               2\n",
       "Tacos La Bala                                           2\n",
       "Graciela's Taco Shop                                    2\n",
       "Mikes Taco Club                                         2\n",
       "Donato's Taco Shop                                      2\n",
       "Raul's Mexican food                                     2\n",
       "El Portal Fresh Mexican Grill                           2\n",
       "Pokirrito                                               2\n",
       "Mi Asador Mexican & Seafood                             2\n",
       "Burrito Box                                             1\n",
       "Lolita's                                                1\n",
       "Pedro's Tacos                                           1\n",
       "Humbertos                                               1\n",
       "Jose's Taco                                             1\n",
       "Chili Peppers                                           1\n",
       "Taco VIlla                                              1\n",
       "El Indio                                                1\n",
       "Kotija Jr.                                              1\n",
       "Taco Stand Encinitas                                    1\n",
       "Famoso Mexican Street Food                              1\n",
       "Donato's taco shop                                      1\n",
       "La Morena Taco Shop and Seafood                         1\n",
       "Qdoba Mexican Grill, Seatac Airport                     1\n",
       "Mister Falafel                                          1\n",
       "Cortez Mexican Food                                     1\n",
       "El Pollo Loco                                           1\n",
       "Alberto's 623 N Escondido Blvd, Escondido, CA 92025     1\n",
       "Burrito Factory                                         1\n",
       "Colima's                                                1\n",
       "Storehouse Kitchen                                      1\n",
       "Saguaro's                                               1\n",
       "MXN on Washington                                       1\n",
       "El Pueblo Mexican Food                                  1\n",
       "Name: Location, dtype: int64"
      ]
     },
     "execution_count": 9,
     "metadata": {},
     "output_type": "execute_result"
    }
   ],
   "source": [
    "df_master.Location.value_counts(dropna=False)"
   ]
  },
  {
   "cell_type": "markdown",
   "id": "af7eac44",
   "metadata": {},
   "source": [
    "Burrito column has very poor data quality. The column represents the name of burritos for specific restaurants. Different restaurants could have used the same name for different products such as California. There is also empty spaces in strings of Burrito column unique values "
   ]
  },
  {
   "cell_type": "code",
   "execution_count": 10,
   "id": "39a4f85a",
   "metadata": {},
   "outputs": [
    {
     "data": {
      "text/plain": [
       "123"
      ]
     },
     "execution_count": 10,
     "metadata": {},
     "output_type": "execute_result"
    }
   ],
   "source": [
    "df_master.Burrito.nunique()"
   ]
  },
  {
   "cell_type": "code",
   "execution_count": 11,
   "id": "cfc6ea83",
   "metadata": {},
   "outputs": [
    {
     "data": {
      "text/html": [
       "<div>\n",
       "<style scoped>\n",
       "    .dataframe tbody tr th:only-of-type {\n",
       "        vertical-align: middle;\n",
       "    }\n",
       "\n",
       "    .dataframe tbody tr th {\n",
       "        vertical-align: top;\n",
       "    }\n",
       "\n",
       "    .dataframe thead th {\n",
       "        text-align: right;\n",
       "    }\n",
       "</style>\n",
       "<table border=\"1\" class=\"dataframe\">\n",
       "  <thead>\n",
       "    <tr style=\"text-align: right;\">\n",
       "      <th></th>\n",
       "      <th>Location</th>\n",
       "      <th>Burrito</th>\n",
       "      <th>Date</th>\n",
       "      <th>Neighborhood</th>\n",
       "      <th>Address</th>\n",
       "      <th>URL</th>\n",
       "      <th>Yelp</th>\n",
       "      <th>Google</th>\n",
       "      <th>Chips</th>\n",
       "      <th>Cost</th>\n",
       "      <th>Hunger</th>\n",
       "      <th>Mass (g)</th>\n",
       "      <th>Density (g/mL)</th>\n",
       "      <th>Length</th>\n",
       "      <th>Circum</th>\n",
       "      <th>Volume</th>\n",
       "      <th>Tortilla</th>\n",
       "      <th>Temp</th>\n",
       "      <th>Meat</th>\n",
       "      <th>Fillings</th>\n",
       "      <th>Meat:filling</th>\n",
       "      <th>Uniformity</th>\n",
       "      <th>Salsa</th>\n",
       "      <th>Synergy</th>\n",
       "      <th>Wrap</th>\n",
       "      <th>overall</th>\n",
       "      <th>Rec</th>\n",
       "      <th>Reviewer</th>\n",
       "      <th>Notes</th>\n",
       "      <th>Unreliable</th>\n",
       "      <th>NonSD</th>\n",
       "      <th>Beef</th>\n",
       "      <th>Pico</th>\n",
       "      <th>Guac</th>\n",
       "      <th>Cheese</th>\n",
       "      <th>Fries</th>\n",
       "      <th>Sour cream</th>\n",
       "      <th>Pork</th>\n",
       "      <th>Chicken</th>\n",
       "      <th>Shrimp</th>\n",
       "      <th>Fish</th>\n",
       "      <th>Rice</th>\n",
       "      <th>Beans</th>\n",
       "      <th>Lettuce</th>\n",
       "      <th>Tomato</th>\n",
       "      <th>Bell peper</th>\n",
       "      <th>Carrots</th>\n",
       "      <th>Cabbage</th>\n",
       "      <th>Sauce</th>\n",
       "      <th>Salsa.1</th>\n",
       "      <th>Cilantro</th>\n",
       "      <th>Onion</th>\n",
       "      <th>Taquito</th>\n",
       "      <th>Pineapple</th>\n",
       "      <th>Ham</th>\n",
       "      <th>Chile relleno</th>\n",
       "      <th>Nopales</th>\n",
       "      <th>Lobster</th>\n",
       "      <th>Queso</th>\n",
       "      <th>Egg</th>\n",
       "      <th>Mushroom</th>\n",
       "      <th>Bacon</th>\n",
       "      <th>Sushi</th>\n",
       "      <th>Avocado</th>\n",
       "      <th>Corn</th>\n",
       "      <th>Zucchini</th>\n",
       "    </tr>\n",
       "  </thead>\n",
       "  <tbody>\n",
       "    <tr>\n",
       "      <th>1</th>\n",
       "      <td>Oscar's Mexican food</td>\n",
       "      <td>California</td>\n",
       "      <td>2016-01-24</td>\n",
       "      <td>San Marcos</td>\n",
       "      <td>225 S Rancho Santa Fe Rd</td>\n",
       "      <td>http://www.yelp.com/biz/oscars-mexican-food-sa...</td>\n",
       "      <td>3.5</td>\n",
       "      <td>3.3</td>\n",
       "      <td>NaN</td>\n",
       "      <td>5.45</td>\n",
       "      <td>3.5</td>\n",
       "      <td>NaN</td>\n",
       "      <td>NaN</td>\n",
       "      <td>NaN</td>\n",
       "      <td>NaN</td>\n",
       "      <td>NaN</td>\n",
       "      <td>2.0</td>\n",
       "      <td>3.5</td>\n",
       "      <td>2.5</td>\n",
       "      <td>2.5</td>\n",
       "      <td>2.0</td>\n",
       "      <td>4.0</td>\n",
       "      <td>3.5</td>\n",
       "      <td>2.5</td>\n",
       "      <td>5.0</td>\n",
       "      <td>3.00</td>\n",
       "      <td>NaN</td>\n",
       "      <td>Scott</td>\n",
       "      <td>Fries: 3/5; too little meat</td>\n",
       "      <td>NaN</td>\n",
       "      <td>NaN</td>\n",
       "      <td>x</td>\n",
       "      <td>x</td>\n",
       "      <td>x</td>\n",
       "      <td>x</td>\n",
       "      <td>x</td>\n",
       "      <td>NaN</td>\n",
       "      <td>NaN</td>\n",
       "      <td>NaN</td>\n",
       "      <td>NaN</td>\n",
       "      <td>NaN</td>\n",
       "      <td>NaN</td>\n",
       "      <td>NaN</td>\n",
       "      <td>NaN</td>\n",
       "      <td>NaN</td>\n",
       "      <td>NaN</td>\n",
       "      <td>NaN</td>\n",
       "      <td>NaN</td>\n",
       "      <td>NaN</td>\n",
       "      <td>NaN</td>\n",
       "      <td>NaN</td>\n",
       "      <td>NaN</td>\n",
       "      <td>NaN</td>\n",
       "      <td>NaN</td>\n",
       "      <td>NaN</td>\n",
       "      <td>NaN</td>\n",
       "      <td>NaN</td>\n",
       "      <td>NaN</td>\n",
       "      <td>NaN</td>\n",
       "      <td>NaN</td>\n",
       "      <td>NaN</td>\n",
       "      <td>NaN</td>\n",
       "      <td>NaN</td>\n",
       "      <td>NaN</td>\n",
       "      <td>NaN</td>\n",
       "      <td>NaN</td>\n",
       "    </tr>\n",
       "    <tr>\n",
       "      <th>2</th>\n",
       "      <td>Oscar's Mexican food</td>\n",
       "      <td>Carnitas</td>\n",
       "      <td>2016-01-24</td>\n",
       "      <td>NaN</td>\n",
       "      <td>NaN</td>\n",
       "      <td>NaN</td>\n",
       "      <td>NaN</td>\n",
       "      <td>NaN</td>\n",
       "      <td>NaN</td>\n",
       "      <td>4.85</td>\n",
       "      <td>1.5</td>\n",
       "      <td>NaN</td>\n",
       "      <td>NaN</td>\n",
       "      <td>NaN</td>\n",
       "      <td>NaN</td>\n",
       "      <td>NaN</td>\n",
       "      <td>3.0</td>\n",
       "      <td>2.0</td>\n",
       "      <td>2.5</td>\n",
       "      <td>3.0</td>\n",
       "      <td>4.5</td>\n",
       "      <td>4.0</td>\n",
       "      <td>3.0</td>\n",
       "      <td>3.0</td>\n",
       "      <td>5.0</td>\n",
       "      <td>3.00</td>\n",
       "      <td>NaN</td>\n",
       "      <td>Emily</td>\n",
       "      <td>NaN</td>\n",
       "      <td>NaN</td>\n",
       "      <td>NaN</td>\n",
       "      <td>NaN</td>\n",
       "      <td>x</td>\n",
       "      <td>x</td>\n",
       "      <td>NaN</td>\n",
       "      <td>NaN</td>\n",
       "      <td>NaN</td>\n",
       "      <td>x</td>\n",
       "      <td>NaN</td>\n",
       "      <td>NaN</td>\n",
       "      <td>NaN</td>\n",
       "      <td>NaN</td>\n",
       "      <td>NaN</td>\n",
       "      <td>NaN</td>\n",
       "      <td>NaN</td>\n",
       "      <td>NaN</td>\n",
       "      <td>NaN</td>\n",
       "      <td>NaN</td>\n",
       "      <td>NaN</td>\n",
       "      <td>NaN</td>\n",
       "      <td>NaN</td>\n",
       "      <td>NaN</td>\n",
       "      <td>NaN</td>\n",
       "      <td>NaN</td>\n",
       "      <td>NaN</td>\n",
       "      <td>NaN</td>\n",
       "      <td>NaN</td>\n",
       "      <td>NaN</td>\n",
       "      <td>NaN</td>\n",
       "      <td>NaN</td>\n",
       "      <td>NaN</td>\n",
       "      <td>NaN</td>\n",
       "      <td>NaN</td>\n",
       "      <td>NaN</td>\n",
       "      <td>NaN</td>\n",
       "      <td>NaN</td>\n",
       "    </tr>\n",
       "    <tr>\n",
       "      <th>3</th>\n",
       "      <td>Oscar's Mexican food</td>\n",
       "      <td>Carne asada</td>\n",
       "      <td>2016-01-24</td>\n",
       "      <td>NaN</td>\n",
       "      <td>NaN</td>\n",
       "      <td>NaN</td>\n",
       "      <td>NaN</td>\n",
       "      <td>NaN</td>\n",
       "      <td>NaN</td>\n",
       "      <td>5.25</td>\n",
       "      <td>2.0</td>\n",
       "      <td>NaN</td>\n",
       "      <td>NaN</td>\n",
       "      <td>NaN</td>\n",
       "      <td>NaN</td>\n",
       "      <td>NaN</td>\n",
       "      <td>3.0</td>\n",
       "      <td>2.0</td>\n",
       "      <td>3.5</td>\n",
       "      <td>3.0</td>\n",
       "      <td>4.0</td>\n",
       "      <td>5.0</td>\n",
       "      <td>4.0</td>\n",
       "      <td>4.0</td>\n",
       "      <td>5.0</td>\n",
       "      <td>3.75</td>\n",
       "      <td>NaN</td>\n",
       "      <td>Ricardo</td>\n",
       "      <td>Go to average burrito place like Rigoberto's i...</td>\n",
       "      <td>NaN</td>\n",
       "      <td>NaN</td>\n",
       "      <td>x</td>\n",
       "      <td>x</td>\n",
       "      <td>x</td>\n",
       "      <td>NaN</td>\n",
       "      <td>NaN</td>\n",
       "      <td>NaN</td>\n",
       "      <td>NaN</td>\n",
       "      <td>NaN</td>\n",
       "      <td>NaN</td>\n",
       "      <td>NaN</td>\n",
       "      <td>NaN</td>\n",
       "      <td>NaN</td>\n",
       "      <td>NaN</td>\n",
       "      <td>NaN</td>\n",
       "      <td>NaN</td>\n",
       "      <td>NaN</td>\n",
       "      <td>NaN</td>\n",
       "      <td>NaN</td>\n",
       "      <td>NaN</td>\n",
       "      <td>NaN</td>\n",
       "      <td>NaN</td>\n",
       "      <td>NaN</td>\n",
       "      <td>NaN</td>\n",
       "      <td>NaN</td>\n",
       "      <td>NaN</td>\n",
       "      <td>NaN</td>\n",
       "      <td>NaN</td>\n",
       "      <td>NaN</td>\n",
       "      <td>NaN</td>\n",
       "      <td>NaN</td>\n",
       "      <td>NaN</td>\n",
       "      <td>NaN</td>\n",
       "      <td>NaN</td>\n",
       "      <td>NaN</td>\n",
       "      <td>NaN</td>\n",
       "    </tr>\n",
       "  </tbody>\n",
       "</table>\n",
       "</div>"
      ],
      "text/plain": [
       "               Location      Burrito       Date Neighborhood  \\\n",
       "1  Oscar's Mexican food  California  2016-01-24   San Marcos   \n",
       "2  Oscar's Mexican food     Carnitas 2016-01-24          NaN   \n",
       "3  Oscar's Mexican food  Carne asada 2016-01-24          NaN   \n",
       "\n",
       "                    Address  \\\n",
       "1  225 S Rancho Santa Fe Rd   \n",
       "2                       NaN   \n",
       "3                       NaN   \n",
       "\n",
       "                                                 URL  Yelp  Google Chips  \\\n",
       "1  http://www.yelp.com/biz/oscars-mexican-food-sa...   3.5     3.3   NaN   \n",
       "2                                                NaN   NaN     NaN   NaN   \n",
       "3                                                NaN   NaN     NaN   NaN   \n",
       "\n",
       "   Cost  Hunger  Mass (g)  Density (g/mL)  Length  Circum  Volume  Tortilla  \\\n",
       "1  5.45     3.5       NaN             NaN     NaN     NaN     NaN       2.0   \n",
       "2  4.85     1.5       NaN             NaN     NaN     NaN     NaN       3.0   \n",
       "3  5.25     2.0       NaN             NaN     NaN     NaN     NaN       3.0   \n",
       "\n",
       "   Temp  Meat  Fillings  Meat:filling  Uniformity  Salsa  Synergy  Wrap  \\\n",
       "1   3.5   2.5       2.5           2.0         4.0    3.5      2.5   5.0   \n",
       "2   2.0   2.5       3.0           4.5         4.0    3.0      3.0   5.0   \n",
       "3   2.0   3.5       3.0           4.0         5.0    4.0      4.0   5.0   \n",
       "\n",
       "   overall  Rec Reviewer                                              Notes  \\\n",
       "1     3.00  NaN    Scott                        Fries: 3/5; too little meat   \n",
       "2     3.00  NaN    Emily                                                NaN   \n",
       "3     3.75  NaN  Ricardo  Go to average burrito place like Rigoberto's i...   \n",
       "\n",
       "  Unreliable NonSD Beef Pico Guac Cheese Fries Sour cream Pork Chicken Shrimp  \\\n",
       "1        NaN   NaN    x    x    x      x     x        NaN  NaN     NaN    NaN   \n",
       "2        NaN   NaN  NaN    x    x    NaN   NaN        NaN    x     NaN    NaN   \n",
       "3        NaN   NaN    x    x    x    NaN   NaN        NaN  NaN     NaN    NaN   \n",
       "\n",
       "  Fish Rice Beans Lettuce Tomato Bell peper Carrots Cabbage Sauce Salsa.1  \\\n",
       "1  NaN  NaN   NaN     NaN    NaN        NaN     NaN     NaN   NaN     NaN   \n",
       "2  NaN  NaN   NaN     NaN    NaN        NaN     NaN     NaN   NaN     NaN   \n",
       "3  NaN  NaN   NaN     NaN    NaN        NaN     NaN     NaN   NaN     NaN   \n",
       "\n",
       "  Cilantro Onion Taquito Pineapple  Ham Chile relleno Nopales Lobster  Queso  \\\n",
       "1      NaN   NaN     NaN       NaN  NaN           NaN     NaN     NaN    NaN   \n",
       "2      NaN   NaN     NaN       NaN  NaN           NaN     NaN     NaN    NaN   \n",
       "3      NaN   NaN     NaN       NaN  NaN           NaN     NaN     NaN    NaN   \n",
       "\n",
       "   Egg Mushroom Bacon Sushi Avocado Corn Zucchini  \n",
       "1  NaN      NaN   NaN   NaN     NaN  NaN      NaN  \n",
       "2  NaN      NaN   NaN   NaN     NaN  NaN      NaN  \n",
       "3  NaN      NaN   NaN   NaN     NaN  NaN      NaN  "
      ]
     },
     "execution_count": 11,
     "metadata": {},
     "output_type": "execute_result"
    }
   ],
   "source": [
    "df_master[df_master.Location == \"Oscar's Mexican food\"]"
   ]
  },
  {
   "cell_type": "markdown",
   "id": "9e31bcf1",
   "metadata": {},
   "source": [
    "There is problematic rows related with upper or lower case letters for example Lolita's Taco shop"
   ]
  },
  {
   "cell_type": "code",
   "execution_count": 12,
   "id": "815dfd6f",
   "metadata": {},
   "outputs": [
    {
     "data": {
      "text/html": [
       "<div>\n",
       "<style scoped>\n",
       "    .dataframe tbody tr th:only-of-type {\n",
       "        vertical-align: middle;\n",
       "    }\n",
       "\n",
       "    .dataframe tbody tr th {\n",
       "        vertical-align: top;\n",
       "    }\n",
       "\n",
       "    .dataframe thead th {\n",
       "        text-align: right;\n",
       "    }\n",
       "</style>\n",
       "<table border=\"1\" class=\"dataframe\">\n",
       "  <thead>\n",
       "    <tr style=\"text-align: right;\">\n",
       "      <th></th>\n",
       "      <th>Location</th>\n",
       "      <th>Burrito</th>\n",
       "      <th>Date</th>\n",
       "      <th>Neighborhood</th>\n",
       "      <th>Address</th>\n",
       "      <th>URL</th>\n",
       "      <th>Yelp</th>\n",
       "      <th>Google</th>\n",
       "      <th>Chips</th>\n",
       "      <th>Cost</th>\n",
       "      <th>Hunger</th>\n",
       "      <th>Mass (g)</th>\n",
       "      <th>Density (g/mL)</th>\n",
       "      <th>Length</th>\n",
       "      <th>Circum</th>\n",
       "      <th>Volume</th>\n",
       "      <th>Tortilla</th>\n",
       "      <th>Temp</th>\n",
       "      <th>Meat</th>\n",
       "      <th>Fillings</th>\n",
       "      <th>Meat:filling</th>\n",
       "      <th>Uniformity</th>\n",
       "      <th>Salsa</th>\n",
       "      <th>Synergy</th>\n",
       "      <th>Wrap</th>\n",
       "      <th>overall</th>\n",
       "      <th>Rec</th>\n",
       "      <th>Reviewer</th>\n",
       "      <th>Notes</th>\n",
       "      <th>Unreliable</th>\n",
       "      <th>NonSD</th>\n",
       "      <th>Beef</th>\n",
       "      <th>Pico</th>\n",
       "      <th>Guac</th>\n",
       "      <th>Cheese</th>\n",
       "      <th>Fries</th>\n",
       "      <th>Sour cream</th>\n",
       "      <th>Pork</th>\n",
       "      <th>Chicken</th>\n",
       "      <th>Shrimp</th>\n",
       "      <th>Fish</th>\n",
       "      <th>Rice</th>\n",
       "      <th>Beans</th>\n",
       "      <th>Lettuce</th>\n",
       "      <th>Tomato</th>\n",
       "      <th>Bell peper</th>\n",
       "      <th>Carrots</th>\n",
       "      <th>Cabbage</th>\n",
       "      <th>Sauce</th>\n",
       "      <th>Salsa.1</th>\n",
       "      <th>Cilantro</th>\n",
       "      <th>Onion</th>\n",
       "      <th>Taquito</th>\n",
       "      <th>Pineapple</th>\n",
       "      <th>Ham</th>\n",
       "      <th>Chile relleno</th>\n",
       "      <th>Nopales</th>\n",
       "      <th>Lobster</th>\n",
       "      <th>Queso</th>\n",
       "      <th>Egg</th>\n",
       "      <th>Mushroom</th>\n",
       "      <th>Bacon</th>\n",
       "      <th>Sushi</th>\n",
       "      <th>Avocado</th>\n",
       "      <th>Corn</th>\n",
       "      <th>Zucchini</th>\n",
       "    </tr>\n",
       "  </thead>\n",
       "  <tbody>\n",
       "    <tr>\n",
       "      <th>120</th>\n",
       "      <td>Lolita's Taco shop</td>\n",
       "      <td>Carne asada</td>\n",
       "      <td>2016-05-27</td>\n",
       "      <td>NaN</td>\n",
       "      <td>NaN</td>\n",
       "      <td>NaN</td>\n",
       "      <td>NaN</td>\n",
       "      <td>NaN</td>\n",
       "      <td>NaN</td>\n",
       "      <td>6.25</td>\n",
       "      <td>4.0</td>\n",
       "      <td>NaN</td>\n",
       "      <td>NaN</td>\n",
       "      <td>15.0</td>\n",
       "      <td>20.5</td>\n",
       "      <td>0.50</td>\n",
       "      <td>1.5</td>\n",
       "      <td>2.5</td>\n",
       "      <td>3.0</td>\n",
       "      <td>4.5</td>\n",
       "      <td>4.0</td>\n",
       "      <td>2.0</td>\n",
       "      <td>2.75</td>\n",
       "      <td>3.75</td>\n",
       "      <td>3.0</td>\n",
       "      <td>2.6</td>\n",
       "      <td>No</td>\n",
       "      <td>Scott</td>\n",
       "      <td>Way too small</td>\n",
       "      <td>NaN</td>\n",
       "      <td>NaN</td>\n",
       "      <td>X</td>\n",
       "      <td>X</td>\n",
       "      <td>X</td>\n",
       "      <td>NaN</td>\n",
       "      <td>NaN</td>\n",
       "      <td>NaN</td>\n",
       "      <td>NaN</td>\n",
       "      <td>NaN</td>\n",
       "      <td>NaN</td>\n",
       "      <td>NaN</td>\n",
       "      <td>NaN</td>\n",
       "      <td>NaN</td>\n",
       "      <td>NaN</td>\n",
       "      <td>NaN</td>\n",
       "      <td>NaN</td>\n",
       "      <td>NaN</td>\n",
       "      <td>NaN</td>\n",
       "      <td>NaN</td>\n",
       "      <td>NaN</td>\n",
       "      <td>NaN</td>\n",
       "      <td>NaN</td>\n",
       "      <td>NaN</td>\n",
       "      <td>NaN</td>\n",
       "      <td>NaN</td>\n",
       "      <td>NaN</td>\n",
       "      <td>NaN</td>\n",
       "      <td>NaN</td>\n",
       "      <td>NaN</td>\n",
       "      <td>NaN</td>\n",
       "      <td>NaN</td>\n",
       "      <td>NaN</td>\n",
       "      <td>NaN</td>\n",
       "      <td>NaN</td>\n",
       "      <td>NaN</td>\n",
       "      <td>NaN</td>\n",
       "    </tr>\n",
       "    <tr>\n",
       "      <th>121</th>\n",
       "      <td>Lolita's Taco shop</td>\n",
       "      <td>Shrimp</td>\n",
       "      <td>2016-05-27</td>\n",
       "      <td>NaN</td>\n",
       "      <td>NaN</td>\n",
       "      <td>NaN</td>\n",
       "      <td>NaN</td>\n",
       "      <td>NaN</td>\n",
       "      <td>NaN</td>\n",
       "      <td>8.95</td>\n",
       "      <td>3.5</td>\n",
       "      <td>NaN</td>\n",
       "      <td>NaN</td>\n",
       "      <td>18.5</td>\n",
       "      <td>25.0</td>\n",
       "      <td>0.92</td>\n",
       "      <td>3.0</td>\n",
       "      <td>3.0</td>\n",
       "      <td>4.0</td>\n",
       "      <td>4.0</td>\n",
       "      <td>3.5</td>\n",
       "      <td>3.5</td>\n",
       "      <td>2.50</td>\n",
       "      <td>4.00</td>\n",
       "      <td>0.5</td>\n",
       "      <td>3.0</td>\n",
       "      <td>Yes</td>\n",
       "      <td>Emily</td>\n",
       "      <td>NaN</td>\n",
       "      <td>NaN</td>\n",
       "      <td>NaN</td>\n",
       "      <td>NaN</td>\n",
       "      <td>X</td>\n",
       "      <td>NaN</td>\n",
       "      <td>NaN</td>\n",
       "      <td>NaN</td>\n",
       "      <td>NaN</td>\n",
       "      <td>NaN</td>\n",
       "      <td>NaN</td>\n",
       "      <td>X</td>\n",
       "      <td>NaN</td>\n",
       "      <td>NaN</td>\n",
       "      <td>NaN</td>\n",
       "      <td>X</td>\n",
       "      <td>NaN</td>\n",
       "      <td>NaN</td>\n",
       "      <td>NaN</td>\n",
       "      <td>NaN</td>\n",
       "      <td>X</td>\n",
       "      <td>NaN</td>\n",
       "      <td>NaN</td>\n",
       "      <td>NaN</td>\n",
       "      <td>NaN</td>\n",
       "      <td>NaN</td>\n",
       "      <td>NaN</td>\n",
       "      <td>NaN</td>\n",
       "      <td>NaN</td>\n",
       "      <td>NaN</td>\n",
       "      <td>NaN</td>\n",
       "      <td>NaN</td>\n",
       "      <td>NaN</td>\n",
       "      <td>NaN</td>\n",
       "      <td>NaN</td>\n",
       "      <td>NaN</td>\n",
       "      <td>NaN</td>\n",
       "      <td>NaN</td>\n",
       "    </tr>\n",
       "    <tr>\n",
       "      <th>122</th>\n",
       "      <td>Lolita's Taco shop</td>\n",
       "      <td>Bean and cheese</td>\n",
       "      <td>2016-05-27</td>\n",
       "      <td>NaN</td>\n",
       "      <td>NaN</td>\n",
       "      <td>NaN</td>\n",
       "      <td>NaN</td>\n",
       "      <td>NaN</td>\n",
       "      <td>NaN</td>\n",
       "      <td>3.50</td>\n",
       "      <td>1.0</td>\n",
       "      <td>NaN</td>\n",
       "      <td>NaN</td>\n",
       "      <td>16.0</td>\n",
       "      <td>20.0</td>\n",
       "      <td>0.51</td>\n",
       "      <td>3.5</td>\n",
       "      <td>4.5</td>\n",
       "      <td>NaN</td>\n",
       "      <td>3.0</td>\n",
       "      <td>NaN</td>\n",
       "      <td>4.0</td>\n",
       "      <td>3.00</td>\n",
       "      <td>2.50</td>\n",
       "      <td>4.0</td>\n",
       "      <td>2.7</td>\n",
       "      <td>No</td>\n",
       "      <td>Scott</td>\n",
       "      <td>NaN</td>\n",
       "      <td>NaN</td>\n",
       "      <td>NaN</td>\n",
       "      <td>NaN</td>\n",
       "      <td>NaN</td>\n",
       "      <td>NaN</td>\n",
       "      <td>x</td>\n",
       "      <td>NaN</td>\n",
       "      <td>NaN</td>\n",
       "      <td>NaN</td>\n",
       "      <td>NaN</td>\n",
       "      <td>NaN</td>\n",
       "      <td>NaN</td>\n",
       "      <td>NaN</td>\n",
       "      <td>x</td>\n",
       "      <td>NaN</td>\n",
       "      <td>NaN</td>\n",
       "      <td>NaN</td>\n",
       "      <td>NaN</td>\n",
       "      <td>NaN</td>\n",
       "      <td>NaN</td>\n",
       "      <td>NaN</td>\n",
       "      <td>NaN</td>\n",
       "      <td>NaN</td>\n",
       "      <td>NaN</td>\n",
       "      <td>NaN</td>\n",
       "      <td>NaN</td>\n",
       "      <td>NaN</td>\n",
       "      <td>NaN</td>\n",
       "      <td>NaN</td>\n",
       "      <td>NaN</td>\n",
       "      <td>NaN</td>\n",
       "      <td>NaN</td>\n",
       "      <td>NaN</td>\n",
       "      <td>NaN</td>\n",
       "      <td>NaN</td>\n",
       "      <td>NaN</td>\n",
       "      <td>NaN</td>\n",
       "    </tr>\n",
       "    <tr>\n",
       "      <th>155</th>\n",
       "      <td>Lolita's Taco Shop</td>\n",
       "      <td>California</td>\n",
       "      <td>2016-06-23</td>\n",
       "      <td>NaN</td>\n",
       "      <td>NaN</td>\n",
       "      <td>NaN</td>\n",
       "      <td>NaN</td>\n",
       "      <td>NaN</td>\n",
       "      <td>NaN</td>\n",
       "      <td>7.00</td>\n",
       "      <td>2.2</td>\n",
       "      <td>NaN</td>\n",
       "      <td>NaN</td>\n",
       "      <td>18.0</td>\n",
       "      <td>25.0</td>\n",
       "      <td>0.90</td>\n",
       "      <td>2.8</td>\n",
       "      <td>3.0</td>\n",
       "      <td>3.0</td>\n",
       "      <td>2.0</td>\n",
       "      <td>2.0</td>\n",
       "      <td>4.5</td>\n",
       "      <td>2.00</td>\n",
       "      <td>1.50</td>\n",
       "      <td>4.5</td>\n",
       "      <td>2.3</td>\n",
       "      <td>No</td>\n",
       "      <td>Scott</td>\n",
       "      <td>NaN</td>\n",
       "      <td>NaN</td>\n",
       "      <td>NaN</td>\n",
       "      <td>x</td>\n",
       "      <td>NaN</td>\n",
       "      <td>NaN</td>\n",
       "      <td>x</td>\n",
       "      <td>x</td>\n",
       "      <td>x</td>\n",
       "      <td>NaN</td>\n",
       "      <td>NaN</td>\n",
       "      <td>NaN</td>\n",
       "      <td>NaN</td>\n",
       "      <td>NaN</td>\n",
       "      <td>NaN</td>\n",
       "      <td>NaN</td>\n",
       "      <td>NaN</td>\n",
       "      <td>NaN</td>\n",
       "      <td>NaN</td>\n",
       "      <td>NaN</td>\n",
       "      <td>NaN</td>\n",
       "      <td>NaN</td>\n",
       "      <td>NaN</td>\n",
       "      <td>NaN</td>\n",
       "      <td>NaN</td>\n",
       "      <td>NaN</td>\n",
       "      <td>NaN</td>\n",
       "      <td>NaN</td>\n",
       "      <td>NaN</td>\n",
       "      <td>NaN</td>\n",
       "      <td>NaN</td>\n",
       "      <td>NaN</td>\n",
       "      <td>NaN</td>\n",
       "      <td>NaN</td>\n",
       "      <td>NaN</td>\n",
       "      <td>NaN</td>\n",
       "      <td>NaN</td>\n",
       "      <td>NaN</td>\n",
       "    </tr>\n",
       "    <tr>\n",
       "      <th>156</th>\n",
       "      <td>Lolita's Taco Shop</td>\n",
       "      <td>California</td>\n",
       "      <td>2016-06-23</td>\n",
       "      <td>NaN</td>\n",
       "      <td>NaN</td>\n",
       "      <td>NaN</td>\n",
       "      <td>NaN</td>\n",
       "      <td>NaN</td>\n",
       "      <td>NaN</td>\n",
       "      <td>7.00</td>\n",
       "      <td>3.5</td>\n",
       "      <td>NaN</td>\n",
       "      <td>NaN</td>\n",
       "      <td>18.0</td>\n",
       "      <td>23.5</td>\n",
       "      <td>0.79</td>\n",
       "      <td>4.0</td>\n",
       "      <td>4.0</td>\n",
       "      <td>4.0</td>\n",
       "      <td>3.0</td>\n",
       "      <td>4.0</td>\n",
       "      <td>5.0</td>\n",
       "      <td>4.00</td>\n",
       "      <td>4.00</td>\n",
       "      <td>5.0</td>\n",
       "      <td>4.0</td>\n",
       "      <td>Yes</td>\n",
       "      <td>Cris</td>\n",
       "      <td>NaN</td>\n",
       "      <td>NaN</td>\n",
       "      <td>NaN</td>\n",
       "      <td>x</td>\n",
       "      <td>NaN</td>\n",
       "      <td>NaN</td>\n",
       "      <td>x</td>\n",
       "      <td>x</td>\n",
       "      <td>x</td>\n",
       "      <td>NaN</td>\n",
       "      <td>NaN</td>\n",
       "      <td>NaN</td>\n",
       "      <td>NaN</td>\n",
       "      <td>NaN</td>\n",
       "      <td>NaN</td>\n",
       "      <td>NaN</td>\n",
       "      <td>NaN</td>\n",
       "      <td>NaN</td>\n",
       "      <td>NaN</td>\n",
       "      <td>NaN</td>\n",
       "      <td>NaN</td>\n",
       "      <td>NaN</td>\n",
       "      <td>NaN</td>\n",
       "      <td>NaN</td>\n",
       "      <td>NaN</td>\n",
       "      <td>NaN</td>\n",
       "      <td>NaN</td>\n",
       "      <td>NaN</td>\n",
       "      <td>NaN</td>\n",
       "      <td>NaN</td>\n",
       "      <td>NaN</td>\n",
       "      <td>NaN</td>\n",
       "      <td>NaN</td>\n",
       "      <td>NaN</td>\n",
       "      <td>NaN</td>\n",
       "      <td>NaN</td>\n",
       "      <td>NaN</td>\n",
       "      <td>NaN</td>\n",
       "    </tr>\n",
       "    <tr>\n",
       "      <th>157</th>\n",
       "      <td>Lolita's Taco Shop</td>\n",
       "      <td>California</td>\n",
       "      <td>2016-06-23</td>\n",
       "      <td>NaN</td>\n",
       "      <td>NaN</td>\n",
       "      <td>NaN</td>\n",
       "      <td>NaN</td>\n",
       "      <td>NaN</td>\n",
       "      <td>NaN</td>\n",
       "      <td>7.00</td>\n",
       "      <td>3.0</td>\n",
       "      <td>NaN</td>\n",
       "      <td>NaN</td>\n",
       "      <td>19.0</td>\n",
       "      <td>24.0</td>\n",
       "      <td>0.87</td>\n",
       "      <td>3.5</td>\n",
       "      <td>2.0</td>\n",
       "      <td>3.0</td>\n",
       "      <td>4.0</td>\n",
       "      <td>2.0</td>\n",
       "      <td>4.0</td>\n",
       "      <td>3.00</td>\n",
       "      <td>3.00</td>\n",
       "      <td>4.0</td>\n",
       "      <td>3.0</td>\n",
       "      <td>NaN</td>\n",
       "      <td>Matt</td>\n",
       "      <td>NaN</td>\n",
       "      <td>NaN</td>\n",
       "      <td>NaN</td>\n",
       "      <td>x</td>\n",
       "      <td>NaN</td>\n",
       "      <td>x</td>\n",
       "      <td>x</td>\n",
       "      <td>x</td>\n",
       "      <td>x</td>\n",
       "      <td>NaN</td>\n",
       "      <td>NaN</td>\n",
       "      <td>NaN</td>\n",
       "      <td>NaN</td>\n",
       "      <td>NaN</td>\n",
       "      <td>NaN</td>\n",
       "      <td>NaN</td>\n",
       "      <td>NaN</td>\n",
       "      <td>NaN</td>\n",
       "      <td>NaN</td>\n",
       "      <td>NaN</td>\n",
       "      <td>NaN</td>\n",
       "      <td>NaN</td>\n",
       "      <td>NaN</td>\n",
       "      <td>NaN</td>\n",
       "      <td>NaN</td>\n",
       "      <td>NaN</td>\n",
       "      <td>NaN</td>\n",
       "      <td>NaN</td>\n",
       "      <td>NaN</td>\n",
       "      <td>NaN</td>\n",
       "      <td>NaN</td>\n",
       "      <td>NaN</td>\n",
       "      <td>NaN</td>\n",
       "      <td>NaN</td>\n",
       "      <td>NaN</td>\n",
       "      <td>NaN</td>\n",
       "      <td>NaN</td>\n",
       "      <td>NaN</td>\n",
       "    </tr>\n",
       "    <tr>\n",
       "      <th>158</th>\n",
       "      <td>Lolita's Taco Shop</td>\n",
       "      <td>Mixed</td>\n",
       "      <td>2016-06-23</td>\n",
       "      <td>NaN</td>\n",
       "      <td>NaN</td>\n",
       "      <td>NaN</td>\n",
       "      <td>NaN</td>\n",
       "      <td>NaN</td>\n",
       "      <td>NaN</td>\n",
       "      <td>8.25</td>\n",
       "      <td>4.0</td>\n",
       "      <td>NaN</td>\n",
       "      <td>NaN</td>\n",
       "      <td>NaN</td>\n",
       "      <td>NaN</td>\n",
       "      <td>NaN</td>\n",
       "      <td>4.0</td>\n",
       "      <td>3.0</td>\n",
       "      <td>4.0</td>\n",
       "      <td>4.0</td>\n",
       "      <td>4.0</td>\n",
       "      <td>5.0</td>\n",
       "      <td>3.00</td>\n",
       "      <td>4.00</td>\n",
       "      <td>5.0</td>\n",
       "      <td>3.5</td>\n",
       "      <td>Yes</td>\n",
       "      <td>Marc</td>\n",
       "      <td>NaN</td>\n",
       "      <td>NaN</td>\n",
       "      <td>NaN</td>\n",
       "      <td>x</td>\n",
       "      <td>NaN</td>\n",
       "      <td>x</td>\n",
       "      <td>x</td>\n",
       "      <td>NaN</td>\n",
       "      <td>NaN</td>\n",
       "      <td>NaN</td>\n",
       "      <td>NaN</td>\n",
       "      <td>NaN</td>\n",
       "      <td>NaN</td>\n",
       "      <td>NaN</td>\n",
       "      <td>x</td>\n",
       "      <td>NaN</td>\n",
       "      <td>NaN</td>\n",
       "      <td>NaN</td>\n",
       "      <td>NaN</td>\n",
       "      <td>NaN</td>\n",
       "      <td>NaN</td>\n",
       "      <td>NaN</td>\n",
       "      <td>NaN</td>\n",
       "      <td>NaN</td>\n",
       "      <td>NaN</td>\n",
       "      <td>NaN</td>\n",
       "      <td>NaN</td>\n",
       "      <td>NaN</td>\n",
       "      <td>NaN</td>\n",
       "      <td>NaN</td>\n",
       "      <td>NaN</td>\n",
       "      <td>NaN</td>\n",
       "      <td>NaN</td>\n",
       "      <td>NaN</td>\n",
       "      <td>NaN</td>\n",
       "      <td>NaN</td>\n",
       "      <td>NaN</td>\n",
       "      <td>NaN</td>\n",
       "    </tr>\n",
       "  </tbody>\n",
       "</table>\n",
       "</div>"
      ],
      "text/plain": [
       "               Location          Burrito       Date Neighborhood Address  URL  \\\n",
       "120  Lolita's Taco shop      Carne asada 2016-05-27          NaN     NaN  NaN   \n",
       "121  Lolita's Taco shop           Shrimp 2016-05-27          NaN     NaN  NaN   \n",
       "122  Lolita's Taco shop  Bean and cheese 2016-05-27          NaN     NaN  NaN   \n",
       "155  Lolita's Taco Shop       California 2016-06-23          NaN     NaN  NaN   \n",
       "156  Lolita's Taco Shop       California 2016-06-23          NaN     NaN  NaN   \n",
       "157  Lolita's Taco Shop       California 2016-06-23          NaN     NaN  NaN   \n",
       "158  Lolita's Taco Shop            Mixed 2016-06-23          NaN     NaN  NaN   \n",
       "\n",
       "     Yelp  Google Chips  Cost  Hunger  Mass (g)  Density (g/mL)  Length  \\\n",
       "120   NaN     NaN   NaN  6.25     4.0       NaN             NaN    15.0   \n",
       "121   NaN     NaN   NaN  8.95     3.5       NaN             NaN    18.5   \n",
       "122   NaN     NaN   NaN  3.50     1.0       NaN             NaN    16.0   \n",
       "155   NaN     NaN   NaN  7.00     2.2       NaN             NaN    18.0   \n",
       "156   NaN     NaN   NaN  7.00     3.5       NaN             NaN    18.0   \n",
       "157   NaN     NaN   NaN  7.00     3.0       NaN             NaN    19.0   \n",
       "158   NaN     NaN   NaN  8.25     4.0       NaN             NaN     NaN   \n",
       "\n",
       "     Circum  Volume  Tortilla  Temp  Meat  Fillings  Meat:filling  Uniformity  \\\n",
       "120    20.5    0.50       1.5   2.5   3.0       4.5           4.0         2.0   \n",
       "121    25.0    0.92       3.0   3.0   4.0       4.0           3.5         3.5   \n",
       "122    20.0    0.51       3.5   4.5   NaN       3.0           NaN         4.0   \n",
       "155    25.0    0.90       2.8   3.0   3.0       2.0           2.0         4.5   \n",
       "156    23.5    0.79       4.0   4.0   4.0       3.0           4.0         5.0   \n",
       "157    24.0    0.87       3.5   2.0   3.0       4.0           2.0         4.0   \n",
       "158     NaN     NaN       4.0   3.0   4.0       4.0           4.0         5.0   \n",
       "\n",
       "     Salsa  Synergy  Wrap  overall  Rec Reviewer          Notes Unreliable  \\\n",
       "120   2.75     3.75   3.0      2.6   No    Scott  Way too small        NaN   \n",
       "121   2.50     4.00   0.5      3.0  Yes    Emily            NaN        NaN   \n",
       "122   3.00     2.50   4.0      2.7   No    Scott            NaN        NaN   \n",
       "155   2.00     1.50   4.5      2.3   No    Scott            NaN        NaN   \n",
       "156   4.00     4.00   5.0      4.0  Yes     Cris            NaN        NaN   \n",
       "157   3.00     3.00   4.0      3.0  NaN     Matt            NaN        NaN   \n",
       "158   3.00     4.00   5.0      3.5  Yes     Marc            NaN        NaN   \n",
       "\n",
       "    NonSD Beef Pico Guac Cheese Fries Sour cream Pork Chicken Shrimp Fish  \\\n",
       "120   NaN    X    X    X    NaN   NaN        NaN  NaN     NaN    NaN  NaN   \n",
       "121   NaN  NaN    X  NaN    NaN   NaN        NaN  NaN     NaN      X  NaN   \n",
       "122   NaN  NaN  NaN  NaN      x   NaN        NaN  NaN     NaN    NaN  NaN   \n",
       "155   NaN    x  NaN  NaN      x     x          x  NaN     NaN    NaN  NaN   \n",
       "156   NaN    x  NaN  NaN      x     x          x  NaN     NaN    NaN  NaN   \n",
       "157   NaN    x  NaN    x      x     x          x  NaN     NaN    NaN  NaN   \n",
       "158   NaN    x  NaN    x      x   NaN        NaN  NaN     NaN    NaN  NaN   \n",
       "\n",
       "    Rice Beans Lettuce Tomato Bell peper Carrots Cabbage Sauce Salsa.1  \\\n",
       "120  NaN   NaN     NaN    NaN        NaN     NaN     NaN   NaN     NaN   \n",
       "121  NaN   NaN       X    NaN        NaN     NaN     NaN     X     NaN   \n",
       "122  NaN     x     NaN    NaN        NaN     NaN     NaN   NaN     NaN   \n",
       "155  NaN   NaN     NaN    NaN        NaN     NaN     NaN   NaN     NaN   \n",
       "156  NaN   NaN     NaN    NaN        NaN     NaN     NaN   NaN     NaN   \n",
       "157  NaN   NaN     NaN    NaN        NaN     NaN     NaN   NaN     NaN   \n",
       "158  NaN     x     NaN    NaN        NaN     NaN     NaN   NaN     NaN   \n",
       "\n",
       "    Cilantro Onion Taquito Pineapple  Ham Chile relleno Nopales Lobster  \\\n",
       "120      NaN   NaN     NaN       NaN  NaN           NaN     NaN     NaN   \n",
       "121      NaN   NaN     NaN       NaN  NaN           NaN     NaN     NaN   \n",
       "122      NaN   NaN     NaN       NaN  NaN           NaN     NaN     NaN   \n",
       "155      NaN   NaN     NaN       NaN  NaN           NaN     NaN     NaN   \n",
       "156      NaN   NaN     NaN       NaN  NaN           NaN     NaN     NaN   \n",
       "157      NaN   NaN     NaN       NaN  NaN           NaN     NaN     NaN   \n",
       "158      NaN   NaN     NaN       NaN  NaN           NaN     NaN     NaN   \n",
       "\n",
       "     Queso  Egg Mushroom Bacon Sushi Avocado Corn Zucchini  \n",
       "120    NaN  NaN      NaN   NaN   NaN     NaN  NaN      NaN  \n",
       "121    NaN  NaN      NaN   NaN   NaN     NaN  NaN      NaN  \n",
       "122    NaN  NaN      NaN   NaN   NaN     NaN  NaN      NaN  \n",
       "155    NaN  NaN      NaN   NaN   NaN     NaN  NaN      NaN  \n",
       "156    NaN  NaN      NaN   NaN   NaN     NaN  NaN      NaN  \n",
       "157    NaN  NaN      NaN   NaN   NaN     NaN  NaN      NaN  \n",
       "158    NaN  NaN      NaN   NaN   NaN     NaN  NaN      NaN  "
      ]
     },
     "execution_count": 12,
     "metadata": {},
     "output_type": "execute_result"
    }
   ],
   "source": [
    "df_master[df_master['Location'].str.startswith(\"Lolita's Taco\")]"
   ]
  },
  {
   "cell_type": "code",
   "execution_count": 13,
   "id": "d7919f43",
   "metadata": {},
   "outputs": [
    {
     "data": {
      "text/plain": [
       "Series([], Name: Burrito, dtype: int64)"
      ]
     },
     "execution_count": 13,
     "metadata": {},
     "output_type": "execute_result"
    }
   ],
   "source": [
    "df_master[df_master.Burrito.str.startswith('califo')].Burrito.value_counts(dropna=False)"
   ]
  },
  {
   "cell_type": "code",
   "execution_count": 14,
   "id": "7a015fe7",
   "metadata": {},
   "outputs": [
    {
     "data": {
      "text/plain": [
       "152"
      ]
     },
     "execution_count": 14,
     "metadata": {},
     "output_type": "execute_result"
    }
   ],
   "source": [
    "df_master.Date.nunique()"
   ]
  },
  {
   "cell_type": "markdown",
   "id": "2e3805bd",
   "metadata": {},
   "source": [
    "Date columns have the maximum value of 2026-04-25 which is not possible. This value should be replaced with appropriate value. "
   ]
  },
  {
   "cell_type": "code",
   "execution_count": 15,
   "id": "fba9eb92",
   "metadata": {},
   "outputs": [
    {
     "name": "stdout",
     "output_type": "stream",
     "text": [
      "2011-05-16 00:00:00 2026-04-25 00:00:00\n"
     ]
    }
   ],
   "source": [
    "print(df_master.Date.min(), df_master.Date.max())"
   ]
  },
  {
   "cell_type": "markdown",
   "id": "893ab3cc",
   "metadata": {},
   "source": [
    "Neighborhood and Address columns are self explanatory"
   ]
  },
  {
   "cell_type": "code",
   "execution_count": 16,
   "id": "7f84d052",
   "metadata": {},
   "outputs": [
    {
     "data": {
      "text/plain": [
       "39"
      ]
     },
     "execution_count": 16,
     "metadata": {},
     "output_type": "execute_result"
    }
   ],
   "source": [
    "df_master.Neighborhood.nunique()"
   ]
  },
  {
   "cell_type": "code",
   "execution_count": 17,
   "id": "7bf4249f",
   "metadata": {},
   "outputs": [
    {
     "data": {
      "text/plain": [
       "82"
      ]
     },
     "execution_count": 17,
     "metadata": {},
     "output_type": "execute_result"
    }
   ],
   "source": [
    "df_master.Address.nunique()"
   ]
  },
  {
   "cell_type": "markdown",
   "id": "0ce635a7",
   "metadata": {},
   "source": [
    "There is one row of neighborhood and address columns for each restaurant. By this way, data size can be kept smaller due to the huge amount of string."
   ]
  },
  {
   "cell_type": "code",
   "execution_count": 18,
   "id": "fd44bcb5",
   "metadata": {},
   "outputs": [
    {
     "data": {
      "text/html": [
       "<div>\n",
       "<style scoped>\n",
       "    .dataframe tbody tr th:only-of-type {\n",
       "        vertical-align: middle;\n",
       "    }\n",
       "\n",
       "    .dataframe tbody tr th {\n",
       "        vertical-align: top;\n",
       "    }\n",
       "\n",
       "    .dataframe thead th {\n",
       "        text-align: right;\n",
       "    }\n",
       "</style>\n",
       "<table border=\"1\" class=\"dataframe\">\n",
       "  <thead>\n",
       "    <tr style=\"text-align: right;\">\n",
       "      <th></th>\n",
       "      <th>Location</th>\n",
       "      <th>Burrito</th>\n",
       "      <th>Date</th>\n",
       "      <th>Neighborhood</th>\n",
       "      <th>Address</th>\n",
       "      <th>URL</th>\n",
       "      <th>Yelp</th>\n",
       "      <th>Google</th>\n",
       "      <th>Chips</th>\n",
       "      <th>Cost</th>\n",
       "      <th>Hunger</th>\n",
       "      <th>Mass (g)</th>\n",
       "      <th>Density (g/mL)</th>\n",
       "      <th>Length</th>\n",
       "      <th>Circum</th>\n",
       "      <th>Volume</th>\n",
       "      <th>Tortilla</th>\n",
       "      <th>Temp</th>\n",
       "      <th>Meat</th>\n",
       "      <th>Fillings</th>\n",
       "      <th>Meat:filling</th>\n",
       "      <th>Uniformity</th>\n",
       "      <th>Salsa</th>\n",
       "      <th>Synergy</th>\n",
       "      <th>Wrap</th>\n",
       "      <th>overall</th>\n",
       "      <th>Rec</th>\n",
       "      <th>Reviewer</th>\n",
       "      <th>Notes</th>\n",
       "      <th>Unreliable</th>\n",
       "      <th>NonSD</th>\n",
       "      <th>Beef</th>\n",
       "      <th>Pico</th>\n",
       "      <th>Guac</th>\n",
       "      <th>Cheese</th>\n",
       "      <th>Fries</th>\n",
       "      <th>Sour cream</th>\n",
       "      <th>Pork</th>\n",
       "      <th>Chicken</th>\n",
       "      <th>Shrimp</th>\n",
       "      <th>Fish</th>\n",
       "      <th>Rice</th>\n",
       "      <th>Beans</th>\n",
       "      <th>Lettuce</th>\n",
       "      <th>Tomato</th>\n",
       "      <th>Bell peper</th>\n",
       "      <th>Carrots</th>\n",
       "      <th>Cabbage</th>\n",
       "      <th>Sauce</th>\n",
       "      <th>Salsa.1</th>\n",
       "      <th>Cilantro</th>\n",
       "      <th>Onion</th>\n",
       "      <th>Taquito</th>\n",
       "      <th>Pineapple</th>\n",
       "      <th>Ham</th>\n",
       "      <th>Chile relleno</th>\n",
       "      <th>Nopales</th>\n",
       "      <th>Lobster</th>\n",
       "      <th>Queso</th>\n",
       "      <th>Egg</th>\n",
       "      <th>Mushroom</th>\n",
       "      <th>Bacon</th>\n",
       "      <th>Sushi</th>\n",
       "      <th>Avocado</th>\n",
       "      <th>Corn</th>\n",
       "      <th>Zucchini</th>\n",
       "    </tr>\n",
       "  </thead>\n",
       "  <tbody>\n",
       "    <tr>\n",
       "      <th>193</th>\n",
       "      <td>Rubios UCSD</td>\n",
       "      <td>Tilapia one</td>\n",
       "      <td>2016-08-30</td>\n",
       "      <td>UTC</td>\n",
       "      <td>9500 Gilman Dr</td>\n",
       "      <td>https://www.yelp.com/biz/rubios-la-jolla-4</td>\n",
       "      <td>3.5</td>\n",
       "      <td>3.4</td>\n",
       "      <td>x</td>\n",
       "      <td>7.99</td>\n",
       "      <td>3.5</td>\n",
       "      <td>NaN</td>\n",
       "      <td>NaN</td>\n",
       "      <td>17.0</td>\n",
       "      <td>20.0</td>\n",
       "      <td>0.54</td>\n",
       "      <td>1.5</td>\n",
       "      <td>4.0</td>\n",
       "      <td>3.0</td>\n",
       "      <td>3.0</td>\n",
       "      <td>1.5</td>\n",
       "      <td>4.5</td>\n",
       "      <td>2.5</td>\n",
       "      <td>3.0</td>\n",
       "      <td>1.5</td>\n",
       "      <td>3.2</td>\n",
       "      <td>No</td>\n",
       "      <td>Scott</td>\n",
       "      <td>NaN</td>\n",
       "      <td>NaN</td>\n",
       "      <td>NaN</td>\n",
       "      <td>NaN</td>\n",
       "      <td>NaN</td>\n",
       "      <td>X</td>\n",
       "      <td>NaN</td>\n",
       "      <td>NaN</td>\n",
       "      <td>NaN</td>\n",
       "      <td>NaN</td>\n",
       "      <td>NaN</td>\n",
       "      <td>NaN</td>\n",
       "      <td>X</td>\n",
       "      <td>X</td>\n",
       "      <td>NaN</td>\n",
       "      <td>NaN</td>\n",
       "      <td>NaN</td>\n",
       "      <td>NaN</td>\n",
       "      <td>NaN</td>\n",
       "      <td>X</td>\n",
       "      <td>NaN</td>\n",
       "      <td>NaN</td>\n",
       "      <td>NaN</td>\n",
       "      <td>NaN</td>\n",
       "      <td>NaN</td>\n",
       "      <td>NaN</td>\n",
       "      <td>NaN</td>\n",
       "      <td>NaN</td>\n",
       "      <td>NaN</td>\n",
       "      <td>NaN</td>\n",
       "      <td>NaN</td>\n",
       "      <td>NaN</td>\n",
       "      <td>NaN</td>\n",
       "      <td>NaN</td>\n",
       "      <td>NaN</td>\n",
       "      <td>NaN</td>\n",
       "      <td>x</td>\n",
       "      <td>NaN</td>\n",
       "    </tr>\n",
       "    <tr>\n",
       "      <th>240</th>\n",
       "      <td>Taco Villa</td>\n",
       "      <td>Carnitas</td>\n",
       "      <td>2016-09-26</td>\n",
       "      <td>UTC</td>\n",
       "      <td>9500 Gilman Dr</td>\n",
       "      <td>https://www.yelp.com/biz/taco-villa-san-diego</td>\n",
       "      <td>3.5</td>\n",
       "      <td>3.5</td>\n",
       "      <td>NaN</td>\n",
       "      <td>5.99</td>\n",
       "      <td>2.5</td>\n",
       "      <td>NaN</td>\n",
       "      <td>NaN</td>\n",
       "      <td>18.5</td>\n",
       "      <td>20.0</td>\n",
       "      <td>0.59</td>\n",
       "      <td>3.2</td>\n",
       "      <td>3.8</td>\n",
       "      <td>4.5</td>\n",
       "      <td>2.8</td>\n",
       "      <td>4.0</td>\n",
       "      <td>2.0</td>\n",
       "      <td>1.8</td>\n",
       "      <td>3.5</td>\n",
       "      <td>5.0</td>\n",
       "      <td>4.0</td>\n",
       "      <td>Yes</td>\n",
       "      <td>Scott</td>\n",
       "      <td>Carnitas very good</td>\n",
       "      <td>NaN</td>\n",
       "      <td>NaN</td>\n",
       "      <td>NaN</td>\n",
       "      <td>X</td>\n",
       "      <td>X</td>\n",
       "      <td>NaN</td>\n",
       "      <td>NaN</td>\n",
       "      <td>NaN</td>\n",
       "      <td>X</td>\n",
       "      <td>NaN</td>\n",
       "      <td>NaN</td>\n",
       "      <td>NaN</td>\n",
       "      <td>NaN</td>\n",
       "      <td>NaN</td>\n",
       "      <td>NaN</td>\n",
       "      <td>NaN</td>\n",
       "      <td>NaN</td>\n",
       "      <td>NaN</td>\n",
       "      <td>NaN</td>\n",
       "      <td>NaN</td>\n",
       "      <td>NaN</td>\n",
       "      <td>NaN</td>\n",
       "      <td>NaN</td>\n",
       "      <td>NaN</td>\n",
       "      <td>NaN</td>\n",
       "      <td>NaN</td>\n",
       "      <td>NaN</td>\n",
       "      <td>NaN</td>\n",
       "      <td>NaN</td>\n",
       "      <td>NaN</td>\n",
       "      <td>NaN</td>\n",
       "      <td>NaN</td>\n",
       "      <td>NaN</td>\n",
       "      <td>NaN</td>\n",
       "      <td>NaN</td>\n",
       "      <td>NaN</td>\n",
       "      <td>NaN</td>\n",
       "    </tr>\n",
       "  </tbody>\n",
       "</table>\n",
       "</div>"
      ],
      "text/plain": [
       "        Location      Burrito       Date Neighborhood         Address  \\\n",
       "193  Rubios UCSD  Tilapia one 2016-08-30          UTC  9500 Gilman Dr   \n",
       "240   Taco Villa     Carnitas 2016-09-26          UTC  9500 Gilman Dr   \n",
       "\n",
       "                                               URL  Yelp  Google Chips  Cost  \\\n",
       "193     https://www.yelp.com/biz/rubios-la-jolla-4   3.5     3.4     x  7.99   \n",
       "240  https://www.yelp.com/biz/taco-villa-san-diego   3.5     3.5   NaN  5.99   \n",
       "\n",
       "     Hunger  Mass (g)  Density (g/mL)  Length  Circum  Volume  Tortilla  Temp  \\\n",
       "193     3.5       NaN             NaN    17.0    20.0    0.54       1.5   4.0   \n",
       "240     2.5       NaN             NaN    18.5    20.0    0.59       3.2   3.8   \n",
       "\n",
       "     Meat  Fillings  Meat:filling  Uniformity  Salsa  Synergy  Wrap  overall  \\\n",
       "193   3.0       3.0           1.5         4.5    2.5      3.0   1.5      3.2   \n",
       "240   4.5       2.8           4.0         2.0    1.8      3.5   5.0      4.0   \n",
       "\n",
       "     Rec Reviewer               Notes Unreliable NonSD Beef Pico Guac Cheese  \\\n",
       "193   No    Scott                 NaN        NaN   NaN  NaN  NaN    X    NaN   \n",
       "240  Yes    Scott  Carnitas very good        NaN   NaN  NaN    X    X    NaN   \n",
       "\n",
       "    Fries Sour cream Pork Chicken Shrimp Fish Rice Beans Lettuce Tomato  \\\n",
       "193   NaN        NaN  NaN     NaN    NaN    X    X   NaN     NaN    NaN   \n",
       "240   NaN        NaN    X     NaN    NaN  NaN  NaN   NaN     NaN    NaN   \n",
       "\n",
       "    Bell peper Carrots Cabbage Sauce Salsa.1 Cilantro Onion Taquito Pineapple  \\\n",
       "193        NaN     NaN       X   NaN     NaN      NaN   NaN     NaN       NaN   \n",
       "240        NaN     NaN     NaN   NaN     NaN      NaN   NaN     NaN       NaN   \n",
       "\n",
       "     Ham Chile relleno Nopales Lobster  Queso  Egg Mushroom Bacon Sushi  \\\n",
       "193  NaN           NaN     NaN     NaN    NaN  NaN      NaN   NaN   NaN   \n",
       "240  NaN           NaN     NaN     NaN    NaN  NaN      NaN   NaN   NaN   \n",
       "\n",
       "    Avocado Corn Zucchini  \n",
       "193     NaN    x      NaN  \n",
       "240     NaN  NaN      NaN  "
      ]
     },
     "execution_count": 18,
     "metadata": {},
     "output_type": "execute_result"
    }
   ],
   "source": [
    "df_master[df_master.Address == '9500 Gilman Dr']"
   ]
  },
  {
   "cell_type": "code",
   "execution_count": 19,
   "id": "5b76aee3",
   "metadata": {
    "scrolled": true
   },
   "outputs": [
    {
     "data": {
      "text/plain": [
       "9500 Gilman Dr                 2\n",
       "642 S Coast Hwy 101            1\n",
       "4370 Genessee Ave              1\n",
       "4750 Oceanside Blvd            1\n",
       "3202 Mission Blvd              1\n",
       "Marshall College               1\n",
       "4277 Genesee Ave               1\n",
       "110 Washington St              1\n",
       "3095 Clairemont Dr             1\n",
       "1112 Morena Blvd               1\n",
       "621 Pearl St                   1\n",
       "524 Stevens Ave                1\n",
       "582 Santa Fe Dr                1\n",
       "377 Carlsbad Village Dr        1\n",
       "5060 Newport Ave               1\n",
       "4646 Convoy St                 1\n",
       "Airport                        1\n",
       "745 Emerald St                 1\n",
       "6780 Miramar Rd                1\n",
       "3695 India St                  1\n",
       "2206 Carmel Valley Road        1\n",
       "4471 Clairemont Mesa Blvd      1\n",
       "1313 Garnet Ave                1\n",
       "267 N El Camino Real           1\n",
       "2113 San Elijo Ave             1\n",
       "5059 Federal Blvd              1\n",
       "3055 Harding St                1\n",
       "1408 Olympic Blvd              1\n",
       "290 N Coast Hwy 101            1\n",
       "249 Emerald Dr                 1\n",
       "7122 Miramar Rd                1\n",
       "2183 Vista Way                 1\n",
       "1909 W San Marcos Blvd         1\n",
       "7754 Starling Dr               1\n",
       "1233 28th St                   1\n",
       "737 Pearl St                   1\n",
       "420 Robinson Ave               1\n",
       "476 S Coast Hwy 101            1\n",
       "11815 Sorrento Valley Rd       1\n",
       "3490 Marron Rd                 1\n",
       "29000 Old Town Front St        1\n",
       "5047 Central Ave               1\n",
       "3951 Governor Dr               1\n",
       "7094 Miramar Rd                1\n",
       "5800 Bellaire Blvd             1\n",
       "325 S Rancho Santa Fe Rd       1\n",
       "7621 Linda Vista Rd            1\n",
       "7305 Clairemont Mesa Blvd      1\n",
       "4645 Carmel Mountain Rd        1\n",
       "4937 Diane Ave                 1\n",
       "490 S Coast Hwy 101            1\n",
       "3016 University Ave            1\n",
       "1157 Sixth Ave                 1\n",
       "3480 Marron Rd                 1\n",
       "1766 N Coast Hwy               1\n",
       "820 Birmingham Dr              1\n",
       "409 Washington St              1\n",
       "815 C St                       1\n",
       "500 W San Marcos Blvd # 103    1\n",
       "2302 University Ave            1\n",
       "225 S Rancho Santa Fe Rd       1\n",
       "4657 Mission Blvd              1\n",
       "3292 Roosevelt St              1\n",
       "7345 La Jolla Blvd             1\n",
       "4642 Park Blvd                 1\n",
       "5201 Linda Vista Rd            1\n",
       "7770 Regents Rd                1\n",
       "3860 Valley Centre Dr #404     1\n",
       "3500 College Blvd              1\n",
       "2025 Guadalupe St              1\n",
       "916 N Coast Hwy 101            1\n",
       "2668 Del Mar Heights Rd        1\n",
       "6912 Miramar Rd                1\n",
       "6904 Miramar Rd                1\n",
       "5145 Clairemont Mesa Blvd      1\n",
       "5517 Mission Rd                1\n",
       "4705 Clairemont Dr             1\n",
       "165 S Rancho Santa Fe Rd       1\n",
       "3910 Vista Way                 1\n",
       "2505 Palomar airport Rd        1\n",
       "4101 Genesee Ave               1\n",
       "4461 Clairemont Mesa Blvd      1\n",
       "Name: Address, dtype: int64"
      ]
     },
     "execution_count": 19,
     "metadata": {},
     "output_type": "execute_result"
    }
   ],
   "source": [
    "df_master.Address.value_counts()"
   ]
  },
  {
   "cell_type": "markdown",
   "id": "898cd954",
   "metadata": {},
   "source": [
    "There is one row of neighborhood,address and URL columns for each restaurant. This can be acceptable because data size can be kept smaller by this way rather than replicated those values for each restaurant\n",
    "\n",
    "There is a problem with some locations that have no address and url page values. This can be acceptable if these restaurants accept orders by only phone. Let’s check"
   ]
  },
  {
   "cell_type": "markdown",
   "id": "f0e6627e",
   "metadata": {},
   "source": [
    "Taco stand restaurant is one example that doesn’t have specific neighborhood, address and url information. This information can be updated by using google. In addition, this restaurant has a date value of 2026-04-25. This is not possible. \n"
   ]
  },
  {
   "cell_type": "code",
   "execution_count": 20,
   "id": "2c32b934",
   "metadata": {},
   "outputs": [
    {
     "data": {
      "text/html": [
       "<div>\n",
       "<style scoped>\n",
       "    .dataframe tbody tr th:only-of-type {\n",
       "        vertical-align: middle;\n",
       "    }\n",
       "\n",
       "    .dataframe tbody tr th {\n",
       "        vertical-align: top;\n",
       "    }\n",
       "\n",
       "    .dataframe thead th {\n",
       "        text-align: right;\n",
       "    }\n",
       "</style>\n",
       "<table border=\"1\" class=\"dataframe\">\n",
       "  <thead>\n",
       "    <tr style=\"text-align: right;\">\n",
       "      <th></th>\n",
       "      <th>Location</th>\n",
       "      <th>Address</th>\n",
       "    </tr>\n",
       "  </thead>\n",
       "  <tbody>\n",
       "    <tr>\n",
       "      <th>0</th>\n",
       "      <td>Albertacos</td>\n",
       "      <td>1</td>\n",
       "    </tr>\n",
       "    <tr>\n",
       "      <th>1</th>\n",
       "      <td>Alberto's 623 N Escondido Blvd, Escondido, CA ...</td>\n",
       "      <td>0</td>\n",
       "    </tr>\n",
       "    <tr>\n",
       "      <th>2</th>\n",
       "      <td>Burrito Box</td>\n",
       "      <td>0</td>\n",
       "    </tr>\n",
       "    <tr>\n",
       "      <th>3</th>\n",
       "      <td>Burrito Factory</td>\n",
       "      <td>1</td>\n",
       "    </tr>\n",
       "    <tr>\n",
       "      <th>4</th>\n",
       "      <td>Burros and Fries</td>\n",
       "      <td>1</td>\n",
       "    </tr>\n",
       "    <tr>\n",
       "      <th>5</th>\n",
       "      <td>Caliente Mexican Food</td>\n",
       "      <td>1</td>\n",
       "    </tr>\n",
       "    <tr>\n",
       "      <th>6</th>\n",
       "      <td>California Burrito Company</td>\n",
       "      <td>1</td>\n",
       "    </tr>\n",
       "    <tr>\n",
       "      <th>7</th>\n",
       "      <td>California Burritos</td>\n",
       "      <td>1</td>\n",
       "    </tr>\n",
       "    <tr>\n",
       "      <th>8</th>\n",
       "      <td>California burritos</td>\n",
       "      <td>0</td>\n",
       "    </tr>\n",
       "    <tr>\n",
       "      <th>9</th>\n",
       "      <td>Cancun Mexican &amp; Seafood</td>\n",
       "      <td>1</td>\n",
       "    </tr>\n",
       "    <tr>\n",
       "      <th>10</th>\n",
       "      <td>Carmen's Mexican Food</td>\n",
       "      <td>1</td>\n",
       "    </tr>\n",
       "    <tr>\n",
       "      <th>11</th>\n",
       "      <td>Chili Peppers</td>\n",
       "      <td>0</td>\n",
       "    </tr>\n",
       "    <tr>\n",
       "      <th>12</th>\n",
       "      <td>Chipotle</td>\n",
       "      <td>1</td>\n",
       "    </tr>\n",
       "    <tr>\n",
       "      <th>13</th>\n",
       "      <td>Colima's</td>\n",
       "      <td>0</td>\n",
       "    </tr>\n",
       "    <tr>\n",
       "      <th>14</th>\n",
       "      <td>Colima's Mexican Food</td>\n",
       "      <td>1</td>\n",
       "    </tr>\n",
       "    <tr>\n",
       "      <th>15</th>\n",
       "      <td>Cortez Mexican Food</td>\n",
       "      <td>1</td>\n",
       "    </tr>\n",
       "    <tr>\n",
       "      <th>16</th>\n",
       "      <td>Cotixan</td>\n",
       "      <td>1</td>\n",
       "    </tr>\n",
       "    <tr>\n",
       "      <th>17</th>\n",
       "      <td>Don Carlos Taco Shop</td>\n",
       "      <td>1</td>\n",
       "    </tr>\n",
       "    <tr>\n",
       "      <th>18</th>\n",
       "      <td>Donato's Taco Shop</td>\n",
       "      <td>0</td>\n",
       "    </tr>\n",
       "    <tr>\n",
       "      <th>19</th>\n",
       "      <td>Donato's taco shop</td>\n",
       "      <td>1</td>\n",
       "    </tr>\n",
       "    <tr>\n",
       "      <th>20</th>\n",
       "      <td>El Cuervo</td>\n",
       "      <td>1</td>\n",
       "    </tr>\n",
       "    <tr>\n",
       "      <th>21</th>\n",
       "      <td>El Dorado Mexican Food</td>\n",
       "      <td>1</td>\n",
       "    </tr>\n",
       "    <tr>\n",
       "      <th>22</th>\n",
       "      <td>El Indio</td>\n",
       "      <td>1</td>\n",
       "    </tr>\n",
       "    <tr>\n",
       "      <th>23</th>\n",
       "      <td>El Nopalito</td>\n",
       "      <td>1</td>\n",
       "    </tr>\n",
       "    <tr>\n",
       "      <th>24</th>\n",
       "      <td>El Pollo Loco</td>\n",
       "      <td>1</td>\n",
       "    </tr>\n",
       "    <tr>\n",
       "      <th>25</th>\n",
       "      <td>El Portal Fresh Mexican Grill</td>\n",
       "      <td>1</td>\n",
       "    </tr>\n",
       "    <tr>\n",
       "      <th>26</th>\n",
       "      <td>El Pueblo Mexican Food</td>\n",
       "      <td>1</td>\n",
       "    </tr>\n",
       "    <tr>\n",
       "      <th>27</th>\n",
       "      <td>El Rey Moro</td>\n",
       "      <td>1</td>\n",
       "    </tr>\n",
       "    <tr>\n",
       "      <th>28</th>\n",
       "      <td>El Torrito Foods</td>\n",
       "      <td>1</td>\n",
       "    </tr>\n",
       "    <tr>\n",
       "      <th>29</th>\n",
       "      <td>El Zarape</td>\n",
       "      <td>1</td>\n",
       "    </tr>\n",
       "    <tr>\n",
       "      <th>30</th>\n",
       "      <td>Famoso Mexican Street Food</td>\n",
       "      <td>1</td>\n",
       "    </tr>\n",
       "    <tr>\n",
       "      <th>31</th>\n",
       "      <td>Filiberto's</td>\n",
       "      <td>1</td>\n",
       "    </tr>\n",
       "    <tr>\n",
       "      <th>32</th>\n",
       "      <td>Gloria's Taco Shop</td>\n",
       "      <td>1</td>\n",
       "    </tr>\n",
       "    <tr>\n",
       "      <th>33</th>\n",
       "      <td>Goody's</td>\n",
       "      <td>1</td>\n",
       "    </tr>\n",
       "    <tr>\n",
       "      <th>34</th>\n",
       "      <td>Graciela's Taco Shop</td>\n",
       "      <td>1</td>\n",
       "    </tr>\n",
       "    <tr>\n",
       "      <th>35</th>\n",
       "      <td>Humbertos</td>\n",
       "      <td>0</td>\n",
       "    </tr>\n",
       "    <tr>\n",
       "      <th>36</th>\n",
       "      <td>JV's Mexican Food</td>\n",
       "      <td>1</td>\n",
       "    </tr>\n",
       "    <tr>\n",
       "      <th>37</th>\n",
       "      <td>Jorge's Mexicatessen</td>\n",
       "      <td>1</td>\n",
       "    </tr>\n",
       "    <tr>\n",
       "      <th>38</th>\n",
       "      <td>Jose's Taco</td>\n",
       "      <td>1</td>\n",
       "    </tr>\n",
       "    <tr>\n",
       "      <th>39</th>\n",
       "      <td>Juanita's Taco Shop</td>\n",
       "      <td>1</td>\n",
       "    </tr>\n",
       "    <tr>\n",
       "      <th>40</th>\n",
       "      <td>Karina's Taco Shop</td>\n",
       "      <td>1</td>\n",
       "    </tr>\n",
       "    <tr>\n",
       "      <th>41</th>\n",
       "      <td>King Burrito</td>\n",
       "      <td>1</td>\n",
       "    </tr>\n",
       "    <tr>\n",
       "      <th>42</th>\n",
       "      <td>Kotija Jr</td>\n",
       "      <td>1</td>\n",
       "    </tr>\n",
       "    <tr>\n",
       "      <th>43</th>\n",
       "      <td>Kotija Jr.</td>\n",
       "      <td>0</td>\n",
       "    </tr>\n",
       "    <tr>\n",
       "      <th>44</th>\n",
       "      <td>La Morena Taco Shop and Seafood</td>\n",
       "      <td>1</td>\n",
       "    </tr>\n",
       "    <tr>\n",
       "      <th>45</th>\n",
       "      <td>La Perla Cocina</td>\n",
       "      <td>1</td>\n",
       "    </tr>\n",
       "    <tr>\n",
       "      <th>46</th>\n",
       "      <td>Lola's 7 Up Market &amp; Deli</td>\n",
       "      <td>1</td>\n",
       "    </tr>\n",
       "    <tr>\n",
       "      <th>47</th>\n",
       "      <td>Lolita's</td>\n",
       "      <td>0</td>\n",
       "    </tr>\n",
       "    <tr>\n",
       "      <th>48</th>\n",
       "      <td>Lolita's Taco Shop</td>\n",
       "      <td>0</td>\n",
       "    </tr>\n",
       "    <tr>\n",
       "      <th>49</th>\n",
       "      <td>Lolita's Taco shop</td>\n",
       "      <td>0</td>\n",
       "    </tr>\n",
       "    <tr>\n",
       "      <th>50</th>\n",
       "      <td>Lolita's taco shop</td>\n",
       "      <td>1</td>\n",
       "    </tr>\n",
       "    <tr>\n",
       "      <th>51</th>\n",
       "      <td>Los Cabos</td>\n",
       "      <td>1</td>\n",
       "    </tr>\n",
       "    <tr>\n",
       "      <th>52</th>\n",
       "      <td>Los Panchos Taco Shop</td>\n",
       "      <td>1</td>\n",
       "    </tr>\n",
       "    <tr>\n",
       "      <th>53</th>\n",
       "      <td>Los Primos Mexican Food</td>\n",
       "      <td>1</td>\n",
       "    </tr>\n",
       "    <tr>\n",
       "      <th>54</th>\n",
       "      <td>Los Tacos</td>\n",
       "      <td>0</td>\n",
       "    </tr>\n",
       "    <tr>\n",
       "      <th>55</th>\n",
       "      <td>Los Tacos 2</td>\n",
       "      <td>1</td>\n",
       "    </tr>\n",
       "    <tr>\n",
       "      <th>56</th>\n",
       "      <td>Los palmitos</td>\n",
       "      <td>1</td>\n",
       "    </tr>\n",
       "    <tr>\n",
       "      <th>57</th>\n",
       "      <td>Los tacos</td>\n",
       "      <td>1</td>\n",
       "    </tr>\n",
       "    <tr>\n",
       "      <th>58</th>\n",
       "      <td>Lourdes</td>\n",
       "      <td>1</td>\n",
       "    </tr>\n",
       "    <tr>\n",
       "      <th>59</th>\n",
       "      <td>Lucha Libre North Park</td>\n",
       "      <td>1</td>\n",
       "    </tr>\n",
       "    <tr>\n",
       "      <th>60</th>\n",
       "      <td>Lupe's Taco Shop</td>\n",
       "      <td>1</td>\n",
       "    </tr>\n",
       "    <tr>\n",
       "      <th>61</th>\n",
       "      <td>MXN on Washington</td>\n",
       "      <td>0</td>\n",
       "    </tr>\n",
       "    <tr>\n",
       "      <th>62</th>\n",
       "      <td>Matador Mexican Food</td>\n",
       "      <td>1</td>\n",
       "    </tr>\n",
       "    <tr>\n",
       "      <th>63</th>\n",
       "      <td>Mi Asador Mexican &amp; Seafood</td>\n",
       "      <td>1</td>\n",
       "    </tr>\n",
       "    <tr>\n",
       "      <th>64</th>\n",
       "      <td>Mikes Taco Club</td>\n",
       "      <td>1</td>\n",
       "    </tr>\n",
       "    <tr>\n",
       "      <th>65</th>\n",
       "      <td>Mister Falafel</td>\n",
       "      <td>1</td>\n",
       "    </tr>\n",
       "    <tr>\n",
       "      <th>66</th>\n",
       "      <td>Mr. Ruribertos Taco Shop</td>\n",
       "      <td>1</td>\n",
       "    </tr>\n",
       "    <tr>\n",
       "      <th>67</th>\n",
       "      <td>Netos Mexican Food</td>\n",
       "      <td>1</td>\n",
       "    </tr>\n",
       "    <tr>\n",
       "      <th>68</th>\n",
       "      <td>Nico's Taco Shop</td>\n",
       "      <td>1</td>\n",
       "    </tr>\n",
       "    <tr>\n",
       "      <th>69</th>\n",
       "      <td>Ortiz's Taco Shop #2</td>\n",
       "      <td>1</td>\n",
       "    </tr>\n",
       "    <tr>\n",
       "      <th>70</th>\n",
       "      <td>Oscar's Mexican food</td>\n",
       "      <td>1</td>\n",
       "    </tr>\n",
       "    <tr>\n",
       "      <th>71</th>\n",
       "      <td>Papa Chito's Mexican Food</td>\n",
       "      <td>1</td>\n",
       "    </tr>\n",
       "    <tr>\n",
       "      <th>72</th>\n",
       "      <td>Pedro's Tacos</td>\n",
       "      <td>0</td>\n",
       "    </tr>\n",
       "    <tr>\n",
       "      <th>73</th>\n",
       "      <td>Pokirrito</td>\n",
       "      <td>1</td>\n",
       "    </tr>\n",
       "    <tr>\n",
       "      <th>74</th>\n",
       "      <td>Pollos Maria</td>\n",
       "      <td>1</td>\n",
       "    </tr>\n",
       "    <tr>\n",
       "      <th>75</th>\n",
       "      <td>Porkyland</td>\n",
       "      <td>1</td>\n",
       "    </tr>\n",
       "    <tr>\n",
       "      <th>76</th>\n",
       "      <td>Qdoba Mexican Grill, Seatac Airport</td>\n",
       "      <td>1</td>\n",
       "    </tr>\n",
       "    <tr>\n",
       "      <th>77</th>\n",
       "      <td>Raul's Mexican food</td>\n",
       "      <td>1</td>\n",
       "    </tr>\n",
       "    <tr>\n",
       "      <th>78</th>\n",
       "      <td>Rigoberto's Taco Shop</td>\n",
       "      <td>1</td>\n",
       "    </tr>\n",
       "    <tr>\n",
       "      <th>79</th>\n",
       "      <td>Rigoberto's Taco Shop La Jolla</td>\n",
       "      <td>1</td>\n",
       "    </tr>\n",
       "    <tr>\n",
       "      <th>80</th>\n",
       "      <td>Roberto's Taco Shop Clairemont</td>\n",
       "      <td>1</td>\n",
       "    </tr>\n",
       "    <tr>\n",
       "      <th>81</th>\n",
       "      <td>Roberto's Taco Shop Hillcrest</td>\n",
       "      <td>1</td>\n",
       "    </tr>\n",
       "    <tr>\n",
       "      <th>82</th>\n",
       "      <td>Roberto's Very Mexican Food</td>\n",
       "      <td>1</td>\n",
       "    </tr>\n",
       "    <tr>\n",
       "      <th>83</th>\n",
       "      <td>Rubios UCSD</td>\n",
       "      <td>1</td>\n",
       "    </tr>\n",
       "    <tr>\n",
       "      <th>84</th>\n",
       "      <td>Rudy's Taco Shop</td>\n",
       "      <td>1</td>\n",
       "    </tr>\n",
       "    <tr>\n",
       "      <th>85</th>\n",
       "      <td>Saguaro's</td>\n",
       "      <td>0</td>\n",
       "    </tr>\n",
       "    <tr>\n",
       "      <th>86</th>\n",
       "      <td>Senor Grubby's</td>\n",
       "      <td>1</td>\n",
       "    </tr>\n",
       "    <tr>\n",
       "      <th>87</th>\n",
       "      <td>Senor Panchos</td>\n",
       "      <td>1</td>\n",
       "    </tr>\n",
       "    <tr>\n",
       "      <th>88</th>\n",
       "      <td>Sotos Mexican Food</td>\n",
       "      <td>1</td>\n",
       "    </tr>\n",
       "    <tr>\n",
       "      <th>89</th>\n",
       "      <td>Storehouse Kitchen</td>\n",
       "      <td>0</td>\n",
       "    </tr>\n",
       "    <tr>\n",
       "      <th>90</th>\n",
       "      <td>Taco Stand</td>\n",
       "      <td>1</td>\n",
       "    </tr>\n",
       "    <tr>\n",
       "      <th>91</th>\n",
       "      <td>Taco Stand Encinitas</td>\n",
       "      <td>1</td>\n",
       "    </tr>\n",
       "    <tr>\n",
       "      <th>92</th>\n",
       "      <td>Taco Stand Encinitas</td>\n",
       "      <td>0</td>\n",
       "    </tr>\n",
       "    <tr>\n",
       "      <th>93</th>\n",
       "      <td>Taco Surf PB</td>\n",
       "      <td>1</td>\n",
       "    </tr>\n",
       "    <tr>\n",
       "      <th>94</th>\n",
       "      <td>Taco VIlla</td>\n",
       "      <td>0</td>\n",
       "    </tr>\n",
       "    <tr>\n",
       "      <th>95</th>\n",
       "      <td>Taco Villa</td>\n",
       "      <td>1</td>\n",
       "    </tr>\n",
       "    <tr>\n",
       "      <th>96</th>\n",
       "      <td>Taco stand</td>\n",
       "      <td>0</td>\n",
       "    </tr>\n",
       "    <tr>\n",
       "      <th>97</th>\n",
       "      <td>Tacos La Bala</td>\n",
       "      <td>1</td>\n",
       "    </tr>\n",
       "    <tr>\n",
       "      <th>98</th>\n",
       "      <td>Tacos por favor</td>\n",
       "      <td>1</td>\n",
       "    </tr>\n",
       "    <tr>\n",
       "      <th>99</th>\n",
       "      <td>Tony's Fresh Mexican Food</td>\n",
       "      <td>1</td>\n",
       "    </tr>\n",
       "    <tr>\n",
       "      <th>100</th>\n",
       "      <td>Valentines Mexican Food</td>\n",
       "      <td>1</td>\n",
       "    </tr>\n",
       "    <tr>\n",
       "      <th>101</th>\n",
       "      <td>Vallarta Express</td>\n",
       "      <td>0</td>\n",
       "    </tr>\n",
       "    <tr>\n",
       "      <th>102</th>\n",
       "      <td>Vallarta express</td>\n",
       "      <td>1</td>\n",
       "    </tr>\n",
       "  </tbody>\n",
       "</table>\n",
       "</div>"
      ],
      "text/plain": [
       "                                              Location  Address\n",
       "0                                           Albertacos        1\n",
       "1    Alberto's 623 N Escondido Blvd, Escondido, CA ...        0\n",
       "2                                          Burrito Box        0\n",
       "3                                      Burrito Factory        1\n",
       "4                                     Burros and Fries        1\n",
       "5                                Caliente Mexican Food        1\n",
       "6                           California Burrito Company        1\n",
       "7                                  California Burritos        1\n",
       "8                                  California burritos        0\n",
       "9                             Cancun Mexican & Seafood        1\n",
       "10                               Carmen's Mexican Food        1\n",
       "11                                       Chili Peppers        0\n",
       "12                                            Chipotle        1\n",
       "13                                           Colima's         0\n",
       "14                               Colima's Mexican Food        1\n",
       "15                                 Cortez Mexican Food        1\n",
       "16                                             Cotixan        1\n",
       "17                                Don Carlos Taco Shop        1\n",
       "18                                  Donato's Taco Shop        0\n",
       "19                                  Donato's taco shop        1\n",
       "20                                           El Cuervo        1\n",
       "21                              El Dorado Mexican Food        1\n",
       "22                                            El Indio        1\n",
       "23                                        El Nopalito         1\n",
       "24                                       El Pollo Loco        1\n",
       "25                       El Portal Fresh Mexican Grill        1\n",
       "26                              El Pueblo Mexican Food        1\n",
       "27                                         El Rey Moro        1\n",
       "28                                    El Torrito Foods        1\n",
       "29                                           El Zarape        1\n",
       "30                          Famoso Mexican Street Food        1\n",
       "31                                         Filiberto's        1\n",
       "32                                  Gloria's Taco Shop        1\n",
       "33                                             Goody's        1\n",
       "34                                Graciela's Taco Shop        1\n",
       "35                                           Humbertos        0\n",
       "36                                   JV's Mexican Food        1\n",
       "37                                Jorge's Mexicatessen        1\n",
       "38                                         Jose's Taco        1\n",
       "39                                 Juanita's Taco Shop        1\n",
       "40                                 Karina's Taco Shop         1\n",
       "41                                        King Burrito        1\n",
       "42                                           Kotija Jr        1\n",
       "43                                          Kotija Jr.        0\n",
       "44                     La Morena Taco Shop and Seafood        1\n",
       "45                                     La Perla Cocina        1\n",
       "46                           Lola's 7 Up Market & Deli        1\n",
       "47                                            Lolita's        0\n",
       "48                                  Lolita's Taco Shop        0\n",
       "49                                  Lolita's Taco shop        0\n",
       "50                                  Lolita's taco shop        1\n",
       "51                                           Los Cabos        1\n",
       "52                               Los Panchos Taco Shop        1\n",
       "53                             Los Primos Mexican Food        1\n",
       "54                                           Los Tacos        0\n",
       "55                                         Los Tacos 2        1\n",
       "56                                        Los palmitos        1\n",
       "57                                          Los tacos         1\n",
       "58                                             Lourdes        1\n",
       "59                              Lucha Libre North Park        1\n",
       "60                                    Lupe's Taco Shop        1\n",
       "61                                   MXN on Washington        0\n",
       "62                                Matador Mexican Food        1\n",
       "63                        Mi Asador Mexican & Seafood         1\n",
       "64                                     Mikes Taco Club        1\n",
       "65                                      Mister Falafel        1\n",
       "66                           Mr. Ruribertos Taco Shop         1\n",
       "67                                  Netos Mexican Food        1\n",
       "68                                    Nico's Taco Shop        1\n",
       "69                                Ortiz's Taco Shop #2        1\n",
       "70                                Oscar's Mexican food        1\n",
       "71                           Papa Chito's Mexican Food        1\n",
       "72                                       Pedro's Tacos        0\n",
       "73                                           Pokirrito        1\n",
       "74                                        Pollos Maria        1\n",
       "75                                          Porkyland         1\n",
       "76                 Qdoba Mexican Grill, Seatac Airport        1\n",
       "77                                 Raul's Mexican food        1\n",
       "78                               Rigoberto's Taco Shop        1\n",
       "79                      Rigoberto's Taco Shop La Jolla        1\n",
       "80                      Roberto's Taco Shop Clairemont        1\n",
       "81                       Roberto's Taco Shop Hillcrest        1\n",
       "82                         Roberto's Very Mexican Food        1\n",
       "83                                         Rubios UCSD        1\n",
       "84                                    Rudy's Taco Shop        1\n",
       "85                                          Saguaro's         0\n",
       "86                                      Senor Grubby's        1\n",
       "87                                       Senor Panchos        1\n",
       "88                                  Sotos Mexican Food        1\n",
       "89                                 Storehouse Kitchen         0\n",
       "90                                          Taco Stand        1\n",
       "91                                Taco Stand Encinitas        1\n",
       "92                               Taco Stand Encinitas         0\n",
       "93                                        Taco Surf PB        1\n",
       "94                                          Taco VIlla        0\n",
       "95                                          Taco Villa        1\n",
       "96                                          Taco stand        0\n",
       "97                                       Tacos La Bala        1\n",
       "98                                     Tacos por favor        1\n",
       "99                           Tony's Fresh Mexican Food        1\n",
       "100                            Valentines Mexican Food        1\n",
       "101                                   Vallarta Express        0\n",
       "102                                   Vallarta express        1"
      ]
     },
     "execution_count": 20,
     "metadata": {},
     "output_type": "execute_result"
    }
   ],
   "source": [
    "df_master.groupby('Location')['Address'].nunique().reset_index()"
   ]
  },
  {
   "cell_type": "code",
   "execution_count": 21,
   "id": "bcbe62b2",
   "metadata": {},
   "outputs": [
    {
     "data": {
      "text/html": [
       "<div>\n",
       "<style scoped>\n",
       "    .dataframe tbody tr th:only-of-type {\n",
       "        vertical-align: middle;\n",
       "    }\n",
       "\n",
       "    .dataframe tbody tr th {\n",
       "        vertical-align: top;\n",
       "    }\n",
       "\n",
       "    .dataframe thead th {\n",
       "        text-align: right;\n",
       "    }\n",
       "</style>\n",
       "<table border=\"1\" class=\"dataframe\">\n",
       "  <thead>\n",
       "    <tr style=\"text-align: right;\">\n",
       "      <th></th>\n",
       "      <th>Location</th>\n",
       "      <th>Burrito</th>\n",
       "      <th>Date</th>\n",
       "      <th>Neighborhood</th>\n",
       "      <th>Address</th>\n",
       "      <th>URL</th>\n",
       "      <th>Yelp</th>\n",
       "      <th>Google</th>\n",
       "      <th>Chips</th>\n",
       "      <th>Cost</th>\n",
       "      <th>Hunger</th>\n",
       "      <th>Mass (g)</th>\n",
       "      <th>Density (g/mL)</th>\n",
       "      <th>Length</th>\n",
       "      <th>Circum</th>\n",
       "      <th>Volume</th>\n",
       "      <th>Tortilla</th>\n",
       "      <th>Temp</th>\n",
       "      <th>Meat</th>\n",
       "      <th>Fillings</th>\n",
       "      <th>Meat:filling</th>\n",
       "      <th>Uniformity</th>\n",
       "      <th>Salsa</th>\n",
       "      <th>Synergy</th>\n",
       "      <th>Wrap</th>\n",
       "      <th>overall</th>\n",
       "      <th>Rec</th>\n",
       "      <th>Reviewer</th>\n",
       "      <th>Notes</th>\n",
       "      <th>Unreliable</th>\n",
       "      <th>NonSD</th>\n",
       "      <th>Beef</th>\n",
       "      <th>Pico</th>\n",
       "      <th>Guac</th>\n",
       "      <th>Cheese</th>\n",
       "      <th>Fries</th>\n",
       "      <th>Sour cream</th>\n",
       "      <th>Pork</th>\n",
       "      <th>Chicken</th>\n",
       "      <th>Shrimp</th>\n",
       "      <th>Fish</th>\n",
       "      <th>Rice</th>\n",
       "      <th>Beans</th>\n",
       "      <th>Lettuce</th>\n",
       "      <th>Tomato</th>\n",
       "      <th>Bell peper</th>\n",
       "      <th>Carrots</th>\n",
       "      <th>Cabbage</th>\n",
       "      <th>Sauce</th>\n",
       "      <th>Salsa.1</th>\n",
       "      <th>Cilantro</th>\n",
       "      <th>Onion</th>\n",
       "      <th>Taquito</th>\n",
       "      <th>Pineapple</th>\n",
       "      <th>Ham</th>\n",
       "      <th>Chile relleno</th>\n",
       "      <th>Nopales</th>\n",
       "      <th>Lobster</th>\n",
       "      <th>Queso</th>\n",
       "      <th>Egg</th>\n",
       "      <th>Mushroom</th>\n",
       "      <th>Bacon</th>\n",
       "      <th>Sushi</th>\n",
       "      <th>Avocado</th>\n",
       "      <th>Corn</th>\n",
       "      <th>Zucchini</th>\n",
       "    </tr>\n",
       "  </thead>\n",
       "  <tbody>\n",
       "    <tr>\n",
       "      <th>39</th>\n",
       "      <td>Taco stand</td>\n",
       "      <td>Carne asada</td>\n",
       "      <td>2016-03-18</td>\n",
       "      <td>NaN</td>\n",
       "      <td>NaN</td>\n",
       "      <td>NaN</td>\n",
       "      <td>NaN</td>\n",
       "      <td>NaN</td>\n",
       "      <td>NaN</td>\n",
       "      <td>7.89</td>\n",
       "      <td>1.0</td>\n",
       "      <td>NaN</td>\n",
       "      <td>NaN</td>\n",
       "      <td>NaN</td>\n",
       "      <td>NaN</td>\n",
       "      <td>NaN</td>\n",
       "      <td>3.0</td>\n",
       "      <td>3.5</td>\n",
       "      <td>4.5</td>\n",
       "      <td>4.0</td>\n",
       "      <td>5.0</td>\n",
       "      <td>5.0</td>\n",
       "      <td>4.5</td>\n",
       "      <td>3.5</td>\n",
       "      <td>5.0</td>\n",
       "      <td>4.2</td>\n",
       "      <td>NaN</td>\n",
       "      <td>Scott</td>\n",
       "      <td>NaN</td>\n",
       "      <td>NaN</td>\n",
       "      <td>NaN</td>\n",
       "      <td>x</td>\n",
       "      <td>x</td>\n",
       "      <td>x</td>\n",
       "      <td>NaN</td>\n",
       "      <td>NaN</td>\n",
       "      <td>NaN</td>\n",
       "      <td>NaN</td>\n",
       "      <td>NaN</td>\n",
       "      <td>NaN</td>\n",
       "      <td>NaN</td>\n",
       "      <td>NaN</td>\n",
       "      <td>NaN</td>\n",
       "      <td>NaN</td>\n",
       "      <td>NaN</td>\n",
       "      <td>NaN</td>\n",
       "      <td>NaN</td>\n",
       "      <td>NaN</td>\n",
       "      <td>NaN</td>\n",
       "      <td>NaN</td>\n",
       "      <td>NaN</td>\n",
       "      <td>NaN</td>\n",
       "      <td>NaN</td>\n",
       "      <td>NaN</td>\n",
       "      <td>NaN</td>\n",
       "      <td>NaN</td>\n",
       "      <td>NaN</td>\n",
       "      <td>NaN</td>\n",
       "      <td>NaN</td>\n",
       "      <td>NaN</td>\n",
       "      <td>NaN</td>\n",
       "      <td>NaN</td>\n",
       "      <td>NaN</td>\n",
       "      <td>NaN</td>\n",
       "      <td>NaN</td>\n",
       "      <td>NaN</td>\n",
       "    </tr>\n",
       "    <tr>\n",
       "      <th>40</th>\n",
       "      <td>Taco stand</td>\n",
       "      <td>Al pastor</td>\n",
       "      <td>2016-03-18</td>\n",
       "      <td>NaN</td>\n",
       "      <td>NaN</td>\n",
       "      <td>NaN</td>\n",
       "      <td>NaN</td>\n",
       "      <td>NaN</td>\n",
       "      <td>NaN</td>\n",
       "      <td>6.99</td>\n",
       "      <td>4.0</td>\n",
       "      <td>NaN</td>\n",
       "      <td>NaN</td>\n",
       "      <td>NaN</td>\n",
       "      <td>NaN</td>\n",
       "      <td>NaN</td>\n",
       "      <td>4.0</td>\n",
       "      <td>3.0</td>\n",
       "      <td>3.5</td>\n",
       "      <td>3.0</td>\n",
       "      <td>4.0</td>\n",
       "      <td>5.0</td>\n",
       "      <td>3.0</td>\n",
       "      <td>3.5</td>\n",
       "      <td>5.0</td>\n",
       "      <td>3.5</td>\n",
       "      <td>NaN</td>\n",
       "      <td>Emily</td>\n",
       "      <td>Kind of dry</td>\n",
       "      <td>NaN</td>\n",
       "      <td>NaN</td>\n",
       "      <td>NaN</td>\n",
       "      <td>NaN</td>\n",
       "      <td>NaN</td>\n",
       "      <td>NaN</td>\n",
       "      <td>NaN</td>\n",
       "      <td>NaN</td>\n",
       "      <td>x</td>\n",
       "      <td>NaN</td>\n",
       "      <td>NaN</td>\n",
       "      <td>NaN</td>\n",
       "      <td>NaN</td>\n",
       "      <td>NaN</td>\n",
       "      <td>NaN</td>\n",
       "      <td>NaN</td>\n",
       "      <td>NaN</td>\n",
       "      <td>NaN</td>\n",
       "      <td>NaN</td>\n",
       "      <td>NaN</td>\n",
       "      <td>NaN</td>\n",
       "      <td>x</td>\n",
       "      <td>x</td>\n",
       "      <td>NaN</td>\n",
       "      <td>x</td>\n",
       "      <td>NaN</td>\n",
       "      <td>NaN</td>\n",
       "      <td>NaN</td>\n",
       "      <td>NaN</td>\n",
       "      <td>NaN</td>\n",
       "      <td>NaN</td>\n",
       "      <td>NaN</td>\n",
       "      <td>NaN</td>\n",
       "      <td>NaN</td>\n",
       "      <td>NaN</td>\n",
       "      <td>NaN</td>\n",
       "      <td>NaN</td>\n",
       "    </tr>\n",
       "    <tr>\n",
       "      <th>64</th>\n",
       "      <td>Taco stand</td>\n",
       "      <td>Carne asada</td>\n",
       "      <td>2016-04-14</td>\n",
       "      <td>NaN</td>\n",
       "      <td>NaN</td>\n",
       "      <td>NaN</td>\n",
       "      <td>NaN</td>\n",
       "      <td>NaN</td>\n",
       "      <td>NaN</td>\n",
       "      <td>7.89</td>\n",
       "      <td>3.5</td>\n",
       "      <td>NaN</td>\n",
       "      <td>NaN</td>\n",
       "      <td>NaN</td>\n",
       "      <td>NaN</td>\n",
       "      <td>NaN</td>\n",
       "      <td>3.0</td>\n",
       "      <td>2.0</td>\n",
       "      <td>4.5</td>\n",
       "      <td>4.0</td>\n",
       "      <td>4.0</td>\n",
       "      <td>1.5</td>\n",
       "      <td>4.5</td>\n",
       "      <td>4.5</td>\n",
       "      <td>4.5</td>\n",
       "      <td>4.4</td>\n",
       "      <td>Yes</td>\n",
       "      <td>Scott</td>\n",
       "      <td>Too small</td>\n",
       "      <td>NaN</td>\n",
       "      <td>NaN</td>\n",
       "      <td>X</td>\n",
       "      <td>X</td>\n",
       "      <td>X</td>\n",
       "      <td>NaN</td>\n",
       "      <td>NaN</td>\n",
       "      <td>NaN</td>\n",
       "      <td>NaN</td>\n",
       "      <td>NaN</td>\n",
       "      <td>NaN</td>\n",
       "      <td>NaN</td>\n",
       "      <td>NaN</td>\n",
       "      <td>NaN</td>\n",
       "      <td>NaN</td>\n",
       "      <td>NaN</td>\n",
       "      <td>NaN</td>\n",
       "      <td>NaN</td>\n",
       "      <td>NaN</td>\n",
       "      <td>NaN</td>\n",
       "      <td>NaN</td>\n",
       "      <td>NaN</td>\n",
       "      <td>NaN</td>\n",
       "      <td>NaN</td>\n",
       "      <td>NaN</td>\n",
       "      <td>NaN</td>\n",
       "      <td>NaN</td>\n",
       "      <td>NaN</td>\n",
       "      <td>NaN</td>\n",
       "      <td>NaN</td>\n",
       "      <td>NaN</td>\n",
       "      <td>NaN</td>\n",
       "      <td>NaN</td>\n",
       "      <td>NaN</td>\n",
       "      <td>NaN</td>\n",
       "      <td>NaN</td>\n",
       "      <td>NaN</td>\n",
       "    </tr>\n",
       "    <tr>\n",
       "      <th>65</th>\n",
       "      <td>Taco stand</td>\n",
       "      <td>Carne asada</td>\n",
       "      <td>2016-04-14</td>\n",
       "      <td>NaN</td>\n",
       "      <td>NaN</td>\n",
       "      <td>NaN</td>\n",
       "      <td>NaN</td>\n",
       "      <td>NaN</td>\n",
       "      <td>NaN</td>\n",
       "      <td>7.89</td>\n",
       "      <td>2.0</td>\n",
       "      <td>NaN</td>\n",
       "      <td>NaN</td>\n",
       "      <td>NaN</td>\n",
       "      <td>NaN</td>\n",
       "      <td>NaN</td>\n",
       "      <td>3.0</td>\n",
       "      <td>2.5</td>\n",
       "      <td>4.5</td>\n",
       "      <td>3.5</td>\n",
       "      <td>4.5</td>\n",
       "      <td>3.0</td>\n",
       "      <td>4.0</td>\n",
       "      <td>3.5</td>\n",
       "      <td>5.0</td>\n",
       "      <td>3.5</td>\n",
       "      <td>Yes</td>\n",
       "      <td>Richard</td>\n",
       "      <td>A little small. No rice and beans or cheese or...</td>\n",
       "      <td>NaN</td>\n",
       "      <td>NaN</td>\n",
       "      <td>x</td>\n",
       "      <td>x</td>\n",
       "      <td>x</td>\n",
       "      <td>NaN</td>\n",
       "      <td>NaN</td>\n",
       "      <td>NaN</td>\n",
       "      <td>NaN</td>\n",
       "      <td>NaN</td>\n",
       "      <td>NaN</td>\n",
       "      <td>NaN</td>\n",
       "      <td>NaN</td>\n",
       "      <td>NaN</td>\n",
       "      <td>NaN</td>\n",
       "      <td>NaN</td>\n",
       "      <td>NaN</td>\n",
       "      <td>NaN</td>\n",
       "      <td>NaN</td>\n",
       "      <td>NaN</td>\n",
       "      <td>NaN</td>\n",
       "      <td>NaN</td>\n",
       "      <td>NaN</td>\n",
       "      <td>NaN</td>\n",
       "      <td>NaN</td>\n",
       "      <td>NaN</td>\n",
       "      <td>NaN</td>\n",
       "      <td>NaN</td>\n",
       "      <td>NaN</td>\n",
       "      <td>NaN</td>\n",
       "      <td>NaN</td>\n",
       "      <td>NaN</td>\n",
       "      <td>NaN</td>\n",
       "      <td>NaN</td>\n",
       "      <td>NaN</td>\n",
       "      <td>NaN</td>\n",
       "      <td>NaN</td>\n",
       "    </tr>\n",
       "    <tr>\n",
       "      <th>77</th>\n",
       "      <td>Taco stand</td>\n",
       "      <td>California</td>\n",
       "      <td>2026-04-25</td>\n",
       "      <td>NaN</td>\n",
       "      <td>NaN</td>\n",
       "      <td>NaN</td>\n",
       "      <td>NaN</td>\n",
       "      <td>NaN</td>\n",
       "      <td>NaN</td>\n",
       "      <td>8.00</td>\n",
       "      <td>4.0</td>\n",
       "      <td>NaN</td>\n",
       "      <td>NaN</td>\n",
       "      <td>21.59</td>\n",
       "      <td>NaN</td>\n",
       "      <td>NaN</td>\n",
       "      <td>4.5</td>\n",
       "      <td>5.0</td>\n",
       "      <td>5.0</td>\n",
       "      <td>5.0</td>\n",
       "      <td>4.5</td>\n",
       "      <td>5.0</td>\n",
       "      <td>3.0</td>\n",
       "      <td>5.0</td>\n",
       "      <td>5.0</td>\n",
       "      <td>4.9</td>\n",
       "      <td>Yes</td>\n",
       "      <td>Sage</td>\n",
       "      <td>A wonderful eating experience. best California...</td>\n",
       "      <td>NaN</td>\n",
       "      <td>NaN</td>\n",
       "      <td>x</td>\n",
       "      <td>x</td>\n",
       "      <td>x</td>\n",
       "      <td>x</td>\n",
       "      <td>x</td>\n",
       "      <td>NaN</td>\n",
       "      <td>NaN</td>\n",
       "      <td>NaN</td>\n",
       "      <td>NaN</td>\n",
       "      <td>NaN</td>\n",
       "      <td>NaN</td>\n",
       "      <td>NaN</td>\n",
       "      <td>NaN</td>\n",
       "      <td>NaN</td>\n",
       "      <td>NaN</td>\n",
       "      <td>NaN</td>\n",
       "      <td>NaN</td>\n",
       "      <td>NaN</td>\n",
       "      <td>NaN</td>\n",
       "      <td>NaN</td>\n",
       "      <td>NaN</td>\n",
       "      <td>NaN</td>\n",
       "      <td>NaN</td>\n",
       "      <td>NaN</td>\n",
       "      <td>NaN</td>\n",
       "      <td>NaN</td>\n",
       "      <td>NaN</td>\n",
       "      <td>NaN</td>\n",
       "      <td>NaN</td>\n",
       "      <td>NaN</td>\n",
       "      <td>NaN</td>\n",
       "      <td>NaN</td>\n",
       "      <td>NaN</td>\n",
       "      <td>NaN</td>\n",
       "      <td>NaN</td>\n",
       "    </tr>\n",
       "    <tr>\n",
       "      <th>82</th>\n",
       "      <td>Taco stand</td>\n",
       "      <td>California</td>\n",
       "      <td>2016-05-06</td>\n",
       "      <td>NaN</td>\n",
       "      <td>NaN</td>\n",
       "      <td>NaN</td>\n",
       "      <td>NaN</td>\n",
       "      <td>NaN</td>\n",
       "      <td>NaN</td>\n",
       "      <td>7.49</td>\n",
       "      <td>3.5</td>\n",
       "      <td>NaN</td>\n",
       "      <td>NaN</td>\n",
       "      <td>19.00</td>\n",
       "      <td>22.0</td>\n",
       "      <td>0.73</td>\n",
       "      <td>3.5</td>\n",
       "      <td>4.0</td>\n",
       "      <td>4.0</td>\n",
       "      <td>4.0</td>\n",
       "      <td>3.5</td>\n",
       "      <td>3.0</td>\n",
       "      <td>4.0</td>\n",
       "      <td>4.5</td>\n",
       "      <td>3.0</td>\n",
       "      <td>4.2</td>\n",
       "      <td>Yes</td>\n",
       "      <td>Scott</td>\n",
       "      <td>Less meat than usual</td>\n",
       "      <td>NaN</td>\n",
       "      <td>NaN</td>\n",
       "      <td>x</td>\n",
       "      <td>x</td>\n",
       "      <td>x</td>\n",
       "      <td>x</td>\n",
       "      <td>x</td>\n",
       "      <td>x</td>\n",
       "      <td>NaN</td>\n",
       "      <td>NaN</td>\n",
       "      <td>NaN</td>\n",
       "      <td>NaN</td>\n",
       "      <td>NaN</td>\n",
       "      <td>NaN</td>\n",
       "      <td>NaN</td>\n",
       "      <td>NaN</td>\n",
       "      <td>NaN</td>\n",
       "      <td>NaN</td>\n",
       "      <td>NaN</td>\n",
       "      <td>NaN</td>\n",
       "      <td>NaN</td>\n",
       "      <td>NaN</td>\n",
       "      <td>NaN</td>\n",
       "      <td>NaN</td>\n",
       "      <td>NaN</td>\n",
       "      <td>NaN</td>\n",
       "      <td>NaN</td>\n",
       "      <td>NaN</td>\n",
       "      <td>NaN</td>\n",
       "      <td>NaN</td>\n",
       "      <td>NaN</td>\n",
       "      <td>NaN</td>\n",
       "      <td>NaN</td>\n",
       "      <td>NaN</td>\n",
       "      <td>NaN</td>\n",
       "      <td>NaN</td>\n",
       "      <td>NaN</td>\n",
       "    </tr>\n",
       "    <tr>\n",
       "      <th>83</th>\n",
       "      <td>Taco stand</td>\n",
       "      <td>California</td>\n",
       "      <td>2016-05-06</td>\n",
       "      <td>NaN</td>\n",
       "      <td>NaN</td>\n",
       "      <td>NaN</td>\n",
       "      <td>NaN</td>\n",
       "      <td>NaN</td>\n",
       "      <td>NaN</td>\n",
       "      <td>7.49</td>\n",
       "      <td>4.0</td>\n",
       "      <td>NaN</td>\n",
       "      <td>NaN</td>\n",
       "      <td>16.50</td>\n",
       "      <td>25.0</td>\n",
       "      <td>0.82</td>\n",
       "      <td>4.0</td>\n",
       "      <td>3.5</td>\n",
       "      <td>4.0</td>\n",
       "      <td>4.0</td>\n",
       "      <td>4.5</td>\n",
       "      <td>5.0</td>\n",
       "      <td>4.5</td>\n",
       "      <td>5.0</td>\n",
       "      <td>4.5</td>\n",
       "      <td>4.5</td>\n",
       "      <td>Yes</td>\n",
       "      <td>Ricardo</td>\n",
       "      <td>NaN</td>\n",
       "      <td>NaN</td>\n",
       "      <td>NaN</td>\n",
       "      <td>x</td>\n",
       "      <td>x</td>\n",
       "      <td>x</td>\n",
       "      <td>x</td>\n",
       "      <td>x</td>\n",
       "      <td>x</td>\n",
       "      <td>NaN</td>\n",
       "      <td>NaN</td>\n",
       "      <td>NaN</td>\n",
       "      <td>NaN</td>\n",
       "      <td>NaN</td>\n",
       "      <td>NaN</td>\n",
       "      <td>NaN</td>\n",
       "      <td>NaN</td>\n",
       "      <td>NaN</td>\n",
       "      <td>NaN</td>\n",
       "      <td>NaN</td>\n",
       "      <td>NaN</td>\n",
       "      <td>NaN</td>\n",
       "      <td>NaN</td>\n",
       "      <td>NaN</td>\n",
       "      <td>NaN</td>\n",
       "      <td>NaN</td>\n",
       "      <td>NaN</td>\n",
       "      <td>NaN</td>\n",
       "      <td>NaN</td>\n",
       "      <td>NaN</td>\n",
       "      <td>NaN</td>\n",
       "      <td>NaN</td>\n",
       "      <td>NaN</td>\n",
       "      <td>NaN</td>\n",
       "      <td>NaN</td>\n",
       "      <td>NaN</td>\n",
       "      <td>NaN</td>\n",
       "      <td>NaN</td>\n",
       "    </tr>\n",
       "    <tr>\n",
       "      <th>84</th>\n",
       "      <td>Taco stand</td>\n",
       "      <td>California</td>\n",
       "      <td>2016-05-06</td>\n",
       "      <td>NaN</td>\n",
       "      <td>NaN</td>\n",
       "      <td>NaN</td>\n",
       "      <td>NaN</td>\n",
       "      <td>NaN</td>\n",
       "      <td>NaN</td>\n",
       "      <td>7.49</td>\n",
       "      <td>4.0</td>\n",
       "      <td>NaN</td>\n",
       "      <td>NaN</td>\n",
       "      <td>17.00</td>\n",
       "      <td>25.5</td>\n",
       "      <td>0.88</td>\n",
       "      <td>3.0</td>\n",
       "      <td>3.0</td>\n",
       "      <td>4.0</td>\n",
       "      <td>3.5</td>\n",
       "      <td>3.5</td>\n",
       "      <td>4.0</td>\n",
       "      <td>3.5</td>\n",
       "      <td>4.0</td>\n",
       "      <td>2.5</td>\n",
       "      <td>3.7</td>\n",
       "      <td>Yes</td>\n",
       "      <td>Luis</td>\n",
       "      <td>NaN</td>\n",
       "      <td>NaN</td>\n",
       "      <td>NaN</td>\n",
       "      <td>x</td>\n",
       "      <td>x</td>\n",
       "      <td>x</td>\n",
       "      <td>x</td>\n",
       "      <td>x</td>\n",
       "      <td>x</td>\n",
       "      <td>NaN</td>\n",
       "      <td>NaN</td>\n",
       "      <td>NaN</td>\n",
       "      <td>NaN</td>\n",
       "      <td>NaN</td>\n",
       "      <td>NaN</td>\n",
       "      <td>NaN</td>\n",
       "      <td>NaN</td>\n",
       "      <td>NaN</td>\n",
       "      <td>NaN</td>\n",
       "      <td>NaN</td>\n",
       "      <td>NaN</td>\n",
       "      <td>NaN</td>\n",
       "      <td>NaN</td>\n",
       "      <td>NaN</td>\n",
       "      <td>NaN</td>\n",
       "      <td>NaN</td>\n",
       "      <td>NaN</td>\n",
       "      <td>NaN</td>\n",
       "      <td>NaN</td>\n",
       "      <td>NaN</td>\n",
       "      <td>NaN</td>\n",
       "      <td>NaN</td>\n",
       "      <td>NaN</td>\n",
       "      <td>NaN</td>\n",
       "      <td>NaN</td>\n",
       "      <td>NaN</td>\n",
       "      <td>NaN</td>\n",
       "      <td>NaN</td>\n",
       "    </tr>\n",
       "    <tr>\n",
       "      <th>85</th>\n",
       "      <td>Taco stand</td>\n",
       "      <td>California</td>\n",
       "      <td>2016-05-06</td>\n",
       "      <td>NaN</td>\n",
       "      <td>NaN</td>\n",
       "      <td>NaN</td>\n",
       "      <td>NaN</td>\n",
       "      <td>NaN</td>\n",
       "      <td>NaN</td>\n",
       "      <td>7.49</td>\n",
       "      <td>3.0</td>\n",
       "      <td>NaN</td>\n",
       "      <td>NaN</td>\n",
       "      <td>17.70</td>\n",
       "      <td>21.5</td>\n",
       "      <td>0.65</td>\n",
       "      <td>4.0</td>\n",
       "      <td>2.0</td>\n",
       "      <td>5.0</td>\n",
       "      <td>5.0</td>\n",
       "      <td>1.0</td>\n",
       "      <td>3.0</td>\n",
       "      <td>5.0</td>\n",
       "      <td>4.0</td>\n",
       "      <td>3.0</td>\n",
       "      <td>4.0</td>\n",
       "      <td>Yes</td>\n",
       "      <td>Elynn</td>\n",
       "      <td>NaN</td>\n",
       "      <td>NaN</td>\n",
       "      <td>NaN</td>\n",
       "      <td>x</td>\n",
       "      <td>x</td>\n",
       "      <td>x</td>\n",
       "      <td>x</td>\n",
       "      <td>x</td>\n",
       "      <td>x</td>\n",
       "      <td>NaN</td>\n",
       "      <td>NaN</td>\n",
       "      <td>NaN</td>\n",
       "      <td>NaN</td>\n",
       "      <td>NaN</td>\n",
       "      <td>NaN</td>\n",
       "      <td>NaN</td>\n",
       "      <td>NaN</td>\n",
       "      <td>NaN</td>\n",
       "      <td>NaN</td>\n",
       "      <td>NaN</td>\n",
       "      <td>NaN</td>\n",
       "      <td>NaN</td>\n",
       "      <td>NaN</td>\n",
       "      <td>NaN</td>\n",
       "      <td>NaN</td>\n",
       "      <td>NaN</td>\n",
       "      <td>NaN</td>\n",
       "      <td>NaN</td>\n",
       "      <td>NaN</td>\n",
       "      <td>NaN</td>\n",
       "      <td>NaN</td>\n",
       "      <td>NaN</td>\n",
       "      <td>NaN</td>\n",
       "      <td>NaN</td>\n",
       "      <td>NaN</td>\n",
       "      <td>NaN</td>\n",
       "      <td>NaN</td>\n",
       "      <td>NaN</td>\n",
       "    </tr>\n",
       "    <tr>\n",
       "      <th>86</th>\n",
       "      <td>Taco stand</td>\n",
       "      <td>California</td>\n",
       "      <td>2016-05-06</td>\n",
       "      <td>NaN</td>\n",
       "      <td>NaN</td>\n",
       "      <td>NaN</td>\n",
       "      <td>NaN</td>\n",
       "      <td>NaN</td>\n",
       "      <td>NaN</td>\n",
       "      <td>7.49</td>\n",
       "      <td>1.0</td>\n",
       "      <td>NaN</td>\n",
       "      <td>NaN</td>\n",
       "      <td>20.00</td>\n",
       "      <td>23.5</td>\n",
       "      <td>0.88</td>\n",
       "      <td>4.0</td>\n",
       "      <td>3.0</td>\n",
       "      <td>4.0</td>\n",
       "      <td>4.5</td>\n",
       "      <td>5.0</td>\n",
       "      <td>4.5</td>\n",
       "      <td>3.0</td>\n",
       "      <td>4.5</td>\n",
       "      <td>4.0</td>\n",
       "      <td>4.0</td>\n",
       "      <td>Yes</td>\n",
       "      <td>Sandra</td>\n",
       "      <td>NaN</td>\n",
       "      <td>NaN</td>\n",
       "      <td>NaN</td>\n",
       "      <td>x</td>\n",
       "      <td>x</td>\n",
       "      <td>x</td>\n",
       "      <td>x</td>\n",
       "      <td>x</td>\n",
       "      <td>x</td>\n",
       "      <td>NaN</td>\n",
       "      <td>NaN</td>\n",
       "      <td>NaN</td>\n",
       "      <td>NaN</td>\n",
       "      <td>NaN</td>\n",
       "      <td>NaN</td>\n",
       "      <td>NaN</td>\n",
       "      <td>NaN</td>\n",
       "      <td>NaN</td>\n",
       "      <td>NaN</td>\n",
       "      <td>NaN</td>\n",
       "      <td>NaN</td>\n",
       "      <td>NaN</td>\n",
       "      <td>NaN</td>\n",
       "      <td>NaN</td>\n",
       "      <td>NaN</td>\n",
       "      <td>NaN</td>\n",
       "      <td>NaN</td>\n",
       "      <td>NaN</td>\n",
       "      <td>NaN</td>\n",
       "      <td>NaN</td>\n",
       "      <td>NaN</td>\n",
       "      <td>NaN</td>\n",
       "      <td>NaN</td>\n",
       "      <td>NaN</td>\n",
       "      <td>NaN</td>\n",
       "      <td>NaN</td>\n",
       "      <td>NaN</td>\n",
       "      <td>NaN</td>\n",
       "    </tr>\n",
       "    <tr>\n",
       "      <th>87</th>\n",
       "      <td>Taco stand</td>\n",
       "      <td>Carne asada</td>\n",
       "      <td>2016-05-06</td>\n",
       "      <td>NaN</td>\n",
       "      <td>NaN</td>\n",
       "      <td>NaN</td>\n",
       "      <td>NaN</td>\n",
       "      <td>NaN</td>\n",
       "      <td>NaN</td>\n",
       "      <td>7.89</td>\n",
       "      <td>4.0</td>\n",
       "      <td>NaN</td>\n",
       "      <td>NaN</td>\n",
       "      <td>18.00</td>\n",
       "      <td>25.0</td>\n",
       "      <td>0.90</td>\n",
       "      <td>4.0</td>\n",
       "      <td>2.0</td>\n",
       "      <td>4.0</td>\n",
       "      <td>3.0</td>\n",
       "      <td>4.0</td>\n",
       "      <td>4.0</td>\n",
       "      <td>4.0</td>\n",
       "      <td>3.5</td>\n",
       "      <td>4.0</td>\n",
       "      <td>3.5</td>\n",
       "      <td>Yes</td>\n",
       "      <td>Brent</td>\n",
       "      <td>NaN</td>\n",
       "      <td>NaN</td>\n",
       "      <td>NaN</td>\n",
       "      <td>x</td>\n",
       "      <td>x</td>\n",
       "      <td>x</td>\n",
       "      <td>NaN</td>\n",
       "      <td>NaN</td>\n",
       "      <td>NaN</td>\n",
       "      <td>NaN</td>\n",
       "      <td>NaN</td>\n",
       "      <td>NaN</td>\n",
       "      <td>NaN</td>\n",
       "      <td>NaN</td>\n",
       "      <td>NaN</td>\n",
       "      <td>NaN</td>\n",
       "      <td>NaN</td>\n",
       "      <td>NaN</td>\n",
       "      <td>NaN</td>\n",
       "      <td>NaN</td>\n",
       "      <td>NaN</td>\n",
       "      <td>NaN</td>\n",
       "      <td>NaN</td>\n",
       "      <td>NaN</td>\n",
       "      <td>NaN</td>\n",
       "      <td>NaN</td>\n",
       "      <td>NaN</td>\n",
       "      <td>NaN</td>\n",
       "      <td>NaN</td>\n",
       "      <td>NaN</td>\n",
       "      <td>NaN</td>\n",
       "      <td>NaN</td>\n",
       "      <td>NaN</td>\n",
       "      <td>NaN</td>\n",
       "      <td>NaN</td>\n",
       "      <td>NaN</td>\n",
       "      <td>NaN</td>\n",
       "      <td>NaN</td>\n",
       "    </tr>\n",
       "    <tr>\n",
       "      <th>88</th>\n",
       "      <td>Taco stand</td>\n",
       "      <td>Shrimp</td>\n",
       "      <td>2016-05-06</td>\n",
       "      <td>NaN</td>\n",
       "      <td>NaN</td>\n",
       "      <td>NaN</td>\n",
       "      <td>NaN</td>\n",
       "      <td>NaN</td>\n",
       "      <td>NaN</td>\n",
       "      <td>8.95</td>\n",
       "      <td>5.0</td>\n",
       "      <td>NaN</td>\n",
       "      <td>NaN</td>\n",
       "      <td>17.00</td>\n",
       "      <td>22.0</td>\n",
       "      <td>0.65</td>\n",
       "      <td>4.0</td>\n",
       "      <td>4.0</td>\n",
       "      <td>5.0</td>\n",
       "      <td>5.0</td>\n",
       "      <td>5.0</td>\n",
       "      <td>4.0</td>\n",
       "      <td>5.0</td>\n",
       "      <td>5.0</td>\n",
       "      <td>5.0</td>\n",
       "      <td>5.0</td>\n",
       "      <td>Yes</td>\n",
       "      <td>Sankeerth</td>\n",
       "      <td>NaN</td>\n",
       "      <td>x</td>\n",
       "      <td>NaN</td>\n",
       "      <td>NaN</td>\n",
       "      <td>NaN</td>\n",
       "      <td>NaN</td>\n",
       "      <td>NaN</td>\n",
       "      <td>NaN</td>\n",
       "      <td>NaN</td>\n",
       "      <td>NaN</td>\n",
       "      <td>NaN</td>\n",
       "      <td>NaN</td>\n",
       "      <td>NaN</td>\n",
       "      <td>NaN</td>\n",
       "      <td>NaN</td>\n",
       "      <td>NaN</td>\n",
       "      <td>NaN</td>\n",
       "      <td>NaN</td>\n",
       "      <td>NaN</td>\n",
       "      <td>NaN</td>\n",
       "      <td>NaN</td>\n",
       "      <td>NaN</td>\n",
       "      <td>NaN</td>\n",
       "      <td>NaN</td>\n",
       "      <td>NaN</td>\n",
       "      <td>NaN</td>\n",
       "      <td>NaN</td>\n",
       "      <td>NaN</td>\n",
       "      <td>NaN</td>\n",
       "      <td>NaN</td>\n",
       "      <td>NaN</td>\n",
       "      <td>NaN</td>\n",
       "      <td>NaN</td>\n",
       "      <td>NaN</td>\n",
       "      <td>NaN</td>\n",
       "      <td>NaN</td>\n",
       "      <td>NaN</td>\n",
       "      <td>NaN</td>\n",
       "    </tr>\n",
       "  </tbody>\n",
       "</table>\n",
       "</div>"
      ],
      "text/plain": [
       "      Location      Burrito       Date Neighborhood Address  URL  Yelp  \\\n",
       "39  Taco stand  Carne asada 2016-03-18          NaN     NaN  NaN   NaN   \n",
       "40  Taco stand    Al pastor 2016-03-18          NaN     NaN  NaN   NaN   \n",
       "64  Taco stand  Carne asada 2016-04-14          NaN     NaN  NaN   NaN   \n",
       "65  Taco stand  Carne asada 2016-04-14          NaN     NaN  NaN   NaN   \n",
       "77  Taco stand   California 2026-04-25          NaN     NaN  NaN   NaN   \n",
       "82  Taco stand   California 2016-05-06          NaN     NaN  NaN   NaN   \n",
       "83  Taco stand   California 2016-05-06          NaN     NaN  NaN   NaN   \n",
       "84  Taco stand   California 2016-05-06          NaN     NaN  NaN   NaN   \n",
       "85  Taco stand   California 2016-05-06          NaN     NaN  NaN   NaN   \n",
       "86  Taco stand   California 2016-05-06          NaN     NaN  NaN   NaN   \n",
       "87  Taco stand  Carne asada 2016-05-06          NaN     NaN  NaN   NaN   \n",
       "88  Taco stand       Shrimp 2016-05-06          NaN     NaN  NaN   NaN   \n",
       "\n",
       "    Google Chips  Cost  Hunger  Mass (g)  Density (g/mL)  Length  Circum  \\\n",
       "39     NaN   NaN  7.89     1.0       NaN             NaN     NaN     NaN   \n",
       "40     NaN   NaN  6.99     4.0       NaN             NaN     NaN     NaN   \n",
       "64     NaN   NaN  7.89     3.5       NaN             NaN     NaN     NaN   \n",
       "65     NaN   NaN  7.89     2.0       NaN             NaN     NaN     NaN   \n",
       "77     NaN   NaN  8.00     4.0       NaN             NaN   21.59     NaN   \n",
       "82     NaN   NaN  7.49     3.5       NaN             NaN   19.00    22.0   \n",
       "83     NaN   NaN  7.49     4.0       NaN             NaN   16.50    25.0   \n",
       "84     NaN   NaN  7.49     4.0       NaN             NaN   17.00    25.5   \n",
       "85     NaN   NaN  7.49     3.0       NaN             NaN   17.70    21.5   \n",
       "86     NaN   NaN  7.49     1.0       NaN             NaN   20.00    23.5   \n",
       "87     NaN   NaN  7.89     4.0       NaN             NaN   18.00    25.0   \n",
       "88     NaN   NaN  8.95     5.0       NaN             NaN   17.00    22.0   \n",
       "\n",
       "    Volume  Tortilla  Temp  Meat  Fillings  Meat:filling  Uniformity  Salsa  \\\n",
       "39     NaN       3.0   3.5   4.5       4.0           5.0         5.0    4.5   \n",
       "40     NaN       4.0   3.0   3.5       3.0           4.0         5.0    3.0   \n",
       "64     NaN       3.0   2.0   4.5       4.0           4.0         1.5    4.5   \n",
       "65     NaN       3.0   2.5   4.5       3.5           4.5         3.0    4.0   \n",
       "77     NaN       4.5   5.0   5.0       5.0           4.5         5.0    3.0   \n",
       "82    0.73       3.5   4.0   4.0       4.0           3.5         3.0    4.0   \n",
       "83    0.82       4.0   3.5   4.0       4.0           4.5         5.0    4.5   \n",
       "84    0.88       3.0   3.0   4.0       3.5           3.5         4.0    3.5   \n",
       "85    0.65       4.0   2.0   5.0       5.0           1.0         3.0    5.0   \n",
       "86    0.88       4.0   3.0   4.0       4.5           5.0         4.5    3.0   \n",
       "87    0.90       4.0   2.0   4.0       3.0           4.0         4.0    4.0   \n",
       "88    0.65       4.0   4.0   5.0       5.0           5.0         4.0    5.0   \n",
       "\n",
       "    Synergy  Wrap  overall  Rec   Reviewer  \\\n",
       "39      3.5   5.0      4.2  NaN      Scott   \n",
       "40      3.5   5.0      3.5  NaN      Emily   \n",
       "64      4.5   4.5      4.4  Yes      Scott   \n",
       "65      3.5   5.0      3.5  Yes    Richard   \n",
       "77      5.0   5.0      4.9  Yes       Sage   \n",
       "82      4.5   3.0      4.2  Yes      Scott   \n",
       "83      5.0   4.5      4.5  Yes    Ricardo   \n",
       "84      4.0   2.5      3.7  Yes       Luis   \n",
       "85      4.0   3.0      4.0  Yes      Elynn   \n",
       "86      4.5   4.0      4.0  Yes     Sandra   \n",
       "87      3.5   4.0      3.5  Yes      Brent   \n",
       "88      5.0   5.0      5.0  Yes  Sankeerth   \n",
       "\n",
       "                                                Notes Unreliable NonSD Beef  \\\n",
       "39                                                NaN        NaN   NaN    x   \n",
       "40                                       Kind of dry         NaN   NaN  NaN   \n",
       "64                                         Too small         NaN   NaN    X   \n",
       "65  A little small. No rice and beans or cheese or...        NaN   NaN    x   \n",
       "77  A wonderful eating experience. best California...        NaN   NaN    x   \n",
       "82                               Less meat than usual        NaN   NaN    x   \n",
       "83                                                NaN        NaN   NaN    x   \n",
       "84                                                NaN        NaN   NaN    x   \n",
       "85                                                NaN        NaN   NaN    x   \n",
       "86                                                NaN        NaN   NaN    x   \n",
       "87                                                NaN        NaN   NaN    x   \n",
       "88                                                NaN          x   NaN  NaN   \n",
       "\n",
       "   Pico Guac Cheese Fries Sour cream Pork Chicken Shrimp Fish Rice Beans  \\\n",
       "39    x    x    NaN   NaN        NaN  NaN     NaN    NaN  NaN  NaN   NaN   \n",
       "40  NaN  NaN    NaN   NaN        NaN    x     NaN    NaN  NaN  NaN   NaN   \n",
       "64    X    X    NaN   NaN        NaN  NaN     NaN    NaN  NaN  NaN   NaN   \n",
       "65    x    x    NaN   NaN        NaN  NaN     NaN    NaN  NaN  NaN   NaN   \n",
       "77    x    x      x     x        NaN  NaN     NaN    NaN  NaN  NaN   NaN   \n",
       "82    x    x      x     x          x  NaN     NaN    NaN  NaN  NaN   NaN   \n",
       "83    x    x      x     x          x  NaN     NaN    NaN  NaN  NaN   NaN   \n",
       "84    x    x      x     x          x  NaN     NaN    NaN  NaN  NaN   NaN   \n",
       "85    x    x      x     x          x  NaN     NaN    NaN  NaN  NaN   NaN   \n",
       "86    x    x      x     x          x  NaN     NaN    NaN  NaN  NaN   NaN   \n",
       "87    x    x    NaN   NaN        NaN  NaN     NaN    NaN  NaN  NaN   NaN   \n",
       "88  NaN  NaN    NaN   NaN        NaN  NaN     NaN    NaN  NaN  NaN   NaN   \n",
       "\n",
       "   Lettuce Tomato Bell peper Carrots Cabbage Sauce Salsa.1 Cilantro Onion  \\\n",
       "39     NaN    NaN        NaN     NaN     NaN   NaN     NaN      NaN   NaN   \n",
       "40     NaN    NaN        NaN     NaN     NaN   NaN     NaN        x     x   \n",
       "64     NaN    NaN        NaN     NaN     NaN   NaN     NaN      NaN   NaN   \n",
       "65     NaN    NaN        NaN     NaN     NaN   NaN     NaN      NaN   NaN   \n",
       "77     NaN    NaN        NaN     NaN     NaN   NaN     NaN      NaN   NaN   \n",
       "82     NaN    NaN        NaN     NaN     NaN   NaN     NaN      NaN   NaN   \n",
       "83     NaN    NaN        NaN     NaN     NaN   NaN     NaN      NaN   NaN   \n",
       "84     NaN    NaN        NaN     NaN     NaN   NaN     NaN      NaN   NaN   \n",
       "85     NaN    NaN        NaN     NaN     NaN   NaN     NaN      NaN   NaN   \n",
       "86     NaN    NaN        NaN     NaN     NaN   NaN     NaN      NaN   NaN   \n",
       "87     NaN    NaN        NaN     NaN     NaN   NaN     NaN      NaN   NaN   \n",
       "88     NaN    NaN        NaN     NaN     NaN   NaN     NaN      NaN   NaN   \n",
       "\n",
       "   Taquito Pineapple  Ham Chile relleno Nopales Lobster  Queso  Egg Mushroom  \\\n",
       "39     NaN       NaN  NaN           NaN     NaN     NaN    NaN  NaN      NaN   \n",
       "40     NaN         x  NaN           NaN     NaN     NaN    NaN  NaN      NaN   \n",
       "64     NaN       NaN  NaN           NaN     NaN     NaN    NaN  NaN      NaN   \n",
       "65     NaN       NaN  NaN           NaN     NaN     NaN    NaN  NaN      NaN   \n",
       "77     NaN       NaN  NaN           NaN     NaN     NaN    NaN  NaN      NaN   \n",
       "82     NaN       NaN  NaN           NaN     NaN     NaN    NaN  NaN      NaN   \n",
       "83     NaN       NaN  NaN           NaN     NaN     NaN    NaN  NaN      NaN   \n",
       "84     NaN       NaN  NaN           NaN     NaN     NaN    NaN  NaN      NaN   \n",
       "85     NaN       NaN  NaN           NaN     NaN     NaN    NaN  NaN      NaN   \n",
       "86     NaN       NaN  NaN           NaN     NaN     NaN    NaN  NaN      NaN   \n",
       "87     NaN       NaN  NaN           NaN     NaN     NaN    NaN  NaN      NaN   \n",
       "88     NaN       NaN  NaN           NaN     NaN     NaN    NaN  NaN      NaN   \n",
       "\n",
       "   Bacon Sushi Avocado Corn Zucchini  \n",
       "39   NaN   NaN     NaN  NaN      NaN  \n",
       "40   NaN   NaN     NaN  NaN      NaN  \n",
       "64   NaN   NaN     NaN  NaN      NaN  \n",
       "65   NaN   NaN     NaN  NaN      NaN  \n",
       "77   NaN   NaN     NaN  NaN      NaN  \n",
       "82   NaN   NaN     NaN  NaN      NaN  \n",
       "83   NaN   NaN     NaN  NaN      NaN  \n",
       "84   NaN   NaN     NaN  NaN      NaN  \n",
       "85   NaN   NaN     NaN  NaN      NaN  \n",
       "86   NaN   NaN     NaN  NaN      NaN  \n",
       "87   NaN   NaN     NaN  NaN      NaN  \n",
       "88   NaN   NaN     NaN  NaN      NaN  "
      ]
     },
     "execution_count": 21,
     "metadata": {},
     "output_type": "execute_result"
    }
   ],
   "source": [
    "df_master[df_master.Location == 'Taco stand']"
   ]
  },
  {
   "cell_type": "code",
   "execution_count": 22,
   "id": "b807b250",
   "metadata": {},
   "outputs": [
    {
     "data": {
      "text/plain": [
       "4.0    40\n",
       "4.5    17\n",
       "3.5    16\n",
       "3.0     6\n",
       "2.5     2\n",
       "4.2     1\n",
       "Name: Yelp, dtype: int64"
      ]
     },
     "execution_count": 22,
     "metadata": {},
     "output_type": "execute_result"
    }
   ],
   "source": [
    "df_master.Yelp.value_counts()"
   ]
  },
  {
   "cell_type": "markdown",
   "id": "c2eecb33",
   "metadata": {},
   "source": [
    "Yelp points weren't distributed normally. There is left skewness in data. Some locations don’t have yelp points. "
   ]
  },
  {
   "cell_type": "code",
   "execution_count": 23,
   "id": "b6b6593a",
   "metadata": {},
   "outputs": [
    {
     "data": {
      "image/png": "[encoded data removed]",
      "text/plain": [
       "<Figure size 432x288 with 1 Axes>"
      ]
     },
     "metadata": {
      "needs_background": "light"
     },
     "output_type": "display_data"
    }
   ],
   "source": [
    "plt.hist(df_master.Yelp)\n",
    "plt.title(\"Yelp Histogram\") \n",
    "\n",
    "plt.show()"
   ]
  },
  {
   "cell_type": "markdown",
   "id": "0bad1728",
   "metadata": {},
   "source": [
    "Most of the review points are between 3.5 and 4. Most successful ones are around 4.5 "
   ]
  },
  {
   "cell_type": "code",
   "execution_count": 24,
   "id": "691dbf3a",
   "metadata": {},
   "outputs": [
    {
     "data": {
      "image/png": "[encoded data removed]",
      "text/plain": [
       "<Figure size 432x288 with 1 Axes>"
      ]
     },
     "metadata": {
      "needs_background": "light"
     },
     "output_type": "display_data"
    }
   ],
   "source": [
    "plt.boxplot(df_master[(~df_master.Yelp.isna())]['Yelp'])\n",
    "plt.title(\"Yelp Boxplot\") \n",
    "plt.show()"
   ]
  },
  {
   "cell_type": "code",
   "execution_count": 25,
   "id": "9ff36a92",
   "metadata": {},
   "outputs": [
    {
     "data": {
      "text/html": [
       "<div>\n",
       "<style scoped>\n",
       "    .dataframe tbody tr th:only-of-type {\n",
       "        vertical-align: middle;\n",
       "    }\n",
       "\n",
       "    .dataframe tbody tr th {\n",
       "        vertical-align: top;\n",
       "    }\n",
       "\n",
       "    .dataframe thead th {\n",
       "        text-align: right;\n",
       "    }\n",
       "</style>\n",
       "<table border=\"1\" class=\"dataframe\">\n",
       "  <thead>\n",
       "    <tr style=\"text-align: right;\">\n",
       "      <th></th>\n",
       "      <th>Location</th>\n",
       "      <th>Yelp</th>\n",
       "    </tr>\n",
       "  </thead>\n",
       "  <tbody>\n",
       "    <tr>\n",
       "      <th>0</th>\n",
       "      <td>Albertacos</td>\n",
       "      <td>1</td>\n",
       "    </tr>\n",
       "    <tr>\n",
       "      <th>1</th>\n",
       "      <td>Alberto's 623 N Escondido Blvd, Escondido, CA ...</td>\n",
       "      <td>0</td>\n",
       "    </tr>\n",
       "    <tr>\n",
       "      <th>2</th>\n",
       "      <td>Burrito Box</td>\n",
       "      <td>0</td>\n",
       "    </tr>\n",
       "    <tr>\n",
       "      <th>3</th>\n",
       "      <td>Burrito Factory</td>\n",
       "      <td>1</td>\n",
       "    </tr>\n",
       "    <tr>\n",
       "      <th>4</th>\n",
       "      <td>Burros and Fries</td>\n",
       "      <td>1</td>\n",
       "    </tr>\n",
       "    <tr>\n",
       "      <th>5</th>\n",
       "      <td>Caliente Mexican Food</td>\n",
       "      <td>1</td>\n",
       "    </tr>\n",
       "    <tr>\n",
       "      <th>6</th>\n",
       "      <td>California Burrito Company</td>\n",
       "      <td>1</td>\n",
       "    </tr>\n",
       "    <tr>\n",
       "      <th>7</th>\n",
       "      <td>California Burritos</td>\n",
       "      <td>1</td>\n",
       "    </tr>\n",
       "    <tr>\n",
       "      <th>8</th>\n",
       "      <td>California burritos</td>\n",
       "      <td>0</td>\n",
       "    </tr>\n",
       "    <tr>\n",
       "      <th>9</th>\n",
       "      <td>Cancun Mexican &amp; Seafood</td>\n",
       "      <td>1</td>\n",
       "    </tr>\n",
       "    <tr>\n",
       "      <th>10</th>\n",
       "      <td>Carmen's Mexican Food</td>\n",
       "      <td>1</td>\n",
       "    </tr>\n",
       "    <tr>\n",
       "      <th>11</th>\n",
       "      <td>Chili Peppers</td>\n",
       "      <td>0</td>\n",
       "    </tr>\n",
       "    <tr>\n",
       "      <th>12</th>\n",
       "      <td>Chipotle</td>\n",
       "      <td>1</td>\n",
       "    </tr>\n",
       "    <tr>\n",
       "      <th>13</th>\n",
       "      <td>Colima's</td>\n",
       "      <td>0</td>\n",
       "    </tr>\n",
       "    <tr>\n",
       "      <th>14</th>\n",
       "      <td>Colima's Mexican Food</td>\n",
       "      <td>1</td>\n",
       "    </tr>\n",
       "    <tr>\n",
       "      <th>15</th>\n",
       "      <td>Cortez Mexican Food</td>\n",
       "      <td>1</td>\n",
       "    </tr>\n",
       "    <tr>\n",
       "      <th>16</th>\n",
       "      <td>Cotixan</td>\n",
       "      <td>1</td>\n",
       "    </tr>\n",
       "    <tr>\n",
       "      <th>17</th>\n",
       "      <td>Don Carlos Taco Shop</td>\n",
       "      <td>1</td>\n",
       "    </tr>\n",
       "    <tr>\n",
       "      <th>18</th>\n",
       "      <td>Donato's Taco Shop</td>\n",
       "      <td>0</td>\n",
       "    </tr>\n",
       "    <tr>\n",
       "      <th>19</th>\n",
       "      <td>Donato's taco shop</td>\n",
       "      <td>1</td>\n",
       "    </tr>\n",
       "    <tr>\n",
       "      <th>20</th>\n",
       "      <td>El Cuervo</td>\n",
       "      <td>1</td>\n",
       "    </tr>\n",
       "    <tr>\n",
       "      <th>21</th>\n",
       "      <td>El Dorado Mexican Food</td>\n",
       "      <td>1</td>\n",
       "    </tr>\n",
       "    <tr>\n",
       "      <th>22</th>\n",
       "      <td>El Indio</td>\n",
       "      <td>1</td>\n",
       "    </tr>\n",
       "    <tr>\n",
       "      <th>23</th>\n",
       "      <td>El Nopalito</td>\n",
       "      <td>1</td>\n",
       "    </tr>\n",
       "    <tr>\n",
       "      <th>24</th>\n",
       "      <td>El Pollo Loco</td>\n",
       "      <td>1</td>\n",
       "    </tr>\n",
       "    <tr>\n",
       "      <th>25</th>\n",
       "      <td>El Portal Fresh Mexican Grill</td>\n",
       "      <td>1</td>\n",
       "    </tr>\n",
       "    <tr>\n",
       "      <th>26</th>\n",
       "      <td>El Pueblo Mexican Food</td>\n",
       "      <td>1</td>\n",
       "    </tr>\n",
       "    <tr>\n",
       "      <th>27</th>\n",
       "      <td>El Rey Moro</td>\n",
       "      <td>1</td>\n",
       "    </tr>\n",
       "    <tr>\n",
       "      <th>28</th>\n",
       "      <td>El Torrito Foods</td>\n",
       "      <td>1</td>\n",
       "    </tr>\n",
       "    <tr>\n",
       "      <th>29</th>\n",
       "      <td>El Zarape</td>\n",
       "      <td>1</td>\n",
       "    </tr>\n",
       "    <tr>\n",
       "      <th>30</th>\n",
       "      <td>Famoso Mexican Street Food</td>\n",
       "      <td>1</td>\n",
       "    </tr>\n",
       "    <tr>\n",
       "      <th>31</th>\n",
       "      <td>Filiberto's</td>\n",
       "      <td>1</td>\n",
       "    </tr>\n",
       "    <tr>\n",
       "      <th>32</th>\n",
       "      <td>Gloria's Taco Shop</td>\n",
       "      <td>1</td>\n",
       "    </tr>\n",
       "    <tr>\n",
       "      <th>33</th>\n",
       "      <td>Goody's</td>\n",
       "      <td>1</td>\n",
       "    </tr>\n",
       "    <tr>\n",
       "      <th>34</th>\n",
       "      <td>Graciela's Taco Shop</td>\n",
       "      <td>1</td>\n",
       "    </tr>\n",
       "    <tr>\n",
       "      <th>35</th>\n",
       "      <td>Humbertos</td>\n",
       "      <td>0</td>\n",
       "    </tr>\n",
       "    <tr>\n",
       "      <th>36</th>\n",
       "      <td>JV's Mexican Food</td>\n",
       "      <td>1</td>\n",
       "    </tr>\n",
       "    <tr>\n",
       "      <th>37</th>\n",
       "      <td>Jorge's Mexicatessen</td>\n",
       "      <td>1</td>\n",
       "    </tr>\n",
       "    <tr>\n",
       "      <th>38</th>\n",
       "      <td>Jose's Taco</td>\n",
       "      <td>1</td>\n",
       "    </tr>\n",
       "    <tr>\n",
       "      <th>39</th>\n",
       "      <td>Juanita's Taco Shop</td>\n",
       "      <td>1</td>\n",
       "    </tr>\n",
       "    <tr>\n",
       "      <th>40</th>\n",
       "      <td>Karina's Taco Shop</td>\n",
       "      <td>1</td>\n",
       "    </tr>\n",
       "    <tr>\n",
       "      <th>41</th>\n",
       "      <td>King Burrito</td>\n",
       "      <td>1</td>\n",
       "    </tr>\n",
       "    <tr>\n",
       "      <th>42</th>\n",
       "      <td>Kotija Jr</td>\n",
       "      <td>1</td>\n",
       "    </tr>\n",
       "    <tr>\n",
       "      <th>43</th>\n",
       "      <td>Kotija Jr.</td>\n",
       "      <td>0</td>\n",
       "    </tr>\n",
       "    <tr>\n",
       "      <th>44</th>\n",
       "      <td>La Morena Taco Shop and Seafood</td>\n",
       "      <td>1</td>\n",
       "    </tr>\n",
       "    <tr>\n",
       "      <th>45</th>\n",
       "      <td>La Perla Cocina</td>\n",
       "      <td>1</td>\n",
       "    </tr>\n",
       "    <tr>\n",
       "      <th>46</th>\n",
       "      <td>Lola's 7 Up Market &amp; Deli</td>\n",
       "      <td>1</td>\n",
       "    </tr>\n",
       "    <tr>\n",
       "      <th>47</th>\n",
       "      <td>Lolita's</td>\n",
       "      <td>0</td>\n",
       "    </tr>\n",
       "    <tr>\n",
       "      <th>48</th>\n",
       "      <td>Lolita's Taco Shop</td>\n",
       "      <td>0</td>\n",
       "    </tr>\n",
       "    <tr>\n",
       "      <th>49</th>\n",
       "      <td>Lolita's Taco shop</td>\n",
       "      <td>0</td>\n",
       "    </tr>\n",
       "    <tr>\n",
       "      <th>50</th>\n",
       "      <td>Lolita's taco shop</td>\n",
       "      <td>1</td>\n",
       "    </tr>\n",
       "    <tr>\n",
       "      <th>51</th>\n",
       "      <td>Los Cabos</td>\n",
       "      <td>1</td>\n",
       "    </tr>\n",
       "    <tr>\n",
       "      <th>52</th>\n",
       "      <td>Los Panchos Taco Shop</td>\n",
       "      <td>1</td>\n",
       "    </tr>\n",
       "    <tr>\n",
       "      <th>53</th>\n",
       "      <td>Los Primos Mexican Food</td>\n",
       "      <td>1</td>\n",
       "    </tr>\n",
       "    <tr>\n",
       "      <th>54</th>\n",
       "      <td>Los Tacos</td>\n",
       "      <td>0</td>\n",
       "    </tr>\n",
       "    <tr>\n",
       "      <th>55</th>\n",
       "      <td>Los Tacos 2</td>\n",
       "      <td>1</td>\n",
       "    </tr>\n",
       "    <tr>\n",
       "      <th>56</th>\n",
       "      <td>Los palmitos</td>\n",
       "      <td>1</td>\n",
       "    </tr>\n",
       "    <tr>\n",
       "      <th>57</th>\n",
       "      <td>Los tacos</td>\n",
       "      <td>1</td>\n",
       "    </tr>\n",
       "    <tr>\n",
       "      <th>58</th>\n",
       "      <td>Lourdes</td>\n",
       "      <td>1</td>\n",
       "    </tr>\n",
       "    <tr>\n",
       "      <th>59</th>\n",
       "      <td>Lucha Libre North Park</td>\n",
       "      <td>1</td>\n",
       "    </tr>\n",
       "    <tr>\n",
       "      <th>60</th>\n",
       "      <td>Lupe's Taco Shop</td>\n",
       "      <td>1</td>\n",
       "    </tr>\n",
       "    <tr>\n",
       "      <th>61</th>\n",
       "      <td>MXN on Washington</td>\n",
       "      <td>0</td>\n",
       "    </tr>\n",
       "    <tr>\n",
       "      <th>62</th>\n",
       "      <td>Matador Mexican Food</td>\n",
       "      <td>1</td>\n",
       "    </tr>\n",
       "    <tr>\n",
       "      <th>63</th>\n",
       "      <td>Mi Asador Mexican &amp; Seafood</td>\n",
       "      <td>1</td>\n",
       "    </tr>\n",
       "    <tr>\n",
       "      <th>64</th>\n",
       "      <td>Mikes Taco Club</td>\n",
       "      <td>1</td>\n",
       "    </tr>\n",
       "    <tr>\n",
       "      <th>65</th>\n",
       "      <td>Mister Falafel</td>\n",
       "      <td>1</td>\n",
       "    </tr>\n",
       "    <tr>\n",
       "      <th>66</th>\n",
       "      <td>Mr. Ruribertos Taco Shop</td>\n",
       "      <td>1</td>\n",
       "    </tr>\n",
       "    <tr>\n",
       "      <th>67</th>\n",
       "      <td>Netos Mexican Food</td>\n",
       "      <td>1</td>\n",
       "    </tr>\n",
       "    <tr>\n",
       "      <th>68</th>\n",
       "      <td>Nico's Taco Shop</td>\n",
       "      <td>1</td>\n",
       "    </tr>\n",
       "    <tr>\n",
       "      <th>69</th>\n",
       "      <td>Ortiz's Taco Shop #2</td>\n",
       "      <td>1</td>\n",
       "    </tr>\n",
       "    <tr>\n",
       "      <th>70</th>\n",
       "      <td>Oscar's Mexican food</td>\n",
       "      <td>1</td>\n",
       "    </tr>\n",
       "    <tr>\n",
       "      <th>71</th>\n",
       "      <td>Papa Chito's Mexican Food</td>\n",
       "      <td>1</td>\n",
       "    </tr>\n",
       "    <tr>\n",
       "      <th>72</th>\n",
       "      <td>Pedro's Tacos</td>\n",
       "      <td>0</td>\n",
       "    </tr>\n",
       "    <tr>\n",
       "      <th>73</th>\n",
       "      <td>Pokirrito</td>\n",
       "      <td>1</td>\n",
       "    </tr>\n",
       "    <tr>\n",
       "      <th>74</th>\n",
       "      <td>Pollos Maria</td>\n",
       "      <td>1</td>\n",
       "    </tr>\n",
       "    <tr>\n",
       "      <th>75</th>\n",
       "      <td>Porkyland</td>\n",
       "      <td>1</td>\n",
       "    </tr>\n",
       "    <tr>\n",
       "      <th>76</th>\n",
       "      <td>Qdoba Mexican Grill, Seatac Airport</td>\n",
       "      <td>0</td>\n",
       "    </tr>\n",
       "    <tr>\n",
       "      <th>77</th>\n",
       "      <td>Raul's Mexican food</td>\n",
       "      <td>1</td>\n",
       "    </tr>\n",
       "    <tr>\n",
       "      <th>78</th>\n",
       "      <td>Rigoberto's Taco Shop</td>\n",
       "      <td>1</td>\n",
       "    </tr>\n",
       "    <tr>\n",
       "      <th>79</th>\n",
       "      <td>Rigoberto's Taco Shop La Jolla</td>\n",
       "      <td>1</td>\n",
       "    </tr>\n",
       "    <tr>\n",
       "      <th>80</th>\n",
       "      <td>Roberto's Taco Shop Clairemont</td>\n",
       "      <td>1</td>\n",
       "    </tr>\n",
       "    <tr>\n",
       "      <th>81</th>\n",
       "      <td>Roberto's Taco Shop Hillcrest</td>\n",
       "      <td>1</td>\n",
       "    </tr>\n",
       "    <tr>\n",
       "      <th>82</th>\n",
       "      <td>Roberto's Very Mexican Food</td>\n",
       "      <td>1</td>\n",
       "    </tr>\n",
       "    <tr>\n",
       "      <th>83</th>\n",
       "      <td>Rubios UCSD</td>\n",
       "      <td>1</td>\n",
       "    </tr>\n",
       "    <tr>\n",
       "      <th>84</th>\n",
       "      <td>Rudy's Taco Shop</td>\n",
       "      <td>1</td>\n",
       "    </tr>\n",
       "    <tr>\n",
       "      <th>85</th>\n",
       "      <td>Saguaro's</td>\n",
       "      <td>0</td>\n",
       "    </tr>\n",
       "    <tr>\n",
       "      <th>86</th>\n",
       "      <td>Senor Grubby's</td>\n",
       "      <td>1</td>\n",
       "    </tr>\n",
       "    <tr>\n",
       "      <th>87</th>\n",
       "      <td>Senor Panchos</td>\n",
       "      <td>1</td>\n",
       "    </tr>\n",
       "    <tr>\n",
       "      <th>88</th>\n",
       "      <td>Sotos Mexican Food</td>\n",
       "      <td>1</td>\n",
       "    </tr>\n",
       "    <tr>\n",
       "      <th>89</th>\n",
       "      <td>Storehouse Kitchen</td>\n",
       "      <td>0</td>\n",
       "    </tr>\n",
       "    <tr>\n",
       "      <th>90</th>\n",
       "      <td>Taco Stand</td>\n",
       "      <td>1</td>\n",
       "    </tr>\n",
       "    <tr>\n",
       "      <th>91</th>\n",
       "      <td>Taco Stand Encinitas</td>\n",
       "      <td>1</td>\n",
       "    </tr>\n",
       "    <tr>\n",
       "      <th>92</th>\n",
       "      <td>Taco Stand Encinitas</td>\n",
       "      <td>0</td>\n",
       "    </tr>\n",
       "    <tr>\n",
       "      <th>93</th>\n",
       "      <td>Taco Surf PB</td>\n",
       "      <td>1</td>\n",
       "    </tr>\n",
       "    <tr>\n",
       "      <th>94</th>\n",
       "      <td>Taco VIlla</td>\n",
       "      <td>0</td>\n",
       "    </tr>\n",
       "    <tr>\n",
       "      <th>95</th>\n",
       "      <td>Taco Villa</td>\n",
       "      <td>1</td>\n",
       "    </tr>\n",
       "    <tr>\n",
       "      <th>96</th>\n",
       "      <td>Taco stand</td>\n",
       "      <td>0</td>\n",
       "    </tr>\n",
       "    <tr>\n",
       "      <th>97</th>\n",
       "      <td>Tacos La Bala</td>\n",
       "      <td>1</td>\n",
       "    </tr>\n",
       "    <tr>\n",
       "      <th>98</th>\n",
       "      <td>Tacos por favor</td>\n",
       "      <td>1</td>\n",
       "    </tr>\n",
       "    <tr>\n",
       "      <th>99</th>\n",
       "      <td>Tony's Fresh Mexican Food</td>\n",
       "      <td>1</td>\n",
       "    </tr>\n",
       "    <tr>\n",
       "      <th>100</th>\n",
       "      <td>Valentines Mexican Food</td>\n",
       "      <td>1</td>\n",
       "    </tr>\n",
       "    <tr>\n",
       "      <th>101</th>\n",
       "      <td>Vallarta Express</td>\n",
       "      <td>0</td>\n",
       "    </tr>\n",
       "    <tr>\n",
       "      <th>102</th>\n",
       "      <td>Vallarta express</td>\n",
       "      <td>1</td>\n",
       "    </tr>\n",
       "  </tbody>\n",
       "</table>\n",
       "</div>"
      ],
      "text/plain": [
       "                                              Location  Yelp\n",
       "0                                           Albertacos     1\n",
       "1    Alberto's 623 N Escondido Blvd, Escondido, CA ...     0\n",
       "2                                          Burrito Box     0\n",
       "3                                      Burrito Factory     1\n",
       "4                                     Burros and Fries     1\n",
       "5                                Caliente Mexican Food     1\n",
       "6                           California Burrito Company     1\n",
       "7                                  California Burritos     1\n",
       "8                                  California burritos     0\n",
       "9                             Cancun Mexican & Seafood     1\n",
       "10                               Carmen's Mexican Food     1\n",
       "11                                       Chili Peppers     0\n",
       "12                                            Chipotle     1\n",
       "13                                           Colima's      0\n",
       "14                               Colima's Mexican Food     1\n",
       "15                                 Cortez Mexican Food     1\n",
       "16                                             Cotixan     1\n",
       "17                                Don Carlos Taco Shop     1\n",
       "18                                  Donato's Taco Shop     0\n",
       "19                                  Donato's taco shop     1\n",
       "20                                           El Cuervo     1\n",
       "21                              El Dorado Mexican Food     1\n",
       "22                                            El Indio     1\n",
       "23                                        El Nopalito      1\n",
       "24                                       El Pollo Loco     1\n",
       "25                       El Portal Fresh Mexican Grill     1\n",
       "26                              El Pueblo Mexican Food     1\n",
       "27                                         El Rey Moro     1\n",
       "28                                    El Torrito Foods     1\n",
       "29                                           El Zarape     1\n",
       "30                          Famoso Mexican Street Food     1\n",
       "31                                         Filiberto's     1\n",
       "32                                  Gloria's Taco Shop     1\n",
       "33                                             Goody's     1\n",
       "34                                Graciela's Taco Shop     1\n",
       "35                                           Humbertos     0\n",
       "36                                   JV's Mexican Food     1\n",
       "37                                Jorge's Mexicatessen     1\n",
       "38                                         Jose's Taco     1\n",
       "39                                 Juanita's Taco Shop     1\n",
       "40                                 Karina's Taco Shop      1\n",
       "41                                        King Burrito     1\n",
       "42                                           Kotija Jr     1\n",
       "43                                          Kotija Jr.     0\n",
       "44                     La Morena Taco Shop and Seafood     1\n",
       "45                                     La Perla Cocina     1\n",
       "46                           Lola's 7 Up Market & Deli     1\n",
       "47                                            Lolita's     0\n",
       "48                                  Lolita's Taco Shop     0\n",
       "49                                  Lolita's Taco shop     0\n",
       "50                                  Lolita's taco shop     1\n",
       "51                                           Los Cabos     1\n",
       "52                               Los Panchos Taco Shop     1\n",
       "53                             Los Primos Mexican Food     1\n",
       "54                                           Los Tacos     0\n",
       "55                                         Los Tacos 2     1\n",
       "56                                        Los palmitos     1\n",
       "57                                          Los tacos      1\n",
       "58                                             Lourdes     1\n",
       "59                              Lucha Libre North Park     1\n",
       "60                                    Lupe's Taco Shop     1\n",
       "61                                   MXN on Washington     0\n",
       "62                                Matador Mexican Food     1\n",
       "63                        Mi Asador Mexican & Seafood      1\n",
       "64                                     Mikes Taco Club     1\n",
       "65                                      Mister Falafel     1\n",
       "66                           Mr. Ruribertos Taco Shop      1\n",
       "67                                  Netos Mexican Food     1\n",
       "68                                    Nico's Taco Shop     1\n",
       "69                                Ortiz's Taco Shop #2     1\n",
       "70                                Oscar's Mexican food     1\n",
       "71                           Papa Chito's Mexican Food     1\n",
       "72                                       Pedro's Tacos     0\n",
       "73                                           Pokirrito     1\n",
       "74                                        Pollos Maria     1\n",
       "75                                          Porkyland      1\n",
       "76                 Qdoba Mexican Grill, Seatac Airport     0\n",
       "77                                 Raul's Mexican food     1\n",
       "78                               Rigoberto's Taco Shop     1\n",
       "79                      Rigoberto's Taco Shop La Jolla     1\n",
       "80                      Roberto's Taco Shop Clairemont     1\n",
       "81                       Roberto's Taco Shop Hillcrest     1\n",
       "82                         Roberto's Very Mexican Food     1\n",
       "83                                         Rubios UCSD     1\n",
       "84                                    Rudy's Taco Shop     1\n",
       "85                                          Saguaro's      0\n",
       "86                                      Senor Grubby's     1\n",
       "87                                       Senor Panchos     1\n",
       "88                                  Sotos Mexican Food     1\n",
       "89                                 Storehouse Kitchen      0\n",
       "90                                          Taco Stand     1\n",
       "91                                Taco Stand Encinitas     1\n",
       "92                               Taco Stand Encinitas      0\n",
       "93                                        Taco Surf PB     1\n",
       "94                                          Taco VIlla     0\n",
       "95                                          Taco Villa     1\n",
       "96                                          Taco stand     0\n",
       "97                                       Tacos La Bala     1\n",
       "98                                     Tacos por favor     1\n",
       "99                           Tony's Fresh Mexican Food     1\n",
       "100                            Valentines Mexican Food     1\n",
       "101                                   Vallarta Express     0\n",
       "102                                   Vallarta express     1"
      ]
     },
     "execution_count": 25,
     "metadata": {},
     "output_type": "execute_result"
    }
   ],
   "source": [
    "df_master.groupby('Location')['Yelp'].nunique().reset_index()"
   ]
  },
  {
   "cell_type": "markdown",
   "id": "df0fa5bc",
   "metadata": {},
   "source": [
    "Google reviews include more sensitive data."
   ]
  },
  {
   "cell_type": "code",
   "execution_count": 26,
   "id": "bdeadbbb",
   "metadata": {},
   "outputs": [
    {
     "data": {
      "text/plain": [
       "array([4.2, 3.3, nan, 3.8, 2.9, 3.7, 4.1, 4.4, 4.5, 4. , 4.9, 3.9, 4.7,\n",
       "       4.3, 4.6, 3.4, 3.5, 5. , 4.8])"
      ]
     },
     "execution_count": 26,
     "metadata": {},
     "output_type": "execute_result"
    }
   ],
   "source": [
    "df_master.Google.unique()"
   ]
  },
  {
   "cell_type": "code",
   "execution_count": 27,
   "id": "fa3010e0",
   "metadata": {},
   "outputs": [
    {
     "data": {
      "image/png": "[encoded data removed]",
      "text/plain": [
       "<Figure size 432x288 with 1 Axes>"
      ]
     },
     "metadata": {
      "needs_background": "light"
     },
     "output_type": "display_data"
    }
   ],
   "source": [
    "plt.hist(df_master.Google)\n",
    "plt.title(\"Google Histogram\") \n",
    "\n",
    "plt.show()"
   ]
  },
  {
   "cell_type": "code",
   "execution_count": 28,
   "id": "e921c529",
   "metadata": {},
   "outputs": [
    {
     "data": {
      "image/png": "[encoded data removed]",
      "text/plain": [
       "<Figure size 432x288 with 1 Axes>"
      ]
     },
     "metadata": {
      "needs_background": "light"
     },
     "output_type": "display_data"
    }
   ],
   "source": [
    "plt.boxplot(df_master[(~df_master.Google.isna())]['Google'])\n",
    "plt.title(\"Google Review Boxplot\") \n",
    "plt.show()"
   ]
  },
  {
   "cell_type": "markdown",
   "id": "364e9287",
   "metadata": {},
   "source": [
    "upper and lower case"
   ]
  },
  {
   "cell_type": "code",
   "execution_count": 29,
   "id": "cdb90442",
   "metadata": {},
   "outputs": [
    {
     "data": {
      "text/plain": [
       "array([nan, 'x', 'X'], dtype=object)"
      ]
     },
     "execution_count": 29,
     "metadata": {},
     "output_type": "execute_result"
    }
   ],
   "source": [
    "df_master.Chips.unique()"
   ]
  },
  {
   "cell_type": "code",
   "execution_count": 30,
   "id": "8b24de8a",
   "metadata": {},
   "outputs": [
    {
     "data": {
      "text/plain": [
       "x    21\n",
       "X     3\n",
       "Name: Chips, dtype: int64"
      ]
     },
     "execution_count": 30,
     "metadata": {},
     "output_type": "execute_result"
    }
   ],
   "source": [
    "df_master.Chips.value_counts()"
   ]
  },
  {
   "cell_type": "markdown",
   "id": "5e7fb3f6",
   "metadata": {},
   "source": [
    "Cost data seems to be normal but there is outlier values at tails "
   ]
  },
  {
   "cell_type": "code",
   "execution_count": 31,
   "id": "5fcdf18e",
   "metadata": {},
   "outputs": [
    {
     "data": {
      "image/png": "[encoded data removed]",
      "text/plain": [
       "<Figure size 432x288 with 1 Axes>"
      ]
     },
     "metadata": {
      "needs_background": "light"
     },
     "output_type": "display_data"
    }
   ],
   "source": [
    "plt.hist(df_master.Cost)\n",
    "plt.title(\"Cost Histogram\") \n",
    "plt.show()"
   ]
  },
  {
   "cell_type": "markdown",
   "id": "ba4d24a1",
   "metadata": {},
   "source": [
    "It isn’t clear the cost represent unit cost or total cost \n",
    "\n",
    "As seen, NaN ratio on age is 1.8%. Let's look at the boxplot and distribution without NaN"
   ]
  },
  {
   "cell_type": "code",
   "execution_count": 32,
   "id": "30b717ef",
   "metadata": {
    "scrolled": true
   },
   "outputs": [
    {
     "data": {
      "text/plain": [
       "6.25     0.106494\n",
       "6.99     0.057143\n",
       "7.90     0.044156\n",
       "8.25     0.044156\n",
       "7.00     0.041558\n",
       "7.50     0.041558\n",
       "6.60     0.038961\n",
       "7.49     0.038961\n",
       "5.99     0.038961\n",
       "6.50     0.036364\n",
       "7.89     0.023377\n",
       "6.85     0.020779\n",
       "6.95     0.020779\n",
       "5.50     0.018182\n",
       "NaN      0.018182\n",
       "8.50     0.015584\n",
       "4.99     0.015584\n",
       "6.39     0.012987\n",
       "6.75     0.012987\n",
       "6.00     0.012987\n",
       "6.49     0.010390\n",
       "8.75     0.010390\n",
       "7.75     0.010390\n",
       "5.25     0.010390\n",
       "7.35     0.007792\n",
       "5.56     0.007792\n",
       "6.89     0.007792\n",
       "7.99     0.007792\n",
       "7.19     0.007792\n",
       "7.65     0.007792\n",
       "8.00     0.007792\n",
       "5.95     0.007792\n",
       "6.35     0.007792\n",
       "9.50     0.007792\n",
       "9.00     0.007792\n",
       "8.59     0.005195\n",
       "5.79     0.005195\n",
       "4.87     0.005195\n",
       "7.25     0.005195\n",
       "7.10     0.005195\n",
       "5.00     0.005195\n",
       "5.55     0.005195\n",
       "6.47     0.005195\n",
       "6.65     0.005195\n",
       "6.40     0.005195\n",
       "6.94     0.005195\n",
       "9.25     0.005195\n",
       "10.00    0.005195\n",
       "5.49     0.005195\n",
       "7.14     0.005195\n",
       "8.95     0.005195\n",
       "11.95    0.005195\n",
       "7.95     0.005195\n",
       "7.40     0.005195\n",
       "5.69     0.005195\n",
       "7.29     0.005195\n",
       "5.65     0.002597\n",
       "6.90     0.002597\n",
       "10.50    0.002597\n",
       "6.10     0.002597\n",
       "3.50     0.002597\n",
       "6.45     0.002597\n",
       "25.00    0.002597\n",
       "8.99     0.002597\n",
       "4.85     0.002597\n",
       "5.40     0.002597\n",
       "6.29     0.002597\n",
       "7.85     0.002597\n",
       "8.49     0.002597\n",
       "4.59     0.002597\n",
       "11.75    0.002597\n",
       "8.55     0.002597\n",
       "5.45     0.002597\n",
       "5.29     0.002597\n",
       "9.99     0.002597\n",
       "9.19     0.002597\n",
       "3.99     0.002597\n",
       "6.30     0.002597\n",
       "7.15     0.002597\n",
       "9.95     0.002597\n",
       "6.02     0.002597\n",
       "7.30     0.002597\n",
       "6.70     0.002597\n",
       "8.94     0.002597\n",
       "9.43     0.002597\n",
       "11.50    0.002597\n",
       "4.75     0.002597\n",
       "7.45     0.002597\n",
       "4.95     0.002597\n",
       "7.80     0.002597\n",
       "8.35     0.002597\n",
       "5.70     0.002597\n",
       "3.75     0.002597\n",
       "7.84     0.002597\n",
       "2.99     0.002597\n",
       "6.59     0.002597\n",
       "Name: Cost, dtype: float64"
      ]
     },
     "execution_count": 32,
     "metadata": {},
     "output_type": "execute_result"
    }
   ],
   "source": [
    "df_master.Cost.value_counts(normalize=True,dropna=False)"
   ]
  },
  {
   "cell_type": "code",
   "execution_count": 33,
   "id": "247c27d3",
   "metadata": {},
   "outputs": [
    {
     "data": {
      "image/png": "[encoded data removed]",
      "text/plain": [
       "<Figure size 432x288 with 1 Axes>"
      ]
     },
     "metadata": {
      "needs_background": "light"
     },
     "output_type": "display_data"
    }
   ],
   "source": [
    "plt.boxplot(df_master[(~df_master.Cost.isna())]['Cost'])\n",
    "plt.title(\"Cost Boxplot\") \n",
    "plt.show()"
   ]
  },
  {
   "cell_type": "markdown",
   "id": "b0d8a8bc",
   "metadata": {},
   "source": [
    "Boxplot shows that we have few outliers. However, the distribution converges to normal. Most of the the data lies between 5-15 anyways so let's see how is the distribution between cost of 5 and 15."
   ]
  },
  {
   "cell_type": "code",
   "execution_count": 34,
   "id": "06a3007e",
   "metadata": {},
   "outputs": [
    {
     "data": {
      "image/png": "[encoded data removed]",
      "text/plain": [
       "<Figure size 360x360 with 1 Axes>"
      ]
     },
     "metadata": {
      "needs_background": "light"
     },
     "output_type": "display_data"
    }
   ],
   "source": [
    "sns.displot(df_master[(~df_master.Cost.isna())]['Cost'])\n",
    "plt.show()"
   ]
  },
  {
   "cell_type": "code",
   "execution_count": 35,
   "id": "757a0f3f",
   "metadata": {},
   "outputs": [
    {
     "data": {
      "image/png": "[encoded data removed]",
      "text/plain": [
       "<Figure size 360x360 with 1 Axes>"
      ]
     },
     "metadata": {
      "needs_background": "light"
     },
     "output_type": "display_data"
    }
   ],
   "source": [
    "sns.displot(df_master[(~df_master.Cost.isna()) & (df_master.Cost>4) & (df_master.Cost<15)]['Cost'])\n",
    "plt.show()"
   ]
  },
  {
   "cell_type": "markdown",
   "id": "1752fa18",
   "metadata": {},
   "source": [
    "Finally we have smoother distribution on data. It contains 96% percent of all data."
   ]
  },
  {
   "cell_type": "code",
   "execution_count": 36,
   "id": "19f2fc39",
   "metadata": {},
   "outputs": [
    {
     "data": {
      "text/plain": [
       "0.9688311688311688"
      ]
     },
     "execution_count": 36,
     "metadata": {},
     "output_type": "execute_result"
    }
   ],
   "source": [
    "len(df_master[(~df_master.Cost.isna()) & (df_master.Cost>4) & (df_master.Cost<15)]['Cost'])/len(df_master)"
   ]
  },
  {
   "cell_type": "markdown",
   "id": "9fa88bb8",
   "metadata": {},
   "source": [
    "Now, let's deal with the quantity and price, let's check whether the price is for total quantity (like multiplied quantity by unit price) or directly unit price"
   ]
  },
  {
   "cell_type": "markdown",
   "id": "5e947361",
   "metadata": {},
   "source": [
    "It seems that cost represents the unit price of the order but there is difference between fractions of price"
   ]
  },
  {
   "cell_type": "code",
   "execution_count": 37,
   "id": "fb269c41",
   "metadata": {},
   "outputs": [
    {
     "data": {
      "text/html": [
       "<div>\n",
       "<style scoped>\n",
       "    .dataframe tbody tr th:only-of-type {\n",
       "        vertical-align: middle;\n",
       "    }\n",
       "\n",
       "    .dataframe tbody tr th {\n",
       "        vertical-align: top;\n",
       "    }\n",
       "\n",
       "    .dataframe thead th {\n",
       "        text-align: right;\n",
       "    }\n",
       "</style>\n",
       "<table border=\"1\" class=\"dataframe\">\n",
       "  <thead>\n",
       "    <tr style=\"text-align: right;\">\n",
       "      <th></th>\n",
       "      <th>Location</th>\n",
       "      <th>Burrito</th>\n",
       "      <th>Date</th>\n",
       "      <th>Neighborhood</th>\n",
       "      <th>Address</th>\n",
       "      <th>URL</th>\n",
       "      <th>Yelp</th>\n",
       "      <th>Google</th>\n",
       "      <th>Chips</th>\n",
       "      <th>Cost</th>\n",
       "      <th>Hunger</th>\n",
       "      <th>Mass (g)</th>\n",
       "      <th>Density (g/mL)</th>\n",
       "      <th>Length</th>\n",
       "      <th>Circum</th>\n",
       "      <th>Volume</th>\n",
       "      <th>Tortilla</th>\n",
       "      <th>Temp</th>\n",
       "      <th>Meat</th>\n",
       "      <th>Fillings</th>\n",
       "      <th>Meat:filling</th>\n",
       "      <th>Uniformity</th>\n",
       "      <th>Salsa</th>\n",
       "      <th>Synergy</th>\n",
       "      <th>Wrap</th>\n",
       "      <th>overall</th>\n",
       "      <th>Rec</th>\n",
       "      <th>Reviewer</th>\n",
       "      <th>Notes</th>\n",
       "      <th>Unreliable</th>\n",
       "      <th>NonSD</th>\n",
       "      <th>Beef</th>\n",
       "      <th>Pico</th>\n",
       "      <th>Guac</th>\n",
       "      <th>Cheese</th>\n",
       "      <th>Fries</th>\n",
       "      <th>Sour cream</th>\n",
       "      <th>Pork</th>\n",
       "      <th>Chicken</th>\n",
       "      <th>Shrimp</th>\n",
       "      <th>Fish</th>\n",
       "      <th>Rice</th>\n",
       "      <th>Beans</th>\n",
       "      <th>Lettuce</th>\n",
       "      <th>Tomato</th>\n",
       "      <th>Bell peper</th>\n",
       "      <th>Carrots</th>\n",
       "      <th>Cabbage</th>\n",
       "      <th>Sauce</th>\n",
       "      <th>Salsa.1</th>\n",
       "      <th>Cilantro</th>\n",
       "      <th>Onion</th>\n",
       "      <th>Taquito</th>\n",
       "      <th>Pineapple</th>\n",
       "      <th>Ham</th>\n",
       "      <th>Chile relleno</th>\n",
       "      <th>Nopales</th>\n",
       "      <th>Lobster</th>\n",
       "      <th>Queso</th>\n",
       "      <th>Egg</th>\n",
       "      <th>Mushroom</th>\n",
       "      <th>Bacon</th>\n",
       "      <th>Sushi</th>\n",
       "      <th>Avocado</th>\n",
       "      <th>Corn</th>\n",
       "      <th>Zucchini</th>\n",
       "    </tr>\n",
       "  </thead>\n",
       "  <tbody>\n",
       "    <tr>\n",
       "      <th>240</th>\n",
       "      <td>Taco Villa</td>\n",
       "      <td>Carnitas</td>\n",
       "      <td>2016-09-26</td>\n",
       "      <td>UTC</td>\n",
       "      <td>9500 Gilman Dr</td>\n",
       "      <td>https://www.yelp.com/biz/taco-villa-san-diego</td>\n",
       "      <td>3.5</td>\n",
       "      <td>3.5</td>\n",
       "      <td>NaN</td>\n",
       "      <td>5.99</td>\n",
       "      <td>2.5</td>\n",
       "      <td>NaN</td>\n",
       "      <td>NaN</td>\n",
       "      <td>18.5</td>\n",
       "      <td>20.0</td>\n",
       "      <td>0.59</td>\n",
       "      <td>3.2</td>\n",
       "      <td>3.8</td>\n",
       "      <td>4.5</td>\n",
       "      <td>2.8</td>\n",
       "      <td>4.0</td>\n",
       "      <td>2.0</td>\n",
       "      <td>1.8</td>\n",
       "      <td>3.5</td>\n",
       "      <td>5.0</td>\n",
       "      <td>4.0</td>\n",
       "      <td>Yes</td>\n",
       "      <td>Scott</td>\n",
       "      <td>Carnitas very good</td>\n",
       "      <td>NaN</td>\n",
       "      <td>NaN</td>\n",
       "      <td>NaN</td>\n",
       "      <td>X</td>\n",
       "      <td>X</td>\n",
       "      <td>NaN</td>\n",
       "      <td>NaN</td>\n",
       "      <td>NaN</td>\n",
       "      <td>X</td>\n",
       "      <td>NaN</td>\n",
       "      <td>NaN</td>\n",
       "      <td>NaN</td>\n",
       "      <td>NaN</td>\n",
       "      <td>NaN</td>\n",
       "      <td>NaN</td>\n",
       "      <td>NaN</td>\n",
       "      <td>NaN</td>\n",
       "      <td>NaN</td>\n",
       "      <td>NaN</td>\n",
       "      <td>NaN</td>\n",
       "      <td>NaN</td>\n",
       "      <td>NaN</td>\n",
       "      <td>NaN</td>\n",
       "      <td>NaN</td>\n",
       "      <td>NaN</td>\n",
       "      <td>NaN</td>\n",
       "      <td>NaN</td>\n",
       "      <td>NaN</td>\n",
       "      <td>NaN</td>\n",
       "      <td>NaN</td>\n",
       "      <td>NaN</td>\n",
       "      <td>NaN</td>\n",
       "      <td>NaN</td>\n",
       "      <td>NaN</td>\n",
       "      <td>NaN</td>\n",
       "      <td>NaN</td>\n",
       "      <td>NaN</td>\n",
       "    </tr>\n",
       "    <tr>\n",
       "      <th>263</th>\n",
       "      <td>Taco Villa</td>\n",
       "      <td>Carnitas</td>\n",
       "      <td>2016-10-27</td>\n",
       "      <td>NaN</td>\n",
       "      <td>NaN</td>\n",
       "      <td>NaN</td>\n",
       "      <td>NaN</td>\n",
       "      <td>NaN</td>\n",
       "      <td>NaN</td>\n",
       "      <td>5.95</td>\n",
       "      <td>3.0</td>\n",
       "      <td>NaN</td>\n",
       "      <td>NaN</td>\n",
       "      <td>18.0</td>\n",
       "      <td>20.0</td>\n",
       "      <td>0.57</td>\n",
       "      <td>4.0</td>\n",
       "      <td>3.0</td>\n",
       "      <td>4.0</td>\n",
       "      <td>3.0</td>\n",
       "      <td>4.0</td>\n",
       "      <td>2.0</td>\n",
       "      <td>3.5</td>\n",
       "      <td>3.0</td>\n",
       "      <td>5.0</td>\n",
       "      <td>3.9</td>\n",
       "      <td>Yes</td>\n",
       "      <td>Scott</td>\n",
       "      <td>NaN</td>\n",
       "      <td>NaN</td>\n",
       "      <td>NaN</td>\n",
       "      <td>NaN</td>\n",
       "      <td>x</td>\n",
       "      <td>x</td>\n",
       "      <td>NaN</td>\n",
       "      <td>NaN</td>\n",
       "      <td>NaN</td>\n",
       "      <td>x</td>\n",
       "      <td>NaN</td>\n",
       "      <td>NaN</td>\n",
       "      <td>NaN</td>\n",
       "      <td>NaN</td>\n",
       "      <td>NaN</td>\n",
       "      <td>NaN</td>\n",
       "      <td>NaN</td>\n",
       "      <td>NaN</td>\n",
       "      <td>NaN</td>\n",
       "      <td>NaN</td>\n",
       "      <td>NaN</td>\n",
       "      <td>NaN</td>\n",
       "      <td>NaN</td>\n",
       "      <td>NaN</td>\n",
       "      <td>NaN</td>\n",
       "      <td>NaN</td>\n",
       "      <td>NaN</td>\n",
       "      <td>NaN</td>\n",
       "      <td>NaN</td>\n",
       "      <td>NaN</td>\n",
       "      <td>NaN</td>\n",
       "      <td>NaN</td>\n",
       "      <td>NaN</td>\n",
       "      <td>NaN</td>\n",
       "      <td>NaN</td>\n",
       "      <td>NaN</td>\n",
       "      <td>NaN</td>\n",
       "      <td>NaN</td>\n",
       "    </tr>\n",
       "    <tr>\n",
       "      <th>333</th>\n",
       "      <td>Taco Villa</td>\n",
       "      <td>Carnitas</td>\n",
       "      <td>2017-04-25</td>\n",
       "      <td>NaN</td>\n",
       "      <td>NaN</td>\n",
       "      <td>NaN</td>\n",
       "      <td>NaN</td>\n",
       "      <td>NaN</td>\n",
       "      <td>NaN</td>\n",
       "      <td>5.99</td>\n",
       "      <td>4.0</td>\n",
       "      <td>450.0</td>\n",
       "      <td>0.703125</td>\n",
       "      <td>20.0</td>\n",
       "      <td>20.0</td>\n",
       "      <td>0.64</td>\n",
       "      <td>2.0</td>\n",
       "      <td>4.5</td>\n",
       "      <td>4.5</td>\n",
       "      <td>3.0</td>\n",
       "      <td>3.8</td>\n",
       "      <td>4.4</td>\n",
       "      <td>2.5</td>\n",
       "      <td>3.5</td>\n",
       "      <td>3.0</td>\n",
       "      <td>4.0</td>\n",
       "      <td>NaN</td>\n",
       "      <td>Scott</td>\n",
       "      <td>NaN</td>\n",
       "      <td>NaN</td>\n",
       "      <td>NaN</td>\n",
       "      <td>NaN</td>\n",
       "      <td>x</td>\n",
       "      <td>x</td>\n",
       "      <td>NaN</td>\n",
       "      <td>NaN</td>\n",
       "      <td>NaN</td>\n",
       "      <td>x</td>\n",
       "      <td>NaN</td>\n",
       "      <td>NaN</td>\n",
       "      <td>NaN</td>\n",
       "      <td>NaN</td>\n",
       "      <td>NaN</td>\n",
       "      <td>NaN</td>\n",
       "      <td>NaN</td>\n",
       "      <td>NaN</td>\n",
       "      <td>NaN</td>\n",
       "      <td>NaN</td>\n",
       "      <td>NaN</td>\n",
       "      <td>NaN</td>\n",
       "      <td>NaN</td>\n",
       "      <td>NaN</td>\n",
       "      <td>NaN</td>\n",
       "      <td>NaN</td>\n",
       "      <td>NaN</td>\n",
       "      <td>NaN</td>\n",
       "      <td>NaN</td>\n",
       "      <td>NaN</td>\n",
       "      <td>NaN</td>\n",
       "      <td>NaN</td>\n",
       "      <td>NaN</td>\n",
       "      <td>NaN</td>\n",
       "      <td>NaN</td>\n",
       "      <td>NaN</td>\n",
       "      <td>NaN</td>\n",
       "      <td>NaN</td>\n",
       "    </tr>\n",
       "    <tr>\n",
       "      <th>334</th>\n",
       "      <td>Taco Villa</td>\n",
       "      <td>Carnitas</td>\n",
       "      <td>2017-04-25</td>\n",
       "      <td>NaN</td>\n",
       "      <td>NaN</td>\n",
       "      <td>NaN</td>\n",
       "      <td>NaN</td>\n",
       "      <td>NaN</td>\n",
       "      <td>NaN</td>\n",
       "      <td>5.99</td>\n",
       "      <td>4.0</td>\n",
       "      <td>NaN</td>\n",
       "      <td>NaN</td>\n",
       "      <td>18.5</td>\n",
       "      <td>20.0</td>\n",
       "      <td>0.59</td>\n",
       "      <td>4.0</td>\n",
       "      <td>4.0</td>\n",
       "      <td>4.0</td>\n",
       "      <td>3.0</td>\n",
       "      <td>4.0</td>\n",
       "      <td>3.5</td>\n",
       "      <td>2.5</td>\n",
       "      <td>3.5</td>\n",
       "      <td>5.0</td>\n",
       "      <td>3.5</td>\n",
       "      <td>NaN</td>\n",
       "      <td>Richard</td>\n",
       "      <td>NaN</td>\n",
       "      <td>NaN</td>\n",
       "      <td>NaN</td>\n",
       "      <td>NaN</td>\n",
       "      <td>x</td>\n",
       "      <td>x</td>\n",
       "      <td>NaN</td>\n",
       "      <td>NaN</td>\n",
       "      <td>NaN</td>\n",
       "      <td>x</td>\n",
       "      <td>NaN</td>\n",
       "      <td>NaN</td>\n",
       "      <td>NaN</td>\n",
       "      <td>NaN</td>\n",
       "      <td>NaN</td>\n",
       "      <td>NaN</td>\n",
       "      <td>NaN</td>\n",
       "      <td>NaN</td>\n",
       "      <td>NaN</td>\n",
       "      <td>NaN</td>\n",
       "      <td>NaN</td>\n",
       "      <td>NaN</td>\n",
       "      <td>NaN</td>\n",
       "      <td>NaN</td>\n",
       "      <td>NaN</td>\n",
       "      <td>NaN</td>\n",
       "      <td>NaN</td>\n",
       "      <td>NaN</td>\n",
       "      <td>NaN</td>\n",
       "      <td>NaN</td>\n",
       "      <td>NaN</td>\n",
       "      <td>NaN</td>\n",
       "      <td>NaN</td>\n",
       "      <td>NaN</td>\n",
       "      <td>NaN</td>\n",
       "      <td>NaN</td>\n",
       "      <td>NaN</td>\n",
       "      <td>NaN</td>\n",
       "    </tr>\n",
       "    <tr>\n",
       "      <th>376</th>\n",
       "      <td>Taco Villa</td>\n",
       "      <td>Carnitas</td>\n",
       "      <td>2017-08-25</td>\n",
       "      <td>NaN</td>\n",
       "      <td>NaN</td>\n",
       "      <td>NaN</td>\n",
       "      <td>NaN</td>\n",
       "      <td>NaN</td>\n",
       "      <td>NaN</td>\n",
       "      <td>5.99</td>\n",
       "      <td>2.0</td>\n",
       "      <td>NaN</td>\n",
       "      <td>NaN</td>\n",
       "      <td>20.0</td>\n",
       "      <td>21.5</td>\n",
       "      <td>0.74</td>\n",
       "      <td>2.0</td>\n",
       "      <td>2.5</td>\n",
       "      <td>4.0</td>\n",
       "      <td>3.0</td>\n",
       "      <td>4.0</td>\n",
       "      <td>3.5</td>\n",
       "      <td>3.0</td>\n",
       "      <td>3.0</td>\n",
       "      <td>5.0</td>\n",
       "      <td>3.8</td>\n",
       "      <td>NaN</td>\n",
       "      <td>Scott</td>\n",
       "      <td>NaN</td>\n",
       "      <td>NaN</td>\n",
       "      <td>NaN</td>\n",
       "      <td>NaN</td>\n",
       "      <td>NaN</td>\n",
       "      <td>NaN</td>\n",
       "      <td>NaN</td>\n",
       "      <td>NaN</td>\n",
       "      <td>NaN</td>\n",
       "      <td>NaN</td>\n",
       "      <td>NaN</td>\n",
       "      <td>NaN</td>\n",
       "      <td>NaN</td>\n",
       "      <td>NaN</td>\n",
       "      <td>NaN</td>\n",
       "      <td>NaN</td>\n",
       "      <td>NaN</td>\n",
       "      <td>NaN</td>\n",
       "      <td>NaN</td>\n",
       "      <td>NaN</td>\n",
       "      <td>NaN</td>\n",
       "      <td>NaN</td>\n",
       "      <td>NaN</td>\n",
       "      <td>NaN</td>\n",
       "      <td>NaN</td>\n",
       "      <td>NaN</td>\n",
       "      <td>NaN</td>\n",
       "      <td>NaN</td>\n",
       "      <td>NaN</td>\n",
       "      <td>NaN</td>\n",
       "      <td>NaN</td>\n",
       "      <td>NaN</td>\n",
       "      <td>NaN</td>\n",
       "      <td>NaN</td>\n",
       "      <td>NaN</td>\n",
       "      <td>NaN</td>\n",
       "      <td>NaN</td>\n",
       "      <td>NaN</td>\n",
       "    </tr>\n",
       "  </tbody>\n",
       "</table>\n",
       "</div>"
      ],
      "text/plain": [
       "       Location   Burrito       Date Neighborhood         Address  \\\n",
       "240  Taco Villa  Carnitas 2016-09-26          UTC  9500 Gilman Dr   \n",
       "263  Taco Villa  Carnitas 2016-10-27          NaN             NaN   \n",
       "333  Taco Villa  Carnitas 2017-04-25          NaN             NaN   \n",
       "334  Taco Villa  Carnitas 2017-04-25          NaN             NaN   \n",
       "376  Taco Villa  Carnitas 2017-08-25          NaN             NaN   \n",
       "\n",
       "                                               URL  Yelp  Google Chips  Cost  \\\n",
       "240  https://www.yelp.com/biz/taco-villa-san-diego   3.5     3.5   NaN  5.99   \n",
       "263                                            NaN   NaN     NaN   NaN  5.95   \n",
       "333                                            NaN   NaN     NaN   NaN  5.99   \n",
       "334                                            NaN   NaN     NaN   NaN  5.99   \n",
       "376                                            NaN   NaN     NaN   NaN  5.99   \n",
       "\n",
       "     Hunger  Mass (g)  Density (g/mL)  Length  Circum  Volume  Tortilla  Temp  \\\n",
       "240     2.5       NaN             NaN    18.5    20.0    0.59       3.2   3.8   \n",
       "263     3.0       NaN             NaN    18.0    20.0    0.57       4.0   3.0   \n",
       "333     4.0     450.0        0.703125    20.0    20.0    0.64       2.0   4.5   \n",
       "334     4.0       NaN             NaN    18.5    20.0    0.59       4.0   4.0   \n",
       "376     2.0       NaN             NaN    20.0    21.5    0.74       2.0   2.5   \n",
       "\n",
       "     Meat  Fillings  Meat:filling  Uniformity  Salsa  Synergy  Wrap  overall  \\\n",
       "240   4.5       2.8           4.0         2.0    1.8      3.5   5.0      4.0   \n",
       "263   4.0       3.0           4.0         2.0    3.5      3.0   5.0      3.9   \n",
       "333   4.5       3.0           3.8         4.4    2.5      3.5   3.0      4.0   \n",
       "334   4.0       3.0           4.0         3.5    2.5      3.5   5.0      3.5   \n",
       "376   4.0       3.0           4.0         3.5    3.0      3.0   5.0      3.8   \n",
       "\n",
       "     Rec Reviewer               Notes Unreliable NonSD Beef Pico Guac Cheese  \\\n",
       "240  Yes    Scott  Carnitas very good        NaN   NaN  NaN    X    X    NaN   \n",
       "263  Yes    Scott                 NaN        NaN   NaN  NaN    x    x    NaN   \n",
       "333  NaN    Scott                 NaN        NaN   NaN  NaN    x    x    NaN   \n",
       "334  NaN  Richard                 NaN        NaN   NaN  NaN    x    x    NaN   \n",
       "376  NaN    Scott                 NaN        NaN   NaN  NaN  NaN  NaN    NaN   \n",
       "\n",
       "    Fries Sour cream Pork Chicken Shrimp Fish Rice Beans Lettuce Tomato  \\\n",
       "240   NaN        NaN    X     NaN    NaN  NaN  NaN   NaN     NaN    NaN   \n",
       "263   NaN        NaN    x     NaN    NaN  NaN  NaN   NaN     NaN    NaN   \n",
       "333   NaN        NaN    x     NaN    NaN  NaN  NaN   NaN     NaN    NaN   \n",
       "334   NaN        NaN    x     NaN    NaN  NaN  NaN   NaN     NaN    NaN   \n",
       "376   NaN        NaN  NaN     NaN    NaN  NaN  NaN   NaN     NaN    NaN   \n",
       "\n",
       "    Bell peper Carrots Cabbage Sauce Salsa.1 Cilantro Onion Taquito Pineapple  \\\n",
       "240        NaN     NaN     NaN   NaN     NaN      NaN   NaN     NaN       NaN   \n",
       "263        NaN     NaN     NaN   NaN     NaN      NaN   NaN     NaN       NaN   \n",
       "333        NaN     NaN     NaN   NaN     NaN      NaN   NaN     NaN       NaN   \n",
       "334        NaN     NaN     NaN   NaN     NaN      NaN   NaN     NaN       NaN   \n",
       "376        NaN     NaN     NaN   NaN     NaN      NaN   NaN     NaN       NaN   \n",
       "\n",
       "     Ham Chile relleno Nopales Lobster  Queso  Egg Mushroom Bacon Sushi  \\\n",
       "240  NaN           NaN     NaN     NaN    NaN  NaN      NaN   NaN   NaN   \n",
       "263  NaN           NaN     NaN     NaN    NaN  NaN      NaN   NaN   NaN   \n",
       "333  NaN           NaN     NaN     NaN    NaN  NaN      NaN   NaN   NaN   \n",
       "334  NaN           NaN     NaN     NaN    NaN  NaN      NaN   NaN   NaN   \n",
       "376  NaN           NaN     NaN     NaN    NaN  NaN      NaN   NaN   NaN   \n",
       "\n",
       "    Avocado Corn Zucchini  \n",
       "240     NaN  NaN      NaN  \n",
       "263     NaN  NaN      NaN  \n",
       "333     NaN  NaN      NaN  \n",
       "334     NaN  NaN      NaN  \n",
       "376     NaN  NaN      NaN  "
      ]
     },
     "execution_count": 37,
     "metadata": {},
     "output_type": "execute_result"
    }
   ],
   "source": [
    "df_master[(df_master.Location == 'Taco Villa') & (df_master.Burrito == 'Carnitas')]"
   ]
  },
  {
   "cell_type": "markdown",
   "id": "ed3b293c",
   "metadata": {},
   "source": [
    "Lets found the amount of order for each day "
   ]
  },
  {
   "cell_type": "code",
   "execution_count": 38,
   "id": "f646e200",
   "metadata": {},
   "outputs": [
    {
     "data": {
      "text/html": [
       "<div>\n",
       "<style scoped>\n",
       "    .dataframe tbody tr th:only-of-type {\n",
       "        vertical-align: middle;\n",
       "    }\n",
       "\n",
       "    .dataframe tbody tr th {\n",
       "        vertical-align: top;\n",
       "    }\n",
       "\n",
       "    .dataframe thead th {\n",
       "        text-align: right;\n",
       "    }\n",
       "</style>\n",
       "<table border=\"1\" class=\"dataframe\">\n",
       "  <thead>\n",
       "    <tr style=\"text-align: right;\">\n",
       "      <th></th>\n",
       "      <th>Date</th>\n",
       "      <th>Cost</th>\n",
       "    </tr>\n",
       "  </thead>\n",
       "  <tbody>\n",
       "    <tr>\n",
       "      <th>76</th>\n",
       "      <td>2016-08-30</td>\n",
       "      <td>220.44</td>\n",
       "    </tr>\n",
       "    <tr>\n",
       "      <th>65</th>\n",
       "      <td>2016-06-24</td>\n",
       "      <td>55.50</td>\n",
       "    </tr>\n",
       "    <tr>\n",
       "      <th>37</th>\n",
       "      <td>2016-05-06</td>\n",
       "      <td>54.29</td>\n",
       "    </tr>\n",
       "    <tr>\n",
       "      <th>40</th>\n",
       "      <td>2016-05-13</td>\n",
       "      <td>46.20</td>\n",
       "    </tr>\n",
       "    <tr>\n",
       "      <th>32</th>\n",
       "      <td>2016-04-15</td>\n",
       "      <td>44.65</td>\n",
       "    </tr>\n",
       "    <tr>\n",
       "      <th>66</th>\n",
       "      <td>2016-08-01</td>\n",
       "      <td>44.50</td>\n",
       "    </tr>\n",
       "    <tr>\n",
       "      <th>24</th>\n",
       "      <td>2016-03-21</td>\n",
       "      <td>42.30</td>\n",
       "    </tr>\n",
       "    <tr>\n",
       "      <th>56</th>\n",
       "      <td>2016-06-03</td>\n",
       "      <td>40.85</td>\n",
       "    </tr>\n",
       "    <tr>\n",
       "      <th>102</th>\n",
       "      <td>2016-11-16</td>\n",
       "      <td>38.35</td>\n",
       "    </tr>\n",
       "    <tr>\n",
       "      <th>122</th>\n",
       "      <td>2017-04-07</td>\n",
       "      <td>37.75</td>\n",
       "    </tr>\n",
       "    <tr>\n",
       "      <th>27</th>\n",
       "      <td>2016-04-02</td>\n",
       "      <td>32.90</td>\n",
       "    </tr>\n",
       "    <tr>\n",
       "      <th>143</th>\n",
       "      <td>2017-08-14</td>\n",
       "      <td>32.00</td>\n",
       "    </tr>\n",
       "    <tr>\n",
       "      <th>124</th>\n",
       "      <td>2017-04-25</td>\n",
       "      <td>31.98</td>\n",
       "    </tr>\n",
       "    <tr>\n",
       "      <th>119</th>\n",
       "      <td>2017-02-25</td>\n",
       "      <td>31.60</td>\n",
       "    </tr>\n",
       "    <tr>\n",
       "      <th>53</th>\n",
       "      <td>2016-05-29</td>\n",
       "      <td>31.40</td>\n",
       "    </tr>\n",
       "    <tr>\n",
       "      <th>113</th>\n",
       "      <td>2017-01-12</td>\n",
       "      <td>30.16</td>\n",
       "    </tr>\n",
       "    <tr>\n",
       "      <th>33</th>\n",
       "      <td>2016-04-24</td>\n",
       "      <td>29.45</td>\n",
       "    </tr>\n",
       "    <tr>\n",
       "      <th>64</th>\n",
       "      <td>2016-06-23</td>\n",
       "      <td>29.25</td>\n",
       "    </tr>\n",
       "    <tr>\n",
       "      <th>19</th>\n",
       "      <td>2016-03-14</td>\n",
       "      <td>28.25</td>\n",
       "    </tr>\n",
       "    <tr>\n",
       "      <th>86</th>\n",
       "      <td>2016-09-27</td>\n",
       "      <td>27.15</td>\n",
       "    </tr>\n",
       "    <tr>\n",
       "      <th>9</th>\n",
       "      <td>2016-02-11</td>\n",
       "      <td>26.44</td>\n",
       "    </tr>\n",
       "    <tr>\n",
       "      <th>98</th>\n",
       "      <td>2016-11-02</td>\n",
       "      <td>25.56</td>\n",
       "    </tr>\n",
       "    <tr>\n",
       "      <th>100</th>\n",
       "      <td>2016-11-08</td>\n",
       "      <td>25.00</td>\n",
       "    </tr>\n",
       "    <tr>\n",
       "      <th>45</th>\n",
       "      <td>2016-05-20</td>\n",
       "      <td>24.74</td>\n",
       "    </tr>\n",
       "    <tr>\n",
       "      <th>51</th>\n",
       "      <td>2016-05-27</td>\n",
       "      <td>24.70</td>\n",
       "    </tr>\n",
       "    <tr>\n",
       "      <th>79</th>\n",
       "      <td>2016-09-11</td>\n",
       "      <td>24.56</td>\n",
       "    </tr>\n",
       "    <tr>\n",
       "      <th>39</th>\n",
       "      <td>2016-05-12</td>\n",
       "      <td>24.50</td>\n",
       "    </tr>\n",
       "    <tr>\n",
       "      <th>136</th>\n",
       "      <td>2017-07-06</td>\n",
       "      <td>23.15</td>\n",
       "    </tr>\n",
       "    <tr>\n",
       "      <th>131</th>\n",
       "      <td>2017-05-30</td>\n",
       "      <td>23.00</td>\n",
       "    </tr>\n",
       "    <tr>\n",
       "      <th>128</th>\n",
       "      <td>2017-05-17</td>\n",
       "      <td>22.69</td>\n",
       "    </tr>\n",
       "    <tr>\n",
       "      <th>92</th>\n",
       "      <td>2016-10-12</td>\n",
       "      <td>22.45</td>\n",
       "    </tr>\n",
       "    <tr>\n",
       "      <th>61</th>\n",
       "      <td>2016-06-11</td>\n",
       "      <td>21.55</td>\n",
       "    </tr>\n",
       "    <tr>\n",
       "      <th>93</th>\n",
       "      <td>2016-10-17</td>\n",
       "      <td>20.94</td>\n",
       "    </tr>\n",
       "    <tr>\n",
       "      <th>104</th>\n",
       "      <td>2016-11-23</td>\n",
       "      <td>20.50</td>\n",
       "    </tr>\n",
       "    <tr>\n",
       "      <th>48</th>\n",
       "      <td>2016-05-23</td>\n",
       "      <td>20.30</td>\n",
       "    </tr>\n",
       "    <tr>\n",
       "      <th>67</th>\n",
       "      <td>2016-08-06</td>\n",
       "      <td>20.25</td>\n",
       "    </tr>\n",
       "    <tr>\n",
       "      <th>16</th>\n",
       "      <td>2016-03-03</td>\n",
       "      <td>19.27</td>\n",
       "    </tr>\n",
       "    <tr>\n",
       "      <th>83</th>\n",
       "      <td>2016-09-22</td>\n",
       "      <td>19.25</td>\n",
       "    </tr>\n",
       "    <tr>\n",
       "      <th>42</th>\n",
       "      <td>2016-05-16</td>\n",
       "      <td>18.25</td>\n",
       "    </tr>\n",
       "    <tr>\n",
       "      <th>26</th>\n",
       "      <td>2016-03-30</td>\n",
       "      <td>17.98</td>\n",
       "    </tr>\n",
       "    <tr>\n",
       "      <th>25</th>\n",
       "      <td>2016-03-23</td>\n",
       "      <td>17.18</td>\n",
       "    </tr>\n",
       "    <tr>\n",
       "      <th>147</th>\n",
       "      <td>2017-09-04</td>\n",
       "      <td>17.00</td>\n",
       "    </tr>\n",
       "    <tr>\n",
       "      <th>140</th>\n",
       "      <td>2017-07-22</td>\n",
       "      <td>17.00</td>\n",
       "    </tr>\n",
       "    <tr>\n",
       "      <th>94</th>\n",
       "      <td>2016-10-18</td>\n",
       "      <td>16.99</td>\n",
       "    </tr>\n",
       "    <tr>\n",
       "      <th>57</th>\n",
       "      <td>2016-06-05</td>\n",
       "      <td>16.40</td>\n",
       "    </tr>\n",
       "    <tr>\n",
       "      <th>111</th>\n",
       "      <td>2017-01-07</td>\n",
       "      <td>16.40</td>\n",
       "    </tr>\n",
       "    <tr>\n",
       "      <th>135</th>\n",
       "      <td>2017-06-24</td>\n",
       "      <td>16.35</td>\n",
       "    </tr>\n",
       "    <tr>\n",
       "      <th>10</th>\n",
       "      <td>2016-02-12</td>\n",
       "      <td>15.98</td>\n",
       "    </tr>\n",
       "    <tr>\n",
       "      <th>82</th>\n",
       "      <td>2016-09-18</td>\n",
       "      <td>15.80</td>\n",
       "    </tr>\n",
       "    <tr>\n",
       "      <th>114</th>\n",
       "      <td>2017-01-15</td>\n",
       "      <td>15.80</td>\n",
       "    </tr>\n",
       "    <tr>\n",
       "      <th>88</th>\n",
       "      <td>2016-10-01</td>\n",
       "      <td>15.80</td>\n",
       "    </tr>\n",
       "    <tr>\n",
       "      <th>133</th>\n",
       "      <td>2017-06-10</td>\n",
       "      <td>15.78</td>\n",
       "    </tr>\n",
       "    <tr>\n",
       "      <th>31</th>\n",
       "      <td>2016-04-14</td>\n",
       "      <td>15.78</td>\n",
       "    </tr>\n",
       "    <tr>\n",
       "      <th>150</th>\n",
       "      <td>2017-12-29</td>\n",
       "      <td>15.78</td>\n",
       "    </tr>\n",
       "    <tr>\n",
       "      <th>8</th>\n",
       "      <td>2016-02-06</td>\n",
       "      <td>15.75</td>\n",
       "    </tr>\n",
       "    <tr>\n",
       "      <th>3</th>\n",
       "      <td>2016-01-24</td>\n",
       "      <td>15.55</td>\n",
       "    </tr>\n",
       "    <tr>\n",
       "      <th>126</th>\n",
       "      <td>2017-05-09</td>\n",
       "      <td>15.50</td>\n",
       "    </tr>\n",
       "    <tr>\n",
       "      <th>108</th>\n",
       "      <td>2016-12-10</td>\n",
       "      <td>15.50</td>\n",
       "    </tr>\n",
       "    <tr>\n",
       "      <th>145</th>\n",
       "      <td>2017-08-20</td>\n",
       "      <td>15.41</td>\n",
       "    </tr>\n",
       "    <tr>\n",
       "      <th>123</th>\n",
       "      <td>2017-04-23</td>\n",
       "      <td>15.35</td>\n",
       "    </tr>\n",
       "    <tr>\n",
       "      <th>41</th>\n",
       "      <td>2016-05-15</td>\n",
       "      <td>14.98</td>\n",
       "    </tr>\n",
       "    <tr>\n",
       "      <th>96</th>\n",
       "      <td>2016-10-29</td>\n",
       "      <td>14.98</td>\n",
       "    </tr>\n",
       "    <tr>\n",
       "      <th>14</th>\n",
       "      <td>2016-02-28</td>\n",
       "      <td>14.98</td>\n",
       "    </tr>\n",
       "    <tr>\n",
       "      <th>72</th>\n",
       "      <td>2016-08-17</td>\n",
       "      <td>14.98</td>\n",
       "    </tr>\n",
       "    <tr>\n",
       "      <th>21</th>\n",
       "      <td>2016-03-18</td>\n",
       "      <td>14.88</td>\n",
       "    </tr>\n",
       "    <tr>\n",
       "      <th>129</th>\n",
       "      <td>2017-05-26</td>\n",
       "      <td>14.80</td>\n",
       "    </tr>\n",
       "    <tr>\n",
       "      <th>141</th>\n",
       "      <td>2017-08-07</td>\n",
       "      <td>14.65</td>\n",
       "    </tr>\n",
       "    <tr>\n",
       "      <th>81</th>\n",
       "      <td>2016-09-16</td>\n",
       "      <td>14.48</td>\n",
       "    </tr>\n",
       "    <tr>\n",
       "      <th>13</th>\n",
       "      <td>2016-02-24</td>\n",
       "      <td>14.25</td>\n",
       "    </tr>\n",
       "    <tr>\n",
       "      <th>17</th>\n",
       "      <td>2016-03-08</td>\n",
       "      <td>14.25</td>\n",
       "    </tr>\n",
       "    <tr>\n",
       "      <th>132</th>\n",
       "      <td>2017-06-04</td>\n",
       "      <td>14.18</td>\n",
       "    </tr>\n",
       "    <tr>\n",
       "      <th>6</th>\n",
       "      <td>2016-01-30</td>\n",
       "      <td>14.18</td>\n",
       "    </tr>\n",
       "    <tr>\n",
       "      <th>144</th>\n",
       "      <td>2017-08-19</td>\n",
       "      <td>14.09</td>\n",
       "    </tr>\n",
       "    <tr>\n",
       "      <th>29</th>\n",
       "      <td>2016-04-07</td>\n",
       "      <td>14.05</td>\n",
       "    </tr>\n",
       "    <tr>\n",
       "      <th>99</th>\n",
       "      <td>2016-11-06</td>\n",
       "      <td>14.05</td>\n",
       "    </tr>\n",
       "    <tr>\n",
       "      <th>58</th>\n",
       "      <td>2016-06-06</td>\n",
       "      <td>13.98</td>\n",
       "    </tr>\n",
       "    <tr>\n",
       "      <th>103</th>\n",
       "      <td>2016-11-17</td>\n",
       "      <td>13.98</td>\n",
       "    </tr>\n",
       "    <tr>\n",
       "      <th>62</th>\n",
       "      <td>2016-06-16</td>\n",
       "      <td>13.88</td>\n",
       "    </tr>\n",
       "    <tr>\n",
       "      <th>70</th>\n",
       "      <td>2016-08-12</td>\n",
       "      <td>13.78</td>\n",
       "    </tr>\n",
       "    <tr>\n",
       "      <th>120</th>\n",
       "      <td>2017-03-03</td>\n",
       "      <td>13.70</td>\n",
       "    </tr>\n",
       "    <tr>\n",
       "      <th>148</th>\n",
       "      <td>2017-09-05</td>\n",
       "      <td>13.70</td>\n",
       "    </tr>\n",
       "    <tr>\n",
       "      <th>116</th>\n",
       "      <td>2017-02-15</td>\n",
       "      <td>13.70</td>\n",
       "    </tr>\n",
       "    <tr>\n",
       "      <th>47</th>\n",
       "      <td>2016-05-22</td>\n",
       "      <td>13.50</td>\n",
       "    </tr>\n",
       "    <tr>\n",
       "      <th>105</th>\n",
       "      <td>2016-11-26</td>\n",
       "      <td>13.48</td>\n",
       "    </tr>\n",
       "    <tr>\n",
       "      <th>78</th>\n",
       "      <td>2016-09-09</td>\n",
       "      <td>13.44</td>\n",
       "    </tr>\n",
       "    <tr>\n",
       "      <th>34</th>\n",
       "      <td>2016-04-27</td>\n",
       "      <td>13.28</td>\n",
       "    </tr>\n",
       "    <tr>\n",
       "      <th>89</th>\n",
       "      <td>2016-10-02</td>\n",
       "      <td>13.20</td>\n",
       "    </tr>\n",
       "    <tr>\n",
       "      <th>110</th>\n",
       "      <td>2017-01-04</td>\n",
       "      <td>13.20</td>\n",
       "    </tr>\n",
       "    <tr>\n",
       "      <th>28</th>\n",
       "      <td>2016-04-03</td>\n",
       "      <td>13.20</td>\n",
       "    </tr>\n",
       "    <tr>\n",
       "      <th>30</th>\n",
       "      <td>2016-04-09</td>\n",
       "      <td>13.20</td>\n",
       "    </tr>\n",
       "    <tr>\n",
       "      <th>73</th>\n",
       "      <td>2016-08-19</td>\n",
       "      <td>13.00</td>\n",
       "    </tr>\n",
       "    <tr>\n",
       "      <th>15</th>\n",
       "      <td>2016-02-29</td>\n",
       "      <td>13.00</td>\n",
       "    </tr>\n",
       "    <tr>\n",
       "      <th>115</th>\n",
       "      <td>2017-01-20</td>\n",
       "      <td>12.98</td>\n",
       "    </tr>\n",
       "    <tr>\n",
       "      <th>146</th>\n",
       "      <td>2017-08-25</td>\n",
       "      <td>12.98</td>\n",
       "    </tr>\n",
       "    <tr>\n",
       "      <th>23</th>\n",
       "      <td>2016-03-20</td>\n",
       "      <td>12.98</td>\n",
       "    </tr>\n",
       "    <tr>\n",
       "      <th>95</th>\n",
       "      <td>2016-10-27</td>\n",
       "      <td>12.94</td>\n",
       "    </tr>\n",
       "    <tr>\n",
       "      <th>12</th>\n",
       "      <td>2016-02-17</td>\n",
       "      <td>12.80</td>\n",
       "    </tr>\n",
       "    <tr>\n",
       "      <th>35</th>\n",
       "      <td>2016-05-04</td>\n",
       "      <td>12.74</td>\n",
       "    </tr>\n",
       "    <tr>\n",
       "      <th>68</th>\n",
       "      <td>2016-08-09</td>\n",
       "      <td>12.50</td>\n",
       "    </tr>\n",
       "    <tr>\n",
       "      <th>125</th>\n",
       "      <td>2017-05-02</td>\n",
       "      <td>12.50</td>\n",
       "    </tr>\n",
       "    <tr>\n",
       "      <th>74</th>\n",
       "      <td>2016-08-21</td>\n",
       "      <td>12.50</td>\n",
       "    </tr>\n",
       "    <tr>\n",
       "      <th>11</th>\n",
       "      <td>2016-02-14</td>\n",
       "      <td>11.98</td>\n",
       "    </tr>\n",
       "    <tr>\n",
       "      <th>97</th>\n",
       "      <td>2016-11-01</td>\n",
       "      <td>11.98</td>\n",
       "    </tr>\n",
       "    <tr>\n",
       "      <th>49</th>\n",
       "      <td>2016-05-24</td>\n",
       "      <td>11.90</td>\n",
       "    </tr>\n",
       "    <tr>\n",
       "      <th>75</th>\n",
       "      <td>2016-08-27</td>\n",
       "      <td>11.68</td>\n",
       "    </tr>\n",
       "    <tr>\n",
       "      <th>149</th>\n",
       "      <td>2017-12-16</td>\n",
       "      <td>11.50</td>\n",
       "    </tr>\n",
       "    <tr>\n",
       "      <th>50</th>\n",
       "      <td>2016-05-26</td>\n",
       "      <td>11.49</td>\n",
       "    </tr>\n",
       "    <tr>\n",
       "      <th>107</th>\n",
       "      <td>2016-12-02</td>\n",
       "      <td>11.14</td>\n",
       "    </tr>\n",
       "    <tr>\n",
       "      <th>43</th>\n",
       "      <td>2016-05-18</td>\n",
       "      <td>11.10</td>\n",
       "    </tr>\n",
       "    <tr>\n",
       "      <th>59</th>\n",
       "      <td>2016-06-08</td>\n",
       "      <td>10.95</td>\n",
       "    </tr>\n",
       "    <tr>\n",
       "      <th>101</th>\n",
       "      <td>2016-11-14</td>\n",
       "      <td>10.50</td>\n",
       "    </tr>\n",
       "    <tr>\n",
       "      <th>71</th>\n",
       "      <td>2016-08-16</td>\n",
       "      <td>10.28</td>\n",
       "    </tr>\n",
       "    <tr>\n",
       "      <th>18</th>\n",
       "      <td>2016-03-11</td>\n",
       "      <td>10.00</td>\n",
       "    </tr>\n",
       "    <tr>\n",
       "      <th>77</th>\n",
       "      <td>2016-09-05</td>\n",
       "      <td>9.98</td>\n",
       "    </tr>\n",
       "    <tr>\n",
       "      <th>130</th>\n",
       "      <td>2017-05-29</td>\n",
       "      <td>9.95</td>\n",
       "    </tr>\n",
       "    <tr>\n",
       "      <th>55</th>\n",
       "      <td>2016-06-01</td>\n",
       "      <td>9.74</td>\n",
       "    </tr>\n",
       "    <tr>\n",
       "      <th>22</th>\n",
       "      <td>2016-03-19</td>\n",
       "      <td>9.50</td>\n",
       "    </tr>\n",
       "    <tr>\n",
       "      <th>84</th>\n",
       "      <td>2016-09-25</td>\n",
       "      <td>9.48</td>\n",
       "    </tr>\n",
       "    <tr>\n",
       "      <th>52</th>\n",
       "      <td>2016-05-28</td>\n",
       "      <td>9.43</td>\n",
       "    </tr>\n",
       "    <tr>\n",
       "      <th>7</th>\n",
       "      <td>2016-02-01</td>\n",
       "      <td>9.25</td>\n",
       "    </tr>\n",
       "    <tr>\n",
       "      <th>60</th>\n",
       "      <td>2016-06-09</td>\n",
       "      <td>9.19</td>\n",
       "    </tr>\n",
       "    <tr>\n",
       "      <th>142</th>\n",
       "      <td>2017-08-09</td>\n",
       "      <td>8.35</td>\n",
       "    </tr>\n",
       "    <tr>\n",
       "      <th>127</th>\n",
       "      <td>2017-05-13</td>\n",
       "      <td>8.25</td>\n",
       "    </tr>\n",
       "    <tr>\n",
       "      <th>54</th>\n",
       "      <td>2016-05-31</td>\n",
       "      <td>8.25</td>\n",
       "    </tr>\n",
       "    <tr>\n",
       "      <th>0</th>\n",
       "      <td>2011-05-16</td>\n",
       "      <td>8.00</td>\n",
       "    </tr>\n",
       "    <tr>\n",
       "      <th>151</th>\n",
       "      <td>2026-04-25</td>\n",
       "      <td>8.00</td>\n",
       "    </tr>\n",
       "    <tr>\n",
       "      <th>20</th>\n",
       "      <td>2016-03-17</td>\n",
       "      <td>7.84</td>\n",
       "    </tr>\n",
       "    <tr>\n",
       "      <th>121</th>\n",
       "      <td>2017-03-16</td>\n",
       "      <td>7.50</td>\n",
       "    </tr>\n",
       "    <tr>\n",
       "      <th>138</th>\n",
       "      <td>2017-07-13</td>\n",
       "      <td>7.35</td>\n",
       "    </tr>\n",
       "    <tr>\n",
       "      <th>118</th>\n",
       "      <td>2017-02-23</td>\n",
       "      <td>7.19</td>\n",
       "    </tr>\n",
       "    <tr>\n",
       "      <th>80</th>\n",
       "      <td>2016-09-13</td>\n",
       "      <td>7.15</td>\n",
       "    </tr>\n",
       "    <tr>\n",
       "      <th>44</th>\n",
       "      <td>2016-05-19</td>\n",
       "      <td>7.00</td>\n",
       "    </tr>\n",
       "    <tr>\n",
       "      <th>109</th>\n",
       "      <td>2016-12-15</td>\n",
       "      <td>6.99</td>\n",
       "    </tr>\n",
       "    <tr>\n",
       "      <th>139</th>\n",
       "      <td>2017-07-19</td>\n",
       "      <td>6.99</td>\n",
       "    </tr>\n",
       "    <tr>\n",
       "      <th>5</th>\n",
       "      <td>2016-01-28</td>\n",
       "      <td>6.99</td>\n",
       "    </tr>\n",
       "    <tr>\n",
       "      <th>137</th>\n",
       "      <td>2017-07-12</td>\n",
       "      <td>6.99</td>\n",
       "    </tr>\n",
       "    <tr>\n",
       "      <th>38</th>\n",
       "      <td>2016-05-09</td>\n",
       "      <td>6.95</td>\n",
       "    </tr>\n",
       "    <tr>\n",
       "      <th>134</th>\n",
       "      <td>2017-06-16</td>\n",
       "      <td>6.90</td>\n",
       "    </tr>\n",
       "    <tr>\n",
       "      <th>4</th>\n",
       "      <td>2016-01-27</td>\n",
       "      <td>6.59</td>\n",
       "    </tr>\n",
       "    <tr>\n",
       "      <th>2</th>\n",
       "      <td>2016-01-18</td>\n",
       "      <td>6.49</td>\n",
       "    </tr>\n",
       "    <tr>\n",
       "      <th>91</th>\n",
       "      <td>2016-10-07</td>\n",
       "      <td>6.25</td>\n",
       "    </tr>\n",
       "    <tr>\n",
       "      <th>46</th>\n",
       "      <td>2016-05-21</td>\n",
       "      <td>6.25</td>\n",
       "    </tr>\n",
       "    <tr>\n",
       "      <th>90</th>\n",
       "      <td>2016-10-05</td>\n",
       "      <td>6.10</td>\n",
       "    </tr>\n",
       "    <tr>\n",
       "      <th>85</th>\n",
       "      <td>2016-09-26</td>\n",
       "      <td>5.99</td>\n",
       "    </tr>\n",
       "    <tr>\n",
       "      <th>87</th>\n",
       "      <td>2016-09-29</td>\n",
       "      <td>5.99</td>\n",
       "    </tr>\n",
       "    <tr>\n",
       "      <th>106</th>\n",
       "      <td>2016-11-27</td>\n",
       "      <td>5.99</td>\n",
       "    </tr>\n",
       "    <tr>\n",
       "      <th>63</th>\n",
       "      <td>2016-06-20</td>\n",
       "      <td>5.25</td>\n",
       "    </tr>\n",
       "    <tr>\n",
       "      <th>112</th>\n",
       "      <td>2017-01-10</td>\n",
       "      <td>4.99</td>\n",
       "    </tr>\n",
       "    <tr>\n",
       "      <th>69</th>\n",
       "      <td>2016-08-10</td>\n",
       "      <td>4.99</td>\n",
       "    </tr>\n",
       "    <tr>\n",
       "      <th>36</th>\n",
       "      <td>2016-05-05</td>\n",
       "      <td>4.59</td>\n",
       "    </tr>\n",
       "    <tr>\n",
       "      <th>117</th>\n",
       "      <td>2017-02-21</td>\n",
       "      <td>0.00</td>\n",
       "    </tr>\n",
       "    <tr>\n",
       "      <th>1</th>\n",
       "      <td>2015-04-20</td>\n",
       "      <td>0.00</td>\n",
       "    </tr>\n",
       "  </tbody>\n",
       "</table>\n",
       "</div>"
      ],
      "text/plain": [
       "          Date    Cost\n",
       "76  2016-08-30  220.44\n",
       "65  2016-06-24   55.50\n",
       "37  2016-05-06   54.29\n",
       "40  2016-05-13   46.20\n",
       "32  2016-04-15   44.65\n",
       "66  2016-08-01   44.50\n",
       "24  2016-03-21   42.30\n",
       "56  2016-06-03   40.85\n",
       "102 2016-11-16   38.35\n",
       "122 2017-04-07   37.75\n",
       "27  2016-04-02   32.90\n",
       "143 2017-08-14   32.00\n",
       "124 2017-04-25   31.98\n",
       "119 2017-02-25   31.60\n",
       "53  2016-05-29   31.40\n",
       "113 2017-01-12   30.16\n",
       "33  2016-04-24   29.45\n",
       "64  2016-06-23   29.25\n",
       "19  2016-03-14   28.25\n",
       "86  2016-09-27   27.15\n",
       "9   2016-02-11   26.44\n",
       "98  2016-11-02   25.56\n",
       "100 2016-11-08   25.00\n",
       "45  2016-05-20   24.74\n",
       "51  2016-05-27   24.70\n",
       "79  2016-09-11   24.56\n",
       "39  2016-05-12   24.50\n",
       "136 2017-07-06   23.15\n",
       "131 2017-05-30   23.00\n",
       "128 2017-05-17   22.69\n",
       "92  2016-10-12   22.45\n",
       "61  2016-06-11   21.55\n",
       "93  2016-10-17   20.94\n",
       "104 2016-11-23   20.50\n",
       "48  2016-05-23   20.30\n",
       "67  2016-08-06   20.25\n",
       "16  2016-03-03   19.27\n",
       "83  2016-09-22   19.25\n",
       "42  2016-05-16   18.25\n",
       "26  2016-03-30   17.98\n",
       "25  2016-03-23   17.18\n",
       "147 2017-09-04   17.00\n",
       "140 2017-07-22   17.00\n",
       "94  2016-10-18   16.99\n",
       "57  2016-06-05   16.40\n",
       "111 2017-01-07   16.40\n",
       "135 2017-06-24   16.35\n",
       "10  2016-02-12   15.98\n",
       "82  2016-09-18   15.80\n",
       "114 2017-01-15   15.80\n",
       "88  2016-10-01   15.80\n",
       "133 2017-06-10   15.78\n",
       "31  2016-04-14   15.78\n",
       "150 2017-12-29   15.78\n",
       "8   2016-02-06   15.75\n",
       "3   2016-01-24   15.55\n",
       "126 2017-05-09   15.50\n",
       "108 2016-12-10   15.50\n",
       "145 2017-08-20   15.41\n",
       "123 2017-04-23   15.35\n",
       "41  2016-05-15   14.98\n",
       "96  2016-10-29   14.98\n",
       "14  2016-02-28   14.98\n",
       "72  2016-08-17   14.98\n",
       "21  2016-03-18   14.88\n",
       "129 2017-05-26   14.80\n",
       "141 2017-08-07   14.65\n",
       "81  2016-09-16   14.48\n",
       "13  2016-02-24   14.25\n",
       "17  2016-03-08   14.25\n",
       "132 2017-06-04   14.18\n",
       "6   2016-01-30   14.18\n",
       "144 2017-08-19   14.09\n",
       "29  2016-04-07   14.05\n",
       "99  2016-11-06   14.05\n",
       "58  2016-06-06   13.98\n",
       "103 2016-11-17   13.98\n",
       "62  2016-06-16   13.88\n",
       "70  2016-08-12   13.78\n",
       "120 2017-03-03   13.70\n",
       "148 2017-09-05   13.70\n",
       "116 2017-02-15   13.70\n",
       "47  2016-05-22   13.50\n",
       "105 2016-11-26   13.48\n",
       "78  2016-09-09   13.44\n",
       "34  2016-04-27   13.28\n",
       "89  2016-10-02   13.20\n",
       "110 2017-01-04   13.20\n",
       "28  2016-04-03   13.20\n",
       "30  2016-04-09   13.20\n",
       "73  2016-08-19   13.00\n",
       "15  2016-02-29   13.00\n",
       "115 2017-01-20   12.98\n",
       "146 2017-08-25   12.98\n",
       "23  2016-03-20   12.98\n",
       "95  2016-10-27   12.94\n",
       "12  2016-02-17   12.80\n",
       "35  2016-05-04   12.74\n",
       "68  2016-08-09   12.50\n",
       "125 2017-05-02   12.50\n",
       "74  2016-08-21   12.50\n",
       "11  2016-02-14   11.98\n",
       "97  2016-11-01   11.98\n",
       "49  2016-05-24   11.90\n",
       "75  2016-08-27   11.68\n",
       "149 2017-12-16   11.50\n",
       "50  2016-05-26   11.49\n",
       "107 2016-12-02   11.14\n",
       "43  2016-05-18   11.10\n",
       "59  2016-06-08   10.95\n",
       "101 2016-11-14   10.50\n",
       "71  2016-08-16   10.28\n",
       "18  2016-03-11   10.00\n",
       "77  2016-09-05    9.98\n",
       "130 2017-05-29    9.95\n",
       "55  2016-06-01    9.74\n",
       "22  2016-03-19    9.50\n",
       "84  2016-09-25    9.48\n",
       "52  2016-05-28    9.43\n",
       "7   2016-02-01    9.25\n",
       "60  2016-06-09    9.19\n",
       "142 2017-08-09    8.35\n",
       "127 2017-05-13    8.25\n",
       "54  2016-05-31    8.25\n",
       "0   2011-05-16    8.00\n",
       "151 2026-04-25    8.00\n",
       "20  2016-03-17    7.84\n",
       "121 2017-03-16    7.50\n",
       "138 2017-07-13    7.35\n",
       "118 2017-02-23    7.19\n",
       "80  2016-09-13    7.15\n",
       "44  2016-05-19    7.00\n",
       "109 2016-12-15    6.99\n",
       "139 2017-07-19    6.99\n",
       "5   2016-01-28    6.99\n",
       "137 2017-07-12    6.99\n",
       "38  2016-05-09    6.95\n",
       "134 2017-06-16    6.90\n",
       "4   2016-01-27    6.59\n",
       "2   2016-01-18    6.49\n",
       "91  2016-10-07    6.25\n",
       "46  2016-05-21    6.25\n",
       "90  2016-10-05    6.10\n",
       "85  2016-09-26    5.99\n",
       "87  2016-09-29    5.99\n",
       "106 2016-11-27    5.99\n",
       "63  2016-06-20    5.25\n",
       "112 2017-01-10    4.99\n",
       "69  2016-08-10    4.99\n",
       "36  2016-05-05    4.59\n",
       "117 2017-02-21    0.00\n",
       "1   2015-04-20    0.00"
      ]
     },
     "execution_count": 38,
     "metadata": {},
     "output_type": "execute_result"
    }
   ],
   "source": [
    "df_master.groupby('Date')['Cost'].agg('sum').reset_index().sort_values(by='Cost', ascending=False)"
   ]
  },
  {
   "cell_type": "code",
   "execution_count": 39,
   "id": "6c604f3f",
   "metadata": {},
   "outputs": [
    {
     "data": {
      "image/png": "[encoded data removed]",
      "text/plain": [
       "<Figure size 432x288 with 1 Axes>"
      ]
     },
     "metadata": {
      "needs_background": "light"
     },
     "output_type": "display_data"
    }
   ],
   "source": [
    "plt.scatter(df_master[df_master.Date == '2016-08-30'].index, df_master[df_master.Date == '2016-08-30'].Cost)\n",
    "plt.xlabel(\"index\")\n",
    "plt.ylabel(\"cost\")\n",
    "plt.show()"
   ]
  },
  {
   "cell_type": "markdown",
   "id": "b6b4ce6d",
   "metadata": {},
   "source": [
    "Let’s define a function in order to plot multiple column information by one click"
   ]
  },
  {
   "cell_type": "code",
   "execution_count": 40,
   "id": "fc0ce8f0",
   "metadata": {},
   "outputs": [],
   "source": [
    "def get_column_information(df, i):\n",
    "    print('-'*80)\n",
    "    print('Column : ' + i)\n",
    "    print(f'Null ratios of column {i}: ' + str(len(df[(~df[i].isna())][i])/len(df)))\n",
    "    sns.displot(df[(~df[i].isna())][i])\n",
    "    plt.show()\n",
    "    print('Number of unique values: ' + str(df[i].nunique()))\n",
    "    print(df[i].value_counts(normalize=True,dropna=False))\n",
    "    plt.boxplot(df[(~df[i].isna())][i])\n",
    "    plt.title(f'{i} Boxplot') \n",
    "    plt.show()"
   ]
  },
  {
   "cell_type": "code",
   "execution_count": 41,
   "id": "0d2d5fbd",
   "metadata": {},
   "outputs": [],
   "source": [
    "column_list = ['Hunger','Mass (g)','Density (g/mL)','Length','Circum','Volume','Tortilla','Temp','Meat','Fillings','Meat:filling','Uniformity','Salsa','Synergy','Wrap','overall']"
   ]
  },
  {
   "cell_type": "code",
   "execution_count": 42,
   "id": "fb78b7df",
   "metadata": {},
   "outputs": [
    {
     "name": "stdout",
     "output_type": "stream",
     "text": [
      "--------------------------------------------------------------------------------\n",
      "Column : Hunger\n",
      "Null ratios of column Hunger: 0.9922077922077922\n"
     ]
    },
    {
     "data": {
      "image/png": "[encoded data removed]",
      "text/plain": [
       "<Figure size 360x360 with 1 Axes>"
      ]
     },
     "metadata": {
      "needs_background": "light"
     },
     "output_type": "display_data"
    },
    {
     "name": "stdout",
     "output_type": "stream",
     "text": [
      "Number of unique values: 26\n",
      "4.00    0.296104\n",
      "3.50    0.200000\n",
      "3.00    0.181818\n",
      "2.00    0.059740\n",
      "2.50    0.057143\n",
      "4.50    0.051948\n",
      "5.00    0.049351\n",
      "1.00    0.015584\n",
      "4.30    0.010390\n",
      "3.80    0.007792\n",
      "3.75    0.007792\n",
      "NaN     0.007792\n",
      "3.70    0.007792\n",
      "1.50    0.005195\n",
      "4.20    0.005195\n",
      "3.90    0.005195\n",
      "3.20    0.005195\n",
      "4.25    0.002597\n",
      "2.30    0.002597\n",
      "4.75    0.002597\n",
      "2.80    0.002597\n",
      "2.20    0.002597\n",
      "3.30    0.002597\n",
      "4.40    0.002597\n",
      "4.31    0.002597\n",
      "0.50    0.002597\n",
      "4.10    0.002597\n",
      "Name: Hunger, dtype: float64\n"
     ]
    },
    {
     "data": {
      "image/png": "[encoded data removed]",
      "text/plain": [
       "<Figure size 432x288 with 1 Axes>"
      ]
     },
     "metadata": {
      "needs_background": "light"
     },
     "output_type": "display_data"
    },
    {
     "name": "stdout",
     "output_type": "stream",
     "text": [
      "--------------------------------------------------------------------------------\n",
      "Column : Mass (g)\n",
      "Null ratios of column Mass (g): 0.05714285714285714\n"
     ]
    },
    {
     "data": {
      "image/png": "[encoded data removed]",
      "text/plain": [
       "<Figure size 360x360 with 1 Axes>"
      ]
     },
     "metadata": {
      "needs_background": "light"
     },
     "output_type": "display_data"
    },
    {
     "name": "stdout",
     "output_type": "stream",
     "text": [
      "Number of unique values: 18\n",
      "NaN      0.942857\n",
      "450.0    0.007792\n",
      "540.0    0.005195\n",
      "550.0    0.005195\n",
      "520.0    0.002597\n",
      "620.0    0.002597\n",
      "920.0    0.002597\n",
      "635.0    0.002597\n",
      "476.0    0.002597\n",
      "610.0    0.002597\n",
      "600.0    0.002597\n",
      "560.0    0.002597\n",
      "350.0    0.002597\n",
      "425.0    0.002597\n",
      "430.0    0.002597\n",
      "580.0    0.002597\n",
      "925.0    0.002597\n",
      "420.0    0.002597\n",
      "415.0    0.002597\n",
      "Name: Mass (g), dtype: float64\n"
     ]
    },
    {
     "data": {
      "image/png": "[encoded data removed]",
      "text/plain": [
       "<Figure size 432x288 with 1 Axes>"
      ]
     },
     "metadata": {
      "needs_background": "light"
     },
     "output_type": "display_data"
    },
    {
     "name": "stdout",
     "output_type": "stream",
     "text": [
      "--------------------------------------------------------------------------------\n",
      "Column : Density (g/mL)\n",
      "Null ratios of column Density (g/mL): 0.05714285714285714\n"
     ]
    },
    {
     "data": {
      "image/png": "[encoded data removed]",
      "text/plain": [
       "<Figure size 360x360 with 1 Axes>"
      ]
     },
     "metadata": {
      "needs_background": "light"
     },
     "output_type": "display_data"
    },
    {
     "name": "stdout",
     "output_type": "stream",
     "text": [
      "Number of unique values: 21\n",
      "NaN         0.942857\n",
      "0.625000    0.005195\n",
      "0.617647    0.002597\n",
      "0.683544    0.002597\n",
      "0.744681    0.002597\n",
      "0.865672    0.002597\n",
      "0.600649    0.002597\n",
      "0.613636    0.002597\n",
      "0.703125    0.002597\n",
      "0.785714    0.002597\n",
      "0.708333    0.002597\n",
      "0.565657    0.002597\n",
      "0.726190    0.002597\n",
      "0.687500    0.002597\n",
      "0.560000    0.002597\n",
      "0.597403    0.002597\n",
      "0.632353    0.002597\n",
      "0.626506    0.002597\n",
      "0.783951    0.002597\n",
      "0.632653    0.002597\n",
      "0.779221    0.002597\n",
      "0.691667    0.002597\n",
      "Name: Density (g/mL), dtype: float64\n"
     ]
    },
    {
     "data": {
      "image/png": "[encoded data removed]",
      "text/plain": [
       "<Figure size 432x288 with 1 Axes>"
      ]
     },
     "metadata": {
      "needs_background": "light"
     },
     "output_type": "display_data"
    },
    {
     "name": "stdout",
     "output_type": "stream",
     "text": [
      "--------------------------------------------------------------------------------\n",
      "Column : Length\n",
      "Null ratios of column Length: 0.6519480519480519\n"
     ]
    },
    {
     "data": {
      "image/png": "[encoded data removed]",
      "text/plain": [
       "<Figure size 360x360 with 1 Axes>"
      ]
     },
     "metadata": {
      "needs_background": "light"
     },
     "output_type": "display_data"
    },
    {
     "name": "stdout",
     "output_type": "stream",
     "text": [
      "Number of unique values: 29\n",
      "NaN      0.348052\n",
      "20.00    0.075325\n",
      "19.00    0.062338\n",
      "18.50    0.057143\n",
      "18.00    0.051948\n",
      "19.50    0.049351\n",
      "21.00    0.044156\n",
      "20.50    0.044156\n",
      "23.00    0.041558\n",
      "22.50    0.041558\n",
      "22.00    0.036364\n",
      "21.50    0.031169\n",
      "17.00    0.025974\n",
      "17.50    0.018182\n",
      "16.50    0.012987\n",
      "23.50    0.012987\n",
      "25.50    0.005195\n",
      "24.00    0.005195\n",
      "15.50    0.005195\n",
      "15.00    0.005195\n",
      "25.00    0.002597\n",
      "24.50    0.002597\n",
      "21.30    0.002597\n",
      "16.00    0.002597\n",
      "17.78    0.002597\n",
      "22.20    0.002597\n",
      "21.59    0.002597\n",
      "26.00    0.002597\n",
      "17.70    0.002597\n",
      "20.75    0.002597\n",
      "Name: Length, dtype: float64\n"
     ]
    },
    {
     "data": {
      "image/png": "[encoded data removed]",
      "text/plain": [
       "<Figure size 432x288 with 1 Axes>"
      ]
     },
     "metadata": {
      "needs_background": "light"
     },
     "output_type": "display_data"
    },
    {
     "name": "stdout",
     "output_type": "stream",
     "text": [
      "--------------------------------------------------------------------------------\n",
      "Column : Circum\n",
      "Null ratios of column Circum: 0.6467532467532467\n"
     ]
    },
    {
     "data": {
      "image/png": "[encoded data removed]",
      "text/plain": [
       "<Figure size 360x360 with 1 Axes>"
      ]
     },
     "metadata": {
      "needs_background": "light"
     },
     "output_type": "display_data"
    },
    {
     "name": "stdout",
     "output_type": "stream",
     "text": [
      "Number of unique values: 28\n",
      "NaN       0.353247\n",
      "22.000    0.096104\n",
      "21.500    0.080519\n",
      "21.000    0.070130\n",
      "23.000    0.059740\n",
      "20.000    0.051948\n",
      "22.500    0.046753\n",
      "23.500    0.044156\n",
      "20.500    0.038961\n",
      "24.000    0.031169\n",
      "25.000    0.020779\n",
      "24.500    0.018182\n",
      "19.500    0.015584\n",
      "25.500    0.012987\n",
      "19.000    0.012987\n",
      "29.000    0.005195\n",
      "26.500    0.005195\n",
      "26.000    0.005195\n",
      "17.000    0.005195\n",
      "21.750    0.002597\n",
      "18.000    0.002597\n",
      "23.800    0.002597\n",
      "21.200    0.002597\n",
      "20.800    0.002597\n",
      "22.225    0.002597\n",
      "22.125    0.002597\n",
      "18.500    0.002597\n",
      "22.750    0.002597\n",
      "27.000    0.002597\n",
      "Name: Circum, dtype: float64\n"
     ]
    },
    {
     "data": {
      "image/png": "[encoded data removed]",
      "text/plain": [
       "<Figure size 432x288 with 1 Axes>"
      ]
     },
     "metadata": {
      "needs_background": "light"
     },
     "output_type": "display_data"
    },
    {
     "name": "stdout",
     "output_type": "stream",
     "text": [
      "--------------------------------------------------------------------------------\n",
      "Column : Volume\n",
      "Null ratios of column Volume: 0.6467532467532467\n"
     ]
    },
    {
     "data": {
      "image/png": "[encoded data removed]",
      "text/plain": [
       "<Figure size 360x360 with 1 Axes>"
      ]
     },
     "metadata": {
      "needs_background": "light"
     },
     "output_type": "display_data"
    },
    {
     "name": "stdout",
     "output_type": "stream",
     "text": [
      "Number of unique values: 62\n",
      "NaN     0.353247\n",
      "0.65    0.041558\n",
      "0.77    0.041558\n",
      "0.75    0.033766\n",
      "0.68    0.031169\n",
      "0.85    0.028571\n",
      "0.72    0.023377\n",
      "0.70    0.020779\n",
      "0.74    0.020779\n",
      "0.83    0.018182\n",
      "0.87    0.018182\n",
      "0.96    0.015584\n",
      "0.60    0.015584\n",
      "0.92    0.015584\n",
      "0.88    0.015584\n",
      "0.93    0.015584\n",
      "0.64    0.015584\n",
      "0.84    0.012987\n",
      "0.73    0.012987\n",
      "0.89    0.012987\n",
      "0.79    0.012987\n",
      "0.67    0.010390\n",
      "0.94    0.010390\n",
      "0.81    0.010390\n",
      "0.86    0.010390\n",
      "0.66    0.010390\n",
      "0.69    0.010390\n",
      "0.90    0.010390\n",
      "0.99    0.007792\n",
      "0.95    0.007792\n",
      "0.62    0.007792\n",
      "1.01    0.007792\n",
      "0.57    0.007792\n",
      "0.91    0.007792\n",
      "0.80    0.007792\n",
      "1.09    0.005195\n",
      "0.54    0.005195\n",
      "0.63    0.005195\n",
      "1.54    0.005195\n",
      "0.97    0.005195\n",
      "0.82    0.005195\n",
      "0.71    0.005195\n",
      "0.59    0.005195\n",
      "0.51    0.005195\n",
      "1.07    0.002597\n",
      "1.24    0.002597\n",
      "0.50    0.002597\n",
      "0.76    0.002597\n",
      "0.47    0.002597\n",
      "0.58    0.002597\n",
      "0.40    0.002597\n",
      "1.17    0.002597\n",
      "1.00    0.002597\n",
      "0.55    0.002597\n",
      "1.03    0.002597\n",
      "1.05    0.002597\n",
      "0.98    0.002597\n",
      "1.08    0.002597\n",
      "0.41    0.002597\n",
      "0.78    0.002597\n",
      "0.56    0.002597\n",
      "1.16    0.002597\n",
      "0.61    0.002597\n",
      "Name: Volume, dtype: float64\n"
     ]
    },
    {
     "data": {
      "image/png": "[encoded data removed]",
      "text/plain": [
       "<Figure size 432x288 with 1 Axes>"
      ]
     },
     "metadata": {
      "needs_background": "light"
     },
     "output_type": "display_data"
    },
    {
     "name": "stdout",
     "output_type": "stream",
     "text": [
      "--------------------------------------------------------------------------------\n",
      "Column : Tortilla\n",
      "Null ratios of column Tortilla: 1.0\n"
     ]
    },
    {
     "data": {
      "image/png": "[encoded data removed]",
      "text/plain": [
       "<Figure size 360x360 with 1 Axes>"
      ]
     },
     "metadata": {
      "needs_background": "light"
     },
     "output_type": "display_data"
    },
    {
     "name": "stdout",
     "output_type": "stream",
     "text": [
      "Number of unique values: 18\n",
      "4.00    0.306494\n",
      "3.00    0.249351\n",
      "3.50    0.150649\n",
      "4.50    0.067532\n",
      "2.00    0.064935\n",
      "5.00    0.049351\n",
      "2.50    0.049351\n",
      "1.50    0.015584\n",
      "3.80    0.015584\n",
      "4.20    0.005195\n",
      "3.60    0.005195\n",
      "3.20    0.005195\n",
      "2.80    0.002597\n",
      "1.40    0.002597\n",
      "3.75    0.002597\n",
      "1.00    0.002597\n",
      "4.80    0.002597\n",
      "2.10    0.002597\n",
      "Name: Tortilla, dtype: float64\n"
     ]
    },
    {
     "data": {
      "image/png": "[encoded data removed]",
      "text/plain": [
       "<Figure size 432x288 with 1 Axes>"
      ]
     },
     "metadata": {
      "needs_background": "light"
     },
     "output_type": "display_data"
    },
    {
     "name": "stdout",
     "output_type": "stream",
     "text": [
      "--------------------------------------------------------------------------------\n",
      "Column : Temp\n",
      "Null ratios of column Temp: 0.948051948051948\n"
     ]
    },
    {
     "data": {
      "image/png": "[encoded data removed]",
      "text/plain": [
       "<Figure size 360x360 with 1 Axes>"
      ]
     },
     "metadata": {
      "needs_background": "light"
     },
     "output_type": "display_data"
    },
    {
     "name": "stdout",
     "output_type": "stream",
     "text": [
      "Number of unique values: 18\n",
      "4.0    0.238961\n",
      "5.0    0.171429\n",
      "3.0    0.140260\n",
      "4.5    0.129870\n",
      "3.5    0.075325\n",
      "2.5    0.072727\n",
      "2.0    0.070130\n",
      "NaN    0.051948\n",
      "1.0    0.007792\n",
      "3.8    0.007792\n",
      "1.5    0.007792\n",
      "4.7    0.005195\n",
      "4.4    0.005195\n",
      "3.6    0.002597\n",
      "1.9    0.002597\n",
      "3.7    0.002597\n",
      "1.3    0.002597\n",
      "4.2    0.002597\n",
      "3.2    0.002597\n",
      "Name: Temp, dtype: float64\n"
     ]
    },
    {
     "data": {
      "image/png": "[encoded data removed]",
      "text/plain": [
       "<Figure size 432x288 with 1 Axes>"
      ]
     },
     "metadata": {
      "needs_background": "light"
     },
     "output_type": "display_data"
    },
    {
     "name": "stdout",
     "output_type": "stream",
     "text": [
      "--------------------------------------------------------------------------------\n",
      "Column : Meat\n",
      "Null ratios of column Meat: 0.9688311688311688\n"
     ]
    },
    {
     "data": {
      "image/png": "[encoded data removed]",
      "text/plain": [
       "<Figure size 360x360 with 1 Axes>"
      ]
     },
     "metadata": {
      "needs_background": "light"
     },
     "output_type": "display_data"
    },
    {
     "name": "stdout",
     "output_type": "stream",
     "text": [
      "Number of unique values: 23\n",
      "4.00    0.285714\n",
      "3.50    0.163636\n",
      "3.00    0.148052\n",
      "4.50    0.088312\n",
      "5.00    0.077922\n",
      "2.00    0.062338\n",
      "2.50    0.046753\n",
      "NaN     0.031169\n",
      "1.50    0.012987\n",
      "4.20    0.010390\n",
      "3.30    0.010390\n",
      "3.80    0.010390\n",
      "1.00    0.007792\n",
      "3.70    0.007792\n",
      "3.20    0.005195\n",
      "2.75    0.005195\n",
      "2.60    0.005195\n",
      "3.75    0.005195\n",
      "2.70    0.002597\n",
      "2.80    0.002597\n",
      "4.70    0.002597\n",
      "3.90    0.002597\n",
      "4.10    0.002597\n",
      "4.30    0.002597\n",
      "Name: Meat, dtype: float64\n"
     ]
    },
    {
     "data": {
      "image/png": "[encoded data removed]",
      "text/plain": [
       "<Figure size 432x288 with 1 Axes>"
      ]
     },
     "metadata": {
      "needs_background": "light"
     },
     "output_type": "display_data"
    },
    {
     "name": "stdout",
     "output_type": "stream",
     "text": [
      "--------------------------------------------------------------------------------\n",
      "Column : Fillings\n",
      "Null ratios of column Fillings: 0.9948051948051948\n"
     ]
    },
    {
     "data": {
      "image/png": "[encoded data removed]",
      "text/plain": [
       "<Figure size 360x360 with 1 Axes>"
      ]
     },
     "metadata": {
      "needs_background": "light"
     },
     "output_type": "display_data"
    },
    {
     "name": "stdout",
     "output_type": "stream",
     "text": [
      "Number of unique values: 22\n",
      "4.00    0.272727\n",
      "3.00    0.215584\n",
      "3.50    0.171429\n",
      "5.00    0.075325\n",
      "4.50    0.062338\n",
      "2.00    0.059740\n",
      "2.50    0.057143\n",
      "3.80    0.015584\n",
      "2.80    0.010390\n",
      "1.50    0.007792\n",
      "1.00    0.007792\n",
      "2.40    0.005195\n",
      "NaN     0.005195\n",
      "4.70    0.005195\n",
      "4.20    0.005195\n",
      "4.30    0.005195\n",
      "3.40    0.002597\n",
      "3.70    0.002597\n",
      "3.30    0.002597\n",
      "4.40    0.002597\n",
      "3.60    0.002597\n",
      "2.75    0.002597\n",
      "3.20    0.002597\n",
      "Name: Fillings, dtype: float64\n"
     ]
    },
    {
     "data": {
      "image/png": "[encoded data removed]",
      "text/plain": [
       "<Figure size 432x288 with 1 Axes>"
      ]
     },
     "metadata": {
      "needs_background": "light"
     },
     "output_type": "display_data"
    },
    {
     "name": "stdout",
     "output_type": "stream",
     "text": [
      "--------------------------------------------------------------------------------\n",
      "Column : Meat:filling\n",
      "Null ratios of column Meat:filling: 0.9792207792207792\n"
     ]
    },
    {
     "data": {
      "image/png": "[encoded data removed]",
      "text/plain": [
       "<Figure size 360x360 with 1 Axes>"
      ]
     },
     "metadata": {
      "needs_background": "light"
     },
     "output_type": "display_data"
    },
    {
     "name": "stdout",
     "output_type": "stream",
     "text": [
      "Number of unique values: 25\n",
      "4.00    0.267532\n",
      "3.00    0.153247\n",
      "4.50    0.114286\n",
      "3.50    0.114286\n",
      "5.00    0.098701\n",
      "2.50    0.057143\n",
      "2.00    0.057143\n",
      "1.50    0.028571\n",
      "1.00    0.023377\n",
      "NaN     0.020779\n",
      "3.70    0.007792\n",
      "4.70    0.007792\n",
      "3.75    0.007792\n",
      "3.80    0.005195\n",
      "2.90    0.005195\n",
      "4.20    0.005195\n",
      "4.80    0.002597\n",
      "0.50    0.002597\n",
      "3.60    0.002597\n",
      "3.78    0.002597\n",
      "1.80    0.002597\n",
      "1.40    0.002597\n",
      "3.40    0.002597\n",
      "4.75    0.002597\n",
      "2.80    0.002597\n",
      "3.20    0.002597\n",
      "Name: Meat:filling, dtype: float64\n"
     ]
    },
    {
     "data": {
      "image/png": "[encoded data removed]",
      "text/plain": [
       "<Figure size 432x288 with 1 Axes>"
      ]
     },
     "metadata": {
      "needs_background": "light"
     },
     "output_type": "display_data"
    },
    {
     "name": "stdout",
     "output_type": "stream",
     "text": [
      "--------------------------------------------------------------------------------\n",
      "Column : Uniformity\n",
      "Null ratios of column Uniformity: 0.9948051948051948\n"
     ]
    },
    {
     "data": {
      "image/png": "[encoded data removed]",
      "text/plain": [
       "<Figure size 360x360 with 1 Axes>"
      ]
     },
     "metadata": {
      "needs_background": "light"
     },
     "output_type": "display_data"
    },
    {
     "name": "stdout",
     "output_type": "stream",
     "text": [
      "Number of unique values: 27\n",
      "4.00    0.259740\n",
      "3.00    0.129870\n",
      "3.50    0.116883\n",
      "2.00    0.114286\n",
      "4.50    0.106494\n",
      "5.00    0.093506\n",
      "2.50    0.059740\n",
      "1.00    0.031169\n",
      "1.50    0.028571\n",
      "2.40    0.005195\n",
      "NaN     0.005195\n",
      "2.80    0.005195\n",
      "4.40    0.005195\n",
      "2.30    0.002597\n",
      "1.60    0.002597\n",
      "3.20    0.002597\n",
      "4.20    0.002597\n",
      "2.70    0.002597\n",
      "3.80    0.002597\n",
      "1.80    0.002597\n",
      "3.10    0.002597\n",
      "3.30    0.002597\n",
      "3.70    0.002597\n",
      "2.20    0.002597\n",
      "4.60    0.002597\n",
      "0.00    0.002597\n",
      "4.75    0.002597\n",
      "4.30    0.002597\n",
      "Name: Uniformity, dtype: float64\n"
     ]
    },
    {
     "data": {
      "image/png": "[encoded data removed]",
      "text/plain": [
       "<Figure size 432x288 with 1 Axes>"
      ]
     },
     "metadata": {
      "needs_background": "light"
     },
     "output_type": "display_data"
    },
    {
     "name": "stdout",
     "output_type": "stream",
     "text": [
      "--------------------------------------------------------------------------------\n",
      "Column : Salsa\n",
      "Null ratios of column Salsa: 0.9428571428571428\n"
     ]
    },
    {
     "data": {
      "image/png": "[encoded data removed]",
      "text/plain": [
       "<Figure size 360x360 with 1 Axes>"
      ]
     },
     "metadata": {
      "needs_background": "light"
     },
     "output_type": "display_data"
    },
    {
     "name": "stdout",
     "output_type": "stream",
     "text": [
      "Number of unique values: 26\n",
      "4.00    0.200000\n",
      "3.00    0.197403\n",
      "3.50    0.135065\n",
      "2.00    0.090909\n",
      "2.50    0.083117\n",
      "4.50    0.072727\n",
      "NaN     0.057143\n",
      "5.00    0.051948\n",
      "1.50    0.020779\n",
      "3.80    0.015584\n",
      "1.00    0.012987\n",
      "4.30    0.007792\n",
      "3.70    0.007792\n",
      "4.20    0.007792\n",
      "3.75    0.005195\n",
      "3.90    0.005195\n",
      "4.75    0.002597\n",
      "0.00    0.002597\n",
      "3.30    0.002597\n",
      "2.20    0.002597\n",
      "1.80    0.002597\n",
      "0.50    0.002597\n",
      "4.80    0.002597\n",
      "3.60    0.002597\n",
      "2.75    0.002597\n",
      "3.20    0.002597\n",
      "2.90    0.002597\n",
      "Name: Salsa, dtype: float64\n"
     ]
    },
    {
     "data": {
      "image/png": "[encoded data removed]",
      "text/plain": [
       "<Figure size 432x288 with 1 Axes>"
      ]
     },
     "metadata": {
      "needs_background": "light"
     },
     "output_type": "display_data"
    },
    {
     "name": "stdout",
     "output_type": "stream",
     "text": [
      "--------------------------------------------------------------------------------\n",
      "Column : Synergy\n",
      "Null ratios of column Synergy: 0.9948051948051948\n"
     ]
    },
    {
     "data": {
      "image/png": "[encoded data removed]",
      "text/plain": [
       "<Figure size 360x360 with 1 Axes>"
      ]
     },
     "metadata": {
      "needs_background": "light"
     },
     "output_type": "display_data"
    },
    {
     "name": "stdout",
     "output_type": "stream",
     "text": [
      "Number of unique values: 27\n",
      "4.00    0.270130\n",
      "3.00    0.150649\n",
      "3.50    0.135065\n",
      "4.50    0.106494\n",
      "5.00    0.075325\n",
      "2.00    0.070130\n",
      "2.50    0.054545\n",
      "3.80    0.018182\n",
      "1.50    0.018182\n",
      "1.00    0.012987\n",
      "4.30    0.010390\n",
      "3.70    0.007792\n",
      "3.75    0.007792\n",
      "2.80    0.007792\n",
      "4.20    0.007792\n",
      "4.80    0.005195\n",
      "3.30    0.005195\n",
      "NaN     0.005195\n",
      "2.90    0.005195\n",
      "4.70    0.005195\n",
      "3.40    0.002597\n",
      "2.30    0.002597\n",
      "2.20    0.002597\n",
      "2.70    0.002597\n",
      "4.40    0.002597\n",
      "3.20    0.002597\n",
      "4.90    0.002597\n",
      "4.60    0.002597\n",
      "Name: Synergy, dtype: float64\n"
     ]
    },
    {
     "data": {
      "image/png": "[encoded data removed]",
      "text/plain": [
       "<Figure size 432x288 with 1 Axes>"
      ]
     },
     "metadata": {
      "needs_background": "light"
     },
     "output_type": "display_data"
    },
    {
     "name": "stdout",
     "output_type": "stream",
     "text": [
      "--------------------------------------------------------------------------------\n",
      "Column : Wrap\n",
      "Null ratios of column Wrap: 0.9948051948051948\n"
     ]
    },
    {
     "data": {
      "image/png": "[encoded data removed]",
      "text/plain": [
       "<Figure size 360x360 with 1 Axes>"
      ]
     },
     "metadata": {
      "needs_background": "light"
     },
     "output_type": "display_data"
    },
    {
     "name": "stdout",
     "output_type": "stream",
     "text": [
      "Number of unique values: 22\n",
      "5.0    0.327273\n",
      "4.0    0.212987\n",
      "4.5    0.155844\n",
      "3.0    0.098701\n",
      "3.5    0.049351\n",
      "2.0    0.038961\n",
      "1.5    0.023377\n",
      "1.0    0.020779\n",
      "2.5    0.018182\n",
      "0.5    0.010390\n",
      "4.8    0.007792\n",
      "3.8    0.005195\n",
      "NaN    0.005195\n",
      "2.6    0.002597\n",
      "0.0    0.002597\n",
      "3.3    0.002597\n",
      "3.4    0.002597\n",
      "3.7    0.002597\n",
      "2.2    0.002597\n",
      "3.9    0.002597\n",
      "4.2    0.002597\n",
      "1.2    0.002597\n",
      "4.3    0.002597\n",
      "Name: Wrap, dtype: float64\n"
     ]
    },
    {
     "data": {
      "image/png": "[encoded data removed]",
      "text/plain": [
       "<Figure size 432x288 with 1 Axes>"
      ]
     },
     "metadata": {
      "needs_background": "light"
     },
     "output_type": "display_data"
    },
    {
     "name": "stdout",
     "output_type": "stream",
     "text": [
      "--------------------------------------------------------------------------------\n",
      "Column : overall\n",
      "Null ratios of column overall: 0.9948051948051948\n"
     ]
    },
    {
     "data": {
      "image/png": "[encoded data removed]",
      "text/plain": [
       "<Figure size 360x360 with 1 Axes>"
      ]
     },
     "metadata": {
      "needs_background": "light"
     },
     "output_type": "display_data"
    },
    {
     "name": "stdout",
     "output_type": "stream",
     "text": [
      "Number of unique values: 39\n",
      "4.00000    0.163636\n",
      "3.50000    0.103896\n",
      "3.00000    0.098701\n",
      "4.20000    0.059740\n",
      "4.50000    0.059740\n",
      "2.00000    0.046753\n",
      "3.90000    0.041558\n",
      "3.70000    0.036364\n",
      "3.80000    0.033766\n",
      "5.00000    0.028571\n",
      "3.20000    0.025974\n",
      "4.10000    0.023377\n",
      "2.50000    0.023377\n",
      "3.60000    0.020779\n",
      "4.25000    0.018182\n",
      "4.30000    0.018182\n",
      "3.75000    0.015584\n",
      "2.60000    0.015584\n",
      "4.80000    0.012987\n",
      "3.10000    0.012987\n",
      "2.20000    0.010390\n",
      "2.70000    0.010390\n",
      "4.40000    0.010390\n",
      "3.30000    0.010390\n",
      "4.70000    0.010390\n",
      "2.80000    0.010390\n",
      "2.90000    0.010390\n",
      "3.40000    0.007792\n",
      "4.60000    0.007792\n",
      "1.50000    0.007792\n",
      "4.90000    0.005195\n",
      "2.75000    0.005195\n",
      "3.25000    0.005195\n",
      "NaN        0.005195\n",
      "1.80000    0.005195\n",
      "2.40000    0.005195\n",
      "2.30000    0.005195\n",
      "3.33333    0.002597\n",
      "2.66000    0.002597\n",
      "1.00000    0.002597\n",
      "Name: overall, dtype: float64\n"
     ]
    },
    {
     "data": {
      "image/png": "[encoded data removed]",
      "text/plain": [
       "<Figure size 432x288 with 1 Axes>"
      ]
     },
     "metadata": {
      "needs_background": "light"
     },
     "output_type": "display_data"
    }
   ],
   "source": [
    "for i in column_list:\n",
    "    get_column_information(df_master, i)"
   ]
  },
  {
   "cell_type": "code",
   "execution_count": 43,
   "id": "922e5bf7",
   "metadata": {},
   "outputs": [
    {
     "data": {
      "text/plain": [
       "128"
      ]
     },
     "execution_count": 43,
     "metadata": {},
     "output_type": "execute_result"
    }
   ],
   "source": [
    "df_master.Notes.nunique()"
   ]
  },
  {
   "cell_type": "code",
   "execution_count": 44,
   "id": "7f1ef611",
   "metadata": {},
   "outputs": [
    {
     "data": {
      "text/plain": [
       "Bland                                                                                                                                                                                2\n",
       "It's pretty good for what it is, but just not the best ingredients for a burrito. also Few white people                                                                              1\n",
       "Rice was plain. Also don't like rice in burrito                                                                                                                                      1\n",
       "A bit small                                                                                                                                                                          1\n",
       "feels very dense; a lot of meat                                                                                                                                                      1\n",
       "it does taste homemade. but that's not a good thing                                                                                                                                  1\n",
       "Richard recommended this. Like a Mediterranean burrito                                                                                                                               1\n",
       "Meat is squishy                                                                                                                                                                      1\n",
       "Chips really good, really good but a little bit spicy chipotle. Very good horchata                                                                                                   1\n",
       "Hot carrots                                                                                                                                                                          1\n",
       "Fresca and verde salsas are the best                                                                                                                                                 1\n",
       "Great rice and beans burrito, doesn't come with cheese or sour cream.                                                                                                                1\n",
       "first bite sour cream, but probably the best steak I've had in a burrito                                                                                                             1\n",
       "Temperature brought it down                                                                                                                                                          1\n",
       "Fries are terrible. Burrito leaked                                                                                                                                                   1\n",
       "Free lime. Ingredients chopped finely                                                                                                                                                1\n",
       "Too small                                                                                                                                                                            1\n",
       "probably positively biased by service                                                                                                                                                1\n",
       "Good. but just get a regular Cali.                                                                                                                                                   1\n",
       "Melted cheese is good. Cilantro is fresh                                                                                                                                             1\n",
       "Repeatedly get large bites of sour cream                                                                                                                                             1\n",
       "tamale isn't good                                                                                                                                                                    1\n",
       "burrito was mostly tortilla                                                                                                                                                          1\n",
       "Good guac                                                                                                                                                                            1\n",
       "one hot side and one cold side from the guac                                                                                                                                         1\n",
       "Much better than the first time we tried this location                                                                                                                               1\n",
       "Cheese should be melted, potatoes are very good                                                                                                                                      1\n",
       "Salsa much better this time than before                                                                                                                                              1\n",
       "Really good with lime                                                                                                                                                                1\n",
       "Too much tortilla per bite                                                                                                                                                           1\n",
       "Ordered a specialty burrito and guess I was expecting an ordinary one! Sauce was good but overpowering; no veggies at all; overall just did not feel like a burrito.                 1\n",
       "Less meat than usual                                                                                                                                                                 1\n",
       "Everything is in spanish. Get a taco or sope                                                                                                                                         1\n",
       "Horchata tasted like bubble gum                                                                                                                                                      1\n",
       "guac is good, very avocado-y                                                                                                                                                         1\n",
       "Go to average burrito place like Rigoberto's in la jolla; Terrible tamales                                                                                                           1\n",
       "Pastor is dry                                                                                                                                                                        1\n",
       "quality ingredients                                                                                                                                                                  1\n",
       "A little small. No rice and beans or cheese or sour cream                                                                                                                            1\n",
       "Got green and hot salsa put inside the burrito-drive thru                                                                                                                            1\n",
       "Maybe a little better than chipotle. Or at least more authentic.                                                                                                                     1\n",
       "Somehow way better when it was leftover                                                                                                                                              1\n",
       "very little guac                                                                                                                                                                     1\n",
       "Get the green sauce                                                                                                                                                                  1\n",
       "get the carnitas                                                                                                                                                                     1\n",
       "Too much enchilada sauce this time                                                                                                                                                   1\n",
       "Good tortilla, good amount of food, needed guac. or salsa to balance out density of fillings.                                                                                        1\n",
       "this tasted really bad leftover. not included in rating                                                                                                                              1\n",
       "Way too small                                                                                                                                                                        1\n",
       "Rolled tacos need more meat                                                                                                                                                          1\n",
       "fries = 4                                                                                                                                                                            1\n",
       "Guac chips have lots of cheese                                                                                                                                                       1\n",
       "chicken and rice burrito. simple and delicious.                                                                                                                                      1\n",
       "First burrito I enjoyed from top to bottom                                                                                                                                           1\n",
       "Fries: 3/5; too little meat                                                                                                                                                          1\n",
       "So hot! Egg is surprisingly good                                                                                                                                                     1\n",
       "Heart-stopping amount of cheese. Second tortilla of cheese                                                                                                                           1\n",
       "not 100% certain about the ingredients (was there guac and pico?)                                                                                                                    1\n",
       "Lotus chips add good crunch                                                                                                                                                          1\n",
       "Cheese is cold, but guac, salsa, and chips are good                                                                                                                                  1\n",
       "Usually better. Too much enchilada sauce this time                                                                                                                                   1\n",
       "The price has gone up for the past two years. I would probably rate this lower because of it, but my scores were on raw taste only.                                                  1\n",
       "Big roach on the floor while eating. Good prep took quite a long time. Cut in half!                                                                                                  1\n",
       "Not as good as the first time                                                                                                                                                        1\n",
       "one if the best breakfast burritos I've ever had                                                                                                                                     1\n",
       "Sucks, but it is okay.                                                                                                                                                               1\n",
       "pretty standard breakfast burrito. eggs and cheese. great tortilla! morning protein!                                                                                                 1\n",
       "Brent doesn't like fries in his burrito                                                                                                                                              1\n",
       "Carrots are bad, got better as it went on                                                                                                                                            1\n",
       "The big size was too big of an appeal, but there's just not enough meat                                                                                                              1\n",
       "The ends of the burrito were decent, but the middle was terrible without much meat                                                                                                   1\n",
       "red-orange salsa has a slight fruity flavor that's really good                                                                                                                       1\n",
       "Horchata is very sweet                                                                                                                                                               1\n",
       "not fries. big potatoes                                                                                                                                                              1\n",
       "Promising start but finished poorly                                                                                                                                                  1\n",
       "good guac but fries could be better                                                                                                                                                  1\n",
       "Burritos cut in half, felt like a wrap instead of a burrito                                                                                                                          1\n",
       "Kind of dry                                                                                                                                                                          1\n",
       "Best horchata. Fries are great. Chips are really good                                                                                                                                1\n",
       "Sour cream is surprisingly good. Avocado salsa works very well on the burrito                                                                                                        1\n",
       "Peppers not cooked enough                                                                                                                                                            1\n",
       "Fries are really good but the overall flavor is plain because lack of ingredients                                                                                                    1\n",
       "Salsa verde has an interesting hint of garlic                                                                                                                                        1\n",
       "Salsa Fresca is good, way too small                                                                                                                                                  1\n",
       "Beans are surprisingly good                                                                                                                                                          1\n",
       "Adobado reminds me of Indian food because of some mystery spice                                                                                                                      1\n",
       "Carnitas very good                                                                                                                                                                   1\n",
       "Pretty decent                                                                                                                                                                        1\n",
       "Grocery store tortilla; cold guac                                                                                                                                                    1\n",
       "Best free chips, novel burrito                                                                                                                                                       1\n",
       "Huge. Shrimp is good. Meat is normal                                                                                                                                                 1\n",
       "Food cooks fast but checking out is painfully slow                                                                                                                                   1\n",
       "Would have enjoyed it more if wasn't rating; shrimp better than meat. Quality of the shrimp really improves the burrito. Well cooked and fresh. Shrimp could have had more flavor    1\n",
       "tons of french fries                                                                                                                                                                 1\n",
       "good fries                                                                                                                                                                           1\n",
       "shrimp is really good. too much chipotle sauce                                                                                                                                       1\n",
       "too many fries. Not great                                                                                                                                                            1\n",
       "Orange salsa very spicy                                                                                                                                                              1\n",
       "A wonderful eating experience. best California burrito I've ever had by far.                                                                                                         1\n",
       "A LOT of carne asada!                                                                                                                                                                1\n",
       "It's gone downhill since 2013. Expensive and only ate it because there's nothing else around. closes early. skimping on the portions.                                                1\n",
       "Started off really great but ended with poor uniformity and wrap integrity                                                                                                           1\n",
       "Alfajores dessert and horchata are super good                                                                                                                                        1\n",
       "Very plain burrito                                                                                                                                                                   1\n",
       "Tortilla is burnt a bit but good. Pick is good                                                                                                                                       1\n",
       "Fries are good. Too little meat                                                                                                                                                      1\n",
       "The burrito looked beautiful when it came out. Chicken didn't add anything. would probably get the regular                                                                           1\n",
       "Just way too small                                                                                                                                                                   1\n",
       "way too spicy                                                                                                                                                                        1\n",
       "Salsa too spicy                                                                                                                                                                      1\n",
       "not too much rice                                                                                                                                                                    1\n",
       "good fries: 4/5                                                                                                                                                                      1\n",
       "Good because so cheap                                                                                                                                                                1\n",
       "Meat was too salty                                                                                                                                                                   1\n",
       "Fries are good                                                                                                                                                                       1\n",
       "all meat at bottom 1/8th                                                                                                                                                             1\n",
       "thick chips                                                                                                                                                                          1\n",
       "Possibly favorite green salsa so far                                                                                                                                                 1\n",
       "Salsa verde spicy                                                                                                                                                                    1\n",
       "Pineapple is really good                                                                                                                                                             1\n",
       "Free salad                                                                                                                                                                           1\n",
       "large, bt feels good in my hands                                                                                                                                                     1\n",
       "to-go, no guac or sour cream, fries are a small and underdone                                                                                                                        1\n",
       "hashbrowns instead of fries; anterior-posterior uniformity is good but medial-lateral is bad                                                                                         1\n",
       "quite small                                                                                                                                                                          1\n",
       "Great fish burrito. Not fishy and has great crunch from both cabbage and fried fish. Super generous with amount of fish given                                                        1\n",
       "shrimp was questionable; salsa was mediocre to bad; overall ok, better than past burritos at lucha libre                                                                             1\n",
       "really good guac                                                                                                                                                                     1\n",
       "Name: Notes, dtype: int64"
      ]
     },
     "execution_count": 44,
     "metadata": {},
     "output_type": "execute_result"
    }
   ],
   "source": [
    "df_master.Notes.value_counts()"
   ]
  },
  {
   "cell_type": "code",
   "execution_count": 45,
   "id": "1f65f3dd",
   "metadata": {},
   "outputs": [
    {
     "name": "stdout",
     "output_type": "stream",
     "text": [
      "--------------------\n",
      "Column :Unreliable\n",
      "NaN    0.922078\n",
      "x      0.077922\n",
      "Name: Unreliable, dtype: float64\n",
      "--------------------\n",
      "Column :NonSD\n",
      "NaN    0.981818\n",
      "x      0.012987\n",
      "X      0.005195\n",
      "Name: NonSD, dtype: float64\n",
      "--------------------\n",
      "Column :Beef\n",
      "NaN    0.542857\n",
      "x      0.348052\n",
      "X      0.109091\n",
      "Name: Beef, dtype: float64\n",
      "--------------------\n",
      "Column :Pico\n",
      "NaN    0.605195\n",
      "x      0.314286\n",
      "X      0.080519\n",
      "Name: Pico, dtype: float64\n",
      "--------------------\n",
      "Column :Guac\n",
      "NaN    0.618182\n",
      "x      0.277922\n",
      "X      0.103896\n",
      "Name: Guac, dtype: float64\n",
      "--------------------\n",
      "Column :Cheese\n",
      "NaN    0.597403\n",
      "x      0.322078\n",
      "X      0.080519\n",
      "Name: Cheese, dtype: float64\n",
      "--------------------\n",
      "Column :Fries\n",
      "NaN    0.675325\n",
      "x      0.259740\n",
      "X      0.064935\n",
      "Name: Fries, dtype: float64\n",
      "--------------------\n",
      "Column :Sour cream\n",
      "NaN    0.768831\n",
      "x      0.166234\n",
      "X      0.064935\n",
      "Name: Sour cream, dtype: float64\n",
      "--------------------\n",
      "Column :Pork\n",
      "NaN    0.877922\n",
      "x      0.083117\n",
      "X      0.038961\n",
      "Name: Pork, dtype: float64\n",
      "--------------------\n",
      "Column :Chicken\n",
      "NaN    0.948052\n",
      "x      0.049351\n",
      "X      0.002597\n",
      "Name: Chicken, dtype: float64\n",
      "--------------------\n",
      "Column :Shrimp\n",
      "NaN    0.945455\n",
      "x      0.044156\n",
      "X      0.010390\n",
      "Name: Shrimp, dtype: float64\n",
      "--------------------\n",
      "Column :Fish\n",
      "NaN    0.984416\n",
      "x      0.010390\n",
      "X      0.005195\n",
      "Name: Fish, dtype: float64\n",
      "--------------------\n",
      "Column :Rice\n",
      "NaN    0.909091\n",
      "x      0.064935\n",
      "X      0.025974\n",
      "Name: Rice, dtype: float64\n",
      "--------------------\n",
      "Column :Beans\n",
      "NaN    0.916883\n",
      "x      0.062338\n",
      "X      0.020779\n",
      "Name: Beans, dtype: float64\n",
      "--------------------\n",
      "Column :Lettuce\n",
      "NaN    0.971429\n",
      "x      0.023377\n",
      "X      0.005195\n",
      "Name: Lettuce, dtype: float64\n",
      "--------------------\n",
      "Column :Tomato\n",
      "NaN    0.981818\n",
      "x      0.012987\n",
      "X      0.005195\n",
      "Name: Tomato, dtype: float64\n",
      "--------------------\n",
      "Column :Bell peper\n",
      "NaN    0.981818\n",
      "x      0.010390\n",
      "X      0.007792\n",
      "Name: Bell peper, dtype: float64\n",
      "--------------------\n",
      "Column :Carrots\n",
      "NaN    0.997403\n",
      "x      0.002597\n",
      "Name: Carrots, dtype: float64\n",
      "--------------------\n",
      "Column :Cabbage\n",
      "NaN    0.979221\n",
      "x      0.015584\n",
      "X      0.005195\n",
      "Name: Cabbage, dtype: float64\n",
      "--------------------\n",
      "Column :Sauce\n",
      "NaN    0.901299\n",
      "x      0.085714\n",
      "X      0.012987\n",
      "Name: Sauce, dtype: float64\n",
      "--------------------\n",
      "Column :Salsa.1\n",
      "NaN    0.984416\n",
      "x      0.012987\n",
      "X      0.002597\n",
      "Name: Salsa.1, dtype: float64\n",
      "--------------------\n",
      "Column :Cilantro\n",
      "NaN    0.961039\n",
      "x      0.023377\n",
      "X      0.015584\n",
      "Name: Cilantro, dtype: float64\n",
      "--------------------\n",
      "Column :Onion\n",
      "NaN    0.955844\n",
      "x      0.023377\n",
      "X      0.020779\n",
      "Name: Onion, dtype: float64\n",
      "--------------------\n",
      "Column :Taquito\n",
      "NaN    0.989610\n",
      "x      0.007792\n",
      "X      0.002597\n",
      "Name: Taquito, dtype: float64\n",
      "--------------------\n",
      "Column :Pineapple\n",
      "NaN    0.981818\n",
      "x      0.012987\n",
      "X      0.005195\n",
      "Name: Pineapple, dtype: float64\n",
      "--------------------\n",
      "Column :Ham\n",
      "NaN    0.997403\n",
      "x      0.002597\n",
      "Name: Ham, dtype: float64\n",
      "--------------------\n",
      "Column :Chile relleno\n",
      "NaN    0.98961\n",
      "x      0.01039\n",
      "Name: Chile relleno, dtype: float64\n",
      "--------------------\n",
      "Column :Nopales\n",
      "NaN    0.98961\n",
      "x      0.01039\n",
      "Name: Nopales, dtype: float64\n",
      "--------------------\n",
      "Column :Lobster\n",
      "NaN    0.997403\n",
      "x      0.002597\n",
      "Name: Lobster, dtype: float64\n",
      "--------------------\n",
      "Column :Queso\n",
      "NaN    1.0\n",
      "Name: Queso, dtype: float64\n",
      "--------------------\n",
      "Column :Egg\n",
      "NaN    0.98961\n",
      "x      0.01039\n",
      "Name: Egg, dtype: float64\n",
      "--------------------\n",
      "Column :Mushroom\n",
      "NaN    0.992208\n",
      "x      0.007792\n",
      "Name: Mushroom, dtype: float64\n",
      "--------------------\n",
      "Column :Bacon\n",
      "NaN    0.992208\n",
      "x      0.007792\n",
      "Name: Bacon, dtype: float64\n",
      "--------------------\n",
      "Column :Sushi\n",
      "NaN    0.994805\n",
      "x      0.005195\n",
      "Name: Sushi, dtype: float64\n",
      "--------------------\n",
      "Column :Avocado\n",
      "NaN    0.966234\n",
      "x      0.033766\n",
      "Name: Avocado, dtype: float64\n",
      "--------------------\n",
      "Column :Corn\n",
      "NaN    0.992208\n",
      "x      0.005195\n",
      "X      0.002597\n",
      "Name: Corn, dtype: float64\n",
      "--------------------\n",
      "Column :Zucchini\n",
      "NaN    0.997403\n",
      "x      0.002597\n",
      "Name: Zucchini, dtype: float64\n"
     ]
    }
   ],
   "source": [
    "column_list = list(df_master.columns)\n",
    "for i in column_list[29:]:\n",
    "    print('-'*20)\n",
    "    print('Column :' + i)\n",
    "    print(df_master[i].value_counts(normalize=True, dropna=False))"
   ]
  },
  {
   "cell_type": "code",
   "execution_count": 46,
   "id": "c542e8b6",
   "metadata": {},
   "outputs": [
    {
     "data": {
      "application/vnd.plotly.v1+json": {
       "config": {
        "plotlyServerURL": "https://plot.ly"
       },
       "data": [
        {
         "marker": {
          "color": [
           8,
           0,
           6.49,
           5.183333333333334,
           6.59,
           6.99,
           7.09,
           9.25,
           7.875,
           6.609999999999999,
           7.99,
           5.99,
           6.4,
           7.125,
           7.49,
           6.5,
           6.423333333333335,
           7.125,
           5,
           7.0625,
           7.84,
           7.4399999999999995,
           9.5,
           6.49,
           7.05,
           8.59,
           8.99,
           8.225,
           6.6,
           7.025,
           6.6,
           7.89,
           6.378571428571428,
           7.3625,
           6.64,
           6.37,
           4.59,
           7.755714285714286,
           6.95,
           8.166666666666666,
           6.6000000000000005,
           7.49,
           9.125,
           5.55,
           7,
           6.1850000000000005,
           6.25,
           6.75,
           6.766666666666666,
           5.95,
           5.745,
           6.175,
           9.43,
           10.466666666666667,
           8.25,
           4.87,
           6.808333333333334,
           8.2,
           6.99,
           5.475,
           9.19,
           7.183333333333333,
           6.94,
           5.25,
           7.3125,
           6.166666666666667,
           6.357142857142857,
           6.75,
           6.25,
           4.99,
           6.89,
           5.140000000000001,
           7.49,
           6.5,
           6.25,
           5.84,
           7.601379310344828,
           4.99,
           6.720000000000001,
           6.140000000000001,
           7.15,
           7.24,
           7.9,
           6.416666666666667,
           4.74,
           5.99,
           6.7875,
           5.99,
           7.9,
           6.6,
           6.1,
           6.25,
           5.6125,
           6.98,
           5.663333333333334,
           6.470000000000001,
           7.49,
           5.99,
           6.39,
           7.025,
           6.25,
           10.5,
           7.67,
           6.99,
           6.833333333333333,
           6.74,
           5.99,
           5.57,
           7.75,
           6.99,
           6.6,
           8.2,
           4.99,
           7.540000000000001,
           7.9,
           6.49,
           6.85,
           0,
           7.19,
           7.9,
           6.85,
           7.5,
           6.291666666666667,
           7.675,
           7.995,
           6.25,
           7.75,
           8.25,
           7.563333333333333,
           7.4,
           9.95,
           7.666666666666667,
           7.09,
           7.89,
           6.9,
           8.175,
           5.7875,
           6.99,
           7.35,
           6.99,
           8.5,
           7.325,
           8.35,
           16,
           7.045,
           7.705,
           6.49,
           8.5,
           6.85,
           11.5,
           7.89,
           8
          ],
          "colorscale": [
           [
            0,
            "rgb(12,51,131)"
           ],
           [
            0.25,
            "rgb(10,136,186)"
           ],
           [
            0.5,
            "rgb(242,211,56)"
           ],
           [
            0.75,
            "rgb(242,143,56)"
           ],
           [
            1,
            "rgb(217,30,30)"
           ]
          ],
          "showscale": true,
          "size": [
           8,
           0,
           6.49,
           5.183333333333334,
           6.59,
           6.99,
           7.09,
           9.25,
           7.875,
           6.609999999999999,
           7.99,
           5.99,
           6.4,
           7.125,
           7.49,
           6.5,
           6.423333333333335,
           7.125,
           5,
           7.0625,
           7.84,
           7.4399999999999995,
           9.5,
           6.49,
           7.05,
           8.59,
           8.99,
           8.225,
           6.6,
           7.025,
           6.6,
           7.89,
           6.378571428571428,
           7.3625,
           6.64,
           6.37,
           4.59,
           7.755714285714286,
           6.95,
           8.166666666666666,
           6.6000000000000005,
           7.49,
           9.125,
           5.55,
           7,
           6.1850000000000005,
           6.25,
           6.75,
           6.766666666666666,
           5.95,
           5.745,
           6.175,
           9.43,
           10.466666666666667,
           8.25,
           4.87,
           6.808333333333334,
           8.2,
           6.99,
           5.475,
           9.19,
           7.183333333333333,
           6.94,
           5.25,
           7.3125,
           6.166666666666667,
           6.357142857142857,
           6.75,
           6.25,
           4.99,
           6.89,
           5.140000000000001,
           7.49,
           6.5,
           6.25,
           5.84,
           7.601379310344828,
           4.99,
           6.720000000000001,
           6.140000000000001,
           7.15,
           7.24,
           7.9,
           6.416666666666667,
           4.74,
           5.99,
           6.7875,
           5.99,
           7.9,
           6.6,
           6.1,
           6.25,
           5.6125,
           6.98,
           5.663333333333334,
           6.470000000000001,
           7.49,
           5.99,
           6.39,
           7.025,
           6.25,
           10.5,
           7.67,
           6.99,
           6.833333333333333,
           6.74,
           5.99,
           5.57,
           7.75,
           6.99,
           6.6,
           8.2,
           4.99,
           7.540000000000001,
           7.9,
           6.49,
           6.85,
           0,
           7.19,
           7.9,
           6.85,
           7.5,
           6.291666666666667,
           7.675,
           7.995,
           6.25,
           7.75,
           8.25,
           7.563333333333333,
           7.4,
           9.95,
           7.666666666666667,
           7.09,
           7.89,
           6.9,
           8.175,
           5.7875,
           6.99,
           7.35,
           6.99,
           8.5,
           7.325,
           8.35,
           16,
           7.045,
           7.705,
           6.49,
           8.5,
           6.85,
           11.5,
           7.89,
           8
          ]
         },
         "mode": "markers",
         "type": "scatter",
         "x": [
          "2011-05-16T00:00:00.000000000",
          "2015-04-20T00:00:00.000000000",
          "2016-01-18T00:00:00.000000000",
          "2016-01-24T00:00:00.000000000",
          "2016-01-27T00:00:00.000000000",
          "2016-01-28T00:00:00.000000000",
          "2016-01-30T00:00:00.000000000",
          "2016-02-01T00:00:00.000000000",
          "2016-02-06T00:00:00.000000000",
          "2016-02-11T00:00:00.000000000",
          "2016-02-12T00:00:00.000000000",
          "2016-02-14T00:00:00.000000000",
          "2016-02-17T00:00:00.000000000",
          "2016-02-24T00:00:00.000000000",
          "2016-02-28T00:00:00.000000000",
          "2016-02-29T00:00:00.000000000",
          "2016-03-03T00:00:00.000000000",
          "2016-03-08T00:00:00.000000000",
          "2016-03-11T00:00:00.000000000",
          "2016-03-14T00:00:00.000000000",
          "2016-03-17T00:00:00.000000000",
          "2016-03-18T00:00:00.000000000",
          "2016-03-19T00:00:00.000000000",
          "2016-03-20T00:00:00.000000000",
          "2016-03-21T00:00:00.000000000",
          "2016-03-23T00:00:00.000000000",
          "2016-03-30T00:00:00.000000000",
          "2016-04-02T00:00:00.000000000",
          "2016-04-03T00:00:00.000000000",
          "2016-04-07T00:00:00.000000000",
          "2016-04-09T00:00:00.000000000",
          "2016-04-14T00:00:00.000000000",
          "2016-04-15T00:00:00.000000000",
          "2016-04-24T00:00:00.000000000",
          "2016-04-27T00:00:00.000000000",
          "2016-05-04T00:00:00.000000000",
          "2016-05-05T00:00:00.000000000",
          "2016-05-06T00:00:00.000000000",
          "2016-05-09T00:00:00.000000000",
          "2016-05-12T00:00:00.000000000",
          "2016-05-13T00:00:00.000000000",
          "2016-05-15T00:00:00.000000000",
          "2016-05-16T00:00:00.000000000",
          "2016-05-18T00:00:00.000000000",
          "2016-05-19T00:00:00.000000000",
          "2016-05-20T00:00:00.000000000",
          "2016-05-21T00:00:00.000000000",
          "2016-05-22T00:00:00.000000000",
          "2016-05-23T00:00:00.000000000",
          "2016-05-24T00:00:00.000000000",
          "2016-05-26T00:00:00.000000000",
          "2016-05-27T00:00:00.000000000",
          "2016-05-28T00:00:00.000000000",
          "2016-05-29T00:00:00.000000000",
          "2016-05-31T00:00:00.000000000",
          "2016-06-01T00:00:00.000000000",
          "2016-06-03T00:00:00.000000000",
          "2016-06-05T00:00:00.000000000",
          "2016-06-06T00:00:00.000000000",
          "2016-06-08T00:00:00.000000000",
          "2016-06-09T00:00:00.000000000",
          "2016-06-11T00:00:00.000000000",
          "2016-06-16T00:00:00.000000000",
          "2016-06-20T00:00:00.000000000",
          "2016-06-23T00:00:00.000000000",
          "2016-06-24T00:00:00.000000000",
          "2016-08-01T00:00:00.000000000",
          "2016-08-06T00:00:00.000000000",
          "2016-08-09T00:00:00.000000000",
          "2016-08-10T00:00:00.000000000",
          "2016-08-12T00:00:00.000000000",
          "2016-08-16T00:00:00.000000000",
          "2016-08-17T00:00:00.000000000",
          "2016-08-19T00:00:00.000000000",
          "2016-08-21T00:00:00.000000000",
          "2016-08-27T00:00:00.000000000",
          "2016-08-30T00:00:00.000000000",
          "2016-09-05T00:00:00.000000000",
          "2016-09-09T00:00:00.000000000",
          "2016-09-11T00:00:00.000000000",
          "2016-09-13T00:00:00.000000000",
          "2016-09-16T00:00:00.000000000",
          "2016-09-18T00:00:00.000000000",
          "2016-09-22T00:00:00.000000000",
          "2016-09-25T00:00:00.000000000",
          "2016-09-26T00:00:00.000000000",
          "2016-09-27T00:00:00.000000000",
          "2016-09-29T00:00:00.000000000",
          "2016-10-01T00:00:00.000000000",
          "2016-10-02T00:00:00.000000000",
          "2016-10-05T00:00:00.000000000",
          "2016-10-07T00:00:00.000000000",
          "2016-10-12T00:00:00.000000000",
          "2016-10-17T00:00:00.000000000",
          "2016-10-18T00:00:00.000000000",
          "2016-10-27T00:00:00.000000000",
          "2016-10-29T00:00:00.000000000",
          "2016-11-01T00:00:00.000000000",
          "2016-11-02T00:00:00.000000000",
          "2016-11-06T00:00:00.000000000",
          "2016-11-08T00:00:00.000000000",
          "2016-11-14T00:00:00.000000000",
          "2016-11-16T00:00:00.000000000",
          "2016-11-17T00:00:00.000000000",
          "2016-11-23T00:00:00.000000000",
          "2016-11-26T00:00:00.000000000",
          "2016-11-27T00:00:00.000000000",
          "2016-12-02T00:00:00.000000000",
          "2016-12-10T00:00:00.000000000",
          "2016-12-15T00:00:00.000000000",
          "2017-01-04T00:00:00.000000000",
          "2017-01-07T00:00:00.000000000",
          "2017-01-10T00:00:00.000000000",
          "2017-01-12T00:00:00.000000000",
          "2017-01-15T00:00:00.000000000",
          "2017-01-20T00:00:00.000000000",
          "2017-02-15T00:00:00.000000000",
          "2017-02-21T00:00:00.000000000",
          "2017-02-23T00:00:00.000000000",
          "2017-02-25T00:00:00.000000000",
          "2017-03-03T00:00:00.000000000",
          "2017-03-16T00:00:00.000000000",
          "2017-04-07T00:00:00.000000000",
          "2017-04-23T00:00:00.000000000",
          "2017-04-25T00:00:00.000000000",
          "2017-05-02T00:00:00.000000000",
          "2017-05-09T00:00:00.000000000",
          "2017-05-13T00:00:00.000000000",
          "2017-05-17T00:00:00.000000000",
          "2017-05-26T00:00:00.000000000",
          "2017-05-29T00:00:00.000000000",
          "2017-05-30T00:00:00.000000000",
          "2017-06-04T00:00:00.000000000",
          "2017-06-10T00:00:00.000000000",
          "2017-06-16T00:00:00.000000000",
          "2017-06-24T00:00:00.000000000",
          "2017-07-06T00:00:00.000000000",
          "2017-07-12T00:00:00.000000000",
          "2017-07-13T00:00:00.000000000",
          "2017-07-19T00:00:00.000000000",
          "2017-07-22T00:00:00.000000000",
          "2017-08-07T00:00:00.000000000",
          "2017-08-09T00:00:00.000000000",
          "2017-08-14T00:00:00.000000000",
          "2017-08-19T00:00:00.000000000",
          "2017-08-20T00:00:00.000000000",
          "2017-08-25T00:00:00.000000000",
          "2017-09-04T00:00:00.000000000",
          "2017-09-05T00:00:00.000000000",
          "2017-12-16T00:00:00.000000000",
          "2017-12-29T00:00:00.000000000",
          "2026-04-25T00:00:00.000000000"
         ],
         "y": [
          8,
          0,
          6.49,
          5.183333333333334,
          6.59,
          6.99,
          7.09,
          9.25,
          7.875,
          6.609999999999999,
          7.99,
          5.99,
          6.4,
          7.125,
          7.49,
          6.5,
          6.423333333333335,
          7.125,
          5,
          7.0625,
          7.84,
          7.4399999999999995,
          9.5,
          6.49,
          7.05,
          8.59,
          8.99,
          8.225,
          6.6,
          7.025,
          6.6,
          7.89,
          6.378571428571428,
          7.3625,
          6.64,
          6.37,
          4.59,
          7.755714285714286,
          6.95,
          8.166666666666666,
          6.6000000000000005,
          7.49,
          9.125,
          5.55,
          7,
          6.1850000000000005,
          6.25,
          6.75,
          6.766666666666666,
          5.95,
          5.745,
          6.175,
          9.43,
          10.466666666666667,
          8.25,
          4.87,
          6.808333333333334,
          8.2,
          6.99,
          5.475,
          9.19,
          7.183333333333333,
          6.94,
          5.25,
          7.3125,
          6.166666666666667,
          6.357142857142857,
          6.75,
          6.25,
          4.99,
          6.89,
          5.140000000000001,
          7.49,
          6.5,
          6.25,
          5.84,
          7.601379310344828,
          4.99,
          6.720000000000001,
          6.140000000000001,
          7.15,
          7.24,
          7.9,
          6.416666666666667,
          4.74,
          5.99,
          6.7875,
          5.99,
          7.9,
          6.6,
          6.1,
          6.25,
          5.6125,
          6.98,
          5.663333333333334,
          6.470000000000001,
          7.49,
          5.99,
          6.39,
          7.025,
          6.25,
          10.5,
          7.67,
          6.99,
          6.833333333333333,
          6.74,
          5.99,
          5.57,
          7.75,
          6.99,
          6.6,
          8.2,
          4.99,
          7.540000000000001,
          7.9,
          6.49,
          6.85,
          0,
          7.19,
          7.9,
          6.85,
          7.5,
          6.291666666666667,
          7.675,
          7.995,
          6.25,
          7.75,
          8.25,
          7.563333333333333,
          7.4,
          9.95,
          7.666666666666667,
          7.09,
          7.89,
          6.9,
          8.175,
          5.7875,
          6.99,
          7.35,
          6.99,
          8.5,
          7.325,
          8.35,
          16,
          7.045,
          7.705,
          6.49,
          8.5,
          6.85,
          11.5,
          7.89,
          8
         ]
        }
       ],
       "layout": {
        "autosize": true,
        "hovermode": "closest",
        "showlegend": false,
        "template": {
         "data": {
          "bar": [
           {
            "error_x": {
             "color": "#2a3f5f"
            },
            "error_y": {
             "color": "#2a3f5f"
            },
            "marker": {
             "line": {
              "color": "#E5ECF6",
              "width": 0.5
             },
             "pattern": {
              "fillmode": "overlay",
              "size": 10,
              "solidity": 0.2
             }
            },
            "type": "bar"
           }
          ],
          "barpolar": [
           {
            "marker": {
             "line": {
              "color": "#E5ECF6",
              "width": 0.5
             },
             "pattern": {
              "fillmode": "overlay",
              "size": 10,
              "solidity": 0.2
             }
            },
            "type": "barpolar"
           }
          ],
          "carpet": [
           {
            "aaxis": {
             "endlinecolor": "#2a3f5f",
             "gridcolor": "white",
             "linecolor": "white",
             "minorgridcolor": "white",
             "startlinecolor": "#2a3f5f"
            },
            "baxis": {
             "endlinecolor": "#2a3f5f",
             "gridcolor": "white",
             "linecolor": "white",
             "minorgridcolor": "white",
             "startlinecolor": "#2a3f5f"
            },
            "type": "carpet"
           }
          ],
          "choropleth": [
           {
            "colorbar": {
             "outlinewidth": 0,
             "ticks": ""
            },
            "type": "choropleth"
           }
          ],
          "contour": [
           {
            "colorbar": {
             "outlinewidth": 0,
             "ticks": ""
            },
            "colorscale": [
             [
              0,
              "#0d0887"
             ],
             [
              0.1111111111111111,
              "#46039f"
             ],
             [
              0.2222222222222222,
              "#7201a8"
             ],
             [
              0.3333333333333333,
              "#9c179e"
             ],
             [
              0.4444444444444444,
              "#bd3786"
             ],
             [
              0.5555555555555556,
              "#d8576b"
             ],
             [
              0.6666666666666666,
              "#ed7953"
             ],
             [
              0.7777777777777778,
              "#fb9f3a"
             ],
             [
              0.8888888888888888,
              "#fdca26"
             ],
             [
              1,
              "#f0f921"
             ]
            ],
            "type": "contour"
           }
          ],
          "contourcarpet": [
           {
            "colorbar": {
             "outlinewidth": 0,
             "ticks": ""
            },
            "type": "contourcarpet"
           }
          ],
          "heatmap": [
           {
            "colorbar": {
             "outlinewidth": 0,
             "ticks": ""
            },
            "colorscale": [
             [
              0,
              "#0d0887"
             ],
             [
              0.1111111111111111,
              "#46039f"
             ],
             [
              0.2222222222222222,
              "#7201a8"
             ],
             [
              0.3333333333333333,
              "#9c179e"
             ],
             [
              0.4444444444444444,
              "#bd3786"
             ],
             [
              0.5555555555555556,
              "#d8576b"
             ],
             [
              0.6666666666666666,
              "#ed7953"
             ],
             [
              0.7777777777777778,
              "#fb9f3a"
             ],
             [
              0.8888888888888888,
              "#fdca26"
             ],
             [
              1,
              "#f0f921"
             ]
            ],
            "type": "heatmap"
           }
          ],
          "heatmapgl": [
           {
            "colorbar": {
             "outlinewidth": 0,
             "ticks": ""
            },
            "colorscale": [
             [
              0,
              "#0d0887"
             ],
             [
              0.1111111111111111,
              "#46039f"
             ],
             [
              0.2222222222222222,
              "#7201a8"
             ],
             [
              0.3333333333333333,
              "#9c179e"
             ],
             [
              0.4444444444444444,
              "#bd3786"
             ],
             [
              0.5555555555555556,
              "#d8576b"
             ],
             [
              0.6666666666666666,
              "#ed7953"
             ],
             [
              0.7777777777777778,
              "#fb9f3a"
             ],
             [
              0.8888888888888888,
              "#fdca26"
             ],
             [
              1,
              "#f0f921"
             ]
            ],
            "type": "heatmapgl"
           }
          ],
          "histogram": [
           {
            "marker": {
             "pattern": {
              "fillmode": "overlay",
              "size": 10,
              "solidity": 0.2
             }
            },
            "type": "histogram"
           }
          ],
          "histogram2d": [
           {
            "colorbar": {
             "outlinewidth": 0,
             "ticks": ""
            },
            "colorscale": [
             [
              0,
              "#0d0887"
             ],
             [
              0.1111111111111111,
              "#46039f"
             ],
             [
              0.2222222222222222,
              "#7201a8"
             ],
             [
              0.3333333333333333,
              "#9c179e"
             ],
             [
              0.4444444444444444,
              "#bd3786"
             ],
             [
              0.5555555555555556,
              "#d8576b"
             ],
             [
              0.6666666666666666,
              "#ed7953"
             ],
             [
              0.7777777777777778,
              "#fb9f3a"
             ],
             [
              0.8888888888888888,
              "#fdca26"
             ],
             [
              1,
              "#f0f921"
             ]
            ],
            "type": "histogram2d"
           }
          ],
          "histogram2dcontour": [
           {
            "colorbar": {
             "outlinewidth": 0,
             "ticks": ""
            },
            "colorscale": [
             [
              0,
              "#0d0887"
             ],
             [
              0.1111111111111111,
              "#46039f"
             ],
             [
              0.2222222222222222,
              "#7201a8"
             ],
             [
              0.3333333333333333,
              "#9c179e"
             ],
             [
              0.4444444444444444,
              "#bd3786"
             ],
             [
              0.5555555555555556,
              "#d8576b"
             ],
             [
              0.6666666666666666,
              "#ed7953"
             ],
             [
              0.7777777777777778,
              "#fb9f3a"
             ],
             [
              0.8888888888888888,
              "#fdca26"
             ],
             [
              1,
              "#f0f921"
             ]
            ],
            "type": "histogram2dcontour"
           }
          ],
          "mesh3d": [
           {
            "colorbar": {
             "outlinewidth": 0,
             "ticks": ""
            },
            "type": "mesh3d"
           }
          ],
          "parcoords": [
           {
            "line": {
             "colorbar": {
              "outlinewidth": 0,
              "ticks": ""
             }
            },
            "type": "parcoords"
           }
          ],
          "pie": [
           {
            "automargin": true,
            "type": "pie"
           }
          ],
          "scatter": [
           {
            "marker": {
             "colorbar": {
              "outlinewidth": 0,
              "ticks": ""
             }
            },
            "type": "scatter"
           }
          ],
          "scatter3d": [
           {
            "line": {
             "colorbar": {
              "outlinewidth": 0,
              "ticks": ""
             }
            },
            "marker": {
             "colorbar": {
              "outlinewidth": 0,
              "ticks": ""
             }
            },
            "type": "scatter3d"
           }
          ],
          "scattercarpet": [
           {
            "marker": {
             "colorbar": {
              "outlinewidth": 0,
              "ticks": ""
             }
            },
            "type": "scattercarpet"
           }
          ],
          "scattergeo": [
           {
            "marker": {
             "colorbar": {
              "outlinewidth": 0,
              "ticks": ""
             }
            },
            "type": "scattergeo"
           }
          ],
          "scattergl": [
           {
            "marker": {
             "colorbar": {
              "outlinewidth": 0,
              "ticks": ""
             }
            },
            "type": "scattergl"
           }
          ],
          "scattermapbox": [
           {
            "marker": {
             "colorbar": {
              "outlinewidth": 0,
              "ticks": ""
             }
            },
            "type": "scattermapbox"
           }
          ],
          "scatterpolar": [
           {
            "marker": {
             "colorbar": {
              "outlinewidth": 0,
              "ticks": ""
             }
            },
            "type": "scatterpolar"
           }
          ],
          "scatterpolargl": [
           {
            "marker": {
             "colorbar": {
              "outlinewidth": 0,
              "ticks": ""
             }
            },
            "type": "scatterpolargl"
           }
          ],
          "scatterternary": [
           {
            "marker": {
             "colorbar": {
              "outlinewidth": 0,
              "ticks": ""
             }
            },
            "type": "scatterternary"
           }
          ],
          "surface": [
           {
            "colorbar": {
             "outlinewidth": 0,
             "ticks": ""
            },
            "colorscale": [
             [
              0,
              "#0d0887"
             ],
             [
              0.1111111111111111,
              "#46039f"
             ],
             [
              0.2222222222222222,
              "#7201a8"
             ],
             [
              0.3333333333333333,
              "#9c179e"
             ],
             [
              0.4444444444444444,
              "#bd3786"
             ],
             [
              0.5555555555555556,
              "#d8576b"
             ],
             [
              0.6666666666666666,
              "#ed7953"
             ],
             [
              0.7777777777777778,
              "#fb9f3a"
             ],
             [
              0.8888888888888888,
              "#fdca26"
             ],
             [
              1,
              "#f0f921"
             ]
            ],
            "type": "surface"
           }
          ],
          "table": [
           {
            "cells": {
             "fill": {
              "color": "#EBF0F8"
             },
             "line": {
              "color": "white"
             }
            },
            "header": {
             "fill": {
              "color": "#C8D4E3"
             },
             "line": {
              "color": "white"
             }
            },
            "type": "table"
           }
          ]
         },
         "layout": {
          "annotationdefaults": {
           "arrowcolor": "#2a3f5f",
           "arrowhead": 0,
           "arrowwidth": 1
          },
          "autotypenumbers": "strict",
          "coloraxis": {
           "colorbar": {
            "outlinewidth": 0,
            "ticks": ""
           }
          },
          "colorscale": {
           "diverging": [
            [
             0,
             "#8e0152"
            ],
            [
             0.1,
             "#c51b7d"
            ],
            [
             0.2,
             "#de77ae"
            ],
            [
             0.3,
             "#f1b6da"
            ],
            [
             0.4,
             "#fde0ef"
            ],
            [
             0.5,
             "#f7f7f7"
            ],
            [
             0.6,
             "#e6f5d0"
            ],
            [
             0.7,
             "#b8e186"
            ],
            [
             0.8,
             "#7fbc41"
            ],
            [
             0.9,
             "#4d9221"
            ],
            [
             1,
             "#276419"
            ]
           ],
           "sequential": [
            [
             0,
             "#0d0887"
            ],
            [
             0.1111111111111111,
             "#46039f"
            ],
            [
             0.2222222222222222,
             "#7201a8"
            ],
            [
             0.3333333333333333,
             "#9c179e"
            ],
            [
             0.4444444444444444,
             "#bd3786"
            ],
            [
             0.5555555555555556,
             "#d8576b"
            ],
            [
             0.6666666666666666,
             "#ed7953"
            ],
            [
             0.7777777777777778,
             "#fb9f3a"
            ],
            [
             0.8888888888888888,
             "#fdca26"
            ],
            [
             1,
             "#f0f921"
            ]
           ],
           "sequentialminus": [
            [
             0,
             "#0d0887"
            ],
            [
             0.1111111111111111,
             "#46039f"
            ],
            [
             0.2222222222222222,
             "#7201a8"
            ],
            [
             0.3333333333333333,
             "#9c179e"
            ],
            [
             0.4444444444444444,
             "#bd3786"
            ],
            [
             0.5555555555555556,
             "#d8576b"
            ],
            [
             0.6666666666666666,
             "#ed7953"
            ],
            [
             0.7777777777777778,
             "#fb9f3a"
            ],
            [
             0.8888888888888888,
             "#fdca26"
            ],
            [
             1,
             "#f0f921"
            ]
           ]
          },
          "colorway": [
           "#636efa",
           "#EF553B",
           "#00cc96",
           "#ab63fa",
           "#FFA15A",
           "#19d3f3",
           "#FF6692",
           "#B6E880",
           "#FF97FF",
           "#FECB52"
          ],
          "font": {
           "color": "#2a3f5f"
          },
          "geo": {
           "bgcolor": "white",
           "lakecolor": "white",
           "landcolor": "#E5ECF6",
           "showlakes": true,
           "showland": true,
           "subunitcolor": "white"
          },
          "hoverlabel": {
           "align": "left"
          },
          "hovermode": "closest",
          "mapbox": {
           "style": "light"
          },
          "paper_bgcolor": "white",
          "plot_bgcolor": "#E5ECF6",
          "polar": {
           "angularaxis": {
            "gridcolor": "white",
            "linecolor": "white",
            "ticks": ""
           },
           "bgcolor": "#E5ECF6",
           "radialaxis": {
            "gridcolor": "white",
            "linecolor": "white",
            "ticks": ""
           }
          },
          "scene": {
           "xaxis": {
            "backgroundcolor": "#E5ECF6",
            "gridcolor": "white",
            "gridwidth": 2,
            "linecolor": "white",
            "showbackground": true,
            "ticks": "",
            "zerolinecolor": "white"
           },
           "yaxis": {
            "backgroundcolor": "#E5ECF6",
            "gridcolor": "white",
            "gridwidth": 2,
            "linecolor": "white",
            "showbackground": true,
            "ticks": "",
            "zerolinecolor": "white"
           },
           "zaxis": {
            "backgroundcolor": "#E5ECF6",
            "gridcolor": "white",
            "gridwidth": 2,
            "linecolor": "white",
            "showbackground": true,
            "ticks": "",
            "zerolinecolor": "white"
           }
          },
          "shapedefaults": {
           "line": {
            "color": "#2a3f5f"
           }
          },
          "ternary": {
           "aaxis": {
            "gridcolor": "white",
            "linecolor": "white",
            "ticks": ""
           },
           "baxis": {
            "gridcolor": "white",
            "linecolor": "white",
            "ticks": ""
           },
           "bgcolor": "#E5ECF6",
           "caxis": {
            "gridcolor": "white",
            "linecolor": "white",
            "ticks": ""
           }
          },
          "title": {
           "x": 0.05
          },
          "xaxis": {
           "automargin": true,
           "gridcolor": "white",
           "linecolor": "white",
           "ticks": "",
           "title": {
            "standoff": 15
           },
           "zerolinecolor": "white",
           "zerolinewidth": 2
          },
          "yaxis": {
           "automargin": true,
           "gridcolor": "white",
           "linecolor": "white",
           "ticks": "",
           "title": {
            "standoff": 15
           },
           "zerolinecolor": "white",
           "zerolinewidth": 2
          }
         }
        },
        "title": {
         "text": "Daily mean order amount"
        },
        "xaxis": {
         "gridwidth": 2,
         "ticklen": 5,
         "title": {
          "text": "Date"
         }
        },
        "yaxis": {
         "gridwidth": 2,
         "ticklen": 5,
         "title": {
          "text": "Cost_mean"
         }
        }
       }
      },
      "text/html": [
       "<div>                            <div id=\"f376bd6c-5e3e-4529-bd83-9895c939948f\" class=\"plotly-graph-div\" style=\"height:525px; width:100%;\"></div>            <script type=\"text/javascript\">                require([\"plotly\"], function(Plotly) {                    window.PLOTLYENV=window.PLOTLYENV || {};                                    if (document.getElementById(\"f376bd6c-5e3e-4529-bd83-9895c939948f\")) {                    Plotly.newPlot(                        \"f376bd6c-5e3e-4529-bd83-9895c939948f\",                        [{\"marker\":{\"color\":[8.0,0.0,6.49,5.183333333333334,6.59,6.99,7.09,9.25,7.875,6.609999999999999,7.99,5.99,6.4,7.125,7.49,6.5,6.423333333333335,7.125,5.0,7.0625,7.84,7.4399999999999995,9.5,6.49,7.05,8.59,8.99,8.225,6.6,7.025,6.6,7.89,6.378571428571428,7.3625,6.64,6.37,4.59,7.755714285714286,6.95,8.166666666666666,6.6000000000000005,7.49,9.125,5.55,7.0,6.1850000000000005,6.25,6.75,6.766666666666666,5.95,5.745,6.175,9.43,10.466666666666667,8.25,4.87,6.808333333333334,8.2,6.99,5.475,9.19,7.183333333333333,6.94,5.25,7.3125,6.166666666666667,6.357142857142857,6.75,6.25,4.99,6.89,5.140000000000001,7.49,6.5,6.25,5.84,7.601379310344828,4.99,6.720000000000001,6.140000000000001,7.15,7.24,7.9,6.416666666666667,4.74,5.99,6.7875,5.99,7.9,6.6,6.1,6.25,5.6125,6.98,5.663333333333334,6.470000000000001,7.49,5.99,6.39,7.025,6.25,10.5,7.67,6.99,6.833333333333333,6.74,5.99,5.57,7.75,6.99,6.6,8.2,4.99,7.540000000000001,7.9,6.49,6.85,0.0,7.19,7.9,6.85,7.5,6.291666666666667,7.675,7.995,6.25,7.75,8.25,7.563333333333333,7.4,9.95,7.666666666666667,7.09,7.89,6.9,8.175,5.7875,6.99,7.35,6.99,8.5,7.325,8.35,16.0,7.045,7.705,6.49,8.5,6.85,11.5,7.89,8.0],\"colorscale\":[[0.0,\"rgb(12,51,131)\"],[0.25,\"rgb(10,136,186)\"],[0.5,\"rgb(242,211,56)\"],[0.75,\"rgb(242,143,56)\"],[1.0,\"rgb(217,30,30)\"]],\"showscale\":true,\"size\":[8.0,0.0,6.49,5.183333333333334,6.59,6.99,7.09,9.25,7.875,6.609999999999999,7.99,5.99,6.4,7.125,7.49,6.5,6.423333333333335,7.125,5.0,7.0625,7.84,7.4399999999999995,9.5,6.49,7.05,8.59,8.99,8.225,6.6,7.025,6.6,7.89,6.378571428571428,7.3625,6.64,6.37,4.59,7.755714285714286,6.95,8.166666666666666,6.6000000000000005,7.49,9.125,5.55,7.0,6.1850000000000005,6.25,6.75,6.766666666666666,5.95,5.745,6.175,9.43,10.466666666666667,8.25,4.87,6.808333333333334,8.2,6.99,5.475,9.19,7.183333333333333,6.94,5.25,7.3125,6.166666666666667,6.357142857142857,6.75,6.25,4.99,6.89,5.140000000000001,7.49,6.5,6.25,5.84,7.601379310344828,4.99,6.720000000000001,6.140000000000001,7.15,7.24,7.9,6.416666666666667,4.74,5.99,6.7875,5.99,7.9,6.6,6.1,6.25,5.6125,6.98,5.663333333333334,6.470000000000001,7.49,5.99,6.39,7.025,6.25,10.5,7.67,6.99,6.833333333333333,6.74,5.99,5.57,7.75,6.99,6.6,8.2,4.99,7.540000000000001,7.9,6.49,6.85,0.0,7.19,7.9,6.85,7.5,6.291666666666667,7.675,7.995,6.25,7.75,8.25,7.563333333333333,7.4,9.95,7.666666666666667,7.09,7.89,6.9,8.175,5.7875,6.99,7.35,6.99,8.5,7.325,8.35,16.0,7.045,7.705,6.49,8.5,6.85,11.5,7.89,8.0]},\"mode\":\"markers\",\"type\":\"scatter\",\"x\":[\"2011-05-16T00:00:00.000000000\",\"2015-04-20T00:00:00.000000000\",\"2016-01-18T00:00:00.000000000\",\"2016-01-24T00:00:00.000000000\",\"2016-01-27T00:00:00.000000000\",\"2016-01-28T00:00:00.000000000\",\"2016-01-30T00:00:00.000000000\",\"2016-02-01T00:00:00.000000000\",\"2016-02-06T00:00:00.000000000\",\"2016-02-11T00:00:00.000000000\",\"2016-02-12T00:00:00.000000000\",\"2016-02-14T00:00:00.000000000\",\"2016-02-17T00:00:00.000000000\",\"2016-02-24T00:00:00.000000000\",\"2016-02-28T00:00:00.000000000\",\"2016-02-29T00:00:00.000000000\",\"2016-03-03T00:00:00.000000000\",\"2016-03-08T00:00:00.000000000\",\"2016-03-11T00:00:00.000000000\",\"2016-03-14T00:00:00.000000000\",\"2016-03-17T00:00:00.000000000\",\"2016-03-18T00:00:00.000000000\",\"2016-03-19T00:00:00.000000000\",\"2016-03-20T00:00:00.000000000\",\"2016-03-21T00:00:00.000000000\",\"2016-03-23T00:00:00.000000000\",\"2016-03-30T00:00:00.000000000\",\"2016-04-02T00:00:00.000000000\",\"2016-04-03T00:00:00.000000000\",\"2016-04-07T00:00:00.000000000\",\"2016-04-09T00:00:00.000000000\",\"2016-04-14T00:00:00.000000000\",\"2016-04-15T00:00:00.000000000\",\"2016-04-24T00:00:00.000000000\",\"2016-04-27T00:00:00.000000000\",\"2016-05-04T00:00:00.000000000\",\"2016-05-05T00:00:00.000000000\",\"2016-05-06T00:00:00.000000000\",\"2016-05-09T00:00:00.000000000\",\"2016-05-12T00:00:00.000000000\",\"2016-05-13T00:00:00.000000000\",\"2016-05-15T00:00:00.000000000\",\"2016-05-16T00:00:00.000000000\",\"2016-05-18T00:00:00.000000000\",\"2016-05-19T00:00:00.000000000\",\"2016-05-20T00:00:00.000000000\",\"2016-05-21T00:00:00.000000000\",\"2016-05-22T00:00:00.000000000\",\"2016-05-23T00:00:00.000000000\",\"2016-05-24T00:00:00.000000000\",\"2016-05-26T00:00:00.000000000\",\"2016-05-27T00:00:00.000000000\",\"2016-05-28T00:00:00.000000000\",\"2016-05-29T00:00:00.000000000\",\"2016-05-31T00:00:00.000000000\",\"2016-06-01T00:00:00.000000000\",\"2016-06-03T00:00:00.000000000\",\"2016-06-05T00:00:00.000000000\",\"2016-06-06T00:00:00.000000000\",\"2016-06-08T00:00:00.000000000\",\"2016-06-09T00:00:00.000000000\",\"2016-06-11T00:00:00.000000000\",\"2016-06-16T00:00:00.000000000\",\"2016-06-20T00:00:00.000000000\",\"2016-06-23T00:00:00.000000000\",\"2016-06-24T00:00:00.000000000\",\"2016-08-01T00:00:00.000000000\",\"2016-08-06T00:00:00.000000000\",\"2016-08-09T00:00:00.000000000\",\"2016-08-10T00:00:00.000000000\",\"2016-08-12T00:00:00.000000000\",\"2016-08-16T00:00:00.000000000\",\"2016-08-17T00:00:00.000000000\",\"2016-08-19T00:00:00.000000000\",\"2016-08-21T00:00:00.000000000\",\"2016-08-27T00:00:00.000000000\",\"2016-08-30T00:00:00.000000000\",\"2016-09-05T00:00:00.000000000\",\"2016-09-09T00:00:00.000000000\",\"2016-09-11T00:00:00.000000000\",\"2016-09-13T00:00:00.000000000\",\"2016-09-16T00:00:00.000000000\",\"2016-09-18T00:00:00.000000000\",\"2016-09-22T00:00:00.000000000\",\"2016-09-25T00:00:00.000000000\",\"2016-09-26T00:00:00.000000000\",\"2016-09-27T00:00:00.000000000\",\"2016-09-29T00:00:00.000000000\",\"2016-10-01T00:00:00.000000000\",\"2016-10-02T00:00:00.000000000\",\"2016-10-05T00:00:00.000000000\",\"2016-10-07T00:00:00.000000000\",\"2016-10-12T00:00:00.000000000\",\"2016-10-17T00:00:00.000000000\",\"2016-10-18T00:00:00.000000000\",\"2016-10-27T00:00:00.000000000\",\"2016-10-29T00:00:00.000000000\",\"2016-11-01T00:00:00.000000000\",\"2016-11-02T00:00:00.000000000\",\"2016-11-06T00:00:00.000000000\",\"2016-11-08T00:00:00.000000000\",\"2016-11-14T00:00:00.000000000\",\"2016-11-16T00:00:00.000000000\",\"2016-11-17T00:00:00.000000000\",\"2016-11-23T00:00:00.000000000\",\"2016-11-26T00:00:00.000000000\",\"2016-11-27T00:00:00.000000000\",\"2016-12-02T00:00:00.000000000\",\"2016-12-10T00:00:00.000000000\",\"2016-12-15T00:00:00.000000000\",\"2017-01-04T00:00:00.000000000\",\"2017-01-07T00:00:00.000000000\",\"2017-01-10T00:00:00.000000000\",\"2017-01-12T00:00:00.000000000\",\"2017-01-15T00:00:00.000000000\",\"2017-01-20T00:00:00.000000000\",\"2017-02-15T00:00:00.000000000\",\"2017-02-21T00:00:00.000000000\",\"2017-02-23T00:00:00.000000000\",\"2017-02-25T00:00:00.000000000\",\"2017-03-03T00:00:00.000000000\",\"2017-03-16T00:00:00.000000000\",\"2017-04-07T00:00:00.000000000\",\"2017-04-23T00:00:00.000000000\",\"2017-04-25T00:00:00.000000000\",\"2017-05-02T00:00:00.000000000\",\"2017-05-09T00:00:00.000000000\",\"2017-05-13T00:00:00.000000000\",\"2017-05-17T00:00:00.000000000\",\"2017-05-26T00:00:00.000000000\",\"2017-05-29T00:00:00.000000000\",\"2017-05-30T00:00:00.000000000\",\"2017-06-04T00:00:00.000000000\",\"2017-06-10T00:00:00.000000000\",\"2017-06-16T00:00:00.000000000\",\"2017-06-24T00:00:00.000000000\",\"2017-07-06T00:00:00.000000000\",\"2017-07-12T00:00:00.000000000\",\"2017-07-13T00:00:00.000000000\",\"2017-07-19T00:00:00.000000000\",\"2017-07-22T00:00:00.000000000\",\"2017-08-07T00:00:00.000000000\",\"2017-08-09T00:00:00.000000000\",\"2017-08-14T00:00:00.000000000\",\"2017-08-19T00:00:00.000000000\",\"2017-08-20T00:00:00.000000000\",\"2017-08-25T00:00:00.000000000\",\"2017-09-04T00:00:00.000000000\",\"2017-09-05T00:00:00.000000000\",\"2017-12-16T00:00:00.000000000\",\"2017-12-29T00:00:00.000000000\",\"2026-04-25T00:00:00.000000000\"],\"y\":[8.0,0.0,6.49,5.183333333333334,6.59,6.99,7.09,9.25,7.875,6.609999999999999,7.99,5.99,6.4,7.125,7.49,6.5,6.423333333333335,7.125,5.0,7.0625,7.84,7.4399999999999995,9.5,6.49,7.05,8.59,8.99,8.225,6.6,7.025,6.6,7.89,6.378571428571428,7.3625,6.64,6.37,4.59,7.755714285714286,6.95,8.166666666666666,6.6000000000000005,7.49,9.125,5.55,7.0,6.1850000000000005,6.25,6.75,6.766666666666666,5.95,5.745,6.175,9.43,10.466666666666667,8.25,4.87,6.808333333333334,8.2,6.99,5.475,9.19,7.183333333333333,6.94,5.25,7.3125,6.166666666666667,6.357142857142857,6.75,6.25,4.99,6.89,5.140000000000001,7.49,6.5,6.25,5.84,7.601379310344828,4.99,6.720000000000001,6.140000000000001,7.15,7.24,7.9,6.416666666666667,4.74,5.99,6.7875,5.99,7.9,6.6,6.1,6.25,5.6125,6.98,5.663333333333334,6.470000000000001,7.49,5.99,6.39,7.025,6.25,10.5,7.67,6.99,6.833333333333333,6.74,5.99,5.57,7.75,6.99,6.6,8.2,4.99,7.540000000000001,7.9,6.49,6.85,0.0,7.19,7.9,6.85,7.5,6.291666666666667,7.675,7.995,6.25,7.75,8.25,7.563333333333333,7.4,9.95,7.666666666666667,7.09,7.89,6.9,8.175,5.7875,6.99,7.35,6.99,8.5,7.325,8.35,16.0,7.045,7.705,6.49,8.5,6.85,11.5,7.89,8.0]}],                        {\"autosize\":true,\"hovermode\":\"closest\",\"showlegend\":false,\"template\":{\"data\":{\"bar\":[{\"error_x\":{\"color\":\"#2a3f5f\"},\"error_y\":{\"color\":\"#2a3f5f\"},\"marker\":{\"line\":{\"color\":\"#E5ECF6\",\"width\":0.5},\"pattern\":{\"fillmode\":\"overlay\",\"size\":10,\"solidity\":0.2}},\"type\":\"bar\"}],\"barpolar\":[{\"marker\":{\"line\":{\"color\":\"#E5ECF6\",\"width\":0.5},\"pattern\":{\"fillmode\":\"overlay\",\"size\":10,\"solidity\":0.2}},\"type\":\"barpolar\"}],\"carpet\":[{\"aaxis\":{\"endlinecolor\":\"#2a3f5f\",\"gridcolor\":\"white\",\"linecolor\":\"white\",\"minorgridcolor\":\"white\",\"startlinecolor\":\"#2a3f5f\"},\"baxis\":{\"endlinecolor\":\"#2a3f5f\",\"gridcolor\":\"white\",\"linecolor\":\"white\",\"minorgridcolor\":\"white\",\"startlinecolor\":\"#2a3f5f\"},\"type\":\"carpet\"}],\"choropleth\":[{\"colorbar\":{\"outlinewidth\":0,\"ticks\":\"\"},\"type\":\"choropleth\"}],\"contour\":[{\"colorbar\":{\"outlinewidth\":0,\"ticks\":\"\"},\"colorscale\":[[0.0,\"#0d0887\"],[0.1111111111111111,\"#46039f\"],[0.2222222222222222,\"#7201a8\"],[0.3333333333333333,\"#9c179e\"],[0.4444444444444444,\"#bd3786\"],[0.5555555555555556,\"#d8576b\"],[0.6666666666666666,\"#ed7953\"],[0.7777777777777778,\"#fb9f3a\"],[0.8888888888888888,\"#fdca26\"],[1.0,\"#f0f921\"]],\"type\":\"contour\"}],\"contourcarpet\":[{\"colorbar\":{\"outlinewidth\":0,\"ticks\":\"\"},\"type\":\"contourcarpet\"}],\"heatmap\":[{\"colorbar\":{\"outlinewidth\":0,\"ticks\":\"\"},\"colorscale\":[[0.0,\"#0d0887\"],[0.1111111111111111,\"#46039f\"],[0.2222222222222222,\"#7201a8\"],[0.3333333333333333,\"#9c179e\"],[0.4444444444444444,\"#bd3786\"],[0.5555555555555556,\"#d8576b\"],[0.6666666666666666,\"#ed7953\"],[0.7777777777777778,\"#fb9f3a\"],[0.8888888888888888,\"#fdca26\"],[1.0,\"#f0f921\"]],\"type\":\"heatmap\"}],\"heatmapgl\":[{\"colorbar\":{\"outlinewidth\":0,\"ticks\":\"\"},\"colorscale\":[[0.0,\"#0d0887\"],[0.1111111111111111,\"#46039f\"],[0.2222222222222222,\"#7201a8\"],[0.3333333333333333,\"#9c179e\"],[0.4444444444444444,\"#bd3786\"],[0.5555555555555556,\"#d8576b\"],[0.6666666666666666,\"#ed7953\"],[0.7777777777777778,\"#fb9f3a\"],[0.8888888888888888,\"#fdca26\"],[1.0,\"#f0f921\"]],\"type\":\"heatmapgl\"}],\"histogram\":[{\"marker\":{\"pattern\":{\"fillmode\":\"overlay\",\"size\":10,\"solidity\":0.2}},\"type\":\"histogram\"}],\"histogram2d\":[{\"colorbar\":{\"outlinewidth\":0,\"ticks\":\"\"},\"colorscale\":[[0.0,\"#0d0887\"],[0.1111111111111111,\"#46039f\"],[0.2222222222222222,\"#7201a8\"],[0.3333333333333333,\"#9c179e\"],[0.4444444444444444,\"#bd3786\"],[0.5555555555555556,\"#d8576b\"],[0.6666666666666666,\"#ed7953\"],[0.7777777777777778,\"#fb9f3a\"],[0.8888888888888888,\"#fdca26\"],[1.0,\"#f0f921\"]],\"type\":\"histogram2d\"}],\"histogram2dcontour\":[{\"colorbar\":{\"outlinewidth\":0,\"ticks\":\"\"},\"colorscale\":[[0.0,\"#0d0887\"],[0.1111111111111111,\"#46039f\"],[0.2222222222222222,\"#7201a8\"],[0.3333333333333333,\"#9c179e\"],[0.4444444444444444,\"#bd3786\"],[0.5555555555555556,\"#d8576b\"],[0.6666666666666666,\"#ed7953\"],[0.7777777777777778,\"#fb9f3a\"],[0.8888888888888888,\"#fdca26\"],[1.0,\"#f0f921\"]],\"type\":\"histogram2dcontour\"}],\"mesh3d\":[{\"colorbar\":{\"outlinewidth\":0,\"ticks\":\"\"},\"type\":\"mesh3d\"}],\"parcoords\":[{\"line\":{\"colorbar\":{\"outlinewidth\":0,\"ticks\":\"\"}},\"type\":\"parcoords\"}],\"pie\":[{\"automargin\":true,\"type\":\"pie\"}],\"scatter\":[{\"marker\":{\"colorbar\":{\"outlinewidth\":0,\"ticks\":\"\"}},\"type\":\"scatter\"}],\"scatter3d\":[{\"line\":{\"colorbar\":{\"outlinewidth\":0,\"ticks\":\"\"}},\"marker\":{\"colorbar\":{\"outlinewidth\":0,\"ticks\":\"\"}},\"type\":\"scatter3d\"}],\"scattercarpet\":[{\"marker\":{\"colorbar\":{\"outlinewidth\":0,\"ticks\":\"\"}},\"type\":\"scattercarpet\"}],\"scattergeo\":[{\"marker\":{\"colorbar\":{\"outlinewidth\":0,\"ticks\":\"\"}},\"type\":\"scattergeo\"}],\"scattergl\":[{\"marker\":{\"colorbar\":{\"outlinewidth\":0,\"ticks\":\"\"}},\"type\":\"scattergl\"}],\"scattermapbox\":[{\"marker\":{\"colorbar\":{\"outlinewidth\":0,\"ticks\":\"\"}},\"type\":\"scattermapbox\"}],\"scatterpolar\":[{\"marker\":{\"colorbar\":{\"outlinewidth\":0,\"ticks\":\"\"}},\"type\":\"scatterpolar\"}],\"scatterpolargl\":[{\"marker\":{\"colorbar\":{\"outlinewidth\":0,\"ticks\":\"\"}},\"type\":\"scatterpolargl\"}],\"scatterternary\":[{\"marker\":{\"colorbar\":{\"outlinewidth\":0,\"ticks\":\"\"}},\"type\":\"scatterternary\"}],\"surface\":[{\"colorbar\":{\"outlinewidth\":0,\"ticks\":\"\"},\"colorscale\":[[0.0,\"#0d0887\"],[0.1111111111111111,\"#46039f\"],[0.2222222222222222,\"#7201a8\"],[0.3333333333333333,\"#9c179e\"],[0.4444444444444444,\"#bd3786\"],[0.5555555555555556,\"#d8576b\"],[0.6666666666666666,\"#ed7953\"],[0.7777777777777778,\"#fb9f3a\"],[0.8888888888888888,\"#fdca26\"],[1.0,\"#f0f921\"]],\"type\":\"surface\"}],\"table\":[{\"cells\":{\"fill\":{\"color\":\"#EBF0F8\"},\"line\":{\"color\":\"white\"}},\"header\":{\"fill\":{\"color\":\"#C8D4E3\"},\"line\":{\"color\":\"white\"}},\"type\":\"table\"}]},\"layout\":{\"annotationdefaults\":{\"arrowcolor\":\"#2a3f5f\",\"arrowhead\":0,\"arrowwidth\":1},\"autotypenumbers\":\"strict\",\"coloraxis\":{\"colorbar\":{\"outlinewidth\":0,\"ticks\":\"\"}},\"colorscale\":{\"diverging\":[[0,\"#8e0152\"],[0.1,\"#c51b7d\"],[0.2,\"#de77ae\"],[0.3,\"#f1b6da\"],[0.4,\"#fde0ef\"],[0.5,\"#f7f7f7\"],[0.6,\"#e6f5d0\"],[0.7,\"#b8e186\"],[0.8,\"#7fbc41\"],[0.9,\"#4d9221\"],[1,\"#276419\"]],\"sequential\":[[0.0,\"#0d0887\"],[0.1111111111111111,\"#46039f\"],[0.2222222222222222,\"#7201a8\"],[0.3333333333333333,\"#9c179e\"],[0.4444444444444444,\"#bd3786\"],[0.5555555555555556,\"#d8576b\"],[0.6666666666666666,\"#ed7953\"],[0.7777777777777778,\"#fb9f3a\"],[0.8888888888888888,\"#fdca26\"],[1.0,\"#f0f921\"]],\"sequentialminus\":[[0.0,\"#0d0887\"],[0.1111111111111111,\"#46039f\"],[0.2222222222222222,\"#7201a8\"],[0.3333333333333333,\"#9c179e\"],[0.4444444444444444,\"#bd3786\"],[0.5555555555555556,\"#d8576b\"],[0.6666666666666666,\"#ed7953\"],[0.7777777777777778,\"#fb9f3a\"],[0.8888888888888888,\"#fdca26\"],[1.0,\"#f0f921\"]]},\"colorway\":[\"#636efa\",\"#EF553B\",\"#00cc96\",\"#ab63fa\",\"#FFA15A\",\"#19d3f3\",\"#FF6692\",\"#B6E880\",\"#FF97FF\",\"#FECB52\"],\"font\":{\"color\":\"#2a3f5f\"},\"geo\":{\"bgcolor\":\"white\",\"lakecolor\":\"white\",\"landcolor\":\"#E5ECF6\",\"showlakes\":true,\"showland\":true,\"subunitcolor\":\"white\"},\"hoverlabel\":{\"align\":\"left\"},\"hovermode\":\"closest\",\"mapbox\":{\"style\":\"light\"},\"paper_bgcolor\":\"white\",\"plot_bgcolor\":\"#E5ECF6\",\"polar\":{\"angularaxis\":{\"gridcolor\":\"white\",\"linecolor\":\"white\",\"ticks\":\"\"},\"bgcolor\":\"#E5ECF6\",\"radialaxis\":{\"gridcolor\":\"white\",\"linecolor\":\"white\",\"ticks\":\"\"}},\"scene\":{\"xaxis\":{\"backgroundcolor\":\"#E5ECF6\",\"gridcolor\":\"white\",\"gridwidth\":2,\"linecolor\":\"white\",\"showbackground\":true,\"ticks\":\"\",\"zerolinecolor\":\"white\"},\"yaxis\":{\"backgroundcolor\":\"#E5ECF6\",\"gridcolor\":\"white\",\"gridwidth\":2,\"linecolor\":\"white\",\"showbackground\":true,\"ticks\":\"\",\"zerolinecolor\":\"white\"},\"zaxis\":{\"backgroundcolor\":\"#E5ECF6\",\"gridcolor\":\"white\",\"gridwidth\":2,\"linecolor\":\"white\",\"showbackground\":true,\"ticks\":\"\",\"zerolinecolor\":\"white\"}},\"shapedefaults\":{\"line\":{\"color\":\"#2a3f5f\"}},\"ternary\":{\"aaxis\":{\"gridcolor\":\"white\",\"linecolor\":\"white\",\"ticks\":\"\"},\"baxis\":{\"gridcolor\":\"white\",\"linecolor\":\"white\",\"ticks\":\"\"},\"bgcolor\":\"#E5ECF6\",\"caxis\":{\"gridcolor\":\"white\",\"linecolor\":\"white\",\"ticks\":\"\"}},\"title\":{\"x\":0.05},\"xaxis\":{\"automargin\":true,\"gridcolor\":\"white\",\"linecolor\":\"white\",\"ticks\":\"\",\"title\":{\"standoff\":15},\"zerolinecolor\":\"white\",\"zerolinewidth\":2},\"yaxis\":{\"automargin\":true,\"gridcolor\":\"white\",\"linecolor\":\"white\",\"ticks\":\"\",\"title\":{\"standoff\":15},\"zerolinecolor\":\"white\",\"zerolinewidth\":2}}},\"title\":{\"text\":\"Daily mean order amount\"},\"xaxis\":{\"gridwidth\":2,\"ticklen\":5,\"title\":{\"text\":\"Date\"}},\"yaxis\":{\"gridwidth\":2,\"ticklen\":5,\"title\":{\"text\":\"Cost_mean\"}}},                        {\"responsive\": true}                    ).then(function(){\n",
       "                            \n",
       "var gd = document.getElementById('f376bd6c-5e3e-4529-bd83-9895c939948f');\n",
       "var x = new MutationObserver(function (mutations, observer) {{\n",
       "        var display = window.getComputedStyle(gd).display;\n",
       "        if (!display || display === 'none') {{\n",
       "            console.log([gd, 'removed!']);\n",
       "            Plotly.purge(gd);\n",
       "            observer.disconnect();\n",
       "        }}\n",
       "}});\n",
       "\n",
       "// Listen for the removal of the full notebook cells\n",
       "var notebookContainer = gd.closest('#notebook-container');\n",
       "if (notebookContainer) {{\n",
       "    x.observe(notebookContainer, {childList: true});\n",
       "}}\n",
       "\n",
       "// Listen for the clearing of the current output cell\n",
       "var outputEl = gd.closest('.output');\n",
       "if (outputEl) {{\n",
       "    x.observe(outputEl, {childList: true});\n",
       "}}\n",
       "\n",
       "                        })                };                });            </script>        </div>"
      ]
     },
     "metadata": {},
     "output_type": "display_data"
    }
   ],
   "source": [
    "df_daily_cost = df_master.groupby('Date').agg({'Cost':['mean', 'std','sum'],\n",
    "                                            'Burrito':'count',\n",
    "                                            'Hunger':['mean', 'std','sum']})\n",
    "\n",
    "df_daily_cost.columns = df_daily_cost.columns.droplevel(0)\n",
    "\n",
    "df_daily_cost = df_daily_cost.reset_index().rename_axis(None, axis=1)\n",
    "df_daily_cost.columns = ['date', 'Cost_mean', 'Cost_std', 'Cost_sum', \n",
    "                         'order_count', 'Hunger_mean', 'Hunger_std', 'Hunger_sum']\n",
    "\n",
    "df_daily_cost.sort_values(by='date', ascending=True, inplace=True)\n",
    "\n",
    "df_daily_cost[['Cost_mean', 'Hunger_mean']] = df_daily_cost[['Cost_mean', 'Hunger_mean']].fillna(value=0)\n",
    "\n",
    "trace = go.Scatter(\n",
    "    x = df_daily_cost['date'].values,\n",
    "    y = df_daily_cost['Cost_mean'].values,\n",
    "    mode='markers',\n",
    "    marker=dict(\n",
    "        size = df_daily_cost['Cost_mean'],\n",
    "        color = df_daily_cost['Cost_mean'],\n",
    "        colorscale='Portland',\n",
    "        showscale=True\n",
    "    )\n",
    ")\n",
    "layout= go.Layout(\n",
    "    autosize= True,\n",
    "    title= 'Daily mean order amount',\n",
    "    hovermode= 'closest',\n",
    "    xaxis=dict(\n",
    "        title= 'Date',\n",
    "        ticklen= 5,\n",
    "        gridwidth= 2,\n",
    "    ),\n",
    "    yaxis=dict(\n",
    "        title= 'Cost_mean',\n",
    "        ticklen= 5,\n",
    "        gridwidth= 2,\n",
    "    ),\n",
    "    showlegend= False\n",
    ")\n",
    "\n",
    "fig = go.Figure(data=trace, layout=layout)\n",
    "fig"
   ]
  },
  {
   "cell_type": "code",
   "execution_count": 47,
   "id": "9dcc628e",
   "metadata": {},
   "outputs": [
    {
     "data": {
      "image/png": "[encoded data removed]"
     },
     "metadata": {},
     "output_type": "display_data"
    }
   ],
   "source": [
    "fig.show(renderer=\"png\")"
   ]
  },
  {
   "cell_type": "markdown",
   "id": "58c36a99",
   "metadata": {},
   "source": [
    "### Enhancement 1"
   ]
  },
  {
   "cell_type": "markdown",
   "id": "f42db4e3",
   "metadata": {},
   "source": [
    "convert strings to lower case"
   ]
  },
  {
   "cell_type": "code",
   "execution_count": 48,
   "id": "ffd2364c",
   "metadata": {},
   "outputs": [
    {
     "data": {
      "text/plain": [
       "La Morena Taco Shop and Seafood     1\n",
       "La Perla Cocina                     3\n",
       "Lola's 7 Up Market & Deli           2\n",
       "Lolita's                            1\n",
       "Lolita's Taco Shop                  4\n",
       "Lolita's Taco shop                  3\n",
       "Lolita's taco shop                  5\n",
       "Los Cabos                           2\n",
       "Los Panchos Taco Shop               3\n",
       "Los Primos Mexican Food            12\n",
       "Los Tacos                          12\n",
       "Los Tacos 2                         4\n",
       "Los palmitos                        2\n",
       "Los tacos                           2\n",
       "Lourdes                             2\n",
       "Lucha Libre North Park             28\n",
       "Lupe's Taco Shop                    6\n",
       "Name: Location, dtype: int64"
      ]
     },
     "execution_count": 48,
     "metadata": {},
     "output_type": "execute_result"
    }
   ],
   "source": [
    "df_master[df_master['Location'].str.startswith(\"L\")].Location.value_counts().sort_index()"
   ]
  },
  {
   "cell_type": "code",
   "execution_count": 49,
   "id": "732a309b",
   "metadata": {},
   "outputs": [],
   "source": [
    "df_master = df_master.apply(lambda x: x.str.lower() if x.dtype == \"object\" else x) "
   ]
  },
  {
   "cell_type": "code",
   "execution_count": 50,
   "id": "5faeaf6d",
   "metadata": {},
   "outputs": [
    {
     "data": {
      "text/plain": [
       "la morena taco shop and seafood     1\n",
       "la perla cocina                     3\n",
       "lola's 7 up market & deli           2\n",
       "lolita's                            1\n",
       "lolita's taco shop                 12\n",
       "los cabos                           2\n",
       "los palmitos                        2\n",
       "los panchos taco shop               3\n",
       "los primos mexican food            12\n",
       "los tacos                          12\n",
       "los tacos                           2\n",
       "los tacos 2                         4\n",
       "lourdes                             2\n",
       "lucha libre north park             28\n",
       "lupe's taco shop                    6\n",
       "Name: Location, dtype: int64"
      ]
     },
     "execution_count": 50,
     "metadata": {},
     "output_type": "execute_result"
    }
   ],
   "source": [
    "df_master[df_master['Location'].str.startswith(\"l\")].Location.value_counts().sort_index()"
   ]
  },
  {
   "cell_type": "markdown",
   "id": "eed860d8",
   "metadata": {},
   "source": [
    "### Enhancement 2"
   ]
  },
  {
   "cell_type": "markdown",
   "id": "dcd1b165",
   "metadata": {},
   "source": [
    "change the location of the chip column. It should be with columns that represent the ingredients "
   ]
  },
  {
   "cell_type": "code",
   "execution_count": 51,
   "id": "1289ffb0",
   "metadata": {},
   "outputs": [],
   "source": [
    "cols = list(df_master.columns)\n",
    "cols.pop(cols.index('Chips'))\n",
    "df_master = df_master[cols + ['Chips']] "
   ]
  },
  {
   "cell_type": "code",
   "execution_count": 52,
   "id": "79ec13f9",
   "metadata": {},
   "outputs": [
    {
     "data": {
      "text/plain": [
       "(385, 66)"
      ]
     },
     "execution_count": 52,
     "metadata": {},
     "output_type": "execute_result"
    }
   ],
   "source": [
    "df_master.shape"
   ]
  },
  {
   "cell_type": "markdown",
   "id": "fd814f30",
   "metadata": {},
   "source": [
    "### Enhancement 3"
   ]
  },
  {
   "cell_type": "markdown",
   "id": "eacf7270",
   "metadata": {},
   "source": [
    "remove blank space at the end of string "
   ]
  },
  {
   "cell_type": "code",
   "execution_count": 53,
   "id": "859e4d25",
   "metadata": {},
   "outputs": [
    {
     "data": {
      "text/plain": [
       "california                        91\n",
       "california                        26\n",
       "california everything             17\n",
       "california - pork adobada          3\n",
       "california - chicken               2\n",
       "california chicken                 2\n",
       "california - steak                 2\n",
       "california everything mini         1\n",
       "california surf and turf           1\n",
       "california burrito                 1\n",
       "california breakfast               1\n",
       "california surf                    1\n",
       "california chipotle                1\n",
       "california + guac + sour cream     1\n",
       "california (only cheese)           1\n",
       "Name: Burrito, dtype: int64"
      ]
     },
     "execution_count": 53,
     "metadata": {},
     "output_type": "execute_result"
    }
   ],
   "source": [
    "df_master[df_master.Burrito.str.startswith('califo')].Burrito.value_counts(dropna=False)"
   ]
  },
  {
   "cell_type": "code",
   "execution_count": 54,
   "id": "9acf69cc",
   "metadata": {},
   "outputs": [],
   "source": [
    "df_master = df_master.apply(lambda x: x.str.rstrip() if x.dtype == \"object\" else x) "
   ]
  },
  {
   "cell_type": "code",
   "execution_count": 55,
   "id": "2a468c47",
   "metadata": {},
   "outputs": [
    {
     "data": {
      "text/plain": [
       "california                        117\n",
       "california everything              17\n",
       "california - pork adobada           3\n",
       "california - chicken                2\n",
       "california chicken                  2\n",
       "california - steak                  2\n",
       "california everything mini          1\n",
       "california surf and turf            1\n",
       "california burrito                  1\n",
       "california breakfast                1\n",
       "california chipotle                 1\n",
       "california surf                     1\n",
       "california + guac + sour cream      1\n",
       "california (only cheese)            1\n",
       "Name: Burrito, dtype: int64"
      ]
     },
     "execution_count": 55,
     "metadata": {},
     "output_type": "execute_result"
    }
   ],
   "source": [
    "df_master[df_master.Burrito.str.startswith('califo')].Burrito.value_counts(dropna=False)"
   ]
  },
  {
   "cell_type": "markdown",
   "id": "827d8ff6",
   "metadata": {},
   "source": [
    "### Enhancement 4"
   ]
  },
  {
   "cell_type": "markdown",
   "id": "ddd2e0f6",
   "metadata": {},
   "source": [
    "I will remove punctuation marks at the end of the string. I checked from google that ‘kotija jr’ and ‘kotija jr.’ represents the same restaurant "
   ]
  },
  {
   "cell_type": "code",
   "execution_count": 56,
   "id": "14330904",
   "metadata": {},
   "outputs": [
    {
     "data": {
      "text/plain": [
       "kotija jr     2\n",
       "kotija jr.    1\n",
       "Name: Location, dtype: int64"
      ]
     },
     "execution_count": 56,
     "metadata": {},
     "output_type": "execute_result"
    }
   ],
   "source": [
    "df_master[df_master.Location.str.startswith('kotija')].Location.value_counts(dropna=False)"
   ]
  },
  {
   "cell_type": "code",
   "execution_count": 57,
   "id": "e2b64b56",
   "metadata": {},
   "outputs": [],
   "source": [
    "df_master = df_master.apply(lambda x: x.str.rstrip('.') if x.dtype == \"object\" else x) "
   ]
  },
  {
   "cell_type": "code",
   "execution_count": 58,
   "id": "bc6e4527",
   "metadata": {},
   "outputs": [
    {
     "data": {
      "text/plain": [
       "kotija jr    3\n",
       "Name: Location, dtype: int64"
      ]
     },
     "execution_count": 58,
     "metadata": {},
     "output_type": "execute_result"
    }
   ],
   "source": [
    "df_master[df_master.Location.str.startswith('kotija')].Location.value_counts(dropna=False)"
   ]
  },
  {
   "cell_type": "markdown",
   "id": "f84a5837",
   "metadata": {},
   "source": [
    "### Enhancement 5"
   ]
  },
  {
   "cell_type": "markdown",
   "id": "44de26c8",
   "metadata": {},
   "source": [
    "After searching from google, I couldn’t find the restaurant name, just colima's. I think there is missing words for those records so that I will repaled those with colima's mexican food\n",
    "Moreover, same situation is applicable to  lolita's and lolita's taco shop\n"
   ]
  },
  {
   "cell_type": "code",
   "execution_count": 59,
   "id": "50d08048",
   "metadata": {},
   "outputs": [
    {
     "data": {
      "text/plain": [
       "lolita's taco shop    12\n",
       "lolita's               1\n",
       "Name: Location, dtype: int64"
      ]
     },
     "execution_count": 59,
     "metadata": {},
     "output_type": "execute_result"
    }
   ],
   "source": [
    "df_master[df_master.Location.str.startswith(\"lolita's\")].Location.value_counts(dropna=False)"
   ]
  },
  {
   "cell_type": "code",
   "execution_count": 60,
   "id": "0548989e",
   "metadata": {},
   "outputs": [],
   "source": [
    "df_master.Location = df_master.Location.apply(lambda x: \"lolita's taco shop\" if \"lolita's\" == x else x)\n",
    "df_master.Location = df_master.Location.apply(lambda x: \"colima's mexican food\" if \"colima's\" == x else x)"
   ]
  },
  {
   "cell_type": "code",
   "execution_count": 61,
   "id": "b9ae4c28",
   "metadata": {},
   "outputs": [
    {
     "data": {
      "text/plain": [
       "lolita's taco shop    13\n",
       "Name: Location, dtype: int64"
      ]
     },
     "execution_count": 61,
     "metadata": {},
     "output_type": "execute_result"
    }
   ],
   "source": [
    "df_master[df_master.Location.str.startswith(\"lolita's\")].Location.value_counts(dropna=False)"
   ]
  },
  {
   "cell_type": "markdown",
   "id": "3ed36d4a",
   "metadata": {},
   "source": [
    "### Enhancement 6"
   ]
  },
  {
   "cell_type": "markdown",
   "id": "4af5afd8",
   "metadata": {},
   "source": [
    "let's remove &,-,+ from burritos names "
   ]
  },
  {
   "cell_type": "code",
   "execution_count": 62,
   "id": "f40d2574",
   "metadata": {},
   "outputs": [],
   "source": [
    "df_master.Burrito = df_master.Burrito.apply(lambda x: x.replace(\" &\", \"\"))\n",
    "df_master.Burrito = df_master.Burrito.apply(lambda x: x.replace(\" -\", \"\"))\n",
    "df_master.Burrito = df_master.Burrito.apply(lambda x: x.replace(\" +\", \"\"))"
   ]
  },
  {
   "cell_type": "code",
   "execution_count": 63,
   "id": "e09b3806",
   "metadata": {},
   "outputs": [
    {
     "data": {
      "text/plain": [
       "(385, 66)"
      ]
     },
     "execution_count": 63,
     "metadata": {},
     "output_type": "execute_result"
    }
   ],
   "source": [
    "df_master.shape"
   ]
  },
  {
   "cell_type": "markdown",
   "id": "6777de48",
   "metadata": {},
   "source": [
    "### Enhancement 7"
   ]
  },
  {
   "cell_type": "markdown",
   "id": "145b2f7e",
   "metadata": {},
   "source": [
    "Date columns have the maximum value of 2026-04-25 which is not possible. This value should be replaced with appropriate value. "
   ]
  },
  {
   "cell_type": "markdown",
   "id": "cf25fee5",
   "metadata": {},
   "source": [
    "Specific date values seem to be outliers so these values can be dropped from data. However, data size is small so that these values should not be dropped. In addition, these values can be replaced with its appartiaota values . I analyzed restaurants that have these outlier values and based on the order of data I have assigned appropriate values. \n"
   ]
  },
  {
   "cell_type": "code",
   "execution_count": 64,
   "id": "7435cf49",
   "metadata": {},
   "outputs": [
    {
     "name": "stdout",
     "output_type": "stream",
     "text": [
      "2026-04-25 00:00:00   ,   2011-05-16 00:00:00   ,   2015-04-20 00:00:00\n"
     ]
    }
   ],
   "source": [
    "print(df_master.loc[77, 'Date'] , '  ,  ' ,df_master.loc[109, 'Date'], '  ,  ', df_master.loc[112, 'Date'])"
   ]
  },
  {
   "cell_type": "code",
   "execution_count": 65,
   "id": "2766d7c2",
   "metadata": {},
   "outputs": [],
   "source": [
    "df_master.loc[77, 'Date'] = pd.Timestamp('2016-04-25')\n",
    "df_master.loc[109, 'Date'] = pd.Timestamp('2016-05-16')\n",
    "df_master.loc[112, 'Date'] = pd.Timestamp('2016-05-20')"
   ]
  },
  {
   "cell_type": "code",
   "execution_count": 66,
   "id": "597af86b",
   "metadata": {},
   "outputs": [
    {
     "data": {
      "text/plain": [
       "(385, 66)"
      ]
     },
     "execution_count": 66,
     "metadata": {},
     "output_type": "execute_result"
    }
   ],
   "source": [
    "df_master.shape"
   ]
  },
  {
   "cell_type": "markdown",
   "id": "665ee833",
   "metadata": {},
   "source": [
    "### Enhancement 8"
   ]
  },
  {
   "cell_type": "markdown",
   "id": "d670318d",
   "metadata": {},
   "source": [
    "Ingredients columns are actually coded in binary format but the labeling is done with x character. Let’s turned into zeros and ones "
   ]
  },
  {
   "cell_type": "code",
   "execution_count": 67,
   "id": "791bcecf",
   "metadata": {},
   "outputs": [],
   "source": [
    "cols = list(df_master.columns)\n",
    "for i in cols[28:] :\n",
    "    df_master[i].replace({'x': 1},inplace =True)\n",
    "    df_master[i].fillna(0, inplace=True)"
   ]
  },
  {
   "cell_type": "code",
   "execution_count": 68,
   "id": "8c6ebf47",
   "metadata": {},
   "outputs": [
    {
     "data": {
      "text/plain": [
       "(385, 66)"
      ]
     },
     "execution_count": 68,
     "metadata": {},
     "output_type": "execute_result"
    }
   ],
   "source": [
    "df_master.shape"
   ]
  },
  {
   "cell_type": "markdown",
   "id": "7354c9f6",
   "metadata": {},
   "source": [
    "### Enhancement 9"
   ]
  },
  {
   "cell_type": "markdown",
   "id": "9dc80edf",
   "metadata": {},
   "source": [
    "Fill string columns nan values with unknown ‘string’"
   ]
  },
  {
   "cell_type": "code",
   "execution_count": 69,
   "id": "938fbe9d",
   "metadata": {},
   "outputs": [],
   "source": [
    "for i in ['Rec', 'Reviewer', 'Notes']:\n",
    "    df_master[i].fillna('unknown', inplace=True)"
   ]
  },
  {
   "cell_type": "code",
   "execution_count": 70,
   "id": "99564a4d",
   "metadata": {},
   "outputs": [
    {
     "data": {
      "text/plain": [
       "(385, 66)"
      ]
     },
     "execution_count": 70,
     "metadata": {},
     "output_type": "execute_result"
    }
   ],
   "source": [
    "df_master.shape"
   ]
  },
  {
   "cell_type": "markdown",
   "id": "0a790b9c",
   "metadata": {},
   "source": [
    "### Enhancement 10"
   ]
  },
  {
   "cell_type": "markdown",
   "id": "6617ec8f",
   "metadata": {},
   "source": [
    "Fill neighborhood, address, url, Yelp, Google data based on location"
   ]
  },
  {
   "cell_type": "code",
   "execution_count": 71,
   "id": "3d2c8dc2",
   "metadata": {},
   "outputs": [],
   "source": [
    "df_master.sort_values(['Location', 'Date'], ascending=[True, True], inplace=True)"
   ]
  },
  {
   "cell_type": "code",
   "execution_count": 72,
   "id": "50f757b8",
   "metadata": {},
   "outputs": [],
   "source": [
    "df_master['Neighborhood'] = df_master.groupby('Location')['Neighborhood'].ffill()\n",
    "df_master['Address'] = df_master.groupby('Location')['Address'].ffill()\n",
    "df_master['URL'] = df_master.groupby('Location')['URL'].ffill()\n",
    "df_master['Yelp'] = df_master.groupby('Location')['Yelp'].ffill()\n",
    "df_master['Google'] = df_master.groupby('Location')['Google'].ffill()"
   ]
  },
  {
   "cell_type": "markdown",
   "id": "d5ec8530",
   "metadata": {},
   "source": [
    "Fill remaining values with unknown string"
   ]
  },
  {
   "cell_type": "code",
   "execution_count": 73,
   "id": "26138814",
   "metadata": {},
   "outputs": [],
   "source": [
    "for i in ['Neighborhood', 'Address', 'URL']:\n",
    "    df_master[i].fillna('unknown', inplace=True)"
   ]
  },
  {
   "cell_type": "markdown",
   "id": "f6ae76ad",
   "metadata": {},
   "source": [
    "Fill empty Yelp, Google values with zero"
   ]
  },
  {
   "cell_type": "code",
   "execution_count": 74,
   "id": "9c7056dc",
   "metadata": {},
   "outputs": [],
   "source": [
    "for i in ['Yelp', 'Google']:\n",
    "    df_master[i].fillna(0, inplace=True)"
   ]
  },
  {
   "cell_type": "code",
   "execution_count": 75,
   "id": "6a054f62",
   "metadata": {},
   "outputs": [
    {
     "data": {
      "text/plain": [
       "(385, 66)"
      ]
     },
     "execution_count": 75,
     "metadata": {},
     "output_type": "execute_result"
    }
   ],
   "source": [
    "df_master.shape"
   ]
  },
  {
   "cell_type": "markdown",
   "id": "3a4378a8",
   "metadata": {},
   "source": [
    "### Enhancement 11"
   ]
  },
  {
   "cell_type": "markdown",
   "id": "8feb7600",
   "metadata": {},
   "source": [
    "null cost values will be filled with its means based on group by condition "
   ]
  },
  {
   "cell_type": "code",
   "execution_count": 76,
   "id": "dc72564c",
   "metadata": {},
   "outputs": [],
   "source": [
    "df_master['Cost'] = df_master['Cost'].fillna(df_master.groupby(['Location','Burrito'])['Cost'].transform('mean'))"
   ]
  },
  {
   "cell_type": "markdown",
   "id": "d4b26734",
   "metadata": {},
   "source": [
    "Remaining empty values will be filled with restaurant mean"
   ]
  },
  {
   "cell_type": "code",
   "execution_count": 77,
   "id": "db377bb5",
   "metadata": {},
   "outputs": [],
   "source": [
    "df_master['Cost'] = df_master['Cost'].fillna(df_master.groupby('Location')['Cost'].transform('mean'))"
   ]
  },
  {
   "cell_type": "markdown",
   "id": "76fa6295",
   "metadata": {},
   "source": [
    "Remaining empty values will be filled with burrito mean "
   ]
  },
  {
   "cell_type": "code",
   "execution_count": 78,
   "id": "02925fab",
   "metadata": {},
   "outputs": [],
   "source": [
    "df_master['Cost'] = df_master['Cost'].fillna(df_master.groupby('Burrito')['Cost'].transform('mean'))"
   ]
  },
  {
   "cell_type": "markdown",
   "id": "aee37a0b",
   "metadata": {},
   "source": [
    "### Enhancement 12"
   ]
  },
  {
   "cell_type": "markdown",
   "id": "2b078ba3",
   "metadata": {},
   "source": [
    "Empty rows for the hunger column will be filled its median based on burrito. The data ranges are increased so that median will be affected less by outlier values"
   ]
  },
  {
   "cell_type": "code",
   "execution_count": 79,
   "id": "a3e5a721",
   "metadata": {},
   "outputs": [],
   "source": [
    "df_master['Hunger'] = df_master['Hunger'].fillna(df_master.groupby(['Burrito'])['Hunger'].transform('median'))"
   ]
  },
  {
   "cell_type": "code",
   "execution_count": 80,
   "id": "b0793c6f",
   "metadata": {},
   "outputs": [],
   "source": [
    "df_master['Salsa'] = df_master['Salsa'].fillna(df_master.groupby(['Location','Burrito'])['Salsa'].transform('mean'))\n",
    "df_master['Salsa'] = df_master['Salsa'].fillna(df_master.groupby(['Burrito'])['Salsa'].transform('median'))\n",
    "df_master['Salsa'] = df_master['Salsa'].fillna(df_master.groupby(['Location'])['Salsa'].transform('median'))\n",
    "df_master['Salsa'].fillna(df_master['Salsa'].median(), inplace=True)"
   ]
  },
  {
   "cell_type": "code",
   "execution_count": 81,
   "id": "e2acea0f",
   "metadata": {},
   "outputs": [],
   "source": [
    "df_master['Synergy'] = df_master['Synergy'].fillna(df_master.groupby(['Location','Burrito'])['Synergy'].transform('mean'))"
   ]
  },
  {
   "cell_type": "code",
   "execution_count": 82,
   "id": "fd6ee1f3",
   "metadata": {},
   "outputs": [],
   "source": [
    "df_master['Wrap'] = df_master['Wrap'].fillna(df_master.groupby(['Burrito'])['Wrap'].transform('median'))\n",
    "df_master['Wrap'] = df_master['Wrap'].fillna(df_master.groupby(['Location'])['Wrap'].transform('median'))"
   ]
  },
  {
   "cell_type": "code",
   "execution_count": 83,
   "id": "c49e3cd9",
   "metadata": {},
   "outputs": [],
   "source": [
    "df_master['overall'] = df_master['overall'].fillna(df_master.groupby(['Location','Burrito'])['overall'].transform('mean'))"
   ]
  },
  {
   "cell_type": "code",
   "execution_count": 84,
   "id": "4eba9a6c",
   "metadata": {},
   "outputs": [],
   "source": [
    "df_master['Uniformity'] = df_master['Uniformity'].fillna(df_master.groupby(['Location','Burrito'])['Uniformity'].transform('mean'))\n",
    "df_master['Uniformity'] = df_master['Uniformity'].fillna(df_master.groupby(['Burrito'])['Uniformity'].transform('median'))"
   ]
  },
  {
   "cell_type": "code",
   "execution_count": 85,
   "id": "d49c5676",
   "metadata": {},
   "outputs": [],
   "source": [
    "df_master['Temp'] = df_master['Temp'].fillna(df_master.groupby(['Location','Burrito'])['Temp'].transform('mean'))\n",
    "df_master['Temp'] = df_master['Temp'].fillna(df_master.groupby(['Burrito'])['Temp'].transform('median'))\n",
    "df_master['Temp'] = df_master['Temp'].fillna(df_master.groupby(['Location'])['Temp'].transform('median'))\n",
    "df_master['Temp'].fillna(df_master['Temp'].median(), inplace=True)"
   ]
  },
  {
   "cell_type": "code",
   "execution_count": 86,
   "id": "d555209b",
   "metadata": {},
   "outputs": [],
   "source": [
    "df_master['Meat'] = df_master['Meat'].fillna(df_master.groupby(['Location'])['Meat'].transform('median'))\n",
    "df_master['Meat'].fillna(df_master['Meat'].median(), inplace=True)"
   ]
  },
  {
   "cell_type": "code",
   "execution_count": 87,
   "id": "73665502",
   "metadata": {},
   "outputs": [],
   "source": [
    "df_master['Fillings'] = df_master['Fillings'].fillna(df_master.groupby(['Location','Burrito'])['Fillings'].transform('mean'))\n",
    "df_master['Fillings'] = df_master['Fillings'].fillna(df_master.groupby(['Burrito'])['Fillings'].transform('median'))"
   ]
  },
  {
   "cell_type": "code",
   "execution_count": 88,
   "id": "a20fe083",
   "metadata": {},
   "outputs": [],
   "source": [
    "df_master['Meat:filling'] = df_master['Meat:filling'].fillna(df_master.groupby(['Location','Burrito'])['Meat:filling'].transform('mean'))\n",
    "df_master['Meat:filling'] = df_master['Meat:filling'].fillna(df_master.groupby(['Location'])['Meat:filling'].transform('median'))\n",
    "df_master['Meat:filling'].fillna(df_master['Meat:filling'].median(), inplace=True)"
   ]
  },
  {
   "cell_type": "code",
   "execution_count": 89,
   "id": "e6612c6f",
   "metadata": {},
   "outputs": [],
   "source": [
    "df_master['Length'] = df_master['Length'].fillna(df_master.groupby(['Location','Burrito'])['Length'].transform('mean'))\n",
    "df_master['Length'] = df_master['Length'].fillna(df_master.groupby(['Burrito'])['Length'].transform('median'))\n",
    "df_master['Length'] = df_master['Length'].fillna(df_master.groupby(['Location'])['Length'].transform('median'))\n",
    "df_master['Length'].fillna(df_master['Length'].median(), inplace=True)"
   ]
  },
  {
   "cell_type": "code",
   "execution_count": 90,
   "id": "8604b0ee",
   "metadata": {},
   "outputs": [],
   "source": [
    "df_master['Circum'] = df_master['Circum'].fillna(df_master.groupby(['Location','Burrito'])['Circum'].transform('mean'))\n",
    "df_master['Circum'] = df_master['Circum'].fillna(df_master.groupby(['Burrito'])['Circum'].transform('median'))\n",
    "df_master['Circum'] = df_master['Circum'].fillna(df_master.groupby(['Location'])['Circum'].transform('median'))\n",
    "df_master['Circum'].fillna(df_master['Circum'].median(), inplace=True)"
   ]
  },
  {
   "cell_type": "code",
   "execution_count": 91,
   "id": "0cddcdb3",
   "metadata": {},
   "outputs": [],
   "source": [
    "df_master['Volume'] = df_master['Volume'].fillna(df_master.groupby(['Location','Burrito'])['Volume'].transform('mean'))\n",
    "df_master['Volume'] = df_master['Volume'].fillna(df_master.groupby(['Burrito'])['Volume'].transform('median'))\n",
    "df_master['Volume'] = df_master['Volume'].fillna(df_master.groupby(['Location'])['Volume'].transform('median'))\n",
    "df_master['Volume'].fillna(df_master['Volume'].median(), inplace=True)"
   ]
  },
  {
   "cell_type": "markdown",
   "id": "8e9beb8d",
   "metadata": {},
   "source": [
    "Fill remain null values with 0 for Mass (g) and Density (g/mL) column"
   ]
  },
  {
   "cell_type": "code",
   "execution_count": 92,
   "id": "fbd4cbd7",
   "metadata": {},
   "outputs": [],
   "source": [
    "for i in ['Mass (g)', 'Density (g/mL)']:\n",
    "    df_master[i].fillna(0, inplace=True)"
   ]
  },
  {
   "cell_type": "markdown",
   "id": "87119c95",
   "metadata": {},
   "source": [
    "### Save df to use in further analysis"
   ]
  },
  {
   "cell_type": "code",
   "execution_count": 93,
   "id": "7c3c4845",
   "metadata": {},
   "outputs": [],
   "source": [
    "df_master.to_csv('dashnote_process.csv', index=False)"
   ]
  },
  {
   "cell_type": "code",
   "execution_count": 94,
   "id": "1fec3da5",
   "metadata": {},
   "outputs": [
    {
     "name": "stdout",
     "output_type": "stream",
     "text": [
      "All null values are in yellow\n"
     ]
    },
    {
     "data": {
      "text/plain": [
       "Text(0.5, 1.0, 'Null Value Check')"
      ]
     },
     "execution_count": 94,
     "metadata": {},
     "output_type": "execute_result"
    },
    {
     "data": {
      "image/png": "[encoded data removed]",
      "text/plain": [
       "<Figure size 1080x576 with 1 Axes>"
      ]
     },
     "metadata": {
      "needs_background": "light"
     },
     "output_type": "display_data"
    }
   ],
   "source": [
    "print('All null values are in yellow')\n",
    "### Preapproval_Credit_Type is totally empty, it can be dropped from dataframe\n",
    "### sequential horizontal yellow lines show that missing data in sequential columns, these record are analysed as below\n",
    "plt.figure(figsize=(15,8))\n",
    "sns.heatmap(data=df_master.isnull(), yticklabels=False, cbar= False, cmap='viridis')\n",
    "plt.title('Null Value Check')"
   ]
  },
  {
   "cell_type": "code",
   "execution_count": 95,
   "id": "5c6d5fb0",
   "metadata": {},
   "outputs": [
    {
     "data": {
      "application/vnd.plotly.v1+json": {
       "config": {
        "plotlyServerURL": "https://plot.ly"
       },
       "data": [
        {
         "marker": {
          "color": [
           6.49,
           5.183333333333334,
           6.59,
           6.99,
           7.09,
           9.25,
           7.875,
           6.609999999999999,
           7.99,
           5.99,
           6.4,
           7.125,
           7.49,
           6.5,
           6.423333333333335,
           7.125,
           5,
           7.0625,
           7.84,
           7.4399999999999995,
           9.5,
           6.49,
           7.05,
           8.59,
           8.99,
           8.225,
           6.6,
           7.025,
           6.6,
           7.89,
           6.378571428571428,
           7.3625,
           8,
           6.64,
           6.37,
           4.59,
           7.755714285714286,
           6.95,
           8.166666666666666,
           6.6000000000000005,
           7.49,
           8.75,
           5.55,
           5.25,
           6.299739130434783,
           6.25,
           6.75,
           6.766666666666666,
           5.95,
           5.745,
           6.175,
           9.43,
           10.466666666666667,
           8.25,
           4.87,
           6.808333333333334,
           8.2,
           6.99,
           5.475,
           9.19,
           7.183333333333333,
           6.94,
           5.25,
           7.3125,
           6.166666666666667,
           6.357142857142857,
           6.75,
           6.25,
           4.99,
           6.89,
           5.140000000000001,
           7.49,
           6.5,
           6.25,
           5.84,
           7.601379310344828,
           4.99,
           6.720000000000001,
           6.140000000000001,
           7.15,
           7.24,
           7.9,
           6.416666666666667,
           4.74,
           5.99,
           6.7875,
           5.99,
           7.9,
           6.6,
           6.1,
           6.25,
           5.6125,
           6.4825,
           5.663333333333334,
           6.380222222222221,
           7.49,
           5.99,
           6.39,
           7.025,
           6.25,
           10.5,
           7.67,
           6.99,
           6.833333333333333,
           6.74,
           5.99,
           5.57,
           7.75,
           6.99,
           6.6,
           8.2,
           4.99,
           7.540000000000001,
           7.9,
           6.49,
           6.85,
           6.99,
           7.19,
           7.9,
           6.85,
           7.5,
           6.291666666666667,
           7.675,
           7.995000000000001,
           6.25,
           7.75,
           8.25,
           7.563333333333333,
           7.4,
           9.95,
           7.666666666666667,
           7.09,
           7.89,
           6.9,
           8.175,
           5.7875,
           6.99,
           7.35,
           6.99,
           8.5,
           7.325,
           8.35,
           16,
           7.045,
           7.705,
           6.49,
           8.5,
           6.85,
           11.5,
           7.89
          ],
          "colorscale": [
           [
            0,
            "rgb(12,51,131)"
           ],
           [
            0.25,
            "rgb(10,136,186)"
           ],
           [
            0.5,
            "rgb(242,211,56)"
           ],
           [
            0.75,
            "rgb(242,143,56)"
           ],
           [
            1,
            "rgb(217,30,30)"
           ]
          ],
          "showscale": true,
          "size": [
           6.49,
           5.183333333333334,
           6.59,
           6.99,
           7.09,
           9.25,
           7.875,
           6.609999999999999,
           7.99,
           5.99,
           6.4,
           7.125,
           7.49,
           6.5,
           6.423333333333335,
           7.125,
           5,
           7.0625,
           7.84,
           7.4399999999999995,
           9.5,
           6.49,
           7.05,
           8.59,
           8.99,
           8.225,
           6.6,
           7.025,
           6.6,
           7.89,
           6.378571428571428,
           7.3625,
           8,
           6.64,
           6.37,
           4.59,
           7.755714285714286,
           6.95,
           8.166666666666666,
           6.6000000000000005,
           7.49,
           8.75,
           5.55,
           5.25,
           6.299739130434783,
           6.25,
           6.75,
           6.766666666666666,
           5.95,
           5.745,
           6.175,
           9.43,
           10.466666666666667,
           8.25,
           4.87,
           6.808333333333334,
           8.2,
           6.99,
           5.475,
           9.19,
           7.183333333333333,
           6.94,
           5.25,
           7.3125,
           6.166666666666667,
           6.357142857142857,
           6.75,
           6.25,
           4.99,
           6.89,
           5.140000000000001,
           7.49,
           6.5,
           6.25,
           5.84,
           7.601379310344828,
           4.99,
           6.720000000000001,
           6.140000000000001,
           7.15,
           7.24,
           7.9,
           6.416666666666667,
           4.74,
           5.99,
           6.7875,
           5.99,
           7.9,
           6.6,
           6.1,
           6.25,
           5.6125,
           6.4825,
           5.663333333333334,
           6.380222222222221,
           7.49,
           5.99,
           6.39,
           7.025,
           6.25,
           10.5,
           7.67,
           6.99,
           6.833333333333333,
           6.74,
           5.99,
           5.57,
           7.75,
           6.99,
           6.6,
           8.2,
           4.99,
           7.540000000000001,
           7.9,
           6.49,
           6.85,
           6.99,
           7.19,
           7.9,
           6.85,
           7.5,
           6.291666666666667,
           7.675,
           7.995000000000001,
           6.25,
           7.75,
           8.25,
           7.563333333333333,
           7.4,
           9.95,
           7.666666666666667,
           7.09,
           7.89,
           6.9,
           8.175,
           5.7875,
           6.99,
           7.35,
           6.99,
           8.5,
           7.325,
           8.35,
           16,
           7.045,
           7.705,
           6.49,
           8.5,
           6.85,
           11.5,
           7.89
          ]
         },
         "mode": "markers",
         "type": "scatter",
         "x": [
          "2016-01-18T00:00:00.000000000",
          "2016-01-24T00:00:00.000000000",
          "2016-01-27T00:00:00.000000000",
          "2016-01-28T00:00:00.000000000",
          "2016-01-30T00:00:00.000000000",
          "2016-02-01T00:00:00.000000000",
          "2016-02-06T00:00:00.000000000",
          "2016-02-11T00:00:00.000000000",
          "2016-02-12T00:00:00.000000000",
          "2016-02-14T00:00:00.000000000",
          "2016-02-17T00:00:00.000000000",
          "2016-02-24T00:00:00.000000000",
          "2016-02-28T00:00:00.000000000",
          "2016-02-29T00:00:00.000000000",
          "2016-03-03T00:00:00.000000000",
          "2016-03-08T00:00:00.000000000",
          "2016-03-11T00:00:00.000000000",
          "2016-03-14T00:00:00.000000000",
          "2016-03-17T00:00:00.000000000",
          "2016-03-18T00:00:00.000000000",
          "2016-03-19T00:00:00.000000000",
          "2016-03-20T00:00:00.000000000",
          "2016-03-21T00:00:00.000000000",
          "2016-03-23T00:00:00.000000000",
          "2016-03-30T00:00:00.000000000",
          "2016-04-02T00:00:00.000000000",
          "2016-04-03T00:00:00.000000000",
          "2016-04-07T00:00:00.000000000",
          "2016-04-09T00:00:00.000000000",
          "2016-04-14T00:00:00.000000000",
          "2016-04-15T00:00:00.000000000",
          "2016-04-24T00:00:00.000000000",
          "2016-04-25T00:00:00.000000000",
          "2016-04-27T00:00:00.000000000",
          "2016-05-04T00:00:00.000000000",
          "2016-05-05T00:00:00.000000000",
          "2016-05-06T00:00:00.000000000",
          "2016-05-09T00:00:00.000000000",
          "2016-05-12T00:00:00.000000000",
          "2016-05-13T00:00:00.000000000",
          "2016-05-15T00:00:00.000000000",
          "2016-05-16T00:00:00.000000000",
          "2016-05-18T00:00:00.000000000",
          "2016-05-19T00:00:00.000000000",
          "2016-05-20T00:00:00.000000000",
          "2016-05-21T00:00:00.000000000",
          "2016-05-22T00:00:00.000000000",
          "2016-05-23T00:00:00.000000000",
          "2016-05-24T00:00:00.000000000",
          "2016-05-26T00:00:00.000000000",
          "2016-05-27T00:00:00.000000000",
          "2016-05-28T00:00:00.000000000",
          "2016-05-29T00:00:00.000000000",
          "2016-05-31T00:00:00.000000000",
          "2016-06-01T00:00:00.000000000",
          "2016-06-03T00:00:00.000000000",
          "2016-06-05T00:00:00.000000000",
          "2016-06-06T00:00:00.000000000",
          "2016-06-08T00:00:00.000000000",
          "2016-06-09T00:00:00.000000000",
          "2016-06-11T00:00:00.000000000",
          "2016-06-16T00:00:00.000000000",
          "2016-06-20T00:00:00.000000000",
          "2016-06-23T00:00:00.000000000",
          "2016-06-24T00:00:00.000000000",
          "2016-08-01T00:00:00.000000000",
          "2016-08-06T00:00:00.000000000",
          "2016-08-09T00:00:00.000000000",
          "2016-08-10T00:00:00.000000000",
          "2016-08-12T00:00:00.000000000",
          "2016-08-16T00:00:00.000000000",
          "2016-08-17T00:00:00.000000000",
          "2016-08-19T00:00:00.000000000",
          "2016-08-21T00:00:00.000000000",
          "2016-08-27T00:00:00.000000000",
          "2016-08-30T00:00:00.000000000",
          "2016-09-05T00:00:00.000000000",
          "2016-09-09T00:00:00.000000000",
          "2016-09-11T00:00:00.000000000",
          "2016-09-13T00:00:00.000000000",
          "2016-09-16T00:00:00.000000000",
          "2016-09-18T00:00:00.000000000",
          "2016-09-22T00:00:00.000000000",
          "2016-09-25T00:00:00.000000000",
          "2016-09-26T00:00:00.000000000",
          "2016-09-27T00:00:00.000000000",
          "2016-09-29T00:00:00.000000000",
          "2016-10-01T00:00:00.000000000",
          "2016-10-02T00:00:00.000000000",
          "2016-10-05T00:00:00.000000000",
          "2016-10-07T00:00:00.000000000",
          "2016-10-12T00:00:00.000000000",
          "2016-10-17T00:00:00.000000000",
          "2016-10-18T00:00:00.000000000",
          "2016-10-27T00:00:00.000000000",
          "2016-10-29T00:00:00.000000000",
          "2016-11-01T00:00:00.000000000",
          "2016-11-02T00:00:00.000000000",
          "2016-11-06T00:00:00.000000000",
          "2016-11-08T00:00:00.000000000",
          "2016-11-14T00:00:00.000000000",
          "2016-11-16T00:00:00.000000000",
          "2016-11-17T00:00:00.000000000",
          "2016-11-23T00:00:00.000000000",
          "2016-11-26T00:00:00.000000000",
          "2016-11-27T00:00:00.000000000",
          "2016-12-02T00:00:00.000000000",
          "2016-12-10T00:00:00.000000000",
          "2016-12-15T00:00:00.000000000",
          "2017-01-04T00:00:00.000000000",
          "2017-01-07T00:00:00.000000000",
          "2017-01-10T00:00:00.000000000",
          "2017-01-12T00:00:00.000000000",
          "2017-01-15T00:00:00.000000000",
          "2017-01-20T00:00:00.000000000",
          "2017-02-15T00:00:00.000000000",
          "2017-02-21T00:00:00.000000000",
          "2017-02-23T00:00:00.000000000",
          "2017-02-25T00:00:00.000000000",
          "2017-03-03T00:00:00.000000000",
          "2017-03-16T00:00:00.000000000",
          "2017-04-07T00:00:00.000000000",
          "2017-04-23T00:00:00.000000000",
          "2017-04-25T00:00:00.000000000",
          "2017-05-02T00:00:00.000000000",
          "2017-05-09T00:00:00.000000000",
          "2017-05-13T00:00:00.000000000",
          "2017-05-17T00:00:00.000000000",
          "2017-05-26T00:00:00.000000000",
          "2017-05-29T00:00:00.000000000",
          "2017-05-30T00:00:00.000000000",
          "2017-06-04T00:00:00.000000000",
          "2017-06-10T00:00:00.000000000",
          "2017-06-16T00:00:00.000000000",
          "2017-06-24T00:00:00.000000000",
          "2017-07-06T00:00:00.000000000",
          "2017-07-12T00:00:00.000000000",
          "2017-07-13T00:00:00.000000000",
          "2017-07-19T00:00:00.000000000",
          "2017-07-22T00:00:00.000000000",
          "2017-08-07T00:00:00.000000000",
          "2017-08-09T00:00:00.000000000",
          "2017-08-14T00:00:00.000000000",
          "2017-08-19T00:00:00.000000000",
          "2017-08-20T00:00:00.000000000",
          "2017-08-25T00:00:00.000000000",
          "2017-09-04T00:00:00.000000000",
          "2017-09-05T00:00:00.000000000",
          "2017-12-16T00:00:00.000000000",
          "2017-12-29T00:00:00.000000000"
         ],
         "y": [
          6.49,
          5.183333333333334,
          6.59,
          6.99,
          7.09,
          9.25,
          7.875,
          6.609999999999999,
          7.99,
          5.99,
          6.4,
          7.125,
          7.49,
          6.5,
          6.423333333333335,
          7.125,
          5,
          7.0625,
          7.84,
          7.4399999999999995,
          9.5,
          6.49,
          7.05,
          8.59,
          8.99,
          8.225,
          6.6,
          7.025,
          6.6,
          7.89,
          6.378571428571428,
          7.3625,
          8,
          6.64,
          6.37,
          4.59,
          7.755714285714286,
          6.95,
          8.166666666666666,
          6.6000000000000005,
          7.49,
          8.75,
          5.55,
          5.25,
          6.299739130434783,
          6.25,
          6.75,
          6.766666666666666,
          5.95,
          5.745,
          6.175,
          9.43,
          10.466666666666667,
          8.25,
          4.87,
          6.808333333333334,
          8.2,
          6.99,
          5.475,
          9.19,
          7.183333333333333,
          6.94,
          5.25,
          7.3125,
          6.166666666666667,
          6.357142857142857,
          6.75,
          6.25,
          4.99,
          6.89,
          5.140000000000001,
          7.49,
          6.5,
          6.25,
          5.84,
          7.601379310344828,
          4.99,
          6.720000000000001,
          6.140000000000001,
          7.15,
          7.24,
          7.9,
          6.416666666666667,
          4.74,
          5.99,
          6.7875,
          5.99,
          7.9,
          6.6,
          6.1,
          6.25,
          5.6125,
          6.4825,
          5.663333333333334,
          6.380222222222221,
          7.49,
          5.99,
          6.39,
          7.025,
          6.25,
          10.5,
          7.67,
          6.99,
          6.833333333333333,
          6.74,
          5.99,
          5.57,
          7.75,
          6.99,
          6.6,
          8.2,
          4.99,
          7.540000000000001,
          7.9,
          6.49,
          6.85,
          6.99,
          7.19,
          7.9,
          6.85,
          7.5,
          6.291666666666667,
          7.675,
          7.995000000000001,
          6.25,
          7.75,
          8.25,
          7.563333333333333,
          7.4,
          9.95,
          7.666666666666667,
          7.09,
          7.89,
          6.9,
          8.175,
          5.7875,
          6.99,
          7.35,
          6.99,
          8.5,
          7.325,
          8.35,
          16,
          7.045,
          7.705,
          6.49,
          8.5,
          6.85,
          11.5,
          7.89
         ]
        }
       ],
       "layout": {
        "autosize": true,
        "hovermode": "closest",
        "showlegend": false,
        "template": {
         "data": {
          "bar": [
           {
            "error_x": {
             "color": "#2a3f5f"
            },
            "error_y": {
             "color": "#2a3f5f"
            },
            "marker": {
             "line": {
              "color": "#E5ECF6",
              "width": 0.5
             },
             "pattern": {
              "fillmode": "overlay",
              "size": 10,
              "solidity": 0.2
             }
            },
            "type": "bar"
           }
          ],
          "barpolar": [
           {
            "marker": {
             "line": {
              "color": "#E5ECF6",
              "width": 0.5
             },
             "pattern": {
              "fillmode": "overlay",
              "size": 10,
              "solidity": 0.2
             }
            },
            "type": "barpolar"
           }
          ],
          "carpet": [
           {
            "aaxis": {
             "endlinecolor": "#2a3f5f",
             "gridcolor": "white",
             "linecolor": "white",
             "minorgridcolor": "white",
             "startlinecolor": "#2a3f5f"
            },
            "baxis": {
             "endlinecolor": "#2a3f5f",
             "gridcolor": "white",
             "linecolor": "white",
             "minorgridcolor": "white",
             "startlinecolor": "#2a3f5f"
            },
            "type": "carpet"
           }
          ],
          "choropleth": [
           {
            "colorbar": {
             "outlinewidth": 0,
             "ticks": ""
            },
            "type": "choropleth"
           }
          ],
          "contour": [
           {
            "colorbar": {
             "outlinewidth": 0,
             "ticks": ""
            },
            "colorscale": [
             [
              0,
              "#0d0887"
             ],
             [
              0.1111111111111111,
              "#46039f"
             ],
             [
              0.2222222222222222,
              "#7201a8"
             ],
             [
              0.3333333333333333,
              "#9c179e"
             ],
             [
              0.4444444444444444,
              "#bd3786"
             ],
             [
              0.5555555555555556,
              "#d8576b"
             ],
             [
              0.6666666666666666,
              "#ed7953"
             ],
             [
              0.7777777777777778,
              "#fb9f3a"
             ],
             [
              0.8888888888888888,
              "#fdca26"
             ],
             [
              1,
              "#f0f921"
             ]
            ],
            "type": "contour"
           }
          ],
          "contourcarpet": [
           {
            "colorbar": {
             "outlinewidth": 0,
             "ticks": ""
            },
            "type": "contourcarpet"
           }
          ],
          "heatmap": [
           {
            "colorbar": {
             "outlinewidth": 0,
             "ticks": ""
            },
            "colorscale": [
             [
              0,
              "#0d0887"
             ],
             [
              0.1111111111111111,
              "#46039f"
             ],
             [
              0.2222222222222222,
              "#7201a8"
             ],
             [
              0.3333333333333333,
              "#9c179e"
             ],
             [
              0.4444444444444444,
              "#bd3786"
             ],
             [
              0.5555555555555556,
              "#d8576b"
             ],
             [
              0.6666666666666666,
              "#ed7953"
             ],
             [
              0.7777777777777778,
              "#fb9f3a"
             ],
             [
              0.8888888888888888,
              "#fdca26"
             ],
             [
              1,
              "#f0f921"
             ]
            ],
            "type": "heatmap"
           }
          ],
          "heatmapgl": [
           {
            "colorbar": {
             "outlinewidth": 0,
             "ticks": ""
            },
            "colorscale": [
             [
              0,
              "#0d0887"
             ],
             [
              0.1111111111111111,
              "#46039f"
             ],
             [
              0.2222222222222222,
              "#7201a8"
             ],
             [
              0.3333333333333333,
              "#9c179e"
             ],
             [
              0.4444444444444444,
              "#bd3786"
             ],
             [
              0.5555555555555556,
              "#d8576b"
             ],
             [
              0.6666666666666666,
              "#ed7953"
             ],
             [
              0.7777777777777778,
              "#fb9f3a"
             ],
             [
              0.8888888888888888,
              "#fdca26"
             ],
             [
              1,
              "#f0f921"
             ]
            ],
            "type": "heatmapgl"
           }
          ],
          "histogram": [
           {
            "marker": {
             "pattern": {
              "fillmode": "overlay",
              "size": 10,
              "solidity": 0.2
             }
            },
            "type": "histogram"
           }
          ],
          "histogram2d": [
           {
            "colorbar": {
             "outlinewidth": 0,
             "ticks": ""
            },
            "colorscale": [
             [
              0,
              "#0d0887"
             ],
             [
              0.1111111111111111,
              "#46039f"
             ],
             [
              0.2222222222222222,
              "#7201a8"
             ],
             [
              0.3333333333333333,
              "#9c179e"
             ],
             [
              0.4444444444444444,
              "#bd3786"
             ],
             [
              0.5555555555555556,
              "#d8576b"
             ],
             [
              0.6666666666666666,
              "#ed7953"
             ],
             [
              0.7777777777777778,
              "#fb9f3a"
             ],
             [
              0.8888888888888888,
              "#fdca26"
             ],
             [
              1,
              "#f0f921"
             ]
            ],
            "type": "histogram2d"
           }
          ],
          "histogram2dcontour": [
           {
            "colorbar": {
             "outlinewidth": 0,
             "ticks": ""
            },
            "colorscale": [
             [
              0,
              "#0d0887"
             ],
             [
              0.1111111111111111,
              "#46039f"
             ],
             [
              0.2222222222222222,
              "#7201a8"
             ],
             [
              0.3333333333333333,
              "#9c179e"
             ],
             [
              0.4444444444444444,
              "#bd3786"
             ],
             [
              0.5555555555555556,
              "#d8576b"
             ],
             [
              0.6666666666666666,
              "#ed7953"
             ],
             [
              0.7777777777777778,
              "#fb9f3a"
             ],
             [
              0.8888888888888888,
              "#fdca26"
             ],
             [
              1,
              "#f0f921"
             ]
            ],
            "type": "histogram2dcontour"
           }
          ],
          "mesh3d": [
           {
            "colorbar": {
             "outlinewidth": 0,
             "ticks": ""
            },
            "type": "mesh3d"
           }
          ],
          "parcoords": [
           {
            "line": {
             "colorbar": {
              "outlinewidth": 0,
              "ticks": ""
             }
            },
            "type": "parcoords"
           }
          ],
          "pie": [
           {
            "automargin": true,
            "type": "pie"
           }
          ],
          "scatter": [
           {
            "marker": {
             "colorbar": {
              "outlinewidth": 0,
              "ticks": ""
             }
            },
            "type": "scatter"
           }
          ],
          "scatter3d": [
           {
            "line": {
             "colorbar": {
              "outlinewidth": 0,
              "ticks": ""
             }
            },
            "marker": {
             "colorbar": {
              "outlinewidth": 0,
              "ticks": ""
             }
            },
            "type": "scatter3d"
           }
          ],
          "scattercarpet": [
           {
            "marker": {
             "colorbar": {
              "outlinewidth": 0,
              "ticks": ""
             }
            },
            "type": "scattercarpet"
           }
          ],
          "scattergeo": [
           {
            "marker": {
             "colorbar": {
              "outlinewidth": 0,
              "ticks": ""
             }
            },
            "type": "scattergeo"
           }
          ],
          "scattergl": [
           {
            "marker": {
             "colorbar": {
              "outlinewidth": 0,
              "ticks": ""
             }
            },
            "type": "scattergl"
           }
          ],
          "scattermapbox": [
           {
            "marker": {
             "colorbar": {
              "outlinewidth": 0,
              "ticks": ""
             }
            },
            "type": "scattermapbox"
           }
          ],
          "scatterpolar": [
           {
            "marker": {
             "colorbar": {
              "outlinewidth": 0,
              "ticks": ""
             }
            },
            "type": "scatterpolar"
           }
          ],
          "scatterpolargl": [
           {
            "marker": {
             "colorbar": {
              "outlinewidth": 0,
              "ticks": ""
             }
            },
            "type": "scatterpolargl"
           }
          ],
          "scatterternary": [
           {
            "marker": {
             "colorbar": {
              "outlinewidth": 0,
              "ticks": ""
             }
            },
            "type": "scatterternary"
           }
          ],
          "surface": [
           {
            "colorbar": {
             "outlinewidth": 0,
             "ticks": ""
            },
            "colorscale": [
             [
              0,
              "#0d0887"
             ],
             [
              0.1111111111111111,
              "#46039f"
             ],
             [
              0.2222222222222222,
              "#7201a8"
             ],
             [
              0.3333333333333333,
              "#9c179e"
             ],
             [
              0.4444444444444444,
              "#bd3786"
             ],
             [
              0.5555555555555556,
              "#d8576b"
             ],
             [
              0.6666666666666666,
              "#ed7953"
             ],
             [
              0.7777777777777778,
              "#fb9f3a"
             ],
             [
              0.8888888888888888,
              "#fdca26"
             ],
             [
              1,
              "#f0f921"
             ]
            ],
            "type": "surface"
           }
          ],
          "table": [
           {
            "cells": {
             "fill": {
              "color": "#EBF0F8"
             },
             "line": {
              "color": "white"
             }
            },
            "header": {
             "fill": {
              "color": "#C8D4E3"
             },
             "line": {
              "color": "white"
             }
            },
            "type": "table"
           }
          ]
         },
         "layout": {
          "annotationdefaults": {
           "arrowcolor": "#2a3f5f",
           "arrowhead": 0,
           "arrowwidth": 1
          },
          "autotypenumbers": "strict",
          "coloraxis": {
           "colorbar": {
            "outlinewidth": 0,
            "ticks": ""
           }
          },
          "colorscale": {
           "diverging": [
            [
             0,
             "#8e0152"
            ],
            [
             0.1,
             "#c51b7d"
            ],
            [
             0.2,
             "#de77ae"
            ],
            [
             0.3,
             "#f1b6da"
            ],
            [
             0.4,
             "#fde0ef"
            ],
            [
             0.5,
             "#f7f7f7"
            ],
            [
             0.6,
             "#e6f5d0"
            ],
            [
             0.7,
             "#b8e186"
            ],
            [
             0.8,
             "#7fbc41"
            ],
            [
             0.9,
             "#4d9221"
            ],
            [
             1,
             "#276419"
            ]
           ],
           "sequential": [
            [
             0,
             "#0d0887"
            ],
            [
             0.1111111111111111,
             "#46039f"
            ],
            [
             0.2222222222222222,
             "#7201a8"
            ],
            [
             0.3333333333333333,
             "#9c179e"
            ],
            [
             0.4444444444444444,
             "#bd3786"
            ],
            [
             0.5555555555555556,
             "#d8576b"
            ],
            [
             0.6666666666666666,
             "#ed7953"
            ],
            [
             0.7777777777777778,
             "#fb9f3a"
            ],
            [
             0.8888888888888888,
             "#fdca26"
            ],
            [
             1,
             "#f0f921"
            ]
           ],
           "sequentialminus": [
            [
             0,
             "#0d0887"
            ],
            [
             0.1111111111111111,
             "#46039f"
            ],
            [
             0.2222222222222222,
             "#7201a8"
            ],
            [
             0.3333333333333333,
             "#9c179e"
            ],
            [
             0.4444444444444444,
             "#bd3786"
            ],
            [
             0.5555555555555556,
             "#d8576b"
            ],
            [
             0.6666666666666666,
             "#ed7953"
            ],
            [
             0.7777777777777778,
             "#fb9f3a"
            ],
            [
             0.8888888888888888,
             "#fdca26"
            ],
            [
             1,
             "#f0f921"
            ]
           ]
          },
          "colorway": [
           "#636efa",
           "#EF553B",
           "#00cc96",
           "#ab63fa",
           "#FFA15A",
           "#19d3f3",
           "#FF6692",
           "#B6E880",
           "#FF97FF",
           "#FECB52"
          ],
          "font": {
           "color": "#2a3f5f"
          },
          "geo": {
           "bgcolor": "white",
           "lakecolor": "white",
           "landcolor": "#E5ECF6",
           "showlakes": true,
           "showland": true,
           "subunitcolor": "white"
          },
          "hoverlabel": {
           "align": "left"
          },
          "hovermode": "closest",
          "mapbox": {
           "style": "light"
          },
          "paper_bgcolor": "white",
          "plot_bgcolor": "#E5ECF6",
          "polar": {
           "angularaxis": {
            "gridcolor": "white",
            "linecolor": "white",
            "ticks": ""
           },
           "bgcolor": "#E5ECF6",
           "radialaxis": {
            "gridcolor": "white",
            "linecolor": "white",
            "ticks": ""
           }
          },
          "scene": {
           "xaxis": {
            "backgroundcolor": "#E5ECF6",
            "gridcolor": "white",
            "gridwidth": 2,
            "linecolor": "white",
            "showbackground": true,
            "ticks": "",
            "zerolinecolor": "white"
           },
           "yaxis": {
            "backgroundcolor": "#E5ECF6",
            "gridcolor": "white",
            "gridwidth": 2,
            "linecolor": "white",
            "showbackground": true,
            "ticks": "",
            "zerolinecolor": "white"
           },
           "zaxis": {
            "backgroundcolor": "#E5ECF6",
            "gridcolor": "white",
            "gridwidth": 2,
            "linecolor": "white",
            "showbackground": true,
            "ticks": "",
            "zerolinecolor": "white"
           }
          },
          "shapedefaults": {
           "line": {
            "color": "#2a3f5f"
           }
          },
          "ternary": {
           "aaxis": {
            "gridcolor": "white",
            "linecolor": "white",
            "ticks": ""
           },
           "baxis": {
            "gridcolor": "white",
            "linecolor": "white",
            "ticks": ""
           },
           "bgcolor": "#E5ECF6",
           "caxis": {
            "gridcolor": "white",
            "linecolor": "white",
            "ticks": ""
           }
          },
          "title": {
           "x": 0.05
          },
          "xaxis": {
           "automargin": true,
           "gridcolor": "white",
           "linecolor": "white",
           "ticks": "",
           "title": {
            "standoff": 15
           },
           "zerolinecolor": "white",
           "zerolinewidth": 2
          },
          "yaxis": {
           "automargin": true,
           "gridcolor": "white",
           "linecolor": "white",
           "ticks": "",
           "title": {
            "standoff": 15
           },
           "zerolinecolor": "white",
           "zerolinewidth": 2
          }
         }
        },
        "title": {
         "text": "Daily mean order amount"
        },
        "xaxis": {
         "gridwidth": 2,
         "ticklen": 5,
         "title": {
          "text": "Date"
         }
        },
        "yaxis": {
         "gridwidth": 2,
         "ticklen": 5,
         "title": {
          "text": "Cost_mean"
         }
        }
       }
      },
      "text/html": [
       "<div>                            <div id=\"52b65a6d-76fc-4fcc-9a79-4b92add29347\" class=\"plotly-graph-div\" style=\"height:525px; width:100%;\"></div>            <script type=\"text/javascript\">                require([\"plotly\"], function(Plotly) {                    window.PLOTLYENV=window.PLOTLYENV || {};                                    if (document.getElementById(\"52b65a6d-76fc-4fcc-9a79-4b92add29347\")) {                    Plotly.newPlot(                        \"52b65a6d-76fc-4fcc-9a79-4b92add29347\",                        [{\"marker\":{\"color\":[6.49,5.183333333333334,6.59,6.99,7.09,9.25,7.875,6.609999999999999,7.99,5.99,6.4,7.125,7.49,6.5,6.423333333333335,7.125,5.0,7.0625,7.84,7.4399999999999995,9.5,6.49,7.05,8.59,8.99,8.225,6.6,7.025,6.6,7.89,6.378571428571428,7.3625,8.0,6.64,6.37,4.59,7.755714285714286,6.95,8.166666666666666,6.6000000000000005,7.49,8.75,5.55,5.25,6.299739130434783,6.25,6.75,6.766666666666666,5.95,5.745,6.175,9.43,10.466666666666667,8.25,4.87,6.808333333333334,8.2,6.99,5.475,9.19,7.183333333333333,6.94,5.25,7.3125,6.166666666666667,6.357142857142857,6.75,6.25,4.99,6.89,5.140000000000001,7.49,6.5,6.25,5.84,7.601379310344828,4.99,6.720000000000001,6.140000000000001,7.15,7.24,7.9,6.416666666666667,4.74,5.99,6.7875,5.99,7.9,6.6,6.1,6.25,5.6125,6.4825,5.663333333333334,6.380222222222221,7.49,5.99,6.39,7.025,6.25,10.5,7.67,6.99,6.833333333333333,6.74,5.99,5.57,7.75,6.99,6.6,8.2,4.99,7.540000000000001,7.9,6.49,6.85,6.99,7.19,7.9,6.85,7.5,6.291666666666667,7.675,7.995000000000001,6.25,7.75,8.25,7.563333333333333,7.4,9.95,7.666666666666667,7.09,7.89,6.9,8.175,5.7875,6.99,7.35,6.99,8.5,7.325,8.35,16.0,7.045,7.705,6.49,8.5,6.85,11.5,7.89],\"colorscale\":[[0.0,\"rgb(12,51,131)\"],[0.25,\"rgb(10,136,186)\"],[0.5,\"rgb(242,211,56)\"],[0.75,\"rgb(242,143,56)\"],[1.0,\"rgb(217,30,30)\"]],\"showscale\":true,\"size\":[6.49,5.183333333333334,6.59,6.99,7.09,9.25,7.875,6.609999999999999,7.99,5.99,6.4,7.125,7.49,6.5,6.423333333333335,7.125,5.0,7.0625,7.84,7.4399999999999995,9.5,6.49,7.05,8.59,8.99,8.225,6.6,7.025,6.6,7.89,6.378571428571428,7.3625,8.0,6.64,6.37,4.59,7.755714285714286,6.95,8.166666666666666,6.6000000000000005,7.49,8.75,5.55,5.25,6.299739130434783,6.25,6.75,6.766666666666666,5.95,5.745,6.175,9.43,10.466666666666667,8.25,4.87,6.808333333333334,8.2,6.99,5.475,9.19,7.183333333333333,6.94,5.25,7.3125,6.166666666666667,6.357142857142857,6.75,6.25,4.99,6.89,5.140000000000001,7.49,6.5,6.25,5.84,7.601379310344828,4.99,6.720000000000001,6.140000000000001,7.15,7.24,7.9,6.416666666666667,4.74,5.99,6.7875,5.99,7.9,6.6,6.1,6.25,5.6125,6.4825,5.663333333333334,6.380222222222221,7.49,5.99,6.39,7.025,6.25,10.5,7.67,6.99,6.833333333333333,6.74,5.99,5.57,7.75,6.99,6.6,8.2,4.99,7.540000000000001,7.9,6.49,6.85,6.99,7.19,7.9,6.85,7.5,6.291666666666667,7.675,7.995000000000001,6.25,7.75,8.25,7.563333333333333,7.4,9.95,7.666666666666667,7.09,7.89,6.9,8.175,5.7875,6.99,7.35,6.99,8.5,7.325,8.35,16.0,7.045,7.705,6.49,8.5,6.85,11.5,7.89]},\"mode\":\"markers\",\"type\":\"scatter\",\"x\":[\"2016-01-18T00:00:00.000000000\",\"2016-01-24T00:00:00.000000000\",\"2016-01-27T00:00:00.000000000\",\"2016-01-28T00:00:00.000000000\",\"2016-01-30T00:00:00.000000000\",\"2016-02-01T00:00:00.000000000\",\"2016-02-06T00:00:00.000000000\",\"2016-02-11T00:00:00.000000000\",\"2016-02-12T00:00:00.000000000\",\"2016-02-14T00:00:00.000000000\",\"2016-02-17T00:00:00.000000000\",\"2016-02-24T00:00:00.000000000\",\"2016-02-28T00:00:00.000000000\",\"2016-02-29T00:00:00.000000000\",\"2016-03-03T00:00:00.000000000\",\"2016-03-08T00:00:00.000000000\",\"2016-03-11T00:00:00.000000000\",\"2016-03-14T00:00:00.000000000\",\"2016-03-17T00:00:00.000000000\",\"2016-03-18T00:00:00.000000000\",\"2016-03-19T00:00:00.000000000\",\"2016-03-20T00:00:00.000000000\",\"2016-03-21T00:00:00.000000000\",\"2016-03-23T00:00:00.000000000\",\"2016-03-30T00:00:00.000000000\",\"2016-04-02T00:00:00.000000000\",\"2016-04-03T00:00:00.000000000\",\"2016-04-07T00:00:00.000000000\",\"2016-04-09T00:00:00.000000000\",\"2016-04-14T00:00:00.000000000\",\"2016-04-15T00:00:00.000000000\",\"2016-04-24T00:00:00.000000000\",\"2016-04-25T00:00:00.000000000\",\"2016-04-27T00:00:00.000000000\",\"2016-05-04T00:00:00.000000000\",\"2016-05-05T00:00:00.000000000\",\"2016-05-06T00:00:00.000000000\",\"2016-05-09T00:00:00.000000000\",\"2016-05-12T00:00:00.000000000\",\"2016-05-13T00:00:00.000000000\",\"2016-05-15T00:00:00.000000000\",\"2016-05-16T00:00:00.000000000\",\"2016-05-18T00:00:00.000000000\",\"2016-05-19T00:00:00.000000000\",\"2016-05-20T00:00:00.000000000\",\"2016-05-21T00:00:00.000000000\",\"2016-05-22T00:00:00.000000000\",\"2016-05-23T00:00:00.000000000\",\"2016-05-24T00:00:00.000000000\",\"2016-05-26T00:00:00.000000000\",\"2016-05-27T00:00:00.000000000\",\"2016-05-28T00:00:00.000000000\",\"2016-05-29T00:00:00.000000000\",\"2016-05-31T00:00:00.000000000\",\"2016-06-01T00:00:00.000000000\",\"2016-06-03T00:00:00.000000000\",\"2016-06-05T00:00:00.000000000\",\"2016-06-06T00:00:00.000000000\",\"2016-06-08T00:00:00.000000000\",\"2016-06-09T00:00:00.000000000\",\"2016-06-11T00:00:00.000000000\",\"2016-06-16T00:00:00.000000000\",\"2016-06-20T00:00:00.000000000\",\"2016-06-23T00:00:00.000000000\",\"2016-06-24T00:00:00.000000000\",\"2016-08-01T00:00:00.000000000\",\"2016-08-06T00:00:00.000000000\",\"2016-08-09T00:00:00.000000000\",\"2016-08-10T00:00:00.000000000\",\"2016-08-12T00:00:00.000000000\",\"2016-08-16T00:00:00.000000000\",\"2016-08-17T00:00:00.000000000\",\"2016-08-19T00:00:00.000000000\",\"2016-08-21T00:00:00.000000000\",\"2016-08-27T00:00:00.000000000\",\"2016-08-30T00:00:00.000000000\",\"2016-09-05T00:00:00.000000000\",\"2016-09-09T00:00:00.000000000\",\"2016-09-11T00:00:00.000000000\",\"2016-09-13T00:00:00.000000000\",\"2016-09-16T00:00:00.000000000\",\"2016-09-18T00:00:00.000000000\",\"2016-09-22T00:00:00.000000000\",\"2016-09-25T00:00:00.000000000\",\"2016-09-26T00:00:00.000000000\",\"2016-09-27T00:00:00.000000000\",\"2016-09-29T00:00:00.000000000\",\"2016-10-01T00:00:00.000000000\",\"2016-10-02T00:00:00.000000000\",\"2016-10-05T00:00:00.000000000\",\"2016-10-07T00:00:00.000000000\",\"2016-10-12T00:00:00.000000000\",\"2016-10-17T00:00:00.000000000\",\"2016-10-18T00:00:00.000000000\",\"2016-10-27T00:00:00.000000000\",\"2016-10-29T00:00:00.000000000\",\"2016-11-01T00:00:00.000000000\",\"2016-11-02T00:00:00.000000000\",\"2016-11-06T00:00:00.000000000\",\"2016-11-08T00:00:00.000000000\",\"2016-11-14T00:00:00.000000000\",\"2016-11-16T00:00:00.000000000\",\"2016-11-17T00:00:00.000000000\",\"2016-11-23T00:00:00.000000000\",\"2016-11-26T00:00:00.000000000\",\"2016-11-27T00:00:00.000000000\",\"2016-12-02T00:00:00.000000000\",\"2016-12-10T00:00:00.000000000\",\"2016-12-15T00:00:00.000000000\",\"2017-01-04T00:00:00.000000000\",\"2017-01-07T00:00:00.000000000\",\"2017-01-10T00:00:00.000000000\",\"2017-01-12T00:00:00.000000000\",\"2017-01-15T00:00:00.000000000\",\"2017-01-20T00:00:00.000000000\",\"2017-02-15T00:00:00.000000000\",\"2017-02-21T00:00:00.000000000\",\"2017-02-23T00:00:00.000000000\",\"2017-02-25T00:00:00.000000000\",\"2017-03-03T00:00:00.000000000\",\"2017-03-16T00:00:00.000000000\",\"2017-04-07T00:00:00.000000000\",\"2017-04-23T00:00:00.000000000\",\"2017-04-25T00:00:00.000000000\",\"2017-05-02T00:00:00.000000000\",\"2017-05-09T00:00:00.000000000\",\"2017-05-13T00:00:00.000000000\",\"2017-05-17T00:00:00.000000000\",\"2017-05-26T00:00:00.000000000\",\"2017-05-29T00:00:00.000000000\",\"2017-05-30T00:00:00.000000000\",\"2017-06-04T00:00:00.000000000\",\"2017-06-10T00:00:00.000000000\",\"2017-06-16T00:00:00.000000000\",\"2017-06-24T00:00:00.000000000\",\"2017-07-06T00:00:00.000000000\",\"2017-07-12T00:00:00.000000000\",\"2017-07-13T00:00:00.000000000\",\"2017-07-19T00:00:00.000000000\",\"2017-07-22T00:00:00.000000000\",\"2017-08-07T00:00:00.000000000\",\"2017-08-09T00:00:00.000000000\",\"2017-08-14T00:00:00.000000000\",\"2017-08-19T00:00:00.000000000\",\"2017-08-20T00:00:00.000000000\",\"2017-08-25T00:00:00.000000000\",\"2017-09-04T00:00:00.000000000\",\"2017-09-05T00:00:00.000000000\",\"2017-12-16T00:00:00.000000000\",\"2017-12-29T00:00:00.000000000\"],\"y\":[6.49,5.183333333333334,6.59,6.99,7.09,9.25,7.875,6.609999999999999,7.99,5.99,6.4,7.125,7.49,6.5,6.423333333333335,7.125,5.0,7.0625,7.84,7.4399999999999995,9.5,6.49,7.05,8.59,8.99,8.225,6.6,7.025,6.6,7.89,6.378571428571428,7.3625,8.0,6.64,6.37,4.59,7.755714285714286,6.95,8.166666666666666,6.6000000000000005,7.49,8.75,5.55,5.25,6.299739130434783,6.25,6.75,6.766666666666666,5.95,5.745,6.175,9.43,10.466666666666667,8.25,4.87,6.808333333333334,8.2,6.99,5.475,9.19,7.183333333333333,6.94,5.25,7.3125,6.166666666666667,6.357142857142857,6.75,6.25,4.99,6.89,5.140000000000001,7.49,6.5,6.25,5.84,7.601379310344828,4.99,6.720000000000001,6.140000000000001,7.15,7.24,7.9,6.416666666666667,4.74,5.99,6.7875,5.99,7.9,6.6,6.1,6.25,5.6125,6.4825,5.663333333333334,6.380222222222221,7.49,5.99,6.39,7.025,6.25,10.5,7.67,6.99,6.833333333333333,6.74,5.99,5.57,7.75,6.99,6.6,8.2,4.99,7.540000000000001,7.9,6.49,6.85,6.99,7.19,7.9,6.85,7.5,6.291666666666667,7.675,7.995000000000001,6.25,7.75,8.25,7.563333333333333,7.4,9.95,7.666666666666667,7.09,7.89,6.9,8.175,5.7875,6.99,7.35,6.99,8.5,7.325,8.35,16.0,7.045,7.705,6.49,8.5,6.85,11.5,7.89]}],                        {\"autosize\":true,\"hovermode\":\"closest\",\"showlegend\":false,\"template\":{\"data\":{\"bar\":[{\"error_x\":{\"color\":\"#2a3f5f\"},\"error_y\":{\"color\":\"#2a3f5f\"},\"marker\":{\"line\":{\"color\":\"#E5ECF6\",\"width\":0.5},\"pattern\":{\"fillmode\":\"overlay\",\"size\":10,\"solidity\":0.2}},\"type\":\"bar\"}],\"barpolar\":[{\"marker\":{\"line\":{\"color\":\"#E5ECF6\",\"width\":0.5},\"pattern\":{\"fillmode\":\"overlay\",\"size\":10,\"solidity\":0.2}},\"type\":\"barpolar\"}],\"carpet\":[{\"aaxis\":{\"endlinecolor\":\"#2a3f5f\",\"gridcolor\":\"white\",\"linecolor\":\"white\",\"minorgridcolor\":\"white\",\"startlinecolor\":\"#2a3f5f\"},\"baxis\":{\"endlinecolor\":\"#2a3f5f\",\"gridcolor\":\"white\",\"linecolor\":\"white\",\"minorgridcolor\":\"white\",\"startlinecolor\":\"#2a3f5f\"},\"type\":\"carpet\"}],\"choropleth\":[{\"colorbar\":{\"outlinewidth\":0,\"ticks\":\"\"},\"type\":\"choropleth\"}],\"contour\":[{\"colorbar\":{\"outlinewidth\":0,\"ticks\":\"\"},\"colorscale\":[[0.0,\"#0d0887\"],[0.1111111111111111,\"#46039f\"],[0.2222222222222222,\"#7201a8\"],[0.3333333333333333,\"#9c179e\"],[0.4444444444444444,\"#bd3786\"],[0.5555555555555556,\"#d8576b\"],[0.6666666666666666,\"#ed7953\"],[0.7777777777777778,\"#fb9f3a\"],[0.8888888888888888,\"#fdca26\"],[1.0,\"#f0f921\"]],\"type\":\"contour\"}],\"contourcarpet\":[{\"colorbar\":{\"outlinewidth\":0,\"ticks\":\"\"},\"type\":\"contourcarpet\"}],\"heatmap\":[{\"colorbar\":{\"outlinewidth\":0,\"ticks\":\"\"},\"colorscale\":[[0.0,\"#0d0887\"],[0.1111111111111111,\"#46039f\"],[0.2222222222222222,\"#7201a8\"],[0.3333333333333333,\"#9c179e\"],[0.4444444444444444,\"#bd3786\"],[0.5555555555555556,\"#d8576b\"],[0.6666666666666666,\"#ed7953\"],[0.7777777777777778,\"#fb9f3a\"],[0.8888888888888888,\"#fdca26\"],[1.0,\"#f0f921\"]],\"type\":\"heatmap\"}],\"heatmapgl\":[{\"colorbar\":{\"outlinewidth\":0,\"ticks\":\"\"},\"colorscale\":[[0.0,\"#0d0887\"],[0.1111111111111111,\"#46039f\"],[0.2222222222222222,\"#7201a8\"],[0.3333333333333333,\"#9c179e\"],[0.4444444444444444,\"#bd3786\"],[0.5555555555555556,\"#d8576b\"],[0.6666666666666666,\"#ed7953\"],[0.7777777777777778,\"#fb9f3a\"],[0.8888888888888888,\"#fdca26\"],[1.0,\"#f0f921\"]],\"type\":\"heatmapgl\"}],\"histogram\":[{\"marker\":{\"pattern\":{\"fillmode\":\"overlay\",\"size\":10,\"solidity\":0.2}},\"type\":\"histogram\"}],\"histogram2d\":[{\"colorbar\":{\"outlinewidth\":0,\"ticks\":\"\"},\"colorscale\":[[0.0,\"#0d0887\"],[0.1111111111111111,\"#46039f\"],[0.2222222222222222,\"#7201a8\"],[0.3333333333333333,\"#9c179e\"],[0.4444444444444444,\"#bd3786\"],[0.5555555555555556,\"#d8576b\"],[0.6666666666666666,\"#ed7953\"],[0.7777777777777778,\"#fb9f3a\"],[0.8888888888888888,\"#fdca26\"],[1.0,\"#f0f921\"]],\"type\":\"histogram2d\"}],\"histogram2dcontour\":[{\"colorbar\":{\"outlinewidth\":0,\"ticks\":\"\"},\"colorscale\":[[0.0,\"#0d0887\"],[0.1111111111111111,\"#46039f\"],[0.2222222222222222,\"#7201a8\"],[0.3333333333333333,\"#9c179e\"],[0.4444444444444444,\"#bd3786\"],[0.5555555555555556,\"#d8576b\"],[0.6666666666666666,\"#ed7953\"],[0.7777777777777778,\"#fb9f3a\"],[0.8888888888888888,\"#fdca26\"],[1.0,\"#f0f921\"]],\"type\":\"histogram2dcontour\"}],\"mesh3d\":[{\"colorbar\":{\"outlinewidth\":0,\"ticks\":\"\"},\"type\":\"mesh3d\"}],\"parcoords\":[{\"line\":{\"colorbar\":{\"outlinewidth\":0,\"ticks\":\"\"}},\"type\":\"parcoords\"}],\"pie\":[{\"automargin\":true,\"type\":\"pie\"}],\"scatter\":[{\"marker\":{\"colorbar\":{\"outlinewidth\":0,\"ticks\":\"\"}},\"type\":\"scatter\"}],\"scatter3d\":[{\"line\":{\"colorbar\":{\"outlinewidth\":0,\"ticks\":\"\"}},\"marker\":{\"colorbar\":{\"outlinewidth\":0,\"ticks\":\"\"}},\"type\":\"scatter3d\"}],\"scattercarpet\":[{\"marker\":{\"colorbar\":{\"outlinewidth\":0,\"ticks\":\"\"}},\"type\":\"scattercarpet\"}],\"scattergeo\":[{\"marker\":{\"colorbar\":{\"outlinewidth\":0,\"ticks\":\"\"}},\"type\":\"scattergeo\"}],\"scattergl\":[{\"marker\":{\"colorbar\":{\"outlinewidth\":0,\"ticks\":\"\"}},\"type\":\"scattergl\"}],\"scattermapbox\":[{\"marker\":{\"colorbar\":{\"outlinewidth\":0,\"ticks\":\"\"}},\"type\":\"scattermapbox\"}],\"scatterpolar\":[{\"marker\":{\"colorbar\":{\"outlinewidth\":0,\"ticks\":\"\"}},\"type\":\"scatterpolar\"}],\"scatterpolargl\":[{\"marker\":{\"colorbar\":{\"outlinewidth\":0,\"ticks\":\"\"}},\"type\":\"scatterpolargl\"}],\"scatterternary\":[{\"marker\":{\"colorbar\":{\"outlinewidth\":0,\"ticks\":\"\"}},\"type\":\"scatterternary\"}],\"surface\":[{\"colorbar\":{\"outlinewidth\":0,\"ticks\":\"\"},\"colorscale\":[[0.0,\"#0d0887\"],[0.1111111111111111,\"#46039f\"],[0.2222222222222222,\"#7201a8\"],[0.3333333333333333,\"#9c179e\"],[0.4444444444444444,\"#bd3786\"],[0.5555555555555556,\"#d8576b\"],[0.6666666666666666,\"#ed7953\"],[0.7777777777777778,\"#fb9f3a\"],[0.8888888888888888,\"#fdca26\"],[1.0,\"#f0f921\"]],\"type\":\"surface\"}],\"table\":[{\"cells\":{\"fill\":{\"color\":\"#EBF0F8\"},\"line\":{\"color\":\"white\"}},\"header\":{\"fill\":{\"color\":\"#C8D4E3\"},\"line\":{\"color\":\"white\"}},\"type\":\"table\"}]},\"layout\":{\"annotationdefaults\":{\"arrowcolor\":\"#2a3f5f\",\"arrowhead\":0,\"arrowwidth\":1},\"autotypenumbers\":\"strict\",\"coloraxis\":{\"colorbar\":{\"outlinewidth\":0,\"ticks\":\"\"}},\"colorscale\":{\"diverging\":[[0,\"#8e0152\"],[0.1,\"#c51b7d\"],[0.2,\"#de77ae\"],[0.3,\"#f1b6da\"],[0.4,\"#fde0ef\"],[0.5,\"#f7f7f7\"],[0.6,\"#e6f5d0\"],[0.7,\"#b8e186\"],[0.8,\"#7fbc41\"],[0.9,\"#4d9221\"],[1,\"#276419\"]],\"sequential\":[[0.0,\"#0d0887\"],[0.1111111111111111,\"#46039f\"],[0.2222222222222222,\"#7201a8\"],[0.3333333333333333,\"#9c179e\"],[0.4444444444444444,\"#bd3786\"],[0.5555555555555556,\"#d8576b\"],[0.6666666666666666,\"#ed7953\"],[0.7777777777777778,\"#fb9f3a\"],[0.8888888888888888,\"#fdca26\"],[1.0,\"#f0f921\"]],\"sequentialminus\":[[0.0,\"#0d0887\"],[0.1111111111111111,\"#46039f\"],[0.2222222222222222,\"#7201a8\"],[0.3333333333333333,\"#9c179e\"],[0.4444444444444444,\"#bd3786\"],[0.5555555555555556,\"#d8576b\"],[0.6666666666666666,\"#ed7953\"],[0.7777777777777778,\"#fb9f3a\"],[0.8888888888888888,\"#fdca26\"],[1.0,\"#f0f921\"]]},\"colorway\":[\"#636efa\",\"#EF553B\",\"#00cc96\",\"#ab63fa\",\"#FFA15A\",\"#19d3f3\",\"#FF6692\",\"#B6E880\",\"#FF97FF\",\"#FECB52\"],\"font\":{\"color\":\"#2a3f5f\"},\"geo\":{\"bgcolor\":\"white\",\"lakecolor\":\"white\",\"landcolor\":\"#E5ECF6\",\"showlakes\":true,\"showland\":true,\"subunitcolor\":\"white\"},\"hoverlabel\":{\"align\":\"left\"},\"hovermode\":\"closest\",\"mapbox\":{\"style\":\"light\"},\"paper_bgcolor\":\"white\",\"plot_bgcolor\":\"#E5ECF6\",\"polar\":{\"angularaxis\":{\"gridcolor\":\"white\",\"linecolor\":\"white\",\"ticks\":\"\"},\"bgcolor\":\"#E5ECF6\",\"radialaxis\":{\"gridcolor\":\"white\",\"linecolor\":\"white\",\"ticks\":\"\"}},\"scene\":{\"xaxis\":{\"backgroundcolor\":\"#E5ECF6\",\"gridcolor\":\"white\",\"gridwidth\":2,\"linecolor\":\"white\",\"showbackground\":true,\"ticks\":\"\",\"zerolinecolor\":\"white\"},\"yaxis\":{\"backgroundcolor\":\"#E5ECF6\",\"gridcolor\":\"white\",\"gridwidth\":2,\"linecolor\":\"white\",\"showbackground\":true,\"ticks\":\"\",\"zerolinecolor\":\"white\"},\"zaxis\":{\"backgroundcolor\":\"#E5ECF6\",\"gridcolor\":\"white\",\"gridwidth\":2,\"linecolor\":\"white\",\"showbackground\":true,\"ticks\":\"\",\"zerolinecolor\":\"white\"}},\"shapedefaults\":{\"line\":{\"color\":\"#2a3f5f\"}},\"ternary\":{\"aaxis\":{\"gridcolor\":\"white\",\"linecolor\":\"white\",\"ticks\":\"\"},\"baxis\":{\"gridcolor\":\"white\",\"linecolor\":\"white\",\"ticks\":\"\"},\"bgcolor\":\"#E5ECF6\",\"caxis\":{\"gridcolor\":\"white\",\"linecolor\":\"white\",\"ticks\":\"\"}},\"title\":{\"x\":0.05},\"xaxis\":{\"automargin\":true,\"gridcolor\":\"white\",\"linecolor\":\"white\",\"ticks\":\"\",\"title\":{\"standoff\":15},\"zerolinecolor\":\"white\",\"zerolinewidth\":2},\"yaxis\":{\"automargin\":true,\"gridcolor\":\"white\",\"linecolor\":\"white\",\"ticks\":\"\",\"title\":{\"standoff\":15},\"zerolinecolor\":\"white\",\"zerolinewidth\":2}}},\"title\":{\"text\":\"Daily mean order amount\"},\"xaxis\":{\"gridwidth\":2,\"ticklen\":5,\"title\":{\"text\":\"Date\"}},\"yaxis\":{\"gridwidth\":2,\"ticklen\":5,\"title\":{\"text\":\"Cost_mean\"}}},                        {\"responsive\": true}                    ).then(function(){\n",
       "                            \n",
       "var gd = document.getElementById('52b65a6d-76fc-4fcc-9a79-4b92add29347');\n",
       "var x = new MutationObserver(function (mutations, observer) {{\n",
       "        var display = window.getComputedStyle(gd).display;\n",
       "        if (!display || display === 'none') {{\n",
       "            console.log([gd, 'removed!']);\n",
       "            Plotly.purge(gd);\n",
       "            observer.disconnect();\n",
       "        }}\n",
       "}});\n",
       "\n",
       "// Listen for the removal of the full notebook cells\n",
       "var notebookContainer = gd.closest('#notebook-container');\n",
       "if (notebookContainer) {{\n",
       "    x.observe(notebookContainer, {childList: true});\n",
       "}}\n",
       "\n",
       "// Listen for the clearing of the current output cell\n",
       "var outputEl = gd.closest('.output');\n",
       "if (outputEl) {{\n",
       "    x.observe(outputEl, {childList: true});\n",
       "}}\n",
       "\n",
       "                        })                };                });            </script>        </div>"
      ]
     },
     "metadata": {},
     "output_type": "display_data"
    }
   ],
   "source": [
    "df_daily_cost = df_master.groupby('Date').agg({'Cost':['mean', 'std','sum'],\n",
    "                                            'Burrito':'count',\n",
    "                                            'Hunger':['mean', 'std','sum']})\n",
    "\n",
    "df_daily_cost.columns = df_daily_cost.columns.droplevel(0)\n",
    "\n",
    "df_daily_cost = df_daily_cost.reset_index().rename_axis(None, axis=1)\n",
    "df_daily_cost.columns = ['date', 'Cost_mean', 'Cost_std', 'Cost_sum', \n",
    "                         'order_count', 'Hunger_mean', 'Hunger_std', 'Hunger_sum']\n",
    "\n",
    "df_daily_cost.sort_values(by='date', ascending=True, inplace=True)\n",
    "\n",
    "df_daily_cost[['Cost_mean', 'Hunger_mean']] = df_daily_cost[['Cost_mean', 'Hunger_mean']].fillna(value=0)\n",
    "\n",
    "trace = go.Scatter(\n",
    "    x = df_daily_cost['date'].values,\n",
    "    y = df_daily_cost['Cost_mean'].values,\n",
    "    mode='markers',\n",
    "    marker=dict(\n",
    "        size = df_daily_cost['Cost_mean'],\n",
    "        color = df_daily_cost['Cost_mean'],\n",
    "        colorscale='Portland',\n",
    "        showscale=True\n",
    "    )\n",
    ")\n",
    "layout= go.Layout(\n",
    "    autosize= True,\n",
    "    title= 'Daily mean order amount',\n",
    "    hovermode= 'closest',\n",
    "    xaxis=dict(\n",
    "        title= 'Date',\n",
    "        ticklen= 5,\n",
    "        gridwidth= 2,\n",
    "    ),\n",
    "    yaxis=dict(\n",
    "        title= 'Cost_mean',\n",
    "        ticklen= 5,\n",
    "        gridwidth= 2,\n",
    "    ),\n",
    "    showlegend= False\n",
    ")\n",
    "\n",
    "fig = go.Figure(data=trace, layout=layout)\n",
    "fig"
   ]
  },
  {
   "cell_type": "code",
   "execution_count": 96,
   "id": "f59edd52",
   "metadata": {},
   "outputs": [
    {
     "data": {
      "image/png": "[encoded data removed]"
     },
     "metadata": {},
     "output_type": "display_data"
    }
   ],
   "source": [
    "fig.show(renderer=\"png\")"
   ]
  }
 ],
 "metadata": {
  "kernelspec": {
   "display_name": "Python 3",
   "language": "python",
   "name": "python3"
  },
  "language_info": {
   "codemirror_mode": {
    "name": "ipython",
    "version": 3
   },
   "file_extension": ".py",
   "mimetype": "text/x-python",
   "name": "python",
   "nbconvert_exporter": "python",
   "pygments_lexer": "ipython3",
   "version": "3.8.8"
  }
 },
 "nbformat": 4,
 "nbformat_minor": 5
}
